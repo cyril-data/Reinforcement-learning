{
 "cells": [
  {
   "cell_type": "markdown",
   "metadata": {
    "ExecuteTime": {
     "end_time": "2021-01-26T10:13:39.193865Z",
     "start_time": "2021-01-26T10:13:38.090251Z"
    },
    "scrolled": false
   },
   "source": [
    "# Environment"
   ]
  },
  {
   "cell_type": "code",
   "execution_count": 1,
   "metadata": {
    "ExecuteTime": {
     "end_time": "2021-03-02T14:38:07.227697Z",
     "start_time": "2021-03-02T14:38:05.983131Z"
    }
   },
   "outputs": [],
   "source": [
    "import gym\n",
    "import tensorflow as tf\n",
    "from tensorflow import keras\n",
    "import random\n",
    "import numpy as np\n",
    "import datetime as dt\n",
    "import math\n",
    "\n",
    "import matplotlib.pyplot as plt\n",
    "from gridworld import SimpleGrid\n",
    "\n",
    "\n",
    "class custom_env:\n",
    "\n",
    "    def __init__(self, env_name, param={}):\n",
    "        # Initialize atributes\n",
    "        self.env_name = env_name    # name of environment\n",
    "        self.param = param          # dictionarry of environment parameters\n",
    "\n",
    "        if (self.env_name == \"SimpleGrid\"):\n",
    "            self.env = SimpleGrid(self.param[\"grid_size\"],\n",
    "                                  block_pattern=self.param[\"pattern\"],\n",
    "                                  obs_mode=self.param[\"obs_mode\"])\n",
    "\n",
    "            self.action_space = gym.spaces.Discrete(4)\n",
    "            self.env.reset(\n",
    "                agent_pos=self.param[\"agent_pos\"], goal_pos=self.param[\"goal_pos\"])\n",
    "\n",
    "            self.state_type = \"Discrete\"\n",
    "            self.observation_space = gym.spaces.Discrete(\n",
    "                self.param[\"grid_size\"]**2)\n",
    "            \n",
    "            print(\"self.env\", self.env)\n",
    "\n",
    "        if (self.env_name.split(\"_\")[0] == \"gym\"):\n",
    "            gym_name = \"_\".join(self.env_name.split(\"_\")[1:])\n",
    "            self.env = gym.make(gym_name)\n",
    "            self.action_space = self.env.action_space\n",
    "            if (type(self.env.observation_space) == gym.spaces.discrete.Discrete):\n",
    "                self.observation_space = self.env.observation_space\n",
    "                self.state_type = \"Discrete\"\n",
    "            else:\n",
    "                self.state_type = \"Continue\"\n",
    "\n",
    "        observation = self.reset()\n",
    "        if self.state_type == \"Discrete\":\n",
    "            self.state_dim = 1\n",
    "        else:\n",
    "            self.state_dim = len(observation)\n",
    "\n",
    "    def reset(self):\n",
    "        \n",
    "        return_reset = self.env.reset()\n",
    "        \n",
    "        if (self.env_name == \"SimpleGrid\"):\n",
    "            self.env.reset(agent_pos=self.param[\"agent_pos\"], goal_pos=self.param[\"goal_pos\"])\n",
    "            return_reset = self.env.observation        \n",
    "        \n",
    "        if self.state_type == \"Discrete\":\n",
    "            return_reset = np.array([return_reset])        \n",
    "        \n",
    "        return return_reset\n",
    "\n",
    "    def render(self):\n",
    "        if (self.env_name == \"SimpleGrid\"):\n",
    "            \n",
    "            fig = plt.figure(figsize=(5, 5))         \n",
    "            plt.imshow(self.env.grid)\n",
    "            plt.show()\n",
    "        if (self.env_name.split(\"_\")[0] == \"gym\"):\n",
    "            self.env.render()\n",
    "\n",
    "    def step(self, action):\n",
    "        if (self.env_name == \"SimpleGrid\"):\n",
    "            reward = self.env.step(action)\n",
    "            next_state = self.env.observation\n",
    "            done = self.env.done\n",
    "            info = \"\"\n",
    "            return np.array([next_state]), reward, done, info\n",
    "\n",
    "        if self.state_type == \"Discrete\":\n",
    "            next_state, reward, done, info = self.env.step(action)\n",
    "            return np.array([next_state]), reward, done, info\n",
    "        else:\n",
    "            return self.env.step(action)\n",
    "\n",
    "    def close(self):\n",
    "        if (self.env_name.split(\"_\")[0] == \"gym\"):\n",
    "            self.env.close()\n"
   ]
  },
  {
   "cell_type": "markdown",
   "metadata": {},
   "source": [
    "# Agent"
   ]
  },
  {
   "cell_type": "code",
   "execution_count": 2,
   "metadata": {
    "ExecuteTime": {
     "end_time": "2021-03-02T14:38:07.240265Z",
     "start_time": "2021-03-02T14:38:07.229053Z"
    }
   },
   "outputs": [],
   "source": [
    "class Agent:\n",
    "    def __init__(self, enviroment, param={}):\n",
    "\n",
    "        self.param = param\n",
    "        self._action_size = enviroment.action_space.n\n",
    "        self.state_dim = env.state_dim\n",
    "\n",
    "        if enviroment.state_type == \"Discrete\":\n",
    "            self._state_size = enviroment.observation_space.n\n",
    "\n",
    "            self.primary_network = keras.Sequential([\n",
    "                keras.layers.Embedding(self._state_size, 10, input_length=1),\n",
    "                keras.layers.Reshape((10,)),\n",
    "                keras.layers.Dense(30, activation='relu'),\n",
    "                keras.layers.Dense(30, activation='relu'),\n",
    "                keras.layers.Dense(self._action_size)\n",
    "            ])\n",
    "\n",
    "            self.target_network = keras.Sequential([\n",
    "                keras.layers.Embedding(self._state_size, 10, input_length=1),\n",
    "                keras.layers.Reshape((10,)),\n",
    "                keras.layers.Dense(30, activation='relu'),\n",
    "                keras.layers.Dense(30, activation='relu'),\n",
    "                keras.layers.Dense(self._action_size)\n",
    "            ])\n",
    "\n",
    "            self.primary_network.compile(\n",
    "                optimizer=self.param[\"optimizer\"], loss='mse')\n",
    "\n",
    "        if enviroment.state_type == \"Continue\":\n",
    "            self.primary_network = keras.Sequential([\n",
    "                keras.layers.Dense(\n",
    "                    30, activation='relu', kernel_initializer=keras.initializers.he_normal()),\n",
    "                keras.layers.Dense(\n",
    "                    30, activation='relu', kernel_initializer=keras.initializers.he_normal()),\n",
    "                keras.layers.Dense(self._action_size)\n",
    "            ])\n",
    "\n",
    "            self.target_network = keras.Sequential([\n",
    "                keras.layers.Dense(\n",
    "                    30, activation='relu', kernel_initializer=keras.initializers.he_normal()),\n",
    "                keras.layers.Dense(\n",
    "                    30, activation='relu', kernel_initializer=keras.initializers.he_normal()),\n",
    "                keras.layers.Dense(self._action_size)\n",
    "            ])\n",
    "\n",
    "            self.primary_network.compile(\n",
    "                optimizer=self.param[\"optimizer\"], loss='mse')\n",
    "\n",
    "         # Initialize policy\n",
    "        if (param_agent[\"policy\"][\"type\"][0] == \"eps-greedy\"):\n",
    "            self.policy = \"eps-greedy\"\n",
    "\n",
    "            if (param_agent[\"policy\"][\"type\"][1] == \"exponantial\"):\n",
    "                self.pi_1 = \"exponantial\"\n",
    "\n",
    "                self.epsilon = self.param[\"policy\"][self.policy][self.pi_1][\"eps_max\"]\n",
    "                self.eps_max = self.param[\"policy\"][self.policy][self.pi_1][\"eps_max\"]\n",
    "                self.eps_min = self.param[\"policy\"][self.policy][self.pi_1][\"eps_min\"]\n",
    "                self._lambda = self.param[\"policy\"][self.policy][self.pi_1][\"lambda\"]\n",
    "\n",
    "            if (param_agent[\"policy\"][\"type\"][1] == \"constant\"):\n",
    "                self.pi_1 = \"constant\"\n",
    "                self.epsilon = self.param[\"policy\"][self.policy][self.pi_1][\"eps\"]\n",
    "\n",
    "    def choose_action(self, state, primary_network, steps):\n",
    "        if (self.policy == \"eps-greedy\"):\n",
    "            if (self.pi_1 == \"exponantial\"):\n",
    "                self.epsilon = self.eps_min + \\\n",
    "                    (self.eps_max - self.eps_min) * \\\n",
    "                    math.exp(-self._lambda * steps)\n",
    "\n",
    "            if random.random() < self.epsilon:\n",
    "                return random.randint(0, self._action_size - 1), self.epsilon\n",
    "            else:\n",
    "                return np.argmax(primary_network(state.reshape(1, -1))), self.epsilon\n",
    "\n",
    "    def train(self, primary_network, memory, target_network=None):\n",
    "        if memory.num_samples < BATCH_SIZE * 3:\n",
    "            return 0\n",
    "        batch = memory.sample(BATCH_SIZE)\n",
    "        states = np.array([val[0] for val in batch])\n",
    "\n",
    "        actions = np.array([val[1] for val in batch])\n",
    "        rewards = np.array([val[2] for val in batch])\n",
    "        next_states = np.array([(np.zeros(self.state_dim)\n",
    "                                 if val[3] is None else val[3]) for val in batch])\n",
    "\n",
    "        prim_qt = primary_network(states)\n",
    "        prim_qtp1 = primary_network(next_states)\n",
    "\n",
    "        # copy the prim_qt tensor into the target_q tensor - \n",
    "#         we then will update one index corresponding to the max action\n",
    "        target_q = prim_qt.numpy()\n",
    "\n",
    "        updates = rewards.astype(np.float32)\n",
    "\n",
    "        valid_idxs = np.array(next_states).sum(axis=1) != 0\n",
    "\n",
    "        batch_idxs = np.arange(BATCH_SIZE)\n",
    "\n",
    "\n",
    "        if target_network is None:\n",
    "            updates[valid_idxs] += self.param[\"gamma\"] * \\\n",
    "                np.amax(prim_qtp1.numpy()[valid_idxs, :], axis=1)\n",
    "        else:\n",
    "\n",
    "            prim_action_tp1 = np.argmax(prim_qtp1.numpy(), axis=1)\n",
    "            q_from_target = target_network(next_states)\n",
    "\n",
    "            updates[valid_idxs] += self.param[\"gamma\"] * q_from_target.numpy()[\n",
    "                batch_idxs[valid_idxs],\n",
    "                prim_action_tp1[valid_idxs]]\n",
    "            \n",
    "            \n",
    "\n",
    "        target_q[batch_idxs, actions] = updates\n",
    "        loss = primary_network.train_on_batch(states, target_q)\n",
    "\n",
    "        if target_network is not None:\n",
    "            # update target network parameters slowly from primary network\n",
    "            for t, e in zip(target_network.trainable_variables, primary_network.trainable_variables):\n",
    "                t.assign(t * (1 - self.param[\"tau\"]) + e * self.param[\"tau\"])\n",
    "\n",
    "        return loss\n",
    "\n"
   ]
  },
  {
   "cell_type": "markdown",
   "metadata": {},
   "source": [
    "# Storage"
   ]
  },
  {
   "cell_type": "code",
   "execution_count": 3,
   "metadata": {
    "ExecuteTime": {
     "end_time": "2021-03-02T14:38:07.246279Z",
     "start_time": "2021-03-02T14:38:07.242800Z"
    }
   },
   "outputs": [],
   "source": [
    "\n",
    "class Memory:\n",
    "    def __init__(self, max_memory):\n",
    "        self._max_memory = max_memory\n",
    "        self._samples = []\n",
    "\n",
    "    def add_sample(self, sample):\n",
    "        self._samples.append(sample)\n",
    "        if len(self._samples) > self._max_memory:\n",
    "            self._samples.pop(0)\n",
    "\n",
    "    def sample(self, no_samples):\n",
    "        if no_samples > len(self._samples):\n",
    "            return random.sample(self._samples, len(self._samples))\n",
    "        else:\n",
    "            return random.sample(self._samples, no_samples)\n",
    "\n",
    "    @property\n",
    "    def num_samples(self):\n",
    "        return len(self._samples)\n"
   ]
  },
  {
   "cell_type": "markdown",
   "metadata": {},
   "source": [
    "# Parameters"
   ]
  },
  {
   "cell_type": "code",
   "execution_count": 4,
   "metadata": {
    "ExecuteTime": {
     "end_time": "2021-03-02T14:38:07.364102Z",
     "start_time": "2021-03-02T14:38:07.247362Z"
    },
    "scrolled": false
   },
   "outputs": [
    {
     "name": "stdout",
     "output_type": "stream",
     "text": [
      "self.env <gridworld.SimpleGrid object at 0x7f90d067f3d0>\n"
     ]
    }
   ],
   "source": [
    "\n",
    "param_env = {\n",
    "    \"agent_pos\":None, \n",
    "    \"goal_pos\":[0, 7-1],\n",
    "    \"grid_size\" : 7,\n",
    "    \"pattern\":\"random\",\n",
    "    \"obs_mode\":\"index\",\n",
    "}\n",
    "env_name = \"SimpleGrid\"\n",
    "# env_name = \"gym_CartPole-v1\"\n",
    "\n",
    "env = custom_env(env_name, param_env)\n",
    "    \n",
    "STORE_PATH = '.'\n",
    "\n",
    "BATCH_SIZE = 32\n",
    "RANDOM_REWARD_STD = -1.0\n",
    "\n",
    "param_agent = {\n",
    "    \"optimizer\": keras.optimizers.Adam(),\n",
    "    \"policy\": {\n",
    "        \"type\": [\"eps-greedy\", \"exponantial\"],\n",
    "        \"eps-greedy\": {\n",
    "            \"exponantial\": {\n",
    "                \"eps_max\": 1.,\n",
    "                \"eps_min\": 0.01,\n",
    "                \"lambda\": 0.0005\n",
    "            },\n",
    "            \"constant\": {\n",
    "                \"eps\": 0.01\n",
    "            }\n",
    "        }\n",
    "    },\n",
    "    \"gamma\": 0.95,\n",
    "    \"tau\": 0.08,\n",
    "}\n",
    "\n",
    "\n",
    "memory = Memory(500000)\n",
    "\n",
    "agent = Agent(env, param_agent)\n",
    "\n",
    "num_episodes = 1000\n",
    "render = False\n",
    "train_writer = tf.summary.create_file_writer(\n",
    "    STORE_PATH + f\"/DoubleQ_{dt.datetime.now().strftime('%d%m%Y%H%M')}\")\n",
    "double_q = True\n",
    "steps = 0\n"
   ]
  },
  {
   "cell_type": "markdown",
   "metadata": {},
   "source": [
    "# Run"
   ]
  },
  {
   "cell_type": "code",
   "execution_count": 5,
   "metadata": {
    "ExecuteTime": {
     "end_time": "2021-03-02T14:39:20.744554Z",
     "start_time": "2021-03-02T14:38:07.365567Z"
    },
    "scrolled": false
   },
   "outputs": [
    {
     "name": "stdout",
     "output_type": "stream",
     "text": [
      "Episode: 0, step: 0, Reward: 1.0, avg loss: 0.0000, eps: 1.000\n",
      "Episode: 1, step: 105, Reward: 1.0, avg loss: 0.0002, eps: 0.949\n",
      "Episode: 2, step: 85, Reward: 1.0, avg loss: 0.0031, eps: 0.909\n",
      "Episode: 3, step: 132, Reward: 1.0, avg loss: 0.0014, eps: 0.852\n",
      "Episode: 4, step: 1, Reward: 1.0, avg loss: 0.0022, eps: 0.851\n",
      "Episode: 5, step: 58, Reward: 1.0, avg loss: 0.0014, eps: 0.826\n",
      "Episode: 6, step: 41, Reward: 1.0, avg loss: 0.0008, eps: 0.809\n",
      "Episode: 7, step: 11, Reward: 1.0, avg loss: 0.0006, eps: 0.804\n",
      "Episode: 8, step: 27, Reward: 1.0, avg loss: 0.0004, eps: 0.793\n",
      "Episode: 9, step: 57, Reward: 1.0, avg loss: 0.0002, eps: 0.771\n",
      "Episode: 10, step: 89, Reward: 1.0, avg loss: 0.0001, eps: 0.738\n",
      "Episode: 11, step: 63, Reward: 1.0, avg loss: 0.0001, eps: 0.715\n",
      "Episode: 12, step: 39, Reward: 1.0, avg loss: 0.0001, eps: 0.701\n",
      "Episode: 13, step: 34, Reward: 1.0, avg loss: 0.0001, eps: 0.689\n",
      "Episode: 14, step: 4, Reward: 1.0, avg loss: 0.0002, eps: 0.687\n",
      "Episode: 15, step: 37, Reward: 1.0, avg loss: 0.0002, eps: 0.674\n",
      "Episode: 16, step: 10, Reward: 1.0, avg loss: 0.0002, eps: 0.671\n",
      "Episode: 17, step: 9, Reward: 1.0, avg loss: 0.0002, eps: 0.667\n",
      "Episode: 18, step: 9, Reward: 1.0, avg loss: 0.0002, eps: 0.664\n",
      "Episode: 19, step: 26, Reward: 1.0, avg loss: 0.0001, eps: 0.655\n",
      "Episode: 20, step: 8, Reward: 1.0, avg loss: 0.0001, eps: 0.652\n",
      "Episode: 21, step: 1, Reward: 1.0, avg loss: 0.0002, eps: 0.652\n",
      "Episode: 22, step: 17, Reward: 1.0, avg loss: 0.0001, eps: 0.646\n",
      "Episode: 23, step: 9, Reward: 1.0, avg loss: 0.0001, eps: 0.643\n",
      "Episode: 24, step: 12, Reward: 1.0, avg loss: 0.0001, eps: 0.639\n",
      "Episode: 25, step: 37, Reward: 1.0, avg loss: 0.0001, eps: 0.627\n",
      "Episode: 26, step: 2, Reward: 1.0, avg loss: 0.0001, eps: 0.626\n",
      "Episode: 27, step: 6, Reward: 1.0, avg loss: 0.0001, eps: 0.624\n",
      "Episode: 28, step: 4, Reward: 1.0, avg loss: 0.0001, eps: 0.622\n",
      "Episode: 29, step: 9, Reward: 1.0, avg loss: 0.0001, eps: 0.619\n",
      "Episode: 30, step: 6, Reward: 1.0, avg loss: 0.0001, eps: 0.617\n",
      "Episode: 31, step: 9, Reward: 1.0, avg loss: 0.0001, eps: 0.614\n",
      "Episode: 32, step: 6, Reward: 1.0, avg loss: 0.0001, eps: 0.612\n",
      "Episode: 33, step: 23, Reward: 1.0, avg loss: 0.0000, eps: 0.605\n",
      "Episode: 34, step: 26, Reward: 1.0, avg loss: 0.0000, eps: 0.597\n",
      "Episode: 35, step: 2, Reward: 1.0, avg loss: 0.0001, eps: 0.596\n",
      "Episode: 36, step: 23, Reward: 1.0, avg loss: 0.0000, eps: 0.589\n",
      "Episode: 37, step: 17, Reward: 1.0, avg loss: 0.0000, eps: 0.584\n",
      "Episode: 38, step: 22, Reward: 1.0, avg loss: 0.0000, eps: 0.577\n",
      "Episode: 39, step: 31, Reward: 1.0, avg loss: 0.0000, eps: 0.568\n",
      "Episode: 40, step: 3, Reward: 1.0, avg loss: 0.0000, eps: 0.567\n",
      "Episode: 41, step: 13, Reward: 1.0, avg loss: 0.0000, eps: 0.563\n",
      "Episode: 42, step: 14, Reward: 1.0, avg loss: 0.0000, eps: 0.559\n",
      "Episode: 43, step: 7, Reward: 1.0, avg loss: 0.0000, eps: 0.557\n",
      "Episode: 44, step: 16, Reward: 1.0, avg loss: 0.0000, eps: 0.552\n",
      "Episode: 45, step: 18, Reward: 1.0, avg loss: 0.0000, eps: 0.547\n",
      "Episode: 46, step: 32, Reward: 1.0, avg loss: 0.0000, eps: 0.538\n",
      "Episode: 47, step: 14, Reward: 1.0, avg loss: 0.0000, eps: 0.534\n",
      "Episode: 48, step: 7, Reward: 1.0, avg loss: 0.0000, eps: 0.532\n",
      "Episode: 49, step: 41, Reward: 1.0, avg loss: 0.0000, eps: 0.521\n",
      "Episode: 50, step: 24, Reward: 1.0, avg loss: 0.0000, eps: 0.515\n",
      "Episode: 51, step: 2, Reward: 1.0, avg loss: 0.0000, eps: 0.514\n",
      "Episode: 52, step: 3, Reward: 1.0, avg loss: 0.0000, eps: 0.513\n",
      "Episode: 53, step: 24, Reward: 1.0, avg loss: 0.0000, eps: 0.507\n",
      "Episode: 54, step: 12, Reward: 1.0, avg loss: 0.0000, eps: 0.504\n",
      "Episode: 55, step: 15, Reward: 1.0, avg loss: 0.0000, eps: 0.500\n",
      "Episode: 56, step: 8, Reward: 1.0, avg loss: 0.0000, eps: 0.498\n",
      "Episode: 57, step: 5, Reward: 1.0, avg loss: 0.0000, eps: 0.496\n",
      "Episode: 58, step: 21, Reward: 1.0, avg loss: 0.0000, eps: 0.491\n",
      "Episode: 59, step: 22, Reward: 1.0, avg loss: 0.0000, eps: 0.485\n",
      "Episode: 60, step: 42, Reward: 1.0, avg loss: 0.0000, eps: 0.475\n",
      "Episode: 61, step: 33, Reward: 1.0, avg loss: 0.0000, eps: 0.467\n",
      "Episode: 62, step: 5, Reward: 1.0, avg loss: 0.0000, eps: 0.466\n",
      "Episode: 63, step: 6, Reward: 1.0, avg loss: 0.0000, eps: 0.465\n",
      "Episode: 64, step: 7, Reward: 1.0, avg loss: 0.0000, eps: 0.463\n",
      "Episode: 65, step: 3, Reward: 1.0, avg loss: 0.0000, eps: 0.462\n",
      "Episode: 66, step: 7, Reward: 1.0, avg loss: 0.0000, eps: 0.460\n",
      "Episode: 67, step: 6, Reward: 1.0, avg loss: 0.0000, eps: 0.458\n",
      "Episode: 68, step: 2, Reward: 1.0, avg loss: 0.0000, eps: 0.458\n",
      "Episode: 69, step: 13, Reward: 1.0, avg loss: 0.0000, eps: 0.455\n",
      "Episode: 70, step: 3, Reward: 1.0, avg loss: 0.0000, eps: 0.454\n",
      "Episode: 71, step: 7, Reward: 1.0, avg loss: 0.0000, eps: 0.452\n",
      "Episode: 72, step: 11, Reward: 1.0, avg loss: 0.0000, eps: 0.449\n",
      "Episode: 73, step: 6, Reward: 1.0, avg loss: 0.0000, eps: 0.448\n",
      "Episode: 74, step: 3, Reward: 1.0, avg loss: 0.0000, eps: 0.447\n",
      "Episode: 75, step: 4, Reward: 1.0, avg loss: 0.0000, eps: 0.446\n",
      "Episode: 76, step: 10, Reward: 1.0, avg loss: 0.0000, eps: 0.443\n",
      "Episode: 77, step: 6, Reward: 1.0, avg loss: 0.0000, eps: 0.442\n",
      "Episode: 78, step: 7, Reward: 1.0, avg loss: 0.0000, eps: 0.440\n",
      "Episode: 79, step: 6, Reward: 1.0, avg loss: 0.0000, eps: 0.439\n",
      "Episode: 80, step: 10, Reward: 1.0, avg loss: 0.0000, eps: 0.436\n",
      "Episode: 81, step: 5, Reward: 1.0, avg loss: 0.0000, eps: 0.435\n",
      "Episode: 82, step: 14, Reward: 1.0, avg loss: 0.0000, eps: 0.432\n",
      "Episode: 83, step: 5, Reward: 1.0, avg loss: 0.0000, eps: 0.431\n",
      "Episode: 84, step: 24, Reward: 1.0, avg loss: 0.0000, eps: 0.425\n",
      "Episode: 85, step: 5, Reward: 1.0, avg loss: 0.0000, eps: 0.424\n",
      "Episode: 86, step: 4, Reward: 1.0, avg loss: 0.0000, eps: 0.423\n",
      "Episode: 87, step: 8, Reward: 1.0, avg loss: 0.0000, eps: 0.421\n",
      "Episode: 88, step: 10, Reward: 1.0, avg loss: 0.0000, eps: 0.419\n",
      "Episode: 89, step: 16, Reward: 1.0, avg loss: 0.0000, eps: 0.416\n",
      "Episode: 90, step: 15, Reward: 1.0, avg loss: 0.0000, eps: 0.412\n",
      "Episode: 91, step: 12, Reward: 1.0, avg loss: 0.0000, eps: 0.410\n",
      "Episode: 92, step: 15, Reward: 1.0, avg loss: 0.0000, eps: 0.407\n",
      "Episode: 93, step: 6, Reward: 1.0, avg loss: 0.0000, eps: 0.405\n",
      "Episode: 94, step: 3, Reward: 1.0, avg loss: 0.0000, eps: 0.404\n",
      "Episode: 95, step: 18, Reward: 1.0, avg loss: 0.0000, eps: 0.401\n",
      "Episode: 96, step: 14, Reward: 1.0, avg loss: 0.0000, eps: 0.398\n",
      "Episode: 97, step: 7, Reward: 1.0, avg loss: 0.0000, eps: 0.396\n",
      "Episode: 98, step: 11, Reward: 1.0, avg loss: 0.0000, eps: 0.394\n",
      "Episode: 99, step: 5, Reward: 1.0, avg loss: 0.0000, eps: 0.393\n",
      "Episode: 100, step: 25, Reward: 1.0, avg loss: 0.0000, eps: 0.388\n",
      "Episode: 101, step: 2, Reward: 1.0, avg loss: 0.0000, eps: 0.387\n",
      "Episode: 102, step: 7, Reward: 1.0, avg loss: 0.0000, eps: 0.386\n",
      "Episode: 103, step: 14, Reward: 1.0, avg loss: 0.0000, eps: 0.383\n",
      "Episode: 104, step: 13, Reward: 1.0, avg loss: 0.0000, eps: 0.380\n",
      "Episode: 105, step: 11, Reward: 1.0, avg loss: 0.0000, eps: 0.378\n",
      "Episode: 106, step: 0, Reward: 1.0, avg loss: 0.0000, eps: 0.378\n",
      "Episode: 107, step: 0, Reward: 1.0, avg loss: 0.0000, eps: 0.378\n",
      "Episode: 108, step: 5, Reward: 1.0, avg loss: 0.0000, eps: 0.377\n",
      "Episode: 109, step: 3, Reward: 1.0, avg loss: 0.0000, eps: 0.376\n",
      "Episode: 110, step: 5, Reward: 1.0, avg loss: 0.0000, eps: 0.375\n",
      "Episode: 111, step: 20, Reward: 1.0, avg loss: 0.0000, eps: 0.371\n",
      "Episode: 112, step: 18, Reward: 1.0, avg loss: 0.0000, eps: 0.368\n",
      "Episode: 113, step: 15, Reward: 1.0, avg loss: 0.0000, eps: 0.365\n",
      "Episode: 114, step: 2, Reward: 1.0, avg loss: 0.0000, eps: 0.364\n",
      "Episode: 115, step: 5, Reward: 1.0, avg loss: 0.0000, eps: 0.363\n",
      "Episode: 116, step: 13, Reward: 1.0, avg loss: 0.0000, eps: 0.361\n",
      "Episode: 117, step: 9, Reward: 1.0, avg loss: 0.0000, eps: 0.359\n",
      "Episode: 118, step: 8, Reward: 1.0, avg loss: 0.0000, eps: 0.357\n",
      "Episode: 119, step: 5, Reward: 1.0, avg loss: 0.0000, eps: 0.356\n",
      "Episode: 120, step: 14, Reward: 1.0, avg loss: 0.0000, eps: 0.354\n",
      "Episode: 121, step: 5, Reward: 1.0, avg loss: 0.0000, eps: 0.353\n",
      "Episode: 122, step: 10, Reward: 1.0, avg loss: 0.0000, eps: 0.351\n",
      "Episode: 123, step: 0, Reward: 1.0, avg loss: 0.0000, eps: 0.351\n",
      "Episode: 124, step: 7, Reward: 1.0, avg loss: 0.0000, eps: 0.349\n",
      "Episode: 125, step: 12, Reward: 1.0, avg loss: 0.0000, eps: 0.347\n",
      "Episode: 126, step: 9, Reward: 1.0, avg loss: 0.0000, eps: 0.345\n"
     ]
    },
    {
     "name": "stdout",
     "output_type": "stream",
     "text": [
      "Episode: 127, step: 7, Reward: 1.0, avg loss: 0.0000, eps: 0.344\n",
      "Episode: 128, step: 5, Reward: 1.0, avg loss: 0.0000, eps: 0.343\n",
      "Episode: 129, step: 0, Reward: 1.0, avg loss: 0.0000, eps: 0.343\n",
      "Episode: 130, step: 7, Reward: 1.0, avg loss: 0.0000, eps: 0.342\n",
      "Episode: 131, step: 3, Reward: 1.0, avg loss: 0.0000, eps: 0.341\n",
      "Episode: 132, step: 3, Reward: 1.0, avg loss: 0.0000, eps: 0.340\n",
      "Episode: 133, step: 8, Reward: 1.0, avg loss: 0.0000, eps: 0.339\n",
      "Episode: 134, step: 4, Reward: 1.0, avg loss: 0.0000, eps: 0.338\n",
      "Episode: 135, step: 6, Reward: 1.0, avg loss: 0.0000, eps: 0.337\n",
      "Episode: 136, step: 9, Reward: 1.0, avg loss: 0.0000, eps: 0.335\n",
      "Episode: 137, step: 21, Reward: 1.0, avg loss: 0.0000, eps: 0.332\n",
      "Episode: 138, step: 5, Reward: 1.0, avg loss: 0.0000, eps: 0.331\n",
      "Episode: 139, step: 4, Reward: 1.0, avg loss: 0.0000, eps: 0.330\n",
      "Episode: 140, step: 5, Reward: 1.0, avg loss: 0.0000, eps: 0.329\n",
      "Episode: 141, step: 5, Reward: 1.0, avg loss: 0.0000, eps: 0.328\n",
      "Episode: 142, step: 26, Reward: 1.0, avg loss: 0.0000, eps: 0.324\n",
      "Episode: 143, step: 11, Reward: 1.0, avg loss: 0.0000, eps: 0.322\n",
      "Episode: 144, step: 9, Reward: 1.0, avg loss: 0.0000, eps: 0.320\n",
      "Episode: 145, step: 15, Reward: 1.0, avg loss: 0.0000, eps: 0.318\n",
      "Episode: 146, step: 12, Reward: 1.0, avg loss: 0.0000, eps: 0.316\n",
      "Episode: 147, step: 5, Reward: 1.0, avg loss: 0.0000, eps: 0.315\n",
      "Episode: 148, step: 7, Reward: 1.0, avg loss: 0.0000, eps: 0.314\n",
      "Episode: 149, step: 0, Reward: 1.0, avg loss: 0.0000, eps: 0.313\n",
      "Episode: 150, step: 6, Reward: 1.0, avg loss: 0.0000, eps: 0.312\n",
      "Episode: 151, step: 4, Reward: 1.0, avg loss: 0.0000, eps: 0.312\n",
      "Episode: 152, step: 15, Reward: 1.0, avg loss: 0.0000, eps: 0.309\n",
      "Episode: 153, step: 18, Reward: 1.0, avg loss: 0.0000, eps: 0.306\n",
      "Episode: 154, step: 2, Reward: 1.0, avg loss: 0.0000, eps: 0.306\n",
      "Episode: 155, step: 14, Reward: 1.0, avg loss: 0.0000, eps: 0.304\n",
      "Episode: 156, step: 9, Reward: 1.0, avg loss: 0.0000, eps: 0.302\n",
      "Episode: 157, step: 12, Reward: 1.0, avg loss: 0.0000, eps: 0.300\n",
      "Episode: 158, step: 5, Reward: 1.0, avg loss: 0.0000, eps: 0.300\n",
      "Episode: 159, step: 4, Reward: 1.0, avg loss: 0.0000, eps: 0.299\n",
      "Episode: 160, step: 16, Reward: 1.0, avg loss: 0.0000, eps: 0.296\n",
      "Episode: 161, step: 5, Reward: 1.0, avg loss: 0.0000, eps: 0.295\n",
      "Episode: 162, step: 3, Reward: 1.0, avg loss: 0.0000, eps: 0.295\n",
      "Episode: 163, step: 14, Reward: 1.0, avg loss: 0.0000, eps: 0.293\n",
      "Episode: 164, step: 2, Reward: 1.0, avg loss: 0.0000, eps: 0.292\n",
      "Episode: 165, step: 12, Reward: 1.0, avg loss: 0.0000, eps: 0.291\n",
      "Episode: 166, step: 1, Reward: 1.0, avg loss: 0.0000, eps: 0.290\n",
      "Episode: 167, step: 3, Reward: 1.0, avg loss: 0.0000, eps: 0.290\n",
      "Episode: 168, step: 4, Reward: 1.0, avg loss: 0.0000, eps: 0.289\n",
      "Episode: 169, step: 9, Reward: 1.0, avg loss: 0.0000, eps: 0.288\n",
      "Episode: 170, step: 11, Reward: 1.0, avg loss: 0.0000, eps: 0.286\n",
      "Episode: 171, step: 1, Reward: 1.0, avg loss: 0.0000, eps: 0.286\n",
      "Episode: 172, step: 13, Reward: 1.0, avg loss: 0.0000, eps: 0.284\n",
      "Episode: 173, step: 4, Reward: 1.0, avg loss: 0.0000, eps: 0.283\n",
      "Episode: 174, step: 6, Reward: 1.0, avg loss: 0.0000, eps: 0.282\n",
      "Episode: 175, step: 9, Reward: 1.0, avg loss: 0.0000, eps: 0.281\n",
      "Episode: 176, step: 11, Reward: 1.0, avg loss: 0.0000, eps: 0.279\n",
      "Episode: 177, step: 11, Reward: 1.0, avg loss: 0.0000, eps: 0.278\n",
      "Episode: 178, step: 8, Reward: 1.0, avg loss: 0.0000, eps: 0.276\n",
      "Episode: 179, step: 9, Reward: 1.0, avg loss: 0.0000, eps: 0.275\n",
      "Episode: 180, step: 12, Reward: 1.0, avg loss: 0.0000, eps: 0.273\n",
      "Episode: 181, step: 12, Reward: 1.0, avg loss: 0.0000, eps: 0.272\n",
      "Episode: 182, step: 7, Reward: 1.0, avg loss: 0.0000, eps: 0.271\n",
      "Episode: 183, step: 6, Reward: 1.0, avg loss: 0.0000, eps: 0.270\n",
      "Episode: 184, step: 4, Reward: 1.0, avg loss: 0.0000, eps: 0.269\n",
      "Episode: 185, step: 11, Reward: 1.0, avg loss: 0.0000, eps: 0.267\n",
      "Episode: 186, step: 9, Reward: 1.0, avg loss: 0.0000, eps: 0.266\n",
      "Episode: 187, step: 13, Reward: 1.0, avg loss: 0.0000, eps: 0.264\n",
      "Episode: 188, step: 11, Reward: 1.0, avg loss: 0.0000, eps: 0.263\n",
      "Episode: 189, step: 7, Reward: 1.0, avg loss: 0.0000, eps: 0.262\n",
      "Episode: 190, step: 17, Reward: 1.0, avg loss: 0.0000, eps: 0.260\n",
      "Episode: 191, step: 3, Reward: 1.0, avg loss: 0.0000, eps: 0.259\n",
      "Episode: 192, step: 6, Reward: 1.0, avg loss: 0.0000, eps: 0.258\n",
      "Episode: 193, step: 10, Reward: 1.0, avg loss: 0.0000, eps: 0.257\n",
      "Episode: 194, step: 2, Reward: 1.0, avg loss: 0.0000, eps: 0.256\n",
      "Episode: 195, step: 7, Reward: 1.0, avg loss: 0.0000, eps: 0.255\n",
      "Episode: 196, step: 25, Reward: 1.0, avg loss: 0.0000, eps: 0.252\n",
      "Episode: 197, step: 8, Reward: 1.0, avg loss: 0.0000, eps: 0.251\n",
      "Episode: 198, step: 10, Reward: 1.0, avg loss: 0.0000, eps: 0.250\n",
      "Episode: 199, step: 6, Reward: 1.0, avg loss: 0.0000, eps: 0.249\n",
      "Episode: 200, step: 12, Reward: 1.0, avg loss: 0.0000, eps: 0.248\n",
      "Episode: 201, step: 9, Reward: 1.0, avg loss: 0.0000, eps: 0.246\n",
      "Episode: 202, step: 5, Reward: 1.0, avg loss: 0.0000, eps: 0.246\n",
      "Episode: 203, step: 8, Reward: 1.0, avg loss: 0.0000, eps: 0.245\n",
      "Episode: 204, step: 7, Reward: 1.0, avg loss: 0.0000, eps: 0.244\n",
      "Episode: 205, step: 18, Reward: 1.0, avg loss: 0.0000, eps: 0.241\n",
      "Episode: 206, step: 8, Reward: 1.0, avg loss: 0.0000, eps: 0.240\n",
      "Episode: 207, step: 12, Reward: 1.0, avg loss: 0.0000, eps: 0.239\n",
      "Episode: 208, step: 19, Reward: 1.0, avg loss: 0.0000, eps: 0.237\n",
      "Episode: 209, step: 5, Reward: 1.0, avg loss: 0.0000, eps: 0.236\n",
      "Episode: 210, step: 10, Reward: 1.0, avg loss: 0.0000, eps: 0.235\n",
      "Episode: 211, step: 8, Reward: 1.0, avg loss: 0.0000, eps: 0.234\n",
      "Episode: 212, step: 4, Reward: 1.0, avg loss: 0.0000, eps: 0.233\n",
      "Episode: 213, step: 3, Reward: 1.0, avg loss: 0.0000, eps: 0.233\n",
      "Episode: 214, step: 4, Reward: 1.0, avg loss: 0.0000, eps: 0.232\n",
      "Episode: 215, step: 3, Reward: 1.0, avg loss: 0.0000, eps: 0.232\n",
      "Episode: 216, step: 6, Reward: 1.0, avg loss: 0.0000, eps: 0.231\n",
      "Episode: 217, step: 14, Reward: 1.0, avg loss: 0.0000, eps: 0.229\n",
      "Episode: 218, step: 14, Reward: 1.0, avg loss: 0.0000, eps: 0.228\n",
      "Episode: 219, step: 7, Reward: 1.0, avg loss: 0.0000, eps: 0.227\n",
      "Episode: 220, step: 6, Reward: 1.0, avg loss: 0.0000, eps: 0.226\n",
      "Episode: 221, step: 12, Reward: 1.0, avg loss: 0.0000, eps: 0.225\n",
      "Episode: 222, step: 4, Reward: 1.0, avg loss: 0.0000, eps: 0.224\n",
      "Episode: 223, step: 6, Reward: 1.0, avg loss: 0.0000, eps: 0.223\n",
      "Episode: 224, step: 9, Reward: 1.0, avg loss: 0.0000, eps: 0.222\n",
      "Episode: 225, step: 12, Reward: 1.0, avg loss: 0.0000, eps: 0.221\n",
      "Episode: 226, step: 2, Reward: 1.0, avg loss: 0.0000, eps: 0.221\n",
      "Episode: 227, step: 5, Reward: 1.0, avg loss: 0.0000, eps: 0.220\n",
      "Episode: 228, step: 7, Reward: 1.0, avg loss: 0.0000, eps: 0.219\n",
      "Episode: 229, step: 5, Reward: 1.0, avg loss: 0.0000, eps: 0.218\n",
      "Episode: 230, step: 4, Reward: 1.0, avg loss: 0.0000, eps: 0.218\n",
      "Episode: 231, step: 7, Reward: 1.0, avg loss: 0.0000, eps: 0.217\n",
      "Episode: 232, step: 9, Reward: 1.0, avg loss: 0.0000, eps: 0.216\n",
      "Episode: 233, step: 3, Reward: 1.0, avg loss: 0.0000, eps: 0.216\n",
      "Episode: 234, step: 5, Reward: 1.0, avg loss: 0.0000, eps: 0.215\n",
      "Episode: 235, step: 6, Reward: 1.0, avg loss: 0.0000, eps: 0.214\n",
      "Episode: 236, step: 14, Reward: 1.0, avg loss: 0.0000, eps: 0.213\n",
      "Episode: 237, step: 6, Reward: 1.0, avg loss: 0.0000, eps: 0.212\n",
      "Episode: 238, step: 5, Reward: 1.0, avg loss: 0.0000, eps: 0.211\n",
      "Episode: 239, step: 1, Reward: 1.0, avg loss: 0.0000, eps: 0.211\n",
      "Episode: 240, step: 4, Reward: 1.0, avg loss: 0.0000, eps: 0.211\n",
      "Episode: 241, step: 6, Reward: 1.0, avg loss: 0.0000, eps: 0.210\n",
      "Episode: 242, step: 3, Reward: 1.0, avg loss: 0.0000, eps: 0.210\n",
      "Episode: 243, step: 7, Reward: 1.0, avg loss: 0.0000, eps: 0.209\n",
      "Episode: 244, step: 9, Reward: 1.0, avg loss: 0.0000, eps: 0.208\n",
      "Episode: 245, step: 10, Reward: 1.0, avg loss: 0.0000, eps: 0.207\n",
      "Episode: 246, step: 9, Reward: 1.0, avg loss: 0.0000, eps: 0.206\n",
      "Episode: 247, step: 4, Reward: 1.0, avg loss: 0.0000, eps: 0.205\n",
      "Episode: 248, step: 4, Reward: 1.0, avg loss: 0.0000, eps: 0.205\n",
      "Episode: 249, step: 5, Reward: 1.0, avg loss: 0.0000, eps: 0.204\n",
      "Episode: 250, step: 15, Reward: 1.0, avg loss: 0.0000, eps: 0.203\n",
      "Episode: 251, step: 7, Reward: 1.0, avg loss: 0.0000, eps: 0.202\n",
      "Episode: 252, step: 3, Reward: 1.0, avg loss: 0.0000, eps: 0.202\n",
      "Episode: 253, step: 0, Reward: 1.0, avg loss: 0.0000, eps: 0.201\n",
      "Episode: 254, step: 7, Reward: 1.0, avg loss: 0.0000, eps: 0.201\n",
      "Episode: 255, step: 5, Reward: 1.0, avg loss: 0.0000, eps: 0.200\n"
     ]
    },
    {
     "name": "stdout",
     "output_type": "stream",
     "text": [
      "Episode: 256, step: 7, Reward: 1.0, avg loss: 0.0000, eps: 0.199\n",
      "Episode: 257, step: 12, Reward: 1.0, avg loss: 0.0000, eps: 0.198\n",
      "Episode: 258, step: 10, Reward: 1.0, avg loss: 0.0000, eps: 0.197\n",
      "Episode: 259, step: 3, Reward: 1.0, avg loss: 0.0000, eps: 0.197\n",
      "Episode: 260, step: 6, Reward: 1.0, avg loss: 0.0000, eps: 0.196\n",
      "Episode: 261, step: 12, Reward: 1.0, avg loss: 0.0000, eps: 0.195\n",
      "Episode: 262, step: 5, Reward: 1.0, avg loss: 0.0000, eps: 0.194\n",
      "Episode: 263, step: 9, Reward: 1.0, avg loss: 0.0000, eps: 0.193\n",
      "Episode: 264, step: 6, Reward: 1.0, avg loss: 0.0000, eps: 0.193\n",
      "Episode: 265, step: 2, Reward: 1.0, avg loss: 0.0000, eps: 0.192\n",
      "Episode: 266, step: 6, Reward: 1.0, avg loss: 0.0000, eps: 0.192\n",
      "Episode: 267, step: 10, Reward: 1.0, avg loss: 0.0000, eps: 0.191\n",
      "Episode: 268, step: 7, Reward: 1.0, avg loss: 0.0000, eps: 0.190\n",
      "Episode: 269, step: 5, Reward: 1.0, avg loss: 0.0000, eps: 0.190\n",
      "Episode: 270, step: 7, Reward: 1.0, avg loss: 0.0000, eps: 0.189\n",
      "Episode: 271, step: 12, Reward: 1.0, avg loss: 0.0000, eps: 0.188\n",
      "Episode: 272, step: 2, Reward: 1.0, avg loss: 0.0000, eps: 0.187\n",
      "Episode: 273, step: 16, Reward: 1.0, avg loss: 0.0000, eps: 0.186\n",
      "Episode: 274, step: 6, Reward: 1.0, avg loss: 0.0000, eps: 0.185\n",
      "Episode: 275, step: 11, Reward: 1.0, avg loss: 0.0000, eps: 0.184\n",
      "Episode: 276, step: 4, Reward: 1.0, avg loss: 0.0000, eps: 0.184\n",
      "Episode: 277, step: 4, Reward: 1.0, avg loss: 0.0000, eps: 0.183\n",
      "Episode: 278, step: 7, Reward: 1.0, avg loss: 0.0000, eps: 0.183\n",
      "Episode: 279, step: 8, Reward: 1.0, avg loss: 0.0000, eps: 0.182\n",
      "Episode: 280, step: 2, Reward: 1.0, avg loss: 0.0000, eps: 0.182\n",
      "Episode: 281, step: 11, Reward: 1.0, avg loss: 0.0000, eps: 0.181\n",
      "Episode: 282, step: 3, Reward: 1.0, avg loss: 0.0000, eps: 0.180\n",
      "Episode: 283, step: 9, Reward: 1.0, avg loss: 0.0000, eps: 0.179\n",
      "Episode: 284, step: 4, Reward: 1.0, avg loss: 0.0000, eps: 0.179\n",
      "Episode: 285, step: 4, Reward: 1.0, avg loss: 0.0000, eps: 0.179\n",
      "Episode: 286, step: 9, Reward: 1.0, avg loss: 0.0000, eps: 0.178\n",
      "Episode: 287, step: 12, Reward: 1.0, avg loss: 0.0000, eps: 0.177\n",
      "Episode: 288, step: 2, Reward: 1.0, avg loss: 0.0000, eps: 0.176\n",
      "Episode: 289, step: 3, Reward: 1.0, avg loss: 0.0000, eps: 0.176\n",
      "Episode: 290, step: 9, Reward: 1.0, avg loss: 0.0000, eps: 0.175\n",
      "Episode: 291, step: 2, Reward: 1.0, avg loss: 0.0000, eps: 0.175\n",
      "Episode: 292, step: 8, Reward: 1.0, avg loss: 0.0000, eps: 0.174\n",
      "Episode: 293, step: 4, Reward: 1.0, avg loss: 0.0000, eps: 0.174\n",
      "Episode: 294, step: 11, Reward: 1.0, avg loss: 0.0000, eps: 0.173\n",
      "Episode: 295, step: 4, Reward: 1.0, avg loss: 0.0000, eps: 0.173\n",
      "Episode: 296, step: 2, Reward: 1.0, avg loss: 0.0000, eps: 0.172\n",
      "Episode: 297, step: 6, Reward: 1.0, avg loss: 0.0000, eps: 0.172\n",
      "Episode: 298, step: 4, Reward: 1.0, avg loss: 0.0000, eps: 0.171\n",
      "Episode: 299, step: 9, Reward: 1.0, avg loss: 0.0000, eps: 0.170\n",
      "Episode: 300, step: 14, Reward: 1.0, avg loss: 0.0000, eps: 0.169\n",
      "Episode: 301, step: 6, Reward: 1.0, avg loss: 0.0000, eps: 0.169\n",
      "Episode: 302, step: 7, Reward: 1.0, avg loss: 0.0000, eps: 0.168\n",
      "Episode: 303, step: 7, Reward: 1.0, avg loss: 0.0000, eps: 0.167\n",
      "Episode: 304, step: 12, Reward: 1.0, avg loss: 0.0000, eps: 0.166\n",
      "Episode: 305, step: 7, Reward: 1.0, avg loss: 0.0000, eps: 0.166\n",
      "Episode: 306, step: 6, Reward: 1.0, avg loss: 0.0000, eps: 0.165\n",
      "Episode: 307, step: 11, Reward: 1.0, avg loss: 0.0000, eps: 0.164\n",
      "Episode: 308, step: 12, Reward: 1.0, avg loss: 0.0000, eps: 0.163\n",
      "Episode: 309, step: 6, Reward: 1.0, avg loss: 0.0000, eps: 0.163\n",
      "Episode: 310, step: 9, Reward: 1.0, avg loss: 0.0000, eps: 0.162\n",
      "Episode: 311, step: 8, Reward: 1.0, avg loss: 0.0000, eps: 0.161\n",
      "Episode: 312, step: 3, Reward: 1.0, avg loss: 0.0000, eps: 0.161\n",
      "Episode: 313, step: 2, Reward: 1.0, avg loss: 0.0000, eps: 0.161\n",
      "Episode: 314, step: 13, Reward: 1.0, avg loss: 0.0000, eps: 0.160\n",
      "Episode: 315, step: 5, Reward: 1.0, avg loss: 0.0000, eps: 0.159\n",
      "Episode: 316, step: 2, Reward: 1.0, avg loss: 0.0000, eps: 0.159\n",
      "Episode: 317, step: 6, Reward: 1.0, avg loss: 0.0000, eps: 0.159\n",
      "Episode: 318, step: 11, Reward: 1.0, avg loss: 0.0000, eps: 0.158\n",
      "Episode: 319, step: 0, Reward: 1.0, avg loss: 0.0000, eps: 0.158\n",
      "Episode: 320, step: 13, Reward: 1.0, avg loss: 0.0000, eps: 0.157\n",
      "Episode: 321, step: 6, Reward: 1.0, avg loss: 0.0000, eps: 0.156\n",
      "Episode: 322, step: 3, Reward: 1.0, avg loss: 0.0000, eps: 0.156\n",
      "Episode: 323, step: 9, Reward: 1.0, avg loss: 0.0000, eps: 0.155\n",
      "Episode: 324, step: 13, Reward: 1.0, avg loss: 0.0000, eps: 0.154\n",
      "Episode: 325, step: 1, Reward: 1.0, avg loss: 0.0000, eps: 0.154\n",
      "Episode: 326, step: 5, Reward: 1.0, avg loss: 0.0000, eps: 0.153\n",
      "Episode: 327, step: 7, Reward: 1.0, avg loss: 0.0000, eps: 0.153\n",
      "Episode: 328, step: 3, Reward: 1.0, avg loss: 0.0000, eps: 0.153\n",
      "Episode: 329, step: 7, Reward: 1.0, avg loss: 0.0000, eps: 0.152\n",
      "Episode: 330, step: 6, Reward: 1.0, avg loss: 0.0000, eps: 0.152\n",
      "Episode: 331, step: 8, Reward: 1.0, avg loss: 0.0000, eps: 0.151\n",
      "Episode: 332, step: 7, Reward: 1.0, avg loss: 0.0000, eps: 0.150\n",
      "Episode: 333, step: 3, Reward: 1.0, avg loss: 0.0000, eps: 0.150\n",
      "Episode: 334, step: 3, Reward: 1.0, avg loss: 0.0000, eps: 0.150\n",
      "Episode: 335, step: 5, Reward: 1.0, avg loss: 0.0000, eps: 0.149\n",
      "Episode: 336, step: 6, Reward: 1.0, avg loss: 0.0000, eps: 0.149\n",
      "Episode: 337, step: 11, Reward: 1.0, avg loss: 0.0000, eps: 0.148\n",
      "Episode: 338, step: 0, Reward: 1.0, avg loss: 0.0000, eps: 0.148\n",
      "Episode: 339, step: 4, Reward: 1.0, avg loss: 0.0000, eps: 0.148\n",
      "Episode: 340, step: 6, Reward: 1.0, avg loss: 0.0000, eps: 0.147\n",
      "Episode: 341, step: 5, Reward: 1.0, avg loss: 0.0000, eps: 0.147\n",
      "Episode: 342, step: 15, Reward: 1.0, avg loss: 0.0000, eps: 0.146\n",
      "Episode: 343, step: 13, Reward: 1.0, avg loss: 0.0000, eps: 0.145\n",
      "Episode: 344, step: 10, Reward: 1.0, avg loss: 0.0000, eps: 0.144\n",
      "Episode: 345, step: 8, Reward: 1.0, avg loss: 0.0000, eps: 0.143\n",
      "Episode: 346, step: 8, Reward: 1.0, avg loss: 0.0000, eps: 0.143\n",
      "Episode: 347, step: 6, Reward: 1.0, avg loss: 0.0000, eps: 0.142\n",
      "Episode: 348, step: 7, Reward: 1.0, avg loss: 0.0000, eps: 0.142\n",
      "Episode: 349, step: 8, Reward: 1.0, avg loss: 0.0000, eps: 0.141\n",
      "Episode: 350, step: 5, Reward: 1.0, avg loss: 0.0000, eps: 0.141\n",
      "Episode: 351, step: 7, Reward: 1.0, avg loss: 0.0000, eps: 0.140\n",
      "Episode: 352, step: 10, Reward: 1.0, avg loss: 0.0000, eps: 0.140\n",
      "Episode: 353, step: 9, Reward: 1.0, avg loss: 0.0000, eps: 0.139\n",
      "Episode: 354, step: 7, Reward: 1.0, avg loss: 0.0000, eps: 0.138\n",
      "Episode: 355, step: 3, Reward: 1.0, avg loss: 0.0000, eps: 0.138\n",
      "Episode: 356, step: 8, Reward: 1.0, avg loss: 0.0000, eps: 0.138\n",
      "Episode: 357, step: 8, Reward: 1.0, avg loss: 0.0000, eps: 0.137\n",
      "Episode: 358, step: 13, Reward: 1.0, avg loss: 0.0000, eps: 0.136\n",
      "Episode: 359, step: 9, Reward: 1.0, avg loss: 0.0000, eps: 0.135\n",
      "Episode: 360, step: 7, Reward: 1.0, avg loss: 0.0000, eps: 0.135\n",
      "Episode: 361, step: 8, Reward: 1.0, avg loss: 0.0000, eps: 0.134\n",
      "Episode: 362, step: 10, Reward: 1.0, avg loss: 0.0000, eps: 0.134\n",
      "Episode: 363, step: 3, Reward: 1.0, avg loss: 0.0000, eps: 0.133\n",
      "Episode: 364, step: 7, Reward: 1.0, avg loss: 0.0000, eps: 0.133\n",
      "Episode: 365, step: 13, Reward: 1.0, avg loss: 0.0000, eps: 0.132\n",
      "Episode: 366, step: 14, Reward: 1.0, avg loss: 0.0000, eps: 0.131\n",
      "Episode: 367, step: 6, Reward: 1.0, avg loss: 0.0000, eps: 0.131\n",
      "Episode: 368, step: 3, Reward: 1.0, avg loss: 0.0000, eps: 0.131\n",
      "Episode: 369, step: 2, Reward: 1.0, avg loss: 0.0000, eps: 0.130\n",
      "Episode: 370, step: 6, Reward: 1.0, avg loss: 0.0000, eps: 0.130\n",
      "Episode: 371, step: 2, Reward: 1.0, avg loss: 0.0000, eps: 0.130\n",
      "Episode: 372, step: 10, Reward: 1.0, avg loss: 0.0000, eps: 0.129\n",
      "Episode: 373, step: 10, Reward: 1.0, avg loss: 0.0000, eps: 0.128\n",
      "Episode: 374, step: 8, Reward: 1.0, avg loss: 0.0000, eps: 0.128\n",
      "Episode: 375, step: 7, Reward: 1.0, avg loss: 0.0000, eps: 0.127\n",
      "Episode: 376, step: 4, Reward: 1.0, avg loss: 0.0000, eps: 0.127\n",
      "Episode: 377, step: 4, Reward: 1.0, avg loss: 0.0000, eps: 0.127\n",
      "Episode: 378, step: 10, Reward: 1.0, avg loss: 0.0000, eps: 0.126\n",
      "Episode: 379, step: 5, Reward: 1.0, avg loss: 0.0000, eps: 0.126\n",
      "Episode: 380, step: 6, Reward: 1.0, avg loss: 0.0000, eps: 0.125\n",
      "Episode: 381, step: 5, Reward: 1.0, avg loss: 0.0000, eps: 0.125\n"
     ]
    },
    {
     "name": "stdout",
     "output_type": "stream",
     "text": [
      "Episode: 382, step: 5, Reward: 1.0, avg loss: 0.0000, eps: 0.125\n",
      "Episode: 383, step: 8, Reward: 1.0, avg loss: 0.0000, eps: 0.124\n",
      "Episode: 384, step: 9, Reward: 1.0, avg loss: 0.0000, eps: 0.124\n",
      "Episode: 385, step: 1, Reward: 1.0, avg loss: 0.0000, eps: 0.124\n",
      "Episode: 386, step: 9, Reward: 1.0, avg loss: 0.0000, eps: 0.123\n",
      "Episode: 387, step: 12, Reward: 1.0, avg loss: 0.0000, eps: 0.122\n",
      "Episode: 388, step: 6, Reward: 1.0, avg loss: 0.0000, eps: 0.122\n",
      "Episode: 389, step: 4, Reward: 1.0, avg loss: 0.0000, eps: 0.122\n",
      "Episode: 390, step: 2, Reward: 1.0, avg loss: 0.0000, eps: 0.121\n",
      "Episode: 391, step: 7, Reward: 1.0, avg loss: 0.0000, eps: 0.121\n",
      "Episode: 392, step: 9, Reward: 1.0, avg loss: 0.0000, eps: 0.120\n",
      "Episode: 393, step: 10, Reward: 1.0, avg loss: 0.0000, eps: 0.120\n",
      "Episode: 394, step: 11, Reward: 1.0, avg loss: 0.0000, eps: 0.119\n",
      "Episode: 395, step: 6, Reward: 1.0, avg loss: 0.0000, eps: 0.119\n",
      "Episode: 396, step: 6, Reward: 1.0, avg loss: 0.0000, eps: 0.118\n",
      "Episode: 397, step: 5, Reward: 1.0, avg loss: 0.0000, eps: 0.118\n",
      "Episode: 398, step: 9, Reward: 1.0, avg loss: 0.0000, eps: 0.118\n",
      "Episode: 399, step: 7, Reward: 1.0, avg loss: 0.0000, eps: 0.117\n",
      "Episode: 400, step: 5, Reward: 1.0, avg loss: 0.0000, eps: 0.117\n",
      "Episode: 401, step: 9, Reward: 1.0, avg loss: 0.0000, eps: 0.116\n",
      "Episode: 402, step: 3, Reward: 1.0, avg loss: 0.0000, eps: 0.116\n",
      "Episode: 403, step: 8, Reward: 1.0, avg loss: 0.0000, eps: 0.116\n",
      "Episode: 404, step: 3, Reward: 1.0, avg loss: 0.0000, eps: 0.115\n",
      "Episode: 405, step: 6, Reward: 1.0, avg loss: 0.0000, eps: 0.115\n",
      "Episode: 406, step: 7, Reward: 1.0, avg loss: 0.0000, eps: 0.115\n",
      "Episode: 407, step: 9, Reward: 1.0, avg loss: 0.0000, eps: 0.114\n",
      "Episode: 408, step: 4, Reward: 1.0, avg loss: 0.0000, eps: 0.114\n",
      "Episode: 409, step: 2, Reward: 1.0, avg loss: 0.0000, eps: 0.114\n",
      "Episode: 410, step: 7, Reward: 1.0, avg loss: 0.0000, eps: 0.113\n",
      "Episode: 411, step: 10, Reward: 1.0, avg loss: 0.0000, eps: 0.113\n",
      "Episode: 412, step: 3, Reward: 1.0, avg loss: 0.0000, eps: 0.112\n",
      "Episode: 413, step: 5, Reward: 1.0, avg loss: 0.0000, eps: 0.112\n",
      "Episode: 414, step: 11, Reward: 1.0, avg loss: 0.0000, eps: 0.112\n",
      "Episode: 415, step: 7, Reward: 1.0, avg loss: 0.0000, eps: 0.111\n",
      "Episode: 416, step: 6, Reward: 1.0, avg loss: 0.0000, eps: 0.111\n",
      "Episode: 417, step: 1, Reward: 1.0, avg loss: 0.0000, eps: 0.111\n",
      "Episode: 418, step: 4, Reward: 1.0, avg loss: 0.0000, eps: 0.110\n",
      "Episode: 419, step: 5, Reward: 1.0, avg loss: 0.0000, eps: 0.110\n",
      "Episode: 420, step: 7, Reward: 1.0, avg loss: 0.0000, eps: 0.110\n",
      "Episode: 421, step: 12, Reward: 1.0, avg loss: 0.0000, eps: 0.109\n",
      "Episode: 422, step: 2, Reward: 1.0, avg loss: 0.0000, eps: 0.109\n",
      "Episode: 423, step: 8, Reward: 1.0, avg loss: 0.0000, eps: 0.109\n",
      "Episode: 424, step: 4, Reward: 1.0, avg loss: 0.0000, eps: 0.108\n",
      "Episode: 425, step: 12, Reward: 1.0, avg loss: 0.0000, eps: 0.108\n",
      "Episode: 426, step: 0, Reward: 1.0, avg loss: 0.0000, eps: 0.108\n",
      "Episode: 427, step: 12, Reward: 1.0, avg loss: 0.0000, eps: 0.107\n",
      "Episode: 428, step: 0, Reward: 1.0, avg loss: 0.0000, eps: 0.107\n",
      "Episode: 429, step: 1, Reward: 1.0, avg loss: 0.0000, eps: 0.107\n",
      "Episode: 430, step: 5, Reward: 1.0, avg loss: 0.0000, eps: 0.107\n",
      "Episode: 431, step: 2, Reward: 1.0, avg loss: 0.0000, eps: 0.106\n",
      "Episode: 432, step: 8, Reward: 1.0, avg loss: 0.0000, eps: 0.106\n",
      "Episode: 433, step: 9, Reward: 1.0, avg loss: 0.0000, eps: 0.105\n",
      "Episode: 434, step: 1, Reward: 1.0, avg loss: 0.0000, eps: 0.105\n",
      "Episode: 435, step: 5, Reward: 1.0, avg loss: 0.0000, eps: 0.105\n",
      "Episode: 436, step: 6, Reward: 1.0, avg loss: 0.0000, eps: 0.105\n",
      "Episode: 437, step: 6, Reward: 1.0, avg loss: 0.0000, eps: 0.104\n",
      "Episode: 438, step: 7, Reward: 1.0, avg loss: 0.0000, eps: 0.104\n",
      "Episode: 439, step: 4, Reward: 1.0, avg loss: 0.0000, eps: 0.104\n",
      "Episode: 440, step: 3, Reward: 1.0, avg loss: 0.0000, eps: 0.104\n",
      "Episode: 441, step: 6, Reward: 1.0, avg loss: 0.0000, eps: 0.103\n",
      "Episode: 442, step: 10, Reward: 1.0, avg loss: 0.0000, eps: 0.103\n",
      "Episode: 443, step: 6, Reward: 1.0, avg loss: 0.0000, eps: 0.102\n",
      "Episode: 444, step: 5, Reward: 1.0, avg loss: 0.0000, eps: 0.102\n",
      "Episode: 445, step: 3, Reward: 1.0, avg loss: 0.0000, eps: 0.102\n",
      "Episode: 446, step: 7, Reward: 1.0, avg loss: 0.0000, eps: 0.102\n",
      "Episode: 447, step: 10, Reward: 1.0, avg loss: 0.0000, eps: 0.101\n",
      "Episode: 448, step: 5, Reward: 1.0, avg loss: 0.0000, eps: 0.101\n",
      "Episode: 449, step: 2, Reward: 1.0, avg loss: 0.0000, eps: 0.101\n",
      "Episode: 450, step: 5, Reward: 1.0, avg loss: 0.0000, eps: 0.100\n",
      "Episode: 451, step: 3, Reward: 1.0, avg loss: 0.0000, eps: 0.100\n",
      "Episode: 452, step: 5, Reward: 1.0, avg loss: 0.0000, eps: 0.100\n",
      "Episode: 453, step: 2, Reward: 1.0, avg loss: 0.0000, eps: 0.100\n",
      "Episode: 454, step: 7, Reward: 1.0, avg loss: 0.0000, eps: 0.099\n",
      "Episode: 455, step: 2, Reward: 1.0, avg loss: 0.0000, eps: 0.099\n",
      "Episode: 456, step: 8, Reward: 1.0, avg loss: 0.0000, eps: 0.099\n",
      "Episode: 457, step: 3, Reward: 1.0, avg loss: 0.0000, eps: 0.099\n",
      "Episode: 458, step: 7, Reward: 1.0, avg loss: 0.0000, eps: 0.098\n",
      "Episode: 459, step: 15, Reward: 1.0, avg loss: 0.0000, eps: 0.098\n",
      "Episode: 460, step: 3, Reward: 1.0, avg loss: 0.0000, eps: 0.098\n",
      "Episode: 461, step: 10, Reward: 1.0, avg loss: 0.0000, eps: 0.097\n",
      "Episode: 462, step: 5, Reward: 1.0, avg loss: 0.0000, eps: 0.097\n",
      "Episode: 463, step: 1, Reward: 1.0, avg loss: 0.0000, eps: 0.097\n",
      "Episode: 464, step: 3, Reward: 1.0, avg loss: 0.0000, eps: 0.097\n",
      "Episode: 465, step: 3, Reward: 1.0, avg loss: 0.0000, eps: 0.096\n",
      "Episode: 466, step: 0, Reward: 1.0, avg loss: 0.0000, eps: 0.096\n",
      "Episode: 467, step: 5, Reward: 1.0, avg loss: 0.0000, eps: 0.096\n",
      "Episode: 468, step: 6, Reward: 1.0, avg loss: 0.0000, eps: 0.096\n",
      "Episode: 469, step: 4, Reward: 1.0, avg loss: 0.0000, eps: 0.096\n",
      "Episode: 470, step: 5, Reward: 1.0, avg loss: 0.0000, eps: 0.095\n",
      "Episode: 471, step: 12, Reward: 1.0, avg loss: 0.0000, eps: 0.095\n",
      "Episode: 472, step: 9, Reward: 1.0, avg loss: 0.0000, eps: 0.094\n",
      "Episode: 473, step: 10, Reward: 1.0, avg loss: 0.0000, eps: 0.094\n",
      "Episode: 474, step: 1, Reward: 1.0, avg loss: 0.0000, eps: 0.094\n",
      "Episode: 475, step: 10, Reward: 1.0, avg loss: 0.0000, eps: 0.093\n",
      "Episode: 476, step: 0, Reward: 1.0, avg loss: 0.0000, eps: 0.093\n",
      "Episode: 477, step: 7, Reward: 1.0, avg loss: 0.0000, eps: 0.093\n",
      "Episode: 478, step: 0, Reward: 1.0, avg loss: 0.0000, eps: 0.093\n",
      "Episode: 479, step: 0, Reward: 1.0, avg loss: 0.0000, eps: 0.093\n",
      "Episode: 480, step: 8, Reward: 1.0, avg loss: 0.0000, eps: 0.092\n",
      "Episode: 481, step: 6, Reward: 1.0, avg loss: 0.0000, eps: 0.092\n",
      "Episode: 482, step: 6, Reward: 1.0, avg loss: 0.0000, eps: 0.092\n",
      "Episode: 483, step: 5, Reward: 1.0, avg loss: 0.0000, eps: 0.092\n",
      "Episode: 484, step: 5, Reward: 1.0, avg loss: 0.0000, eps: 0.091\n",
      "Episode: 485, step: 5, Reward: 1.0, avg loss: 0.0000, eps: 0.091\n",
      "Episode: 486, step: 11, Reward: 1.0, avg loss: 0.0000, eps: 0.091\n",
      "Episode: 487, step: 0, Reward: 1.0, avg loss: 0.0000, eps: 0.091\n",
      "Episode: 488, step: 7, Reward: 1.0, avg loss: 0.0000, eps: 0.090\n",
      "Episode: 489, step: 6, Reward: 1.0, avg loss: 0.0000, eps: 0.090\n",
      "Episode: 490, step: 8, Reward: 1.0, avg loss: 0.0000, eps: 0.090\n",
      "Episode: 491, step: 7, Reward: 1.0, avg loss: 0.0000, eps: 0.089\n",
      "Episode: 492, step: 15, Reward: 1.0, avg loss: 0.0000, eps: 0.089\n",
      "Episode: 493, step: 6, Reward: 1.0, avg loss: 0.0000, eps: 0.088\n",
      "Episode: 494, step: 3, Reward: 1.0, avg loss: 0.0000, eps: 0.088\n",
      "Episode: 495, step: 4, Reward: 1.0, avg loss: 0.0000, eps: 0.088\n",
      "Episode: 496, step: 11, Reward: 1.0, avg loss: 0.0000, eps: 0.088\n",
      "Episode: 497, step: 4, Reward: 1.0, avg loss: 0.0000, eps: 0.087\n",
      "Episode: 498, step: 4, Reward: 1.0, avg loss: 0.0000, eps: 0.087\n",
      "Episode: 499, step: 2, Reward: 1.0, avg loss: 0.0000, eps: 0.087\n",
      "Episode: 500, step: 2, Reward: 1.0, avg loss: 0.0000, eps: 0.087\n",
      "Episode: 501, step: 10, Reward: 1.0, avg loss: 0.0000, eps: 0.087\n",
      "Episode: 502, step: 12, Reward: 1.0, avg loss: 0.0000, eps: 0.086\n",
      "Episode: 503, step: 9, Reward: 1.0, avg loss: 0.0000, eps: 0.086\n",
      "Episode: 504, step: 6, Reward: 1.0, avg loss: 0.0000, eps: 0.085\n",
      "Episode: 505, step: 4, Reward: 1.0, avg loss: 0.0000, eps: 0.085\n",
      "Episode: 506, step: 7, Reward: 1.0, avg loss: 0.0000, eps: 0.085\n",
      "Episode: 507, step: 8, Reward: 1.0, avg loss: 0.0000, eps: 0.085\n"
     ]
    },
    {
     "name": "stdout",
     "output_type": "stream",
     "text": [
      "Episode: 508, step: 4, Reward: 1.0, avg loss: 0.0000, eps: 0.084\n",
      "Episode: 509, step: 8, Reward: 1.0, avg loss: 0.0000, eps: 0.084\n",
      "Episode: 510, step: 11, Reward: 1.0, avg loss: 0.0000, eps: 0.084\n",
      "Episode: 511, step: 9, Reward: 1.0, avg loss: 0.0000, eps: 0.083\n",
      "Episode: 512, step: 7, Reward: 1.0, avg loss: 0.0000, eps: 0.083\n",
      "Episode: 513, step: 2, Reward: 1.0, avg loss: 0.0000, eps: 0.083\n",
      "Episode: 514, step: 6, Reward: 1.0, avg loss: 0.0000, eps: 0.083\n",
      "Episode: 515, step: 14, Reward: 1.0, avg loss: 0.0000, eps: 0.082\n",
      "Episode: 516, step: 6, Reward: 1.0, avg loss: 0.0000, eps: 0.082\n",
      "Episode: 517, step: 8, Reward: 1.0, avg loss: 0.0000, eps: 0.082\n",
      "Episode: 518, step: 6, Reward: 1.0, avg loss: 0.0000, eps: 0.081\n",
      "Episode: 519, step: 4, Reward: 1.0, avg loss: 0.0000, eps: 0.081\n",
      "Episode: 520, step: 3, Reward: 1.0, avg loss: 0.0000, eps: 0.081\n",
      "Episode: 521, step: 2, Reward: 1.0, avg loss: 0.0000, eps: 0.081\n",
      "Episode: 522, step: 3, Reward: 1.0, avg loss: 0.0000, eps: 0.081\n",
      "Episode: 523, step: 2, Reward: 1.0, avg loss: 0.0000, eps: 0.081\n",
      "Episode: 524, step: 7, Reward: 1.0, avg loss: 0.0000, eps: 0.080\n",
      "Episode: 525, step: 6, Reward: 1.0, avg loss: 0.0000, eps: 0.080\n",
      "Episode: 526, step: 6, Reward: 1.0, avg loss: 0.0000, eps: 0.080\n",
      "Episode: 527, step: 6, Reward: 1.0, avg loss: 0.0000, eps: 0.080\n",
      "Episode: 528, step: 7, Reward: 1.0, avg loss: 0.0000, eps: 0.079\n",
      "Episode: 529, step: 5, Reward: 1.0, avg loss: 0.0000, eps: 0.079\n",
      "Episode: 530, step: 5, Reward: 1.0, avg loss: 0.0000, eps: 0.079\n",
      "Episode: 531, step: 6, Reward: 1.0, avg loss: 0.0000, eps: 0.079\n",
      "Episode: 532, step: 1, Reward: 1.0, avg loss: 0.0000, eps: 0.079\n",
      "Episode: 533, step: 9, Reward: 1.0, avg loss: 0.0000, eps: 0.078\n",
      "Episode: 534, step: 12, Reward: 1.0, avg loss: 0.0000, eps: 0.078\n",
      "Episode: 535, step: 5, Reward: 1.0, avg loss: 0.0000, eps: 0.078\n",
      "Episode: 536, step: 2, Reward: 1.0, avg loss: 0.0000, eps: 0.078\n",
      "Episode: 537, step: 7, Reward: 1.0, avg loss: 0.0000, eps: 0.077\n",
      "Episode: 538, step: 4, Reward: 1.0, avg loss: 0.0000, eps: 0.077\n",
      "Episode: 539, step: 8, Reward: 1.0, avg loss: 0.0000, eps: 0.077\n",
      "Episode: 540, step: 3, Reward: 1.0, avg loss: 0.0000, eps: 0.077\n",
      "Episode: 541, step: 4, Reward: 1.0, avg loss: 0.0000, eps: 0.076\n",
      "Episode: 542, step: 6, Reward: 1.0, avg loss: 0.0000, eps: 0.076\n",
      "Episode: 543, step: 4, Reward: 1.0, avg loss: 0.0000, eps: 0.076\n",
      "Episode: 544, step: 19, Reward: 1.0, avg loss: 0.0000, eps: 0.075\n",
      "Episode: 545, step: 10, Reward: 1.0, avg loss: 0.0000, eps: 0.075\n",
      "Episode: 546, step: 5, Reward: 1.0, avg loss: 0.0000, eps: 0.075\n",
      "Episode: 547, step: 5, Reward: 1.0, avg loss: 0.0000, eps: 0.075\n",
      "Episode: 548, step: 6, Reward: 1.0, avg loss: 0.0000, eps: 0.074\n",
      "Episode: 549, step: 1, Reward: 1.0, avg loss: 0.0000, eps: 0.074\n",
      "Episode: 550, step: 5, Reward: 1.0, avg loss: 0.0000, eps: 0.074\n",
      "Episode: 551, step: 14, Reward: 1.0, avg loss: 0.0000, eps: 0.074\n",
      "Episode: 552, step: 4, Reward: 1.0, avg loss: 0.0000, eps: 0.074\n",
      "Episode: 553, step: 5, Reward: 1.0, avg loss: 0.0000, eps: 0.073\n",
      "Episode: 554, step: 11, Reward: 1.0, avg loss: 0.0000, eps: 0.073\n",
      "Episode: 555, step: 2, Reward: 1.0, avg loss: 0.0000, eps: 0.073\n",
      "Episode: 556, step: 10, Reward: 1.0, avg loss: 0.0000, eps: 0.073\n",
      "Episode: 557, step: 10, Reward: 1.0, avg loss: 0.0000, eps: 0.072\n",
      "Episode: 558, step: 6, Reward: 1.0, avg loss: 0.0000, eps: 0.072\n",
      "Episode: 559, step: 6, Reward: 1.0, avg loss: 0.0000, eps: 0.072\n",
      "Episode: 560, step: 4, Reward: 1.0, avg loss: 0.0000, eps: 0.072\n",
      "Episode: 561, step: 6, Reward: 1.0, avg loss: 0.0000, eps: 0.071\n",
      "Episode: 562, step: 6, Reward: 1.0, avg loss: 0.0000, eps: 0.071\n",
      "Episode: 563, step: 10, Reward: 1.0, avg loss: 0.0000, eps: 0.071\n",
      "Episode: 564, step: 6, Reward: 1.0, avg loss: 0.0000, eps: 0.071\n",
      "Episode: 565, step: 2, Reward: 1.0, avg loss: 0.0000, eps: 0.071\n",
      "Episode: 566, step: 2, Reward: 1.0, avg loss: 0.0000, eps: 0.070\n",
      "Episode: 567, step: 5, Reward: 1.0, avg loss: 0.0000, eps: 0.070\n",
      "Episode: 568, step: 3, Reward: 1.0, avg loss: 0.0000, eps: 0.070\n",
      "Episode: 569, step: 11, Reward: 1.0, avg loss: 0.0000, eps: 0.070\n",
      "Episode: 570, step: 6, Reward: 1.0, avg loss: 0.0000, eps: 0.070\n",
      "Episode: 571, step: 2, Reward: 1.0, avg loss: 0.0000, eps: 0.069\n",
      "Episode: 572, step: 8, Reward: 1.0, avg loss: 0.0000, eps: 0.069\n",
      "Episode: 573, step: 4, Reward: 1.0, avg loss: 0.0000, eps: 0.069\n",
      "Episode: 574, step: 6, Reward: 1.0, avg loss: 0.0000, eps: 0.069\n",
      "Episode: 575, step: 5, Reward: 1.0, avg loss: 0.0000, eps: 0.069\n",
      "Episode: 576, step: 2, Reward: 1.0, avg loss: 0.0000, eps: 0.069\n",
      "Episode: 577, step: 7, Reward: 1.0, avg loss: 0.0000, eps: 0.068\n",
      "Episode: 578, step: 0, Reward: 1.0, avg loss: 0.0000, eps: 0.068\n",
      "Episode: 579, step: 6, Reward: 1.0, avg loss: 0.0000, eps: 0.068\n",
      "Episode: 580, step: 7, Reward: 1.0, avg loss: 0.0000, eps: 0.068\n",
      "Episode: 581, step: 4, Reward: 1.0, avg loss: 0.0000, eps: 0.068\n",
      "Episode: 582, step: 5, Reward: 1.0, avg loss: 0.0000, eps: 0.068\n",
      "Episode: 583, step: 4, Reward: 1.0, avg loss: 0.0000, eps: 0.067\n",
      "Episode: 584, step: 3, Reward: 1.0, avg loss: 0.0000, eps: 0.067\n",
      "Episode: 585, step: 6, Reward: 1.0, avg loss: 0.0000, eps: 0.067\n",
      "Episode: 586, step: 1, Reward: 1.0, avg loss: 0.0000, eps: 0.067\n",
      "Episode: 587, step: 4, Reward: 1.0, avg loss: 0.0000, eps: 0.067\n",
      "Episode: 588, step: 5, Reward: 1.0, avg loss: 0.0000, eps: 0.067\n",
      "Episode: 589, step: 2, Reward: 1.0, avg loss: 0.0000, eps: 0.067\n",
      "Episode: 590, step: 12, Reward: 1.0, avg loss: 0.0000, eps: 0.066\n",
      "Episode: 591, step: 6, Reward: 1.0, avg loss: 0.0000, eps: 0.066\n",
      "Episode: 592, step: 3, Reward: 1.0, avg loss: 0.0000, eps: 0.066\n",
      "Episode: 593, step: 6, Reward: 1.0, avg loss: 0.0000, eps: 0.066\n",
      "Episode: 594, step: 8, Reward: 1.0, avg loss: 0.0000, eps: 0.066\n",
      "Episode: 595, step: 4, Reward: 1.0, avg loss: 0.0000, eps: 0.065\n",
      "Episode: 596, step: 3, Reward: 1.0, avg loss: 0.0000, eps: 0.065\n",
      "Episode: 597, step: 6, Reward: 1.0, avg loss: 0.0000, eps: 0.065\n",
      "Episode: 598, step: 6, Reward: 1.0, avg loss: 0.0000, eps: 0.065\n",
      "Episode: 599, step: 6, Reward: 1.0, avg loss: 0.0000, eps: 0.065\n",
      "Episode: 600, step: 5, Reward: 1.0, avg loss: 0.0000, eps: 0.065\n",
      "Episode: 601, step: 10, Reward: 1.0, avg loss: 0.0000, eps: 0.064\n",
      "Episode: 602, step: 10, Reward: 1.0, avg loss: 0.0000, eps: 0.064\n",
      "Episode: 603, step: 12, Reward: 1.0, avg loss: 0.0000, eps: 0.064\n",
      "Episode: 604, step: 7, Reward: 1.0, avg loss: 0.0000, eps: 0.063\n",
      "Episode: 605, step: 12, Reward: 1.0, avg loss: 0.0000, eps: 0.063\n",
      "Episode: 606, step: 10, Reward: 1.0, avg loss: 0.0000, eps: 0.063\n",
      "Episode: 607, step: 4, Reward: 1.0, avg loss: 0.0000, eps: 0.063\n",
      "Episode: 608, step: 4, Reward: 1.0, avg loss: 0.0000, eps: 0.062\n",
      "Episode: 609, step: 3, Reward: 1.0, avg loss: 0.0000, eps: 0.062\n",
      "Episode: 610, step: 3, Reward: 1.0, avg loss: 0.0000, eps: 0.062\n",
      "Episode: 611, step: 4, Reward: 1.0, avg loss: 0.0000, eps: 0.062\n",
      "Episode: 612, step: 8, Reward: 1.0, avg loss: 0.0000, eps: 0.062\n",
      "Episode: 613, step: 10, Reward: 1.0, avg loss: 0.0000, eps: 0.062\n",
      "Episode: 614, step: 12, Reward: 1.0, avg loss: 0.0000, eps: 0.061\n",
      "Episode: 615, step: 1, Reward: 1.0, avg loss: 0.0000, eps: 0.061\n",
      "Episode: 616, step: 3, Reward: 1.0, avg loss: 0.0000, eps: 0.061\n",
      "Episode: 617, step: 5, Reward: 1.0, avg loss: 0.0000, eps: 0.061\n",
      "Episode: 618, step: 5, Reward: 1.0, avg loss: 0.0000, eps: 0.061\n",
      "Episode: 619, step: 3, Reward: 1.0, avg loss: 0.0000, eps: 0.061\n",
      "Episode: 620, step: 7, Reward: 1.0, avg loss: 0.0000, eps: 0.061\n",
      "Episode: 621, step: 6, Reward: 1.0, avg loss: 0.0000, eps: 0.060\n",
      "Episode: 622, step: 4, Reward: 1.0, avg loss: 0.0000, eps: 0.060\n",
      "Episode: 623, step: 2, Reward: 1.0, avg loss: 0.0000, eps: 0.060\n",
      "Episode: 624, step: 9, Reward: 1.0, avg loss: 0.0000, eps: 0.060\n",
      "Episode: 625, step: 6, Reward: 1.0, avg loss: 0.0000, eps: 0.060\n",
      "Episode: 626, step: 8, Reward: 1.0, avg loss: 0.0000, eps: 0.060\n",
      "Episode: 627, step: 1, Reward: 1.0, avg loss: 0.0000, eps: 0.059\n",
      "Episode: 628, step: 0, Reward: 1.0, avg loss: 0.0000, eps: 0.059\n",
      "Episode: 629, step: 4, Reward: 1.0, avg loss: 0.0000, eps: 0.059\n",
      "Episode: 630, step: 5, Reward: 1.0, avg loss: 0.0000, eps: 0.059\n",
      "Episode: 631, step: 10, Reward: 1.0, avg loss: 0.0000, eps: 0.059\n",
      "Episode: 632, step: 1, Reward: 1.0, avg loss: 0.0000, eps: 0.059\n",
      "Episode: 633, step: 6, Reward: 1.0, avg loss: 0.0000, eps: 0.059\n",
      "Episode: 634, step: 8, Reward: 1.0, avg loss: 0.0000, eps: 0.058\n",
      "Episode: 635, step: 6, Reward: 1.0, avg loss: 0.0000, eps: 0.058\n"
     ]
    },
    {
     "name": "stdout",
     "output_type": "stream",
     "text": [
      "Episode: 636, step: 8, Reward: 1.0, avg loss: 0.0000, eps: 0.058\n",
      "Episode: 637, step: 5, Reward: 1.0, avg loss: 0.0000, eps: 0.058\n",
      "Episode: 638, step: 6, Reward: 1.0, avg loss: 0.0000, eps: 0.058\n",
      "Episode: 639, step: 10, Reward: 1.0, avg loss: 0.0000, eps: 0.057\n",
      "Episode: 640, step: 4, Reward: 1.0, avg loss: 0.0000, eps: 0.057\n",
      "Episode: 641, step: 6, Reward: 1.0, avg loss: 0.0000, eps: 0.057\n",
      "Episode: 642, step: 11, Reward: 1.0, avg loss: 0.0000, eps: 0.057\n",
      "Episode: 643, step: 4, Reward: 1.0, avg loss: 0.0000, eps: 0.057\n",
      "Episode: 644, step: 7, Reward: 1.0, avg loss: 0.0000, eps: 0.057\n",
      "Episode: 645, step: 5, Reward: 1.0, avg loss: 0.0000, eps: 0.056\n",
      "Episode: 646, step: 7, Reward: 1.0, avg loss: 0.0000, eps: 0.056\n",
      "Episode: 647, step: 2, Reward: 1.0, avg loss: 0.0000, eps: 0.056\n",
      "Episode: 648, step: 7, Reward: 1.0, avg loss: 0.0000, eps: 0.056\n",
      "Episode: 649, step: 9, Reward: 1.0, avg loss: 0.0000, eps: 0.056\n",
      "Episode: 650, step: 8, Reward: 1.0, avg loss: 0.0000, eps: 0.056\n",
      "Episode: 651, step: 4, Reward: 1.0, avg loss: 0.0000, eps: 0.055\n",
      "Episode: 652, step: 8, Reward: 1.0, avg loss: 0.0000, eps: 0.055\n",
      "Episode: 653, step: 9, Reward: 1.0, avg loss: 0.0000, eps: 0.055\n",
      "Episode: 654, step: 6, Reward: 1.0, avg loss: 0.0000, eps: 0.055\n",
      "Episode: 655, step: 10, Reward: 1.0, avg loss: 0.0000, eps: 0.055\n",
      "Episode: 656, step: 9, Reward: 1.0, avg loss: 0.0000, eps: 0.054\n",
      "Episode: 657, step: 8, Reward: 1.0, avg loss: 0.0000, eps: 0.054\n",
      "Episode: 658, step: 8, Reward: 1.0, avg loss: 0.0000, eps: 0.054\n",
      "Episode: 659, step: 6, Reward: 1.0, avg loss: 0.0000, eps: 0.054\n",
      "Episode: 660, step: 6, Reward: 1.0, avg loss: 0.0000, eps: 0.054\n",
      "Episode: 661, step: 8, Reward: 1.0, avg loss: 0.0000, eps: 0.054\n",
      "Episode: 662, step: 5, Reward: 1.0, avg loss: 0.0000, eps: 0.053\n",
      "Episode: 663, step: 6, Reward: 1.0, avg loss: 0.0000, eps: 0.053\n",
      "Episode: 664, step: 0, Reward: 1.0, avg loss: 0.0000, eps: 0.053\n",
      "Episode: 665, step: 5, Reward: 1.0, avg loss: 0.0000, eps: 0.053\n",
      "Episode: 666, step: 8, Reward: 1.0, avg loss: 0.0000, eps: 0.053\n",
      "Episode: 667, step: 2, Reward: 1.0, avg loss: 0.0000, eps: 0.053\n",
      "Episode: 668, step: 1, Reward: 1.0, avg loss: 0.0000, eps: 0.053\n",
      "Episode: 669, step: 8, Reward: 1.0, avg loss: 0.0000, eps: 0.053\n",
      "Episode: 670, step: 9, Reward: 1.0, avg loss: 0.0000, eps: 0.052\n",
      "Episode: 671, step: 3, Reward: 1.0, avg loss: 0.0000, eps: 0.052\n",
      "Episode: 672, step: 4, Reward: 1.0, avg loss: 0.0000, eps: 0.052\n",
      "Episode: 673, step: 4, Reward: 1.0, avg loss: 0.0000, eps: 0.052\n",
      "Episode: 674, step: 5, Reward: 1.0, avg loss: 0.0000, eps: 0.052\n",
      "Episode: 675, step: 11, Reward: 1.0, avg loss: 0.0000, eps: 0.052\n",
      "Episode: 676, step: 4, Reward: 1.0, avg loss: 0.0000, eps: 0.052\n",
      "Episode: 677, step: 2, Reward: 1.0, avg loss: 0.0000, eps: 0.052\n",
      "Episode: 678, step: 5, Reward: 1.0, avg loss: 0.0000, eps: 0.051\n",
      "Episode: 679, step: 4, Reward: 1.0, avg loss: 0.0000, eps: 0.051\n",
      "Episode: 680, step: 3, Reward: 1.0, avg loss: 0.0000, eps: 0.051\n",
      "Episode: 681, step: 1, Reward: 1.0, avg loss: 0.0000, eps: 0.051\n",
      "Episode: 682, step: 10, Reward: 1.0, avg loss: 0.0000, eps: 0.051\n",
      "Episode: 683, step: 6, Reward: 1.0, avg loss: 0.0000, eps: 0.051\n",
      "Episode: 684, step: 5, Reward: 1.0, avg loss: 0.0000, eps: 0.051\n",
      "Episode: 685, step: 8, Reward: 1.0, avg loss: 0.0000, eps: 0.051\n",
      "Episode: 686, step: 4, Reward: 1.0, avg loss: 0.0000, eps: 0.050\n",
      "Episode: 687, step: 5, Reward: 1.0, avg loss: 0.0000, eps: 0.050\n",
      "Episode: 688, step: 9, Reward: 1.0, avg loss: 0.0000, eps: 0.050\n",
      "Episode: 689, step: 7, Reward: 1.0, avg loss: 0.0000, eps: 0.050\n",
      "Episode: 690, step: 6, Reward: 1.0, avg loss: 0.0000, eps: 0.050\n",
      "Episode: 691, step: 0, Reward: 1.0, avg loss: 0.0000, eps: 0.050\n",
      "Episode: 692, step: 8, Reward: 1.0, avg loss: 0.0000, eps: 0.050\n",
      "Episode: 693, step: 5, Reward: 1.0, avg loss: 0.0000, eps: 0.049\n",
      "Episode: 694, step: 7, Reward: 1.0, avg loss: 0.0000, eps: 0.049\n",
      "Episode: 695, step: 9, Reward: 1.0, avg loss: 0.0000, eps: 0.049\n",
      "Episode: 696, step: 8, Reward: 1.0, avg loss: 0.0000, eps: 0.049\n",
      "Episode: 697, step: 5, Reward: 1.0, avg loss: 0.0000, eps: 0.049\n",
      "Episode: 698, step: 7, Reward: 1.0, avg loss: 0.0000, eps: 0.049\n",
      "Episode: 699, step: 10, Reward: 1.0, avg loss: 0.0000, eps: 0.048\n",
      "Episode: 700, step: 3, Reward: 1.0, avg loss: 0.0000, eps: 0.048\n",
      "Episode: 701, step: 6, Reward: 1.0, avg loss: 0.0000, eps: 0.048\n",
      "Episode: 702, step: 6, Reward: 1.0, avg loss: 0.0000, eps: 0.048\n",
      "Episode: 703, step: 12, Reward: 1.0, avg loss: 0.0000, eps: 0.048\n",
      "Episode: 704, step: 5, Reward: 1.0, avg loss: 0.0000, eps: 0.048\n",
      "Episode: 705, step: 0, Reward: 1.0, avg loss: 0.0000, eps: 0.048\n",
      "Episode: 706, step: 5, Reward: 1.0, avg loss: 0.0000, eps: 0.048\n",
      "Episode: 707, step: 1, Reward: 1.0, avg loss: 0.0000, eps: 0.048\n",
      "Episode: 708, step: 6, Reward: 1.0, avg loss: 0.0000, eps: 0.047\n",
      "Episode: 709, step: 3, Reward: 1.0, avg loss: 0.0000, eps: 0.047\n",
      "Episode: 710, step: 9, Reward: 1.0, avg loss: 0.0000, eps: 0.047\n",
      "Episode: 711, step: 5, Reward: 1.0, avg loss: 0.0000, eps: 0.047\n",
      "Episode: 712, step: 1, Reward: 1.0, avg loss: 0.0000, eps: 0.047\n",
      "Episode: 713, step: 7, Reward: 1.0, avg loss: 0.0000, eps: 0.047\n",
      "Episode: 714, step: 9, Reward: 1.0, avg loss: 0.0000, eps: 0.047\n",
      "Episode: 715, step: 12, Reward: 1.0, avg loss: 0.0000, eps: 0.046\n",
      "Episode: 716, step: 7, Reward: 1.0, avg loss: 0.0000, eps: 0.046\n",
      "Episode: 717, step: 6, Reward: 1.0, avg loss: 0.0000, eps: 0.046\n",
      "Episode: 718, step: 8, Reward: 1.0, avg loss: 0.0000, eps: 0.046\n",
      "Episode: 719, step: 4, Reward: 1.0, avg loss: 0.0000, eps: 0.046\n",
      "Episode: 720, step: 0, Reward: 1.0, avg loss: 0.0000, eps: 0.046\n",
      "Episode: 721, step: 6, Reward: 1.0, avg loss: 0.0000, eps: 0.046\n",
      "Episode: 722, step: 3, Reward: 1.0, avg loss: 0.0000, eps: 0.046\n",
      "Episode: 723, step: 4, Reward: 1.0, avg loss: 0.0000, eps: 0.046\n",
      "Episode: 724, step: 11, Reward: 1.0, avg loss: 0.0000, eps: 0.045\n",
      "Episode: 725, step: 3, Reward: 1.0, avg loss: 0.0000, eps: 0.045\n",
      "Episode: 726, step: 6, Reward: 1.0, avg loss: 0.0000, eps: 0.045\n",
      "Episode: 727, step: 3, Reward: 1.0, avg loss: 0.0000, eps: 0.045\n",
      "Episode: 728, step: 3, Reward: 1.0, avg loss: 0.0000, eps: 0.045\n",
      "Episode: 729, step: 10, Reward: 1.0, avg loss: 0.0000, eps: 0.045\n",
      "Episode: 730, step: 4, Reward: 1.0, avg loss: 0.0000, eps: 0.045\n",
      "Episode: 731, step: 8, Reward: 1.0, avg loss: 0.0000, eps: 0.045\n",
      "Episode: 732, step: 3, Reward: 1.0, avg loss: 0.0000, eps: 0.045\n",
      "Episode: 733, step: 0, Reward: 1.0, avg loss: 0.0000, eps: 0.045\n",
      "Episode: 734, step: 9, Reward: 1.0, avg loss: 0.0000, eps: 0.044\n",
      "Episode: 735, step: 9, Reward: 1.0, avg loss: 0.0000, eps: 0.044\n",
      "Episode: 736, step: 4, Reward: 1.0, avg loss: 0.0000, eps: 0.044\n",
      "Episode: 737, step: 6, Reward: 1.0, avg loss: 0.0000, eps: 0.044\n",
      "Episode: 738, step: 7, Reward: 1.0, avg loss: 0.0000, eps: 0.044\n",
      "Episode: 739, step: 6, Reward: 1.0, avg loss: 0.0000, eps: 0.044\n",
      "Episode: 740, step: 5, Reward: 1.0, avg loss: 0.0000, eps: 0.044\n",
      "Episode: 741, step: 7, Reward: 1.0, avg loss: 0.0000, eps: 0.044\n",
      "Episode: 742, step: 1, Reward: 1.0, avg loss: 0.0000, eps: 0.044\n",
      "Episode: 743, step: 1, Reward: 1.0, avg loss: 0.0000, eps: 0.043\n",
      "Episode: 744, step: 5, Reward: 1.0, avg loss: 0.0000, eps: 0.043\n",
      "Episode: 745, step: 6, Reward: 1.0, avg loss: 0.0000, eps: 0.043\n",
      "Episode: 746, step: 2, Reward: 1.0, avg loss: 0.0000, eps: 0.043\n",
      "Episode: 747, step: 4, Reward: 1.0, avg loss: 0.0000, eps: 0.043\n",
      "Episode: 748, step: 7, Reward: 1.0, avg loss: 0.0000, eps: 0.043\n",
      "Episode: 749, step: 5, Reward: 1.0, avg loss: 0.0000, eps: 0.043\n",
      "Episode: 750, step: 4, Reward: 1.0, avg loss: 0.0000, eps: 0.043\n",
      "Episode: 751, step: 3, Reward: 1.0, avg loss: 0.0000, eps: 0.043\n",
      "Episode: 752, step: 0, Reward: 1.0, avg loss: 0.0000, eps: 0.043\n",
      "Episode: 753, step: 1, Reward: 1.0, avg loss: 0.0000, eps: 0.043\n",
      "Episode: 754, step: 0, Reward: 1.0, avg loss: 0.0000, eps: 0.043\n",
      "Episode: 755, step: 10, Reward: 1.0, avg loss: 0.0000, eps: 0.043\n",
      "Episode: 756, step: 9, Reward: 1.0, avg loss: 0.0000, eps: 0.042\n",
      "Episode: 757, step: 6, Reward: 1.0, avg loss: 0.0000, eps: 0.042\n",
      "Episode: 758, step: 1, Reward: 1.0, avg loss: 0.0000, eps: 0.042\n",
      "Episode: 759, step: 9, Reward: 1.0, avg loss: 0.0000, eps: 0.042\n",
      "Episode: 760, step: 5, Reward: 1.0, avg loss: 0.0000, eps: 0.042\n",
      "Episode: 761, step: 11, Reward: 1.0, avg loss: 0.0000, eps: 0.042\n"
     ]
    },
    {
     "name": "stdout",
     "output_type": "stream",
     "text": [
      "Episode: 762, step: 5, Reward: 1.0, avg loss: 0.0000, eps: 0.042\n",
      "Episode: 763, step: 8, Reward: 1.0, avg loss: 0.0000, eps: 0.042\n",
      "Episode: 764, step: 6, Reward: 1.0, avg loss: 0.0000, eps: 0.041\n",
      "Episode: 765, step: 6, Reward: 1.0, avg loss: 0.0000, eps: 0.041\n",
      "Episode: 766, step: 3, Reward: 1.0, avg loss: 0.0000, eps: 0.041\n",
      "Episode: 767, step: 2, Reward: 1.0, avg loss: 0.0000, eps: 0.041\n",
      "Episode: 768, step: 9, Reward: 1.0, avg loss: 0.0000, eps: 0.041\n",
      "Episode: 769, step: 10, Reward: 1.0, avg loss: 0.0000, eps: 0.041\n",
      "Episode: 770, step: 4, Reward: 1.0, avg loss: 0.0000, eps: 0.041\n",
      "Episode: 771, step: 8, Reward: 1.0, avg loss: 0.0000, eps: 0.041\n",
      "Episode: 772, step: 3, Reward: 1.0, avg loss: 0.0000, eps: 0.041\n",
      "Episode: 773, step: 3, Reward: 1.0, avg loss: 0.0000, eps: 0.041\n",
      "Episode: 774, step: 8, Reward: 1.0, avg loss: 0.0000, eps: 0.040\n",
      "Episode: 775, step: 3, Reward: 1.0, avg loss: 0.0000, eps: 0.040\n",
      "Episode: 776, step: 7, Reward: 1.0, avg loss: 0.0000, eps: 0.040\n",
      "Episode: 777, step: 10, Reward: 1.0, avg loss: 0.0000, eps: 0.040\n",
      "Episode: 778, step: 8, Reward: 1.0, avg loss: 0.0000, eps: 0.040\n",
      "Episode: 779, step: 3, Reward: 1.0, avg loss: 0.0000, eps: 0.040\n",
      "Episode: 780, step: 9, Reward: 1.0, avg loss: 0.0000, eps: 0.040\n",
      "Episode: 781, step: 5, Reward: 1.0, avg loss: 0.0000, eps: 0.040\n",
      "Episode: 782, step: 7, Reward: 1.0, avg loss: 0.0000, eps: 0.039\n",
      "Episode: 783, step: 4, Reward: 1.0, avg loss: 0.0000, eps: 0.039\n",
      "Episode: 784, step: 4, Reward: 1.0, avg loss: 0.0000, eps: 0.039\n",
      "Episode: 785, step: 6, Reward: 1.0, avg loss: 0.0000, eps: 0.039\n",
      "Episode: 786, step: 1, Reward: 1.0, avg loss: 0.0000, eps: 0.039\n",
      "Episode: 787, step: 7, Reward: 1.0, avg loss: 0.0000, eps: 0.039\n",
      "Episode: 788, step: 7, Reward: 1.0, avg loss: 0.0000, eps: 0.039\n",
      "Episode: 789, step: 2, Reward: 1.0, avg loss: 0.0000, eps: 0.039\n",
      "Episode: 790, step: 5, Reward: 1.0, avg loss: 0.0000, eps: 0.039\n",
      "Episode: 791, step: 7, Reward: 1.0, avg loss: 0.0000, eps: 0.039\n",
      "Episode: 792, step: 1, Reward: 1.0, avg loss: 0.0000, eps: 0.039\n",
      "Episode: 793, step: 4, Reward: 1.0, avg loss: 0.0000, eps: 0.039\n",
      "Episode: 794, step: 5, Reward: 1.0, avg loss: 0.0000, eps: 0.039\n",
      "Episode: 795, step: 5, Reward: 1.0, avg loss: 0.0000, eps: 0.038\n",
      "Episode: 796, step: 0, Reward: 1.0, avg loss: 0.0000, eps: 0.038\n",
      "Episode: 797, step: 5, Reward: 1.0, avg loss: 0.0000, eps: 0.038\n",
      "Episode: 798, step: 12, Reward: 1.0, avg loss: 0.0000, eps: 0.038\n",
      "Episode: 799, step: 3, Reward: 1.0, avg loss: 0.0000, eps: 0.038\n",
      "Episode: 800, step: 0, Reward: 1.0, avg loss: 0.0000, eps: 0.038\n",
      "Episode: 801, step: 5, Reward: 1.0, avg loss: 0.0000, eps: 0.038\n",
      "Episode: 802, step: 6, Reward: 1.0, avg loss: 0.0000, eps: 0.038\n",
      "Episode: 803, step: 11, Reward: 1.0, avg loss: 0.0000, eps: 0.038\n",
      "Episode: 804, step: 8, Reward: 1.0, avg loss: 0.0000, eps: 0.038\n",
      "Episode: 805, step: 8, Reward: 1.0, avg loss: 0.0000, eps: 0.038\n",
      "Episode: 806, step: 6, Reward: 1.0, avg loss: 0.0000, eps: 0.037\n",
      "Episode: 807, step: 7, Reward: 1.0, avg loss: 0.0000, eps: 0.037\n",
      "Episode: 808, step: 9, Reward: 1.0, avg loss: 0.0000, eps: 0.037\n",
      "Episode: 809, step: 1, Reward: 1.0, avg loss: 0.0000, eps: 0.037\n",
      "Episode: 810, step: 4, Reward: 1.0, avg loss: 0.0000, eps: 0.037\n",
      "Episode: 811, step: 5, Reward: 1.0, avg loss: 0.0000, eps: 0.037\n",
      "Episode: 812, step: 3, Reward: 1.0, avg loss: 0.0000, eps: 0.037\n",
      "Episode: 813, step: 5, Reward: 1.0, avg loss: 0.0000, eps: 0.037\n",
      "Episode: 814, step: 1, Reward: 1.0, avg loss: 0.0000, eps: 0.037\n",
      "Episode: 815, step: 1, Reward: 1.0, avg loss: 0.0000, eps: 0.037\n",
      "Episode: 816, step: 9, Reward: 1.0, avg loss: 0.0000, eps: 0.037\n",
      "Episode: 817, step: 4, Reward: 1.0, avg loss: 0.0000, eps: 0.037\n",
      "Episode: 818, step: 8, Reward: 1.0, avg loss: 0.0000, eps: 0.036\n",
      "Episode: 819, step: 0, Reward: 1.0, avg loss: 0.0000, eps: 0.036\n",
      "Episode: 820, step: 7, Reward: 1.0, avg loss: 0.0000, eps: 0.036\n",
      "Episode: 821, step: 3, Reward: 1.0, avg loss: 0.0000, eps: 0.036\n",
      "Episode: 822, step: 0, Reward: 1.0, avg loss: 0.0000, eps: 0.036\n",
      "Episode: 823, step: 8, Reward: 1.0, avg loss: 0.0000, eps: 0.036\n",
      "Episode: 824, step: 6, Reward: 1.0, avg loss: 0.0000, eps: 0.036\n",
      "Episode: 825, step: 5, Reward: 1.0, avg loss: 0.0000, eps: 0.036\n",
      "Episode: 826, step: 6, Reward: 1.0, avg loss: 0.0000, eps: 0.036\n",
      "Episode: 827, step: 4, Reward: 1.0, avg loss: 0.0000, eps: 0.036\n",
      "Episode: 828, step: 4, Reward: 1.0, avg loss: 0.0000, eps: 0.036\n",
      "Episode: 829, step: 4, Reward: 1.0, avg loss: 0.0000, eps: 0.036\n",
      "Episode: 830, step: 6, Reward: 1.0, avg loss: 0.0000, eps: 0.036\n",
      "Episode: 831, step: 4, Reward: 1.0, avg loss: 0.0000, eps: 0.036\n",
      "Episode: 832, step: 6, Reward: 1.0, avg loss: 0.0000, eps: 0.035\n",
      "Episode: 833, step: 0, Reward: 1.0, avg loss: 0.0000, eps: 0.035\n",
      "Episode: 834, step: 4, Reward: 1.0, avg loss: 0.0000, eps: 0.035\n",
      "Episode: 835, step: 6, Reward: 1.0, avg loss: 0.0000, eps: 0.035\n",
      "Episode: 836, step: 4, Reward: 1.0, avg loss: 0.0000, eps: 0.035\n",
      "Episode: 837, step: 9, Reward: 1.0, avg loss: 0.0000, eps: 0.035\n",
      "Episode: 838, step: 9, Reward: 1.0, avg loss: 0.0000, eps: 0.035\n",
      "Episode: 839, step: 6, Reward: 1.0, avg loss: 0.0000, eps: 0.035\n",
      "Episode: 840, step: 5, Reward: 1.0, avg loss: 0.0000, eps: 0.035\n",
      "Episode: 841, step: 10, Reward: 1.0, avg loss: 0.0000, eps: 0.035\n",
      "Episode: 842, step: 4, Reward: 1.0, avg loss: 0.0000, eps: 0.035\n",
      "Episode: 843, step: 11, Reward: 1.0, avg loss: 0.0000, eps: 0.035\n",
      "Episode: 844, step: 7, Reward: 1.0, avg loss: 0.0000, eps: 0.034\n",
      "Episode: 845, step: 6, Reward: 1.0, avg loss: 0.0000, eps: 0.034\n",
      "Episode: 846, step: 8, Reward: 1.0, avg loss: 0.0000, eps: 0.034\n",
      "Episode: 847, step: 0, Reward: 1.0, avg loss: 0.0000, eps: 0.034\n",
      "Episode: 848, step: 3, Reward: 1.0, avg loss: 0.0000, eps: 0.034\n",
      "Episode: 849, step: 5, Reward: 1.0, avg loss: 0.0000, eps: 0.034\n",
      "Episode: 850, step: 0, Reward: 1.0, avg loss: 0.0000, eps: 0.034\n",
      "Episode: 851, step: 8, Reward: 1.0, avg loss: 0.0000, eps: 0.034\n",
      "Episode: 852, step: 5, Reward: 1.0, avg loss: 0.0000, eps: 0.034\n",
      "Episode: 853, step: 3, Reward: 1.0, avg loss: 0.0000, eps: 0.034\n",
      "Episode: 854, step: 4, Reward: 1.0, avg loss: 0.0000, eps: 0.034\n",
      "Episode: 855, step: 10, Reward: 1.0, avg loss: 0.0000, eps: 0.034\n",
      "Episode: 856, step: 6, Reward: 1.0, avg loss: 0.0000, eps: 0.034\n",
      "Episode: 857, step: 6, Reward: 1.0, avg loss: 0.0000, eps: 0.033\n",
      "Episode: 858, step: 5, Reward: 1.0, avg loss: 0.0000, eps: 0.033\n",
      "Episode: 859, step: 6, Reward: 1.0, avg loss: 0.0000, eps: 0.033\n",
      "Episode: 860, step: 6, Reward: 1.0, avg loss: 0.0000, eps: 0.033\n",
      "Episode: 861, step: 5, Reward: 1.0, avg loss: 0.0000, eps: 0.033\n",
      "Episode: 862, step: 10, Reward: 1.0, avg loss: 0.0000, eps: 0.033\n",
      "Episode: 863, step: 5, Reward: 1.0, avg loss: 0.0000, eps: 0.033\n",
      "Episode: 864, step: 4, Reward: 1.0, avg loss: 0.0000, eps: 0.033\n",
      "Episode: 865, step: 5, Reward: 1.0, avg loss: 0.0000, eps: 0.033\n",
      "Episode: 866, step: 5, Reward: 1.0, avg loss: 0.0000, eps: 0.033\n",
      "Episode: 867, step: 4, Reward: 1.0, avg loss: 0.0000, eps: 0.033\n",
      "Episode: 868, step: 5, Reward: 1.0, avg loss: 0.0000, eps: 0.033\n",
      "Episode: 869, step: 5, Reward: 1.0, avg loss: 0.0000, eps: 0.033\n",
      "Episode: 870, step: 6, Reward: 1.0, avg loss: 0.0000, eps: 0.033\n",
      "Episode: 871, step: 3, Reward: 1.0, avg loss: 0.0000, eps: 0.032\n",
      "Episode: 872, step: 4, Reward: 1.0, avg loss: 0.0000, eps: 0.032\n",
      "Episode: 873, step: 6, Reward: 1.0, avg loss: 0.0000, eps: 0.032\n",
      "Episode: 874, step: 3, Reward: 1.0, avg loss: 0.0000, eps: 0.032\n",
      "Episode: 875, step: 0, Reward: 1.0, avg loss: 0.0000, eps: 0.032\n",
      "Episode: 876, step: 7, Reward: 1.0, avg loss: 0.0000, eps: 0.032\n",
      "Episode: 877, step: 4, Reward: 1.0, avg loss: 0.0000, eps: 0.032\n",
      "Episode: 878, step: 10, Reward: 1.0, avg loss: 0.0000, eps: 0.032\n",
      "Episode: 879, step: 0, Reward: 1.0, avg loss: 0.0000, eps: 0.032\n",
      "Episode: 880, step: 2, Reward: 1.0, avg loss: 0.0000, eps: 0.032\n",
      "Episode: 881, step: 4, Reward: 1.0, avg loss: 0.0000, eps: 0.032\n",
      "Episode: 882, step: 4, Reward: 1.0, avg loss: 0.0000, eps: 0.032\n",
      "Episode: 883, step: 6, Reward: 1.0, avg loss: 0.0000, eps: 0.032\n",
      "Episode: 884, step: 5, Reward: 1.0, avg loss: 0.0000, eps: 0.032\n",
      "Episode: 885, step: 10, Reward: 1.0, avg loss: 0.0000, eps: 0.032\n",
      "Episode: 886, step: 7, Reward: 1.0, avg loss: 0.0000, eps: 0.032\n",
      "Episode: 887, step: 7, Reward: 1.0, avg loss: 0.0000, eps: 0.031\n",
      "Episode: 888, step: 2, Reward: 1.0, avg loss: 0.0000, eps: 0.031\n"
     ]
    },
    {
     "name": "stdout",
     "output_type": "stream",
     "text": [
      "Episode: 889, step: 11, Reward: 1.0, avg loss: 0.0000, eps: 0.031\n",
      "Episode: 890, step: 5, Reward: 1.0, avg loss: 0.0000, eps: 0.031\n",
      "Episode: 891, step: 3, Reward: 1.0, avg loss: 0.0000, eps: 0.031\n",
      "Episode: 892, step: 5, Reward: 1.0, avg loss: 0.0000, eps: 0.031\n",
      "Episode: 893, step: 5, Reward: 1.0, avg loss: 0.0000, eps: 0.031\n",
      "Episode: 894, step: 7, Reward: 1.0, avg loss: 0.0000, eps: 0.031\n",
      "Episode: 895, step: 6, Reward: 1.0, avg loss: 0.0000, eps: 0.031\n",
      "Episode: 896, step: 9, Reward: 1.0, avg loss: 0.0000, eps: 0.031\n",
      "Episode: 897, step: 0, Reward: 1.0, avg loss: 0.0000, eps: 0.031\n",
      "Episode: 898, step: 6, Reward: 1.0, avg loss: 0.0000, eps: 0.031\n",
      "Episode: 899, step: 5, Reward: 1.0, avg loss: 0.0000, eps: 0.031\n",
      "Episode: 900, step: 9, Reward: 1.0, avg loss: 0.0000, eps: 0.031\n",
      "Episode: 901, step: 6, Reward: 1.0, avg loss: 0.0000, eps: 0.030\n",
      "Episode: 902, step: 11, Reward: 1.0, avg loss: 0.0000, eps: 0.030\n",
      "Episode: 903, step: 1, Reward: 1.0, avg loss: 0.0000, eps: 0.030\n",
      "Episode: 904, step: 6, Reward: 1.0, avg loss: 0.0000, eps: 0.030\n",
      "Episode: 905, step: 8, Reward: 1.0, avg loss: 0.0000, eps: 0.030\n",
      "Episode: 906, step: 5, Reward: 1.0, avg loss: 0.0000, eps: 0.030\n",
      "Episode: 907, step: 2, Reward: 1.0, avg loss: 0.0000, eps: 0.030\n",
      "Episode: 908, step: 5, Reward: 1.0, avg loss: 0.0000, eps: 0.030\n",
      "Episode: 909, step: 6, Reward: 1.0, avg loss: 0.0000, eps: 0.030\n",
      "Episode: 910, step: 5, Reward: 1.0, avg loss: 0.0000, eps: 0.030\n",
      "Episode: 911, step: 2, Reward: 1.0, avg loss: 0.0000, eps: 0.030\n",
      "Episode: 912, step: 3, Reward: 1.0, avg loss: 0.0000, eps: 0.030\n",
      "Episode: 913, step: 4, Reward: 1.0, avg loss: 0.0000, eps: 0.030\n",
      "Episode: 914, step: 8, Reward: 1.0, avg loss: 0.0000, eps: 0.030\n",
      "Episode: 915, step: 12, Reward: 1.0, avg loss: 0.0000, eps: 0.030\n",
      "Episode: 916, step: 6, Reward: 1.0, avg loss: 0.0000, eps: 0.029\n",
      "Episode: 917, step: 9, Reward: 1.0, avg loss: 0.0000, eps: 0.029\n",
      "Episode: 918, step: 6, Reward: 1.0, avg loss: 0.0000, eps: 0.029\n",
      "Episode: 919, step: 6, Reward: 1.0, avg loss: 0.0000, eps: 0.029\n",
      "Episode: 920, step: 4, Reward: 1.0, avg loss: 0.0000, eps: 0.029\n",
      "Episode: 921, step: 4, Reward: 1.0, avg loss: 0.0000, eps: 0.029\n",
      "Episode: 922, step: 6, Reward: 1.0, avg loss: 0.0000, eps: 0.029\n",
      "Episode: 923, step: 10, Reward: 1.0, avg loss: 0.0000, eps: 0.029\n",
      "Episode: 924, step: 1, Reward: 1.0, avg loss: 0.0000, eps: 0.029\n",
      "Episode: 925, step: 5, Reward: 1.0, avg loss: 0.0000, eps: 0.029\n",
      "Episode: 926, step: 5, Reward: 1.0, avg loss: 0.0000, eps: 0.029\n",
      "Episode: 927, step: 9, Reward: 1.0, avg loss: 0.0000, eps: 0.029\n",
      "Episode: 928, step: 2, Reward: 1.0, avg loss: 0.0000, eps: 0.029\n",
      "Episode: 929, step: 6, Reward: 1.0, avg loss: 0.0000, eps: 0.029\n",
      "Episode: 930, step: 2, Reward: 1.0, avg loss: 0.0000, eps: 0.029\n",
      "Episode: 931, step: 0, Reward: 1.0, avg loss: 0.0000, eps: 0.029\n",
      "Episode: 932, step: 0, Reward: 1.0, avg loss: 0.0000, eps: 0.029\n",
      "Episode: 933, step: 3, Reward: 1.0, avg loss: 0.0000, eps: 0.029\n",
      "Episode: 934, step: 5, Reward: 1.0, avg loss: 0.0000, eps: 0.029\n",
      "Episode: 935, step: 11, Reward: 1.0, avg loss: 0.0000, eps: 0.028\n",
      "Episode: 936, step: 6, Reward: 1.0, avg loss: 0.0000, eps: 0.028\n",
      "Episode: 937, step: 7, Reward: 1.0, avg loss: 0.0000, eps: 0.028\n",
      "Episode: 938, step: 11, Reward: 1.0, avg loss: 0.0000, eps: 0.028\n",
      "Episode: 939, step: 8, Reward: 1.0, avg loss: 0.0000, eps: 0.028\n",
      "Episode: 940, step: 8, Reward: 1.0, avg loss: 0.0000, eps: 0.028\n",
      "Episode: 941, step: 7, Reward: 1.0, avg loss: 0.0000, eps: 0.028\n",
      "Episode: 942, step: 0, Reward: 1.0, avg loss: 0.0000, eps: 0.028\n",
      "Episode: 943, step: 5, Reward: 1.0, avg loss: 0.0000, eps: 0.028\n",
      "Episode: 944, step: 4, Reward: 1.0, avg loss: 0.0000, eps: 0.028\n",
      "Episode: 945, step: 10, Reward: 1.0, avg loss: 0.0000, eps: 0.028\n",
      "Episode: 946, step: 9, Reward: 1.0, avg loss: 0.0000, eps: 0.028\n",
      "Episode: 947, step: 6, Reward: 1.0, avg loss: 0.0000, eps: 0.028\n",
      "Episode: 948, step: 5, Reward: 1.0, avg loss: 0.0000, eps: 0.028\n",
      "Episode: 949, step: 10, Reward: 1.0, avg loss: 0.0000, eps: 0.027\n",
      "Episode: 950, step: 5, Reward: 1.0, avg loss: 0.0000, eps: 0.027\n",
      "Episode: 951, step: 6, Reward: 1.0, avg loss: 0.0000, eps: 0.027\n",
      "Episode: 952, step: 5, Reward: 1.0, avg loss: 0.0000, eps: 0.027\n",
      "Episode: 953, step: 2, Reward: 1.0, avg loss: 0.0000, eps: 0.027\n",
      "Episode: 954, step: 9, Reward: 1.0, avg loss: 0.0000, eps: 0.027\n",
      "Episode: 955, step: 8, Reward: 1.0, avg loss: 0.0000, eps: 0.027\n",
      "Episode: 956, step: 10, Reward: 1.0, avg loss: 0.0000, eps: 0.027\n",
      "Episode: 957, step: 2, Reward: 1.0, avg loss: 0.0000, eps: 0.027\n",
      "Episode: 958, step: 12, Reward: 1.0, avg loss: 0.0000, eps: 0.027\n",
      "Episode: 959, step: 4, Reward: 1.0, avg loss: 0.0000, eps: 0.027\n",
      "Episode: 960, step: 5, Reward: 1.0, avg loss: 0.0000, eps: 0.027\n",
      "Episode: 961, step: 9, Reward: 1.0, avg loss: 0.0000, eps: 0.027\n",
      "Episode: 962, step: 5, Reward: 1.0, avg loss: 0.0000, eps: 0.027\n",
      "Episode: 963, step: 6, Reward: 1.0, avg loss: 0.0000, eps: 0.027\n",
      "Episode: 964, step: 6, Reward: 1.0, avg loss: 0.0000, eps: 0.026\n",
      "Episode: 965, step: 6, Reward: 1.0, avg loss: 0.0000, eps: 0.026\n",
      "Episode: 966, step: 7, Reward: 1.0, avg loss: 0.0000, eps: 0.026\n",
      "Episode: 967, step: 4, Reward: 1.0, avg loss: 0.0000, eps: 0.026\n",
      "Episode: 968, step: 2, Reward: 1.0, avg loss: 0.0000, eps: 0.026\n",
      "Episode: 969, step: 5, Reward: 1.0, avg loss: 0.0000, eps: 0.026\n",
      "Episode: 970, step: 6, Reward: 1.0, avg loss: 0.0000, eps: 0.026\n",
      "Episode: 971, step: 4, Reward: 1.0, avg loss: 0.0000, eps: 0.026\n",
      "Episode: 972, step: 11, Reward: 1.0, avg loss: 0.0000, eps: 0.026\n",
      "Episode: 973, step: 5, Reward: 1.0, avg loss: 0.0000, eps: 0.026\n",
      "Episode: 974, step: 2, Reward: 1.0, avg loss: 0.0000, eps: 0.026\n",
      "Episode: 975, step: 4, Reward: 1.0, avg loss: 0.0000, eps: 0.026\n",
      "Episode: 976, step: 7, Reward: 1.0, avg loss: 0.0000, eps: 0.026\n",
      "Episode: 977, step: 8, Reward: 1.0, avg loss: 0.0000, eps: 0.026\n",
      "Episode: 978, step: 5, Reward: 1.0, avg loss: 0.0000, eps: 0.026\n",
      "Episode: 979, step: 7, Reward: 1.0, avg loss: 0.0000, eps: 0.026\n",
      "Episode: 980, step: 4, Reward: 1.0, avg loss: 0.0000, eps: 0.026\n",
      "Episode: 981, step: 9, Reward: 1.0, avg loss: 0.0000, eps: 0.026\n",
      "Episode: 982, step: 7, Reward: 1.0, avg loss: 0.0000, eps: 0.026\n",
      "Episode: 983, step: 6, Reward: 1.0, avg loss: 0.0000, eps: 0.025\n",
      "Episode: 984, step: 3, Reward: 1.0, avg loss: 0.0000, eps: 0.025\n",
      "Episode: 985, step: 2, Reward: 1.0, avg loss: 0.0000, eps: 0.025\n",
      "Episode: 986, step: 10, Reward: 1.0, avg loss: 0.0000, eps: 0.025\n",
      "Episode: 987, step: 6, Reward: 1.0, avg loss: 0.0000, eps: 0.025\n",
      "Episode: 988, step: 1, Reward: 1.0, avg loss: 0.0000, eps: 0.025\n",
      "Episode: 989, step: 1, Reward: 1.0, avg loss: 0.0000, eps: 0.025\n",
      "Episode: 990, step: 5, Reward: 1.0, avg loss: 0.0000, eps: 0.025\n",
      "Episode: 991, step: 7, Reward: 1.0, avg loss: 0.0000, eps: 0.025\n",
      "Episode: 992, step: 6, Reward: 1.0, avg loss: 0.0000, eps: 0.025\n",
      "Episode: 993, step: 0, Reward: 1.0, avg loss: 0.0000, eps: 0.025\n",
      "Episode: 994, step: 10, Reward: 1.0, avg loss: 0.0000, eps: 0.025\n",
      "Episode: 995, step: 5, Reward: 1.0, avg loss: 0.0000, eps: 0.025\n",
      "Episode: 996, step: 9, Reward: 1.0, avg loss: 0.0000, eps: 0.025\n",
      "Episode: 997, step: 3, Reward: 1.0, avg loss: 0.0000, eps: 0.025\n",
      "Episode: 998, step: 5, Reward: 1.0, avg loss: 0.0000, eps: 0.025\n",
      "Episode: 999, step: 7, Reward: 1.0, avg loss: 0.0000, eps: 0.025\n"
     ]
    }
   ],
   "source": [
    "for i in range(num_episodes):\n",
    "    state = env.reset()\n",
    "\n",
    "    reward_sum = 0\n",
    "    cnt = 0\n",
    "    avg_loss = 0\n",
    "    while True:\n",
    "        if render:\n",
    "            env.render()\n",
    "\n",
    "        action, eps = agent.choose_action(state, agent.primary_network, steps)\n",
    "        next_state, reward, done, info = env.step(action)\n",
    "\n",
    "        if RANDOM_REWARD_STD > 0:\n",
    "            reward = np.random.normal(1.0, RANDOM_REWARD_STD)\n",
    "\n",
    "            \n",
    "#         print(\"state: \", state)\n",
    "#         print(\"action : \", action)\n",
    "#         print(\"reward: \", reward)\n",
    "#         print(\"next_state : \", next_state)\n",
    "#         print(\"done : \",  done)\n",
    "#         print(\"-------------------- \\n\")\n",
    "            \n",
    "        reward_sum+= reward\n",
    "        if done:\n",
    "            next_state = None\n",
    "        # store in memory\n",
    "        memory.add_sample((state, action, reward, next_state))\n",
    "\n",
    "        loss = agent.train(agent.primary_network, memory,\n",
    "                           agent.target_network if double_q else None)\n",
    "        avg_loss += loss\n",
    "\n",
    "        state = next_state\n",
    "\n",
    "        # exponentially decay the eps value\n",
    "        steps += 1\n",
    "#         eps = MIN_EPSILON + (MAX_EPSILON - MIN_EPSILON) * math.exp(-LAMBDA * steps)\n",
    "\n",
    "        if done:\n",
    "            if cnt != 0 : avg_loss /= cnt\n",
    "            else : avg_loss = 0\n",
    "            print(\n",
    "                f\"Episode: {i}, step: {cnt}, Reward: {reward_sum}, avg loss: {avg_loss:.4f}, eps: {eps:.3f}\")\n",
    "            with train_writer.as_default():\n",
    "                tf.summary.scalar('reward', cnt, step=i)\n",
    "                tf.summary.scalar('avg loss', avg_loss, step=i)\n",
    "            break\n",
    "\n",
    "        cnt += 1"
   ]
  },
  {
   "cell_type": "code",
   "execution_count": 6,
   "metadata": {
    "ExecuteTime": {
     "end_time": "2021-03-02T14:39:20.751393Z",
     "start_time": "2021-03-02T14:39:20.747039Z"
    }
   },
   "outputs": [
    {
     "data": {
      "text/plain": [
       "'Discrete'"
      ]
     },
     "execution_count": 6,
     "metadata": {},
     "output_type": "execute_result"
    }
   ],
   "source": [
    "env.state_type"
   ]
  },
  {
   "cell_type": "code",
   "execution_count": 7,
   "metadata": {
    "ExecuteTime": {
     "end_time": "2021-03-02T14:39:20.758555Z",
     "start_time": "2021-03-02T14:39:20.753234Z"
    }
   },
   "outputs": [
    {
     "data": {
      "text/plain": [
       "(array([15]), 0.0, False, '')"
      ]
     },
     "execution_count": 7,
     "metadata": {},
     "output_type": "execute_result"
    }
   ],
   "source": [
    "env.reset()\n",
    "action = random.randint(0, env.action_space.n - 1)\n",
    "action\n",
    "env.step(action)\n",
    "\n"
   ]
  },
  {
   "cell_type": "code",
   "execution_count": 8,
   "metadata": {
    "ExecuteTime": {
     "end_time": "2021-03-02T14:39:29.606258Z",
     "start_time": "2021-03-02T14:39:20.759745Z"
    },
    "scrolled": false
   },
   "outputs": [
    {
     "data": {
      "image/png": "[encoded data removed]",
      "text/plain": [
       "<Figure size 360x360 with 1 Axes>"
      ]
     },
     "metadata": {
      "needs_background": "light"
     },
     "output_type": "display_data"
    },
    {
     "data": {
      "image/png": "[encoded data removed]",
      "text/plain": [
       "<Figure size 360x360 with 1 Axes>"
      ]
     },
     "metadata": {
      "needs_background": "light"
     },
     "output_type": "display_data"
    },
    {
     "data": {
      "image/png": "[encoded data removed]",
      "text/plain": [
       "<Figure size 360x360 with 1 Axes>"
      ]
     },
     "metadata": {
      "needs_background": "light"
     },
     "output_type": "display_data"
    },
    {
     "data": {
      "image/png": "[encoded data removed]",
      "text/plain": [
       "<Figure size 360x360 with 1 Axes>"
      ]
     },
     "metadata": {
      "needs_background": "light"
     },
     "output_type": "display_data"
    },
    {
     "data": {
      "image/png": "[encoded data removed]",
      "text/plain": [
       "<Figure size 360x360 with 1 Axes>"
      ]
     },
     "metadata": {
      "needs_background": "light"
     },
     "output_type": "display_data"
    },
    {
     "data": {
      "image/png": "[encoded data removed]",
      "text/plain": [
       "<Figure size 360x360 with 1 Axes>"
      ]
     },
     "metadata": {
      "needs_background": "light"
     },
     "output_type": "display_data"
    },
    {
     "data": {
      "image/png": "[encoded data removed]",
      "text/plain": [
       "<Figure size 360x360 with 1 Axes>"
      ]
     },
     "metadata": {
      "needs_background": "light"
     },
     "output_type": "display_data"
    },
    {
     "data": {
      "image/png": "[encoded data removed]",
      "text/plain": [
       "<Figure size 360x360 with 1 Axes>"
      ]
     },
     "metadata": {
      "needs_background": "light"
     },
     "output_type": "display_data"
    },
    {
     "data": {
      "image/png": "[encoded data removed]",
      "text/plain": [
       "<Figure size 360x360 with 1 Axes>"
      ]
     },
     "metadata": {
      "needs_background": "light"
     },
     "output_type": "display_data"
    },
    {
     "data": {
      "image/png": "[encoded data removed]",
      "text/plain": [
       "<Figure size 360x360 with 1 Axes>"
      ]
     },
     "metadata": {
      "needs_background": "light"
     },
     "output_type": "display_data"
    },
    {
     "data": {
      "image/png": "[encoded data removed]",
      "text/plain": [
       "<Figure size 360x360 with 1 Axes>"
      ]
     },
     "metadata": {
      "needs_background": "light"
     },
     "output_type": "display_data"
    },
    {
     "data": {
      "image/png": "[encoded data removed]",
      "text/plain": [
       "<Figure size 360x360 with 1 Axes>"
      ]
     },
     "metadata": {
      "needs_background": "light"
     },
     "output_type": "display_data"
    },
    {
     "name": "stdout",
     "output_type": "stream",
     "text": [
      "Episode: 0, step: 11, Reward: 1.0, avg loss: 0.000, eps: 0.010\n"
     ]
    },
    {
     "data": {
      "image/png": "[encoded data removed]",
      "text/plain": [
       "<Figure size 360x360 with 1 Axes>"
      ]
     },
     "metadata": {
      "needs_background": "light"
     },
     "output_type": "display_data"
    },
    {
     "data": {
      "image/png": "[encoded data removed]",
      "text/plain": [
       "<Figure size 360x360 with 1 Axes>"
      ]
     },
     "metadata": {
      "needs_background": "light"
     },
     "output_type": "display_data"
    },
    {
     "name": "stdout",
     "output_type": "stream",
     "text": [
      "Episode: 1, step: 1, Reward: 1.0, avg loss: 0.000, eps: 0.010\n"
     ]
    },
    {
     "data": {
      "image/png": "[encoded data removed]",
      "text/plain": [
       "<Figure size 360x360 with 1 Axes>"
      ]
     },
     "metadata": {
      "needs_background": "light"
     },
     "output_type": "display_data"
    },
    {
     "data": {
      "image/png": "[encoded data removed]",
      "text/plain": [
       "<Figure size 360x360 with 1 Axes>"
      ]
     },
     "metadata": {
      "needs_background": "light"
     },
     "output_type": "display_data"
    },
    {
     "data": {
      "image/png": "[encoded data removed]",
      "text/plain": [
       "<Figure size 360x360 with 1 Axes>"
      ]
     },
     "metadata": {
      "needs_background": "light"
     },
     "output_type": "display_data"
    },
    {
     "name": "stdout",
     "output_type": "stream",
     "text": [
      "Episode: 2, step: 2, Reward: 1.0, avg loss: 0.000, eps: 0.010\n"
     ]
    },
    {
     "data": {
      "image/png": "[encoded data removed]",
      "text/plain": [
       "<Figure size 360x360 with 1 Axes>"
      ]
     },
     "metadata": {
      "needs_background": "light"
     },
     "output_type": "display_data"
    },
    {
     "data": {
      "image/png": "[encoded data removed]",
      "text/plain": [
       "<Figure size 360x360 with 1 Axes>"
      ]
     },
     "metadata": {
      "needs_background": "light"
     },
     "output_type": "display_data"
    },
    {
     "data": {
      "image/png": "[encoded data removed]",
      "text/plain": [
       "<Figure size 360x360 with 1 Axes>"
      ]
     },
     "metadata": {
      "needs_background": "light"
     },
     "output_type": "display_data"
    },
    {
     "data": {
      "image/png": "[encoded data removed]",
      "text/plain": [
       "<Figure size 360x360 with 1 Axes>"
      ]
     },
     "metadata": {
      "needs_background": "light"
     },
     "output_type": "display_data"
    },
    {
     "data": {
      "image/png": "[encoded data removed]",
      "text/plain": [
       "<Figure size 360x360 with 1 Axes>"
      ]
     },
     "metadata": {
      "needs_background": "light"
     },
     "output_type": "display_data"
    },
    {
     "data": {
      "image/png": "[encoded data removed]",
      "text/plain": [
       "<Figure size 360x360 with 1 Axes>"
      ]
     },
     "metadata": {
      "needs_background": "light"
     },
     "output_type": "display_data"
    },
    {
     "name": "stdout",
     "output_type": "stream",
     "text": [
      "Episode: 3, step: 5, Reward: 1.0, avg loss: 0.000, eps: 0.010\n"
     ]
    },
    {
     "data": {
      "image/png": "[encoded data removed]",
      "text/plain": [
       "<Figure size 360x360 with 1 Axes>"
      ]
     },
     "metadata": {
      "needs_background": "light"
     },
     "output_type": "display_data"
    },
    {
     "data": {
      "image/png": "[encoded data removed]",
      "text/plain": [
       "<Figure size 360x360 with 1 Axes>"
      ]
     },
     "metadata": {
      "needs_background": "light"
     },
     "output_type": "display_data"
    },
    {
     "data": {
      "image/png": "[encoded data removed]",
      "text/plain": [
       "<Figure size 360x360 with 1 Axes>"
      ]
     },
     "metadata": {
      "needs_background": "light"
     },
     "output_type": "display_data"
    },
    {
     "data": {
      "image/png": "[encoded data removed]",
      "text/plain": [
       "<Figure size 360x360 with 1 Axes>"
      ]
     },
     "metadata": {
      "needs_background": "light"
     },
     "output_type": "display_data"
    },
    {
     "data": {
      "image/png": "[encoded data removed]",
      "text/plain": [
       "<Figure size 360x360 with 1 Axes>"
      ]
     },
     "metadata": {
      "needs_background": "light"
     },
     "output_type": "display_data"
    },
    {
     "data": {
      "image/png": "[encoded data removed]",
      "text/plain": [
       "<Figure size 360x360 with 1 Axes>"
      ]
     },
     "metadata": {
      "needs_background": "light"
     },
     "output_type": "display_data"
    },
    {
     "name": "stdout",
     "output_type": "stream",
     "text": [
      "Episode: 4, step: 5, Reward: 1.0, avg loss: 0.000, eps: 0.010\n"
     ]
    },
    {
     "data": {
      "image/png": "[encoded data removed]",
      "text/plain": [
       "<Figure size 360x360 with 1 Axes>"
      ]
     },
     "metadata": {
      "needs_background": "light"
     },
     "output_type": "display_data"
    },
    {
     "data": {
      "image/png": "[encoded data removed]",
      "text/plain": [
       "<Figure size 360x360 with 1 Axes>"
      ]
     },
     "metadata": {
      "needs_background": "light"
     },
     "output_type": "display_data"
    },
    {
     "data": {
      "image/png": "[encoded data removed]",
      "text/plain": [
       "<Figure size 360x360 with 1 Axes>"
      ]
     },
     "metadata": {
      "needs_background": "light"
     },
     "output_type": "display_data"
    },
    {
     "data": {
      "image/png": "[encoded data removed]",
      "text/plain": [
       "<Figure size 360x360 with 1 Axes>"
      ]
     },
     "metadata": {
      "needs_background": "light"
     },
     "output_type": "display_data"
    },
    {
     "data": {
      "image/png": "[encoded data removed]",
      "text/plain": [
       "<Figure size 360x360 with 1 Axes>"
      ]
     },
     "metadata": {
      "needs_background": "light"
     },
     "output_type": "display_data"
    },
    {
     "data": {
      "image/png": "[encoded data removed]",
      "text/plain": [
       "<Figure size 360x360 with 1 Axes>"
      ]
     },
     "metadata": {
      "needs_background": "light"
     },
     "output_type": "display_data"
    },
    {
     "name": "stdout",
     "output_type": "stream",
     "text": [
      "Episode: 5, step: 5, Reward: 1.0, avg loss: 0.000, eps: 0.010\n"
     ]
    },
    {
     "data": {
      "image/png": "[encoded data removed]",
      "text/plain": [
       "<Figure size 360x360 with 1 Axes>"
      ]
     },
     "metadata": {
      "needs_background": "light"
     },
     "output_type": "display_data"
    },
    {
     "data": {
      "image/png": "[encoded data removed]",
      "text/plain": [
       "<Figure size 360x360 with 1 Axes>"
      ]
     },
     "metadata": {
      "needs_background": "light"
     },
     "output_type": "display_data"
    },
    {
     "data": {
      "image/png": "[encoded data removed]",
      "text/plain": [
       "<Figure size 360x360 with 1 Axes>"
      ]
     },
     "metadata": {
      "needs_background": "light"
     },
     "output_type": "display_data"
    },
    {
     "data": {
      "image/png": "[encoded data removed]",
      "text/plain": [
       "<Figure size 360x360 with 1 Axes>"
      ]
     },
     "metadata": {
      "needs_background": "light"
     },
     "output_type": "display_data"
    },
    {
     "data": {
      "image/png": "[encoded data removed]",
      "text/plain": [
       "<Figure size 360x360 with 1 Axes>"
      ]
     },
     "metadata": {
      "needs_background": "light"
     },
     "output_type": "display_data"
    },
    {
     "data": {
      "image/png": "[encoded data removed]",
      "text/plain": [
       "<Figure size 360x360 with 1 Axes>"
      ]
     },
     "metadata": {
      "needs_background": "light"
     },
     "output_type": "display_data"
    },
    {
     "data": {
      "image/png": "[encoded data removed]",
      "text/plain": [
       "<Figure size 360x360 with 1 Axes>"
      ]
     },
     "metadata": {
      "needs_background": "light"
     },
     "output_type": "display_data"
    },
    {
     "data": {
      "image/png": "[encoded data removed]",
      "text/plain": [
       "<Figure size 360x360 with 1 Axes>"
      ]
     },
     "metadata": {
      "needs_background": "light"
     },
     "output_type": "display_data"
    },
    {
     "data": {
      "image/png": "[encoded data removed]",
      "text/plain": [
       "<Figure size 360x360 with 1 Axes>"
      ]
     },
     "metadata": {
      "needs_background": "light"
     },
     "output_type": "display_data"
    },
    {
     "data": {
      "image/png": "[encoded data removed]",
      "text/plain": [
       "<Figure size 360x360 with 1 Axes>"
      ]
     },
     "metadata": {
      "needs_background": "light"
     },
     "output_type": "display_data"
    },
    {
     "data": {
      "image/png": "[encoded data removed]",
      "text/plain": [
       "<Figure size 360x360 with 1 Axes>"
      ]
     },
     "metadata": {
      "needs_background": "light"
     },
     "output_type": "display_data"
    },
    {
     "data": {
      "image/png": "[encoded data removed]",
      "text/plain": [
       "<Figure size 360x360 with 1 Axes>"
      ]
     },
     "metadata": {
      "needs_background": "light"
     },
     "output_type": "display_data"
    },
    {
     "name": "stdout",
     "output_type": "stream",
     "text": [
      "Episode: 6, step: 11, Reward: 1.0, avg loss: 0.000, eps: 0.010\n"
     ]
    },
    {
     "data": {
      "image/png": "[encoded data removed]",
      "text/plain": [
       "<Figure size 360x360 with 1 Axes>"
      ]
     },
     "metadata": {
      "needs_background": "light"
     },
     "output_type": "display_data"
    },
    {
     "data": {
      "image/png": "[encoded data removed]",
      "text/plain": [
       "<Figure size 360x360 with 1 Axes>"
      ]
     },
     "metadata": {
      "needs_background": "light"
     },
     "output_type": "display_data"
    },
    {
     "data": {
      "image/png": "[encoded data removed]",
      "text/plain": [
       "<Figure size 360x360 with 1 Axes>"
      ]
     },
     "metadata": {
      "needs_background": "light"
     },
     "output_type": "display_data"
    },
    {
     "data": {
      "image/png": "[encoded data removed]",
      "text/plain": [
       "<Figure size 360x360 with 1 Axes>"
      ]
     },
     "metadata": {
      "needs_background": "light"
     },
     "output_type": "display_data"
    },
    {
     "data": {
      "image/png": "[encoded data removed]",
      "text/plain": [
       "<Figure size 360x360 with 1 Axes>"
      ]
     },
     "metadata": {
      "needs_background": "light"
     },
     "output_type": "display_data"
    },
    {
     "data": {
      "image/png": "[encoded data removed]",
      "text/plain": [
       "<Figure size 360x360 with 1 Axes>"
      ]
     },
     "metadata": {
      "needs_background": "light"
     },
     "output_type": "display_data"
    },
    {
     "data": {
      "image/png": "[encoded data removed]",
      "text/plain": [
       "<Figure size 360x360 with 1 Axes>"
      ]
     },
     "metadata": {
      "needs_background": "light"
     },
     "output_type": "display_data"
    },
    {
     "data": {
      "image/png": "[encoded data removed]",
      "text/plain": [
       "<Figure size 360x360 with 1 Axes>"
      ]
     },
     "metadata": {
      "needs_background": "light"
     },
     "output_type": "display_data"
    },
    {
     "name": "stdout",
     "output_type": "stream",
     "text": [
      "Episode: 7, step: 7, Reward: 1.0, avg loss: 0.000, eps: 0.010\n"
     ]
    },
    {
     "data": {
      "image/png": "[encoded data removed]",
      "text/plain": [
       "<Figure size 360x360 with 1 Axes>"
      ]
     },
     "metadata": {
      "needs_background": "light"
     },
     "output_type": "display_data"
    },
    {
     "name": "stdout",
     "output_type": "stream",
     "text": [
      "Episode: 8, step: 0, Reward: 1.0, avg loss: 0.000, eps: 0.010\n"
     ]
    },
    {
     "data": {
      "image/png": "[encoded data removed]",
      "text/plain": [
       "<Figure size 360x360 with 1 Axes>"
      ]
     },
     "metadata": {
      "needs_background": "light"
     },
     "output_type": "display_data"
    },
    {
     "data": {
      "image/png": "[encoded data removed]",
      "text/plain": [
       "<Figure size 360x360 with 1 Axes>"
      ]
     },
     "metadata": {
      "needs_background": "light"
     },
     "output_type": "display_data"
    },
    {
     "data": {
      "image/png": "[encoded data removed]",
      "text/plain": [
       "<Figure size 360x360 with 1 Axes>"
      ]
     },
     "metadata": {
      "needs_background": "light"
     },
     "output_type": "display_data"
    },
    {
     "data": {
      "image/png": "[encoded data removed]",
      "text/plain": [
       "<Figure size 360x360 with 1 Axes>"
      ]
     },
     "metadata": {
      "needs_background": "light"
     },
     "output_type": "display_data"
    },
    {
     "data": {
      "image/png": "[encoded data removed]",
      "text/plain": [
       "<Figure size 360x360 with 1 Axes>"
      ]
     },
     "metadata": {
      "needs_background": "light"
     },
     "output_type": "display_data"
    },
    {
     "data": {
      "image/png": "[encoded data removed]",
      "text/plain": [
       "<Figure size 360x360 with 1 Axes>"
      ]
     },
     "metadata": {
      "needs_background": "light"
     },
     "output_type": "display_data"
    },
    {
     "data": {
      "image/png": "[encoded data removed]",
      "text/plain": [
       "<Figure size 360x360 with 1 Axes>"
      ]
     },
     "metadata": {
      "needs_background": "light"
     },
     "output_type": "display_data"
    },
    {
     "name": "stdout",
     "output_type": "stream",
     "text": [
      "Episode: 9, step: 6, Reward: 1.0, avg loss: 0.000, eps: 0.010\n"
     ]
    },
    {
     "data": {
      "image/png": "[encoded data removed]",
      "text/plain": [
       "<Figure size 360x360 with 1 Axes>"
      ]
     },
     "metadata": {
      "needs_background": "light"
     },
     "output_type": "display_data"
    },
    {
     "data": {
      "image/png": "[encoded data removed]",
      "text/plain": [
       "<Figure size 360x360 with 1 Axes>"
      ]
     },
     "metadata": {
      "needs_background": "light"
     },
     "output_type": "display_data"
    },
    {
     "data": {
      "image/png": "[encoded data removed]",
      "text/plain": [
       "<Figure size 360x360 with 1 Axes>"
      ]
     },
     "metadata": {
      "needs_background": "light"
     },
     "output_type": "display_data"
    },
    {
     "data": {
      "image/png": "[encoded data removed]",
      "text/plain": [
       "<Figure size 360x360 with 1 Axes>"
      ]
     },
     "metadata": {
      "needs_background": "light"
     },
     "output_type": "display_data"
    },
    {
     "data": {
      "image/png": "[encoded data removed]",
      "text/plain": [
       "<Figure size 360x360 with 1 Axes>"
      ]
     },
     "metadata": {
      "needs_background": "light"
     },
     "output_type": "display_data"
    },
    {
     "name": "stdout",
     "output_type": "stream",
     "text": [
      "Episode: 10, step: 4, Reward: 1.0, avg loss: 0.000, eps: 0.010\n"
     ]
    },
    {
     "data": {
      "image/png": "[encoded data removed]",
      "text/plain": [
       "<Figure size 360x360 with 1 Axes>"
      ]
     },
     "metadata": {
      "needs_background": "light"
     },
     "output_type": "display_data"
    },
    {
     "data": {
      "image/png": "[encoded data removed]",
      "text/plain": [
       "<Figure size 360x360 with 1 Axes>"
      ]
     },
     "metadata": {
      "needs_background": "light"
     },
     "output_type": "display_data"
    },
    {
     "data": {
      "image/png": "[encoded data removed]",
      "text/plain": [
       "<Figure size 360x360 with 1 Axes>"
      ]
     },
     "metadata": {
      "needs_background": "light"
     },
     "output_type": "display_data"
    },
    {
     "data": {
      "image/png": "[encoded data removed]",
      "text/plain": [
       "<Figure size 360x360 with 1 Axes>"
      ]
     },
     "metadata": {
      "needs_background": "light"
     },
     "output_type": "display_data"
    },
    {
     "data": {
      "image/png": "[encoded data removed]",
      "text/plain": [
       "<Figure size 360x360 with 1 Axes>"
      ]
     },
     "metadata": {
      "needs_background": "light"
     },
     "output_type": "display_data"
    },
    {
     "data": {
      "image/png": "[encoded data removed]",
      "text/plain": [
       "<Figure size 360x360 with 1 Axes>"
      ]
     },
     "metadata": {
      "needs_background": "light"
     },
     "output_type": "display_data"
    },
    {
     "data": {
      "image/png": "[encoded data removed]",
      "text/plain": [
       "<Figure size 360x360 with 1 Axes>"
      ]
     },
     "metadata": {
      "needs_background": "light"
     },
     "output_type": "display_data"
    },
    {
     "data": {
      "image/png": "[encoded data removed]",
      "text/plain": [
       "<Figure size 360x360 with 1 Axes>"
      ]
     },
     "metadata": {
      "needs_background": "light"
     },
     "output_type": "display_data"
    },
    {
     "data": {
      "image/png": "[encoded data removed]",
      "text/plain": [
       "<Figure size 360x360 with 1 Axes>"
      ]
     },
     "metadata": {
      "needs_background": "light"
     },
     "output_type": "display_data"
    },
    {
     "data": {
      "image/png": "[encoded data removed]",
      "text/plain": [
       "<Figure size 360x360 with 1 Axes>"
      ]
     },
     "metadata": {
      "needs_background": "light"
     },
     "output_type": "display_data"
    },
    {
     "data": {
      "image/png": "[encoded data removed]",
      "text/plain": [
       "<Figure size 360x360 with 1 Axes>"
      ]
     },
     "metadata": {
      "needs_background": "light"
     },
     "output_type": "display_data"
    },
    {
     "data": {
      "image/png": "[encoded data removed]",
      "text/plain": [
       "<Figure size 360x360 with 1 Axes>"
      ]
     },
     "metadata": {
      "needs_background": "light"
     },
     "output_type": "display_data"
    },
    {
     "data": {
      "image/png": "[encoded data removed]",
      "text/plain": [
       "<Figure size 360x360 with 1 Axes>"
      ]
     },
     "metadata": {
      "needs_background": "light"
     },
     "output_type": "display_data"
    },
    {
     "name": "stdout",
     "output_type": "stream",
     "text": [
      "Episode: 11, step: 12, Reward: 1.0, avg loss: 0.000, eps: 0.010\n"
     ]
    },
    {
     "data": {
      "image/png": "[encoded data removed]",
      "text/plain": [
       "<Figure size 360x360 with 1 Axes>"
      ]
     },
     "metadata": {
      "needs_background": "light"
     },
     "output_type": "display_data"
    },
    {
     "data": {
      "image/png": "[encoded data removed]",
      "text/plain": [
       "<Figure size 360x360 with 1 Axes>"
      ]
     },
     "metadata": {
      "needs_background": "light"
     },
     "output_type": "display_data"
    },
    {
     "data": {
      "image/png": "[encoded data removed]",
      "text/plain": [
       "<Figure size 360x360 with 1 Axes>"
      ]
     },
     "metadata": {
      "needs_background": "light"
     },
     "output_type": "display_data"
    },
    {
     "data": {
      "image/png": "[encoded data removed]",
      "text/plain": [
       "<Figure size 360x360 with 1 Axes>"
      ]
     },
     "metadata": {
      "needs_background": "light"
     },
     "output_type": "display_data"
    },
    {
     "data": {
      "image/png": "[encoded data removed]",
      "text/plain": [
       "<Figure size 360x360 with 1 Axes>"
      ]
     },
     "metadata": {
      "needs_background": "light"
     },
     "output_type": "display_data"
    },
    {
     "name": "stdout",
     "output_type": "stream",
     "text": [
      "Episode: 12, step: 4, Reward: 1.0, avg loss: 0.000, eps: 0.010\n"
     ]
    },
    {
     "data": {
      "image/png": "[encoded data removed]",
      "text/plain": [
       "<Figure size 360x360 with 1 Axes>"
      ]
     },
     "metadata": {
      "needs_background": "light"
     },
     "output_type": "display_data"
    },
    {
     "data": {
      "image/png": "[encoded data removed]",
      "text/plain": [
       "<Figure size 360x360 with 1 Axes>"
      ]
     },
     "metadata": {
      "needs_background": "light"
     },
     "output_type": "display_data"
    },
    {
     "data": {
      "image/png": "[encoded data removed]",
      "text/plain": [
       "<Figure size 360x360 with 1 Axes>"
      ]
     },
     "metadata": {
      "needs_background": "light"
     },
     "output_type": "display_data"
    },
    {
     "data": {
      "image/png": "[encoded data removed]",
      "text/plain": [
       "<Figure size 360x360 with 1 Axes>"
      ]
     },
     "metadata": {
      "needs_background": "light"
     },
     "output_type": "display_data"
    },
    {
     "data": {
      "image/png": "[encoded data removed]",
      "text/plain": [
       "<Figure size 360x360 with 1 Axes>"
      ]
     },
     "metadata": {
      "needs_background": "light"
     },
     "output_type": "display_data"
    },
    {
     "name": "stdout",
     "output_type": "stream",
     "text": [
      "Episode: 13, step: 4, Reward: 1.0, avg loss: 0.000, eps: 0.010\n"
     ]
    },
    {
     "data": {
      "image/png": "[encoded data removed]",
      "text/plain": [
       "<Figure size 360x360 with 1 Axes>"
      ]
     },
     "metadata": {
      "needs_background": "light"
     },
     "output_type": "display_data"
    },
    {
     "data": {
      "image/png": "[encoded data removed]",
      "text/plain": [
       "<Figure size 360x360 with 1 Axes>"
      ]
     },
     "metadata": {
      "needs_background": "light"
     },
     "output_type": "display_data"
    },
    {
     "data": {
      "image/png": "[encoded data removed]",
      "text/plain": [
       "<Figure size 360x360 with 1 Axes>"
      ]
     },
     "metadata": {
      "needs_background": "light"
     },
     "output_type": "display_data"
    },
    {
     "data": {
      "image/png": "[encoded data removed]",
      "text/plain": [
       "<Figure size 360x360 with 1 Axes>"
      ]
     },
     "metadata": {
      "needs_background": "light"
     },
     "output_type": "display_data"
    },
    {
     "data": {
      "image/png": "[encoded data removed]",
      "text/plain": [
       "<Figure size 360x360 with 1 Axes>"
      ]
     },
     "metadata": {
      "needs_background": "light"
     },
     "output_type": "display_data"
    },
    {
     "data": {
      "image/png": "[encoded data removed]",
      "text/plain": [
       "<Figure size 360x360 with 1 Axes>"
      ]
     },
     "metadata": {
      "needs_background": "light"
     },
     "output_type": "display_data"
    },
    {
     "data": {
      "image/png": "[encoded data removed]",
      "text/plain": [
       "<Figure size 360x360 with 1 Axes>"
      ]
     },
     "metadata": {
      "needs_background": "light"
     },
     "output_type": "display_data"
    },
    {
     "data": {
      "image/png": "[encoded data removed]",
      "text/plain": [
       "<Figure size 360x360 with 1 Axes>"
      ]
     },
     "metadata": {
      "needs_background": "light"
     },
     "output_type": "display_data"
    },
    {
     "data": {
      "image/png": "[encoded data removed]",
      "text/plain": [
       "<Figure size 360x360 with 1 Axes>"
      ]
     },
     "metadata": {
      "needs_background": "light"
     },
     "output_type": "display_data"
    },
    {
     "data": {
      "image/png": "[encoded data removed]",
      "text/plain": [
       "<Figure size 360x360 with 1 Axes>"
      ]
     },
     "metadata": {
      "needs_background": "light"
     },
     "output_type": "display_data"
    },
    {
     "data": {
      "image/png": "[encoded data removed]",
      "text/plain": [
       "<Figure size 360x360 with 1 Axes>"
      ]
     },
     "metadata": {
      "needs_background": "light"
     },
     "output_type": "display_data"
    },
    {
     "data": {
      "image/png": "[encoded data removed]",
      "text/plain": [
       "<Figure size 360x360 with 1 Axes>"
      ]
     },
     "metadata": {
      "needs_background": "light"
     },
     "output_type": "display_data"
    },
    {
     "name": "stdout",
     "output_type": "stream",
     "text": [
      "Episode: 14, step: 11, Reward: 1.0, avg loss: 0.000, eps: 0.010\n",
      "step 11\n"
     ]
    }
   ],
   "source": [
    "render = True\n",
    "steps = 100000 # on simule un step pour avoir un espilon minimum\n",
    "\n",
    "test_num_episodes = 15\n",
    "\n",
    "for i in range(test_num_episodes):\n",
    "    state = env.reset()\n",
    "    cnt = 0\n",
    "    avg_loss = 0\n",
    "    while True:\n",
    "        if render:\n",
    "            env.render()\n",
    "#         action, eps = random.randint(0, env.action_space.n - 1), 0.01\n",
    "        action, eps = agent.choose_action(state, agent.primary_network, steps)\n",
    "    \n",
    "        next_state, reward, done, info = env.step(action)\n",
    "        \n",
    "#         reward = np.random.normal(1.0, RANDOM_REWARD_STD)\n",
    "        if done:\n",
    "            next_state = None\n",
    "\n",
    "        state = next_state\n",
    "\n",
    "        if done:\n",
    "            if cnt != 0 : avg_loss /= cnt\n",
    "            else : avg_loss = 0\n",
    "            print(f\"Episode: {i}, step: {cnt}, Reward: {reward_sum}, avg loss: {avg_loss:.3f}, eps: {eps:.3f}\")\n",
    "            with train_writer.as_default():\n",
    "                tf.summary.scalar('reward', cnt, step=i)\n",
    "                tf.summary.scalar('avg loss', avg_loss, step=i)\n",
    "            break\n",
    "\n",
    "        cnt += 1\n",
    "print(\"step\", cnt)\n",
    "env.close()"
   ]
  },
  {
   "cell_type": "code",
   "execution_count": 9,
   "metadata": {
    "ExecuteTime": {
     "end_time": "2021-03-02T14:39:29.610082Z",
     "start_time": "2021-03-02T14:39:29.607545Z"
    }
   },
   "outputs": [],
   "source": [
    "env.close()"
   ]
  },
  {
   "cell_type": "code",
   "execution_count": null,
   "metadata": {},
   "outputs": [],
   "source": []
  },
  {
   "cell_type": "code",
   "execution_count": null,
   "metadata": {},
   "outputs": [],
   "source": []
  }
 ],
 "metadata": {
  "kernelspec": {
   "display_name": "Python 3",
   "language": "python",
   "name": "python3"
  },
  "language_info": {
   "codemirror_mode": {
    "name": "ipython",
    "version": 3
   },
   "file_extension": ".py",
   "mimetype": "text/x-python",
   "name": "python",
   "nbconvert_exporter": "python",
   "pygments_lexer": "ipython3",
   "version": "3.8.6"
  },
  "toc": {
   "base_numbering": 1,
   "nav_menu": {},
   "number_sections": true,
   "sideBar": true,
   "skip_h1_title": false,
   "title_cell": "Table of Contents",
   "title_sidebar": "Contents",
   "toc_cell": false,
   "toc_position": {},
   "toc_section_display": true,
   "toc_window_display": true
  },
  "varInspector": {
   "cols": {
    "lenName": 16,
    "lenType": 16,
    "lenVar": 40
   },
   "kernels_config": {
    "python": {
     "delete_cmd_postfix": "",
     "delete_cmd_prefix": "del ",
     "library": "var_list.py",
     "varRefreshCmd": "print(var_dic_list())"
    },
    "r": {
     "delete_cmd_postfix": ") ",
     "delete_cmd_prefix": "rm(",
     "library": "var_list.r",
     "varRefreshCmd": "cat(var_dic_list()) "
    }
   },
   "types_to_exclude": [
    "module",
    "function",
    "builtin_function_or_method",
    "instance",
    "_Feature"
   ],
   "window_display": false
  }
 },
 "nbformat": 4,
 "nbformat_minor": 4
}
