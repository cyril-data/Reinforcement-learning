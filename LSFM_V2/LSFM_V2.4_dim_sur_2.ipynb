{
 "cells": [
  {
   "cell_type": "markdown",
   "metadata": {},
   "source": [
    "__Warning__\n",
    "********************************\n",
    "\n",
    "_LSFMs only evaluate SFs for a fixed target policy that selects actions uni-formly at random.  The learned model can then be used to predict the valuefunction of any arbitrary policy, including the optimal policy._\n",
    "\n",
    "_LSFMs do not include a value prediction module_\n",
    "\n",
    "_test different alpha for the loss_ : results : alpha_N = 1.0 / alpha_psi = 0.01\n",
    "\n",
    "*********************************\n",
    "\n",
    "__BUGS__\n",
    "Attention : ne pas faire de _reset_LSFM_ : probleme d'allocation de nouveau tenseur je pense"
   ]
  },
  {
   "cell_type": "markdown",
   "metadata": {},
   "source": [
    "# Environment"
   ]
  },
  {
   "cell_type": "code",
   "execution_count": 1,
   "metadata": {
    "ExecuteTime": {
     "end_time": "2021-05-18T08:08:36.773824Z",
     "start_time": "2021-05-18T08:08:34.480391Z"
    }
   },
   "outputs": [],
   "source": [
    "import gym\n",
    "import tensorflow as tf\n",
    "from tensorflow import keras\n",
    "\n",
    "from tensorflow.keras import layers, Input\n",
    "\n",
    "\n",
    "import random\n",
    "import numpy as np\n",
    "import datetime as dt\n",
    "import math\n",
    "\n",
    "import pandas as pd\n",
    "import seaborn as sns\n",
    "sns.set()\n",
    "\n",
    "\n",
    "import matplotlib.pyplot as plt\n",
    "from gridworld import SimpleGrid\n"
   ]
  },
  {
   "cell_type": "code",
   "execution_count": 2,
   "metadata": {
    "ExecuteTime": {
     "end_time": "2021-05-18T08:08:36.784193Z",
     "start_time": "2021-05-18T08:08:36.774965Z"
    }
   },
   "outputs": [],
   "source": [
    "class custom_env:\n",
    "\n",
    "    def __init__(self, env_name, param={}):\n",
    "        # Initialize atributes\n",
    "        self.env_name = env_name    # name of environment\n",
    "        self.param = param          # dictionarry of environment parameters\n",
    "\n",
    "        if (self.env_name == \"SimpleGrid\"):\n",
    "            self.env = SimpleGrid(self.param[\"grid_size\"],\n",
    "                                  block_pattern=self.param[\"pattern\"],\n",
    "                                  obs_mode=self.param[\"obs_mode\"])\n",
    "\n",
    "            self.state_space = gym.spaces.Discrete(4)\n",
    "            self.env.reset(\n",
    "                agent_pos=self.param[\"agent_pos\"], \n",
    "                goal_pos=self.param[\"goal_pos\"],\n",
    "                reward_pos=self.param[\"reward_pos\"],\n",
    "                reward_minmax = self.param[\"reward_minmax\"],\n",
    "                reward_user_defined = self.param[\"reward_user_defined\"]\n",
    "            )\n",
    "\n",
    "            self.state_type = \"Discrete\"\n",
    "            self.observation_space = gym.spaces.Discrete(\n",
    "                self.param[\"grid_size\"]**2)\n",
    "            \n",
    "            self.action_space = gym.spaces.Discrete(4)\n",
    "            \n",
    "        if (self.env_name.split(\"_\")[0] == \"gym\"):\n",
    "            gym_name = \"_\".join(self.env_name.split(\"_\")[1:])\n",
    "            self.env = gym.make(gym_name)\n",
    "            self.action_space = self.env.action_space\n",
    "            if (type(self.env.observation_space) == gym.spaces.discrete.Discrete):\n",
    "                self.observation_space = self.env.observation_space\n",
    "                self.state_type = \"Discrete\"\n",
    "                                \n",
    "            else:\n",
    "                self.state_type = \"Continue\"\n",
    "\n",
    "        observation = self.reset()\n",
    "        \n",
    "        if self.state_type == \"Discrete\":\n",
    "            self._state_dim = self.observation_space.n\n",
    "        else:\n",
    "            self._state_dim = len(observation)\n",
    "\n",
    "    def reset(self):\n",
    "        \n",
    "        \n",
    "        if self.state_type == \"Discrete\":\n",
    "            if (self.env_name == \"SimpleGrid\"):\n",
    "                self.env.reset(\n",
    "                agent_pos=self.param[\"agent_pos\"], \n",
    "                goal_pos=self.param[\"goal_pos\"],\n",
    "                reward_pos=self.param[\"reward_pos\"] ,\n",
    "                reward_minmax = self.param[\"reward_minmax\"],\n",
    "                reward_user_defined = self.param[\"reward_user_defined\"]\n",
    "                )\n",
    "                                \n",
    "                n = self.observation_space.n\n",
    "                return_reset = np.array(keras.utils.to_categorical(\n",
    "                    self.env.observation,   \n",
    "                    num_classes=n)).reshape(n)\n",
    "            else : \n",
    "                \n",
    "                state_res = self.env.reset()\n",
    "                \n",
    "                n = self.observation_space.n\n",
    "                return_reset = np.array(keras.utils.to_categorical(\n",
    "                    state_res, \n",
    "                    num_classes=n)).reshape(n)\n",
    "                \n",
    "        else : \n",
    "            return_reset = self.env.reset()\n",
    "        \n",
    "        return return_reset\n",
    "\n",
    "    def step(self, action):\n",
    "        \n",
    "                    \n",
    "        if self.state_type == \"Discrete\":\n",
    "            \n",
    "            if (self.env_name == \"SimpleGrid\"):\n",
    "                reward = self.env.step(action)\n",
    "                done = self.env.done\n",
    "                info = \"\"\n",
    "                n = self.observation_space.n\n",
    "                next_state = np.array(keras.utils.to_categorical(\n",
    "                    self.env.observation, \n",
    "                    num_classes=n)).reshape(n)\n",
    "\n",
    "                return_env = np.array(next_state), reward, done, info\n",
    "            \n",
    "            else :\n",
    "            \n",
    "                next_state, reward, done, info = self.env.step(action)\n",
    "\n",
    "                n = self.observation_space.n\n",
    "                next_state = np.array(keras.utils.to_categorical(\n",
    "                    next_state, \n",
    "                    num_classes=n)).reshape(n)\n",
    "\n",
    "                return_env = np.array(next_state), reward, done, info\n",
    "            \n",
    "        else:\n",
    "            return_env = self.env.step(action)\n",
    "\n",
    "        \n",
    "        return return_env\n",
    "        \n",
    "        \n",
    "    def render(self):\n",
    "        if (self.env_name == \"SimpleGrid\"):\n",
    "            \n",
    "            fig, ax = plt.subplots()\n",
    "            ax.imshow(self.env.grid)\n",
    "\n",
    "            # Minor ticks\n",
    "            ax.set_xticks(np.arange(-.5, (self._state_dim)**0.5 - 1, 1), minor=True)\n",
    "            ax.set_yticks(np.arange(-.5, (self._state_dim)**0.5 - 1, 1), minor=True)\n",
    "\n",
    "            # Gridlines based on minor ticks\n",
    "            ax.grid(which='both', color='w', linestyle='-', linewidth=1.5)\n",
    "        if (self.env_name.split(\"_\")[0] == \"gym\"):\n",
    "            self.env.render()\n",
    "\n",
    "        \n",
    "    def close(self):\n",
    "        if (self.env_name.split(\"_\")[0] == \"gym\"):\n",
    "            self.env.close()\n"
   ]
  },
  {
   "cell_type": "markdown",
   "metadata": {},
   "source": [
    "# Agents"
   ]
  },
  {
   "cell_type": "markdown",
   "metadata": {},
   "source": [
    "## LSFM"
   ]
  },
  {
   "cell_type": "code",
   "execution_count": 3,
   "metadata": {
    "ExecuteTime": {
     "end_time": "2021-05-18T08:08:36.809344Z",
     "start_time": "2021-05-18T08:08:36.785484Z"
    }
   },
   "outputs": [],
   "source": [
    "\n",
    "class Agent:\n",
    "    \n",
    "        \n",
    "    def __init__(self, enviroment, param={}):\n",
    "        self.param = param\n",
    "        self._action_size = enviroment.action_space.n\n",
    "        self._state_dim = enviroment._state_dim\n",
    "        self.dim_latent = self.param[\"latent_space\"]\n",
    "        self.batch_size = self.param[\"batch_size\"]\n",
    "        \n",
    "#         LSFM model for construction of a reward-predictive space representation  \n",
    "#         LSFM must be train on policy independant of state\n",
    "        inputs = Input(shape=(self._state_dim,), name=\"input\")\n",
    "        x = layers.Dense(30, activation='relu', name=\"hidden_latent\")(inputs)\n",
    "        layer_latent = layers.Dense(self.dim_latent, activation='relu', name=\"latent\")(x)\n",
    "        layers_ouputs = {}\n",
    "\n",
    "        x = layers.Dense(self.dim_latent * self._action_size,use_bias=False, name = \"Fa\")(layer_latent)\n",
    "        layers_ouputs[\"Fa\"] = layers.Reshape((self._action_size, self.dim_latent))(x)\n",
    "        layers_ouputs[\"ra\"]  = layers.Dense(self._action_size,use_bias=False, name = \"ra\")(layer_latent)\n",
    "\n",
    "        \n",
    "#         layers_ouputs[\"dot_reward\"] = layers.Dense(1, use_bias=False, name=\"dot_layer\")(layer_latent)\n",
    "        layers_ouputs[\"phi\"] = layer_latent    \n",
    "        self.model_LSFM = keras.Model(inputs=inputs, outputs=layers_ouputs, name=\"model_LSFM\")     \n",
    "        self.model_LSFM_prev = keras.models.clone_model(self.model_LSFM)\n",
    "        \n",
    "#         DQN model using the original state space\n",
    "        self.model_DQN = keras.Sequential()\n",
    "        self.model_DQN.add(layers.Dense(30, activation=\"relu\"))\n",
    "        self.model_DQN.add(layers.Dense(self._action_size))\n",
    "        self.model_DQN_prev = keras.models.clone_model(self.model_DQN)\n",
    "        \n",
    "\n",
    "#         DQN model using the latent state space\n",
    "        self.model_DQN_latent = keras.Sequential()\n",
    "        self.model_DQN_latent.add(layers.Dense(30, activation=\"relu\"))\n",
    "        self.model_DQN_latent.add(layers.Dense(self._action_size))\n",
    "        self.model_DQN_latent_prev = keras.models.clone_model(self.model_DQN_latent)\n",
    "        \n",
    "        \n",
    "        \n",
    "#         Linear Q model using the original state space  \n",
    "        self.model_LinQN = keras.Sequential()\n",
    "        self.model_LinQN.add(layers.Dense(self._action_size, use_bias=False))\n",
    "        self.model_LinQN_prev = keras.models.clone_model(self.model_LinQN)\n",
    "        \n",
    "\n",
    "#         Linear model using the latent state space\n",
    "        self.model_LinQN_latent = keras.Sequential()\n",
    "        self.model_LinQN_latent.add(layers.Dense(self._action_size, use_bias=False))\n",
    "        self.model_LinQN_latent_prev = keras.models.clone_model(self.model_LinQN_latent)\n",
    "        \n",
    "        \n",
    "        \n",
    "         # Initialize policy\n",
    "            \n",
    "            \n",
    "        if (self.param[\"policy\"][\"type\"][0] == \"eps-greedy\"):\n",
    "            self.policy = \"eps-greedy\"\n",
    "\n",
    "            if (self.param[\"policy\"][\"type\"][1] == \"exponantial\"):\n",
    "                self.pi_1 = \"exponantial\"\n",
    "\n",
    "                self.epsilon = self.param[\"policy\"][self.policy][self.pi_1][\"eps_max\"]\n",
    "                self.eps_max = self.param[\"policy\"][self.policy][self.pi_1][\"eps_max\"]\n",
    "                self.eps_min = self.param[\"policy\"][self.policy][self.pi_1][\"eps_min\"]\n",
    "                self._lambda = self.param[\"policy\"][self.policy][self.pi_1][\"lambda\"]\n",
    "\n",
    "            if (self.param[\"policy\"][\"type\"][1] == \"constant\"):\n",
    "                self.pi_1 = \"constant\"\n",
    "                self.epsilon = self.param[\"policy\"][self.policy][self.pi_1][\"eps\"]\n",
    "\n",
    "\n",
    "#     def reset_models_LSFM(self):\n",
    "# #         LSFM model for construction of a reward-predictive space representation  \n",
    "# #         LSFM must be train on policy independant of state\n",
    "#         inputs = Input(shape=(self._state_dim,), name=\"input\")\n",
    "#         x = layers.Dense(30, activation='relu', name=\"hidden_latent\")(inputs)\n",
    "#         layer_latent = layers.Dense(self.dim_latent, activation='relu', name=\"latent\")(x)\n",
    "#         layers_ouputs = {}\n",
    "\n",
    "#         x = layers.Dense(self.dim_latent * self._action_size,use_bias=False, name = \"Fa\")(layer_latent)\n",
    "#         layers_ouputs[\"Fa\"] = layers.Reshape((self._action_size, self.dim_latent))(x)\n",
    "#         layers_ouputs[\"ra\"]  = layers.Dense(self._action_size,use_bias=False, name = \"ra\")(layer_latent)\n",
    "\n",
    "        \n",
    "# #         layers_ouputs[\"dot_reward\"] = layers.Dense(1, use_bias=False, name=\"dot_layer\")(layer_latent)\n",
    "#         layers_ouputs[\"phi\"] = layer_latent    \n",
    "#         self.model_LSFM = keras.Model(inputs=inputs, outputs=layers_ouputs, name=\"model_LSFM\")     \n",
    "#         self.model_LSFM_prev = keras.models.clone_model(self.model_LSFM)\n",
    "    \n",
    "#     def reset_optimizer_LSFM(self):\n",
    "#         self.param[\"optimizer_LSFM\"] = keras.optimizers.Adam()\n",
    "        \n",
    "        \n",
    "    \n",
    "    def update_param(self,param ):\n",
    "        \n",
    "        self.param = param\n",
    "        self.dim_latent = self.param[\"latent_space\"]\n",
    "        self.batch_size = self.param[\"batch_size\"]\n",
    "\n",
    "# param_agent_simu[\"policy\"][\"eps-greedy\"][\"constant\"][\"eps\"]=0.      \n",
    "\n",
    "        if (self.param[\"policy\"][\"type\"][0] == \"eps-greedy\"):\n",
    "            self.policy = \"eps-greedy\"\n",
    "\n",
    "            if (self.param[\"policy\"][\"type\"][1] == \"exponantial\"):\n",
    "                self.pi_1 = \"exponantial\"\n",
    "\n",
    "                self.epsilon = self.param[\"policy\"][self.policy][self.pi_1][\"eps_max\"]\n",
    "                self.eps_max = self.param[\"policy\"][self.policy][self.pi_1][\"eps_max\"]\n",
    "                self.eps_min = self.param[\"policy\"][self.policy][self.pi_1][\"eps_min\"]\n",
    "                self._lambda = self.param[\"policy\"][self.policy][self.pi_1][\"lambda\"]\n",
    "\n",
    "            if (self.param[\"policy\"][\"type\"][1] == \"constant\"):\n",
    "                self.pi_1 = \"constant\"\n",
    "                self.epsilon = self.param[\"policy\"][self.policy][self.pi_1][\"eps\"]\n",
    "\n",
    "\n",
    "#     def reset_models_Q(self):\n",
    "        \n",
    "# #         DQN model using the original state space\n",
    "#         self.model_DQN = keras.Sequential()\n",
    "#         self.model_DQN.add(layers.Dense(30, activation=\"relu\"))\n",
    "#         self.model_DQN.add(layers.Dense(self._action_size))\n",
    "#         self.model_DQN_prev = keras.models.clone_model(self.model_DQN)\n",
    "        \n",
    "\n",
    "# #         DQN model using the latent state space\n",
    "#         self.model_DQN_latent = keras.Sequential()\n",
    "#         self.model_DQN_latent.add(layers.Dense(30, activation=\"relu\"))\n",
    "#         self.model_DQN_latent.add(layers.Dense(self._action_size))\n",
    "#         self.model_DQN_latent_prev = keras.models.clone_model(self.model_DQN_latent)\n",
    "        \n",
    "        \n",
    "        \n",
    "# #         Linear Q model using the original state space  \n",
    "#         self.model_LinQN = keras.Sequential()\n",
    "#         self.model_LinQN.add(layers.Dense(self._action_size, use_bias=False))\n",
    "#         self.model_LinQN_prev = keras.models.clone_model(self.model_LinQN)\n",
    "        \n",
    "\n",
    "# #         Linear model using the latent state space\n",
    "#         self.model_LinQN_latent = keras.Sequential()\n",
    "#         self.model_LinQN_latent.add(layers.Dense(self._action_size, use_bias=False))\n",
    "#         self.model_LinQN_latent_prev = keras.models.clone_model(self.model_LinQN_latent)\n",
    "        \n",
    "        \n",
    "        \n",
    "    def choose_action(self, state, model_Q, steps, possible_action):\n",
    "        \n",
    "        if (self.policy == \"eps-greedy\"):\n",
    "            if (self.pi_1 == \"exponantial\"):\n",
    "                self.epsilon = self.eps_min + \\\n",
    "                    (self.eps_max - self.eps_min) * \\\n",
    "                    math.exp(-self._lambda * steps)\n",
    "\n",
    "            if random.random() < self.epsilon:\n",
    "                return random.randint(0, self._action_size - 1), self.epsilon\n",
    "            else:\n",
    "                \n",
    "                action_greedy, eps = self.choose_action_greedy(state, model_Q, steps, possible_action)\n",
    "                \n",
    "                return action_greedy, self.epsilon\n",
    "             \n",
    "    def choose_action_random(self):\n",
    "        return random.randint(0, self._action_size - 1), self.epsilon\n",
    "            \n",
    "    def choose_action_greedy(self, state, model_Q , steps, possible_action):\n",
    "\n",
    "        Q_values = model_Q(state.reshape(1, -1))\n",
    "#         print(\"Q_values , a\", Q_values,np.argmax(Q_values) )       \n",
    "        return np.argmax(Q_values), self.epsilon\n",
    "\n",
    "    def get_from_actions( self, states, actions, model, var) : \n",
    "        var_all_a = model(states)[var]\n",
    "        aggr = []\n",
    "        for k in range(var_all_a.shape[0]) : \n",
    "            aggr.append(var_all_a[k, actions[k]])\n",
    "        return tf.convert_to_tensor(aggr)\n",
    "    \n",
    "    \n",
    "    \n",
    "    def target_psi(self, model, states,actions, next_states,terminate,rewards, filter_done, action_space):\n",
    "\n",
    "        psi = model(states)[\"Fa\"]\n",
    "        \n",
    "        psi_prime = model(next_states)[\"Fa\"]\n",
    "        \n",
    "        psi_bar = tf.math.reduce_mean(psi_prime, axis=1 )\n",
    "        \n",
    "        phi = model(states)[\"phi\"] \n",
    "        \n",
    "#         if model_prev is None:\n",
    "#             psi_bar = self.psi_bar(next_states, action_space, model) \n",
    "#         else : \n",
    "#             psi_bar = self.psi_bar_prev(next_states, action_space, model, model_prev         \n",
    "        #  filter_done = True : - we don't take into account terminal states : \n",
    "        #                       - creation of a filter to determine whitch episode of batch is a terminal state\n",
    "        #  filter_done = False : we take into account all states\n",
    "        \n",
    "        if filter_done  : \n",
    "            \n",
    "            gamma_psibar = tf.multiply(self.param[\"gamma\"],psi_bar)\n",
    "            \n",
    "            filter_idxs = tf.dtypes.cast(tf.logical_not(terminate), tf.float32)\n",
    "\n",
    "            filter_expand  = tf.transpose(tf.tile(\n",
    "                tf.reshape(filter_idxs, (1,-1) ), [gamma_psibar.shape[1],1]\n",
    "            ))\n",
    "\n",
    "            gamma_psibar_filter = tf.math.multiply(filter_expand, gamma_psibar)\n",
    "            \n",
    "            y = tf.add(\n",
    "                phi, \n",
    "                gamma_psibar_filter\n",
    "            )\n",
    "            \n",
    "        else : \n",
    "            \n",
    "            y = tf.add(\n",
    "                phi, \n",
    "                tf.multiply(\n",
    "                        self.param[\"gamma\"],\n",
    "                        psi_bar\n",
    "                ) \n",
    "            )\n",
    "            \n",
    "        return y\n",
    "    \n",
    "        \n",
    "\n",
    "    def loss_mse(self,y_pred,y_true) : \n",
    "        return keras.losses.mean_squared_error(y_pred,y_true)\n",
    "            \n",
    "        \n",
    "    def loss_N(self,y_pred) : \n",
    "        vector_ONE = tf.constant(1., shape=y_pred.shape[0], dtype = y_pred.dtype)\n",
    "        loss =    tf.pow(tf.subtract(tf.norm(y_pred, axis=1), vector_ONE ), 2.) \n",
    "        return loss\n",
    "        \n",
    "        \n",
    "\n",
    "#         agent.train_LSFM(\n",
    "#                         model_LSFM, \n",
    "#                         memory, \n",
    "#                         model_LSFM_prev if param_agent[\"double_model\"] else None, \n",
    "#                         param_agent[\"filter_done\"])\n",
    "    \n",
    "    def train_LSFM(self, model, memory, filter_done):\n",
    "        if memory.num_samples < self.batch_size * 3:\n",
    "            return [0,0,0,0]\n",
    "        batch = memory.sample(self.batch_size)\n",
    "        \n",
    "        action_space = np.arange(self._action_size)\n",
    "#        tensor conversion\n",
    "        states = tf.convert_to_tensor(np.array([val[0] for val in batch]))\n",
    "        actions = tf.convert_to_tensor(np.array([val[1] for val in batch]))\n",
    "        rewards = tf.convert_to_tensor(np.array([val[2] for val in batch]).astype(np.float32))\n",
    "        next_states = tf.convert_to_tensor(np.array([(np.zeros(self._state_dim)\n",
    "                                 if val[3] is None else val[3]) for val in batch]))\n",
    "        terminate = tf.convert_to_tensor(np.array([val[4] for val in batch]))\n",
    "\n",
    "        \n",
    "        #         ************* A Calculate Loss on reward and normalisation first  *******************\n",
    "        # 1) calculate the losses \n",
    "            \n",
    "        target_psi = self.target_psi(model, states,actions, next_states,terminate,rewards, filter_done, action_space)\n",
    "        \n",
    "        \n",
    "        alpha_r = self.param[\"alpha_r\"]\n",
    "        alpha_N = self.param[\"alpha_N\"]\n",
    "        alpha_psi = self.param[\"alpha_psi\"]  \n",
    "        \n",
    "        with tf.GradientTape() as tape:\n",
    "            logits_r = self.get_from_actions( states, actions, model, \"ra\")\n",
    "            loss_r =  self.loss_mse(logits_r, rewards )\n",
    "\n",
    "            logits_N = model(states)[\"phi\"]\n",
    "            loss_N =  self.loss_N(logits_N)\n",
    "\n",
    "            logits_psi = self.get_from_actions( states, actions, model, \"Fa\")\n",
    "            loss_psi = self.loss_mse( logits_psi, target_psi )\n",
    "\n",
    "            loss_tot = alpha_r * loss_r + alpha_N * loss_N + alpha_psi * loss_psi\n",
    "        \n",
    "        # 2) : calculate the gradient   \n",
    "        grads = tape.gradient(loss_tot, model.trainable_weights) \n",
    "        \n",
    "#         print(\"grads\", grads)\n",
    "\n",
    "        # 3) : apply the gradient \n",
    "        self.param[\"optimizer_LSFM\"].apply_gradients(zip(grads, model.trainable_weights)) \n",
    "          \n",
    "        #         ****************************************************\n",
    "\n",
    "#         if model_prev is not None:\n",
    "#             # update model_prev parameters slowly from model (primary network) \n",
    "#             for t, e in zip(model_prev.trainable_variables, model.trainable_variables):\n",
    "#                 t.assign(\n",
    "#                     tf.add(\n",
    "#                         tf.multiply(\n",
    "#                             t,(1 - self.param[\"tau\"]) \n",
    "#                         ), \n",
    "#                         tf.multiply(\n",
    "#                             e , self.param[\"tau\"]  \n",
    "#                         )\n",
    "#                     ) \n",
    "#                 )\n",
    "        \n",
    "        return [tf.reduce_mean(loss_tot).numpy(), \n",
    "                tf.reduce_mean(loss_r).numpy(), \n",
    "                tf.reduce_mean(loss_N).numpy(), \n",
    "                tf.reduce_mean(loss_psi).numpy()]\n",
    "\n",
    "    \n",
    "\n",
    "#           ************************************************\n",
    "#           target_Q on latent reward-predictive state space\n",
    "#           ************************************************\n",
    "    def target_Q(self, model_Q, model_Q_prev, states,actions, next_states,terminate,rewards):\n",
    "        \n",
    "        \n",
    "        \n",
    "#       prediction of Q(s,*) and Q(s',*)\n",
    "        prim_qt =  model_Q(states)\n",
    "        prim_qtp1 = model_Q_prev(next_states)\n",
    "        \n",
    "#       creation of a filter to determine whitch episode of batch is a terminal state\n",
    "        filter_idxs = tf.dtypes.cast(tf.logical_not(terminate), tf.float32)\n",
    "        \n",
    "#       recompose id of the batch \n",
    "        batch_idxs = tf.range(self.batch_size)\n",
    "\n",
    "        if model_Q_prev is None:\n",
    "#          updates =  rewards + gamma * max(  Q(s',*)   )\n",
    "#          for s not terminated\n",
    "            updates = tf.add(\n",
    "                rewards ,tf.multiply(\n",
    "                    filter_idxs ,tf.multiply(\n",
    "                        self.param[\"gamma\"], tf.reduce_max(prim_qtp1, axis=1)\n",
    "                    )\n",
    "                ) \n",
    "            )\n",
    "            \n",
    "        else:\n",
    "#          updates =  rewards + gamma * max(  Q^old(s',*))\n",
    "#          for s not terminated\n",
    "\n",
    "            prim_action_tp1 = tf.argmax(prim_qtp1, axis=1)\n",
    "            q_from_target = model_Q_prev(next_states)\n",
    "            indices = np.transpose(np.array([batch_idxs,prim_action_tp1]))\n",
    "            \n",
    "            updates = tf.add(\n",
    "                rewards ,tf.multiply(\n",
    "                    filter_idxs ,tf.multiply(\n",
    "                        self.param[\"gamma\"], tf.gather_nd(q_from_target, indices)\n",
    "                    )\n",
    "                ) \n",
    "            )\n",
    "\n",
    "#       create the target_q / \n",
    "#                           target_q = Q(s,*) \n",
    "#                           target_q[batch_idxs,actions] = updates\n",
    "        indices = np.transpose(np.array([batch_idxs,actions]))\n",
    "        target_q = tf.tensor_scatter_nd_update(prim_qt, indices, updates)\n",
    "                \n",
    "        return target_q\n",
    "#         calculate the loss : prim_qt / target_q\n",
    "\n",
    "\n",
    "#           ***********************************************\n",
    "#           train_Q on latent reward-predictive state space\n",
    "#           ***********************************************\n",
    "    def train_Q(self, model_Q, model_Q_prev, memory, filter_done):\n",
    "        if memory.num_samples < self.batch_size * 3:\n",
    "            return 0\n",
    "        batch = memory.sample(self.batch_size)\n",
    "        \n",
    "#        tensor conversion\n",
    "        states = tf.convert_to_tensor(np.array([val[0] for val in batch]))\n",
    "        actions = tf.convert_to_tensor(np.array([val[1] for val in batch]))\n",
    "        rewards = tf.convert_to_tensor(np.array([val[2] for val in batch]).astype(np.float32))        \n",
    "        next_states = tf.convert_to_tensor(np.array([val[3] for val in batch]))\n",
    "        terminate = tf.convert_to_tensor(np.array([val[4] for val in batch]))\n",
    "\n",
    "\n",
    "        target_Q = self.target_Q(model_Q, \n",
    "            model_Q_prev, \n",
    "            states,\n",
    "            actions, \n",
    "            next_states,\n",
    "            terminate,\n",
    "            rewards)       \n",
    "        \n",
    "        with tf.GradientTape(persistent=True) as tape:\n",
    "            \n",
    "            logits = model_Q(states)\n",
    "            \n",
    "            loss = self.loss_mse(logits, target_Q )\n",
    "        #         *****************************************************\n",
    "\n",
    "        grads = tape.gradient(loss, model_Q.trainable_weights)\n",
    "    \n",
    "        self.param[\"optimizer_Q\"].apply_gradients(zip(grads, model_Q.trainable_weights))            \n",
    "         \n",
    "            \n",
    "        if model_Q_prev is not None:\n",
    "            # update target network parameters slowly from primary network\n",
    "            \n",
    "            for t, e in zip(model_Q_prev.trainable_variables, model_Q.trainable_variables):\n",
    "                t.assign(\n",
    "                    tf.add(\n",
    "                        tf.multiply(\n",
    "                            t,(1 - self.param[\"tau\"]) \n",
    "                        ), \n",
    "                        tf.multiply(\n",
    "                            e , self.param[\"tau\"]  \n",
    "                        )\n",
    "                    ) \n",
    "                )\n",
    "\n",
    "        return tf.reduce_mean(loss).numpy()\n",
    "    \n",
    "        "
   ]
  },
  {
   "cell_type": "markdown",
   "metadata": {},
   "source": [
    "## Qlearning"
   ]
  },
  {
   "cell_type": "code",
   "execution_count": 4,
   "metadata": {
    "ExecuteTime": {
     "end_time": "2021-05-18T08:08:36.812055Z",
     "start_time": "2021-05-18T08:08:36.810269Z"
    }
   },
   "outputs": [],
   "source": [
    "# self._state_dim = enviroment._state_dim\n"
   ]
  },
  {
   "cell_type": "code",
   "execution_count": null,
   "metadata": {},
   "outputs": [],
   "source": []
  },
  {
   "cell_type": "code",
   "execution_count": null,
   "metadata": {},
   "outputs": [],
   "source": []
  },
  {
   "cell_type": "code",
   "execution_count": 5,
   "metadata": {
    "ExecuteTime": {
     "end_time": "2021-05-18T08:08:36.828966Z",
     "start_time": "2021-05-18T08:08:36.812925Z"
    }
   },
   "outputs": [],
   "source": [
    "\n",
    "class Agent_Q:\n",
    "    \n",
    "        \n",
    "    def __init__(self, enviroment, param = {}, save_model=None):\n",
    "        self.param = param\n",
    "        self._action_size = enviroment.action_space.n\n",
    "        self._state_dim = enviroment._state_dim\n",
    "        self.dim_latent = self.param[\"latent_space\"]\n",
    "        self.batch_size = self.param[\"batch_size\"]\n",
    "\n",
    "        \n",
    "        if save_model == None : \n",
    "            if  param[\"model_Q_Lin\"] : \n",
    "                print(\"Agent_Q.model : initialization model_Q_Lin\")\n",
    "                self.model = keras.Sequential()\n",
    "                self.model.add(layers.Dense(self._action_size, use_bias=False))\n",
    "                self.model_prev = keras.models.clone_model(self.model)\n",
    "                \n",
    "\n",
    "                \n",
    "            else : \n",
    "                print(\"Agent_Q.model : initialization model_DQN\")\n",
    "            \n",
    "                self.model = keras.Sequential()\n",
    "                self.model.add(layers.Dense(30, activation=\"relu\", name=\"latent\"))\n",
    "                self.model.add(layers.Dense(self._action_size))\n",
    "                self.model_prev = keras.models.clone_model(self.model)\n",
    "\n",
    "#              DQN model using the original state space\n",
    "#             self.model_DQN = keras.Sequential()\n",
    "#             self.model_DQN.add(layers.Dense(30, activation=\"relu\"))\n",
    "#             self.model_DQN.add(layers.Dense(self._action_size))\n",
    "#             self.model_DQN_prev = keras.models.clone_model(self.model_DQN)\n",
    "\n",
    "\n",
    "#     #         DQN model using the latent state space\n",
    "#             self.model_DQN_latent = keras.Sequential()\n",
    "#             self.model_DQN_latent.add(layers.Dense(30, activation=\"relu\"))\n",
    "#             self.model_DQN_latent.add(layers.Dense(self._action_size))\n",
    "#             self.model_DQN_latent_prev = keras.models.clone_model(self.model_DQN_latent)\n",
    "\n",
    "\n",
    "\n",
    "#     #         Linear Q model using the original state space  \n",
    "#             self.model_LinQN = keras.Sequential()\n",
    "#             self.model_LinQN.add(layers.Dense(self._action_size, use_bias=False))\n",
    "#             self.model_LinQN_prev = keras.models.clone_model(self.model_LinQN)\n",
    "\n",
    "\n",
    "#     #         Linear model using the latent state space\n",
    "#             self.model_LinQN_latent = keras.Sequential()\n",
    "#             self.model_LinQN_latent.add(layers.Dense(self._action_size, use_bias=False))\n",
    "#             self.model_LinQN_latent_prev = keras.models.clone_model(self.model_LinQN_latent)\n",
    "        else : \n",
    "            print(\"Agent_Q.model : load model \")\n",
    "\n",
    "            self.model               = keras.models.load_model(save_model)\n",
    "            self.model_prev          = keras.models.load_model(save_model)\n",
    "            \n",
    "            for i in range(len(self.model.layers)-1):\n",
    "                print(\"layers name\",i,  self.model.layers[i].name)\n",
    "                self.model.layers[i].trainable = False  \n",
    "                self.model_prev.layers[i].trainable = False  \n",
    "\n",
    "            \n",
    "\n",
    "#             for t in zip(self.model.trainable_variables):\n",
    "#                 print(\"load model init : \", t)\n",
    "\n",
    "#             self.model_DQN               = tf.keras.models.clone_model(save_model)\n",
    "#             self.model_DQN_prev          = tf.keras.models.clone_model(save_model)\n",
    "#             self.model_DQN_latent        = tf.keras.models.clone_model(save_model)\n",
    "#             self.model_DQN_latent_prev   = tf.keras.models.clone_model(save_model)\n",
    "#             self.model_LinQN             = tf.keras.models.clone_model(save_model)\n",
    "#             self.model_LinQN_prev        = tf.keras.models.clone_model(save_model)\n",
    "#             self.model_LinQN_latent      = tf.keras.models.clone_model(save_model)\n",
    "#             self.model_LinQN_latent_prev = tf.keras.models.clone_model(save_model)\n",
    "\n",
    "        \n",
    "         # Initialize policy\n",
    "            \n",
    "            \n",
    "        if (self.param[\"policy\"][\"type\"][0] == \"eps-greedy\"):\n",
    "            self.policy = \"eps-greedy\"\n",
    "\n",
    "            if (self.param[\"policy\"][\"type\"][1] == \"exponantial\"):\n",
    "                self.pi_1 = \"exponantial\"\n",
    "\n",
    "                self.epsilon = self.param[\"policy\"][self.policy][self.pi_1][\"eps_max\"]\n",
    "                self.eps_max = self.param[\"policy\"][self.policy][self.pi_1][\"eps_max\"]\n",
    "                self.eps_min = self.param[\"policy\"][self.policy][self.pi_1][\"eps_min\"]\n",
    "                self._lambda = self.param[\"policy\"][self.policy][self.pi_1][\"lambda\"]\n",
    "\n",
    "            if (self.param[\"policy\"][\"type\"][1] == \"constant\"):\n",
    "                self.pi_1 = \"constant\"\n",
    "                self.epsilon = self.param[\"policy\"][self.policy][self.pi_1][\"eps\"]\n",
    "        \n",
    "        \n",
    "        \n",
    "    def choose_action(self, state, model_Q, steps, possible_action):\n",
    "        \n",
    "        if (self.policy == \"eps-greedy\"):\n",
    "            if (self.pi_1 == \"exponantial\"):\n",
    "                self.epsilon = self.eps_min + \\\n",
    "                    (self.eps_max - self.eps_min) * \\\n",
    "                    math.exp(-self._lambda * steps)\n",
    "\n",
    "            if random.random() < self.epsilon:\n",
    "                return random.randint(0, self._action_size - 1), self.epsilon\n",
    "            else:\n",
    "                \n",
    "                action_greedy, eps = self.choose_action_greedy(state, model_Q, steps, possible_action)\n",
    "                \n",
    "                return action_greedy, self.epsilon\n",
    "             \n",
    "    def choose_action_random(self):\n",
    "        return random.randint(0, self._action_size - 1), self.epsilon\n",
    "            \n",
    "    def choose_action_greedy(self, state, model_Q , steps, possible_action):\n",
    "\n",
    "        Q_values = model_Q(state.reshape(1, -1))\n",
    "#         print(\"Q_values , a\", Q_values,np.argmax(Q_values) )       \n",
    "        return np.argmax(Q_values), self.epsilon\n",
    "\n",
    "    def get_from_actions( self, states, actions, model, var) : \n",
    "        var_all_a = model(states)[var]\n",
    "        aggr = []\n",
    "        for k in range(var_all_a.shape[0]) : \n",
    "            aggr.append(var_all_a[k, actions[k]])\n",
    "        return tf.convert_to_tensor(aggr)\n",
    "    \n",
    "    \n",
    "    \n",
    "        \n",
    "\n",
    "    def loss_mse(self,y_pred,y_true) : \n",
    "        return keras.losses.mean_squared_error(y_pred,y_true)\n",
    "            \n",
    "        \n",
    "\n",
    "#           ************************************************\n",
    "#           target_Q on latent reward-predictive state space\n",
    "#           ************************************************\n",
    "    def target_Q(self, model_Q, model_Q_prev, states,actions, next_states,terminate,rewards):\n",
    "        \n",
    "        \n",
    "        \n",
    "#       prediction of Q(s,*) and Q(s',*)\n",
    "        prim_qt =  model_Q(states)\n",
    "        prim_qtp1 = model_Q_prev(next_states)\n",
    "        \n",
    "#       creation of a filter to determine whitch episode of batch is a terminal state\n",
    "        filter_idxs = tf.dtypes.cast(tf.logical_not(terminate), tf.float32)\n",
    "        \n",
    "#       recompose id of the batch \n",
    "        batch_idxs = tf.range(self.batch_size)\n",
    "\n",
    "        if model_Q_prev is None:\n",
    "#          updates =  rewards + gamma * max(  Q(s',*)   )\n",
    "#          for s not terminated\n",
    "            updates = tf.add(\n",
    "                rewards ,tf.multiply(\n",
    "                    filter_idxs ,tf.multiply(\n",
    "                        self.param[\"gamma\"], tf.reduce_max(prim_qtp1, axis=1)\n",
    "                    )\n",
    "                ) \n",
    "            )\n",
    "            \n",
    "        else:\n",
    "#          updates =  rewards + gamma * max(  Q^old(s',*))\n",
    "#          for s not terminated\n",
    "\n",
    "            prim_action_tp1 = tf.argmax(prim_qtp1, axis=1)\n",
    "            q_from_target = model_Q_prev(next_states)\n",
    "            indices = np.transpose(np.array([batch_idxs,prim_action_tp1]))\n",
    "            \n",
    "            updates = tf.add(\n",
    "                rewards ,tf.multiply(\n",
    "                    filter_idxs ,tf.multiply(\n",
    "                        self.param[\"gamma\"], tf.gather_nd(q_from_target, indices)\n",
    "                    )\n",
    "                ) \n",
    "            )\n",
    "\n",
    "#       create the target_q / \n",
    "#                           target_q = Q(s,*) \n",
    "#                           target_q[batch_idxs,actions] = updates\n",
    "        indices = np.transpose(np.array([batch_idxs,actions]))\n",
    "        target_q = tf.tensor_scatter_nd_update(prim_qt, indices, updates)\n",
    "                \n",
    "        return target_q\n",
    "#         calculate the loss : prim_qt / target_q\n",
    "\n",
    "\n",
    "#           ***********************************************\n",
    "#           train_Q on latent reward-predictive state space\n",
    "#           ***********************************************\n",
    "\n",
    "    def train_Q(self, model_Q, model_Q_prev, memory, filter_done):\n",
    "        if memory.num_samples < self.batch_size * 3:\n",
    "            return 0\n",
    "        batch = memory.sample(self.batch_size)\n",
    "        \n",
    "#        tensor conversion\n",
    "        states = tf.convert_to_tensor(np.array([val[0] for val in batch]))\n",
    "        actions = tf.convert_to_tensor(np.array([val[1] for val in batch]))\n",
    "        rewards = tf.convert_to_tensor(np.array([val[2] for val in batch]).astype(np.float32))        \n",
    "        next_states = tf.convert_to_tensor(np.array([val[3] for val in batch]))\n",
    "        terminate = tf.convert_to_tensor(np.array([val[4] for val in batch]))\n",
    "\n",
    "\n",
    "        target_Q = self.target_Q(model_Q, \n",
    "            model_Q_prev, \n",
    "            states,\n",
    "            actions, \n",
    "            next_states,\n",
    "            terminate,\n",
    "            rewards)       \n",
    "        \n",
    "        with tf.GradientTape(persistent=True) as tape:\n",
    "            \n",
    "            logits = model_Q(states)\n",
    "            \n",
    "            loss = self.loss_mse(logits, target_Q )\n",
    "        #         *****************************************************\n",
    "\n",
    "        grads = tape.gradient(loss, model_Q.trainable_weights)\n",
    "    \n",
    "        self.param[\"optimizer_Q\"].apply_gradients(zip(grads, model_Q.trainable_weights))            \n",
    "         \n",
    "            \n",
    "        if model_Q_prev is not None:\n",
    "            # update target network parameters slowly from primary network\n",
    "            \n",
    "            for t, e in zip(model_Q_prev.trainable_variables, model_Q.trainable_variables):\n",
    "                t.assign(\n",
    "                    tf.add(\n",
    "                        tf.multiply(\n",
    "                            t,(1 - self.param[\"tau\"]) \n",
    "                        ), \n",
    "                        tf.multiply(\n",
    "                            e , self.param[\"tau\"]  \n",
    "                        )\n",
    "                    ) \n",
    "                )\n",
    "\n",
    "        return tf.reduce_mean(loss).numpy()\n",
    "    \n",
    "        "
   ]
  },
  {
   "cell_type": "markdown",
   "metadata": {},
   "source": [
    "# Storage"
   ]
  },
  {
   "cell_type": "code",
   "execution_count": 6,
   "metadata": {
    "ExecuteTime": {
     "end_time": "2021-05-18T08:08:36.832955Z",
     "start_time": "2021-05-18T08:08:36.830283Z"
    }
   },
   "outputs": [],
   "source": [
    "\n",
    "class Memory:\n",
    "        \n",
    "    def __init__(self, max_memory):\n",
    "        self._max_memory = max_memory\n",
    "        self._samples = []\n",
    "\n",
    "    def add_sample(self, sample):\n",
    "        self._samples.append(sample)\n",
    "        if len(self._samples) > self._max_memory:\n",
    "            self._samples.pop(0)\n",
    "\n",
    "    def sample(self, no_samples):\n",
    "        if no_samples > len(self._samples):\n",
    "            return random.sample(self._samples, len(self._samples))\n",
    "        else:\n",
    "            return random.sample(self._samples, no_samples)\n",
    "            \n",
    "    def reset(self):\n",
    "        self._samples = []\n",
    "\n",
    "    @property\n",
    "    def num_samples(self):\n",
    "        return len(self._samples)\n"
   ]
  },
  {
   "cell_type": "code",
   "execution_count": null,
   "metadata": {},
   "outputs": [],
   "source": []
  },
  {
   "cell_type": "code",
   "execution_count": null,
   "metadata": {
    "ExecuteTime": {
     "end_time": "2021-03-30T13:53:54.068097Z",
     "start_time": "2021-03-30T13:53:54.064758Z"
    }
   },
   "outputs": [],
   "source": []
  },
  {
   "cell_type": "markdown",
   "metadata": {},
   "source": [
    "# Visu environment and models"
   ]
  },
  {
   "cell_type": "code",
   "execution_count": 7,
   "metadata": {
    "ExecuteTime": {
     "end_time": "2021-05-18T08:08:38.522575Z",
     "start_time": "2021-05-18T08:08:36.834000Z"
    },
    "scrolled": true
   },
   "outputs": [
    {
     "name": "stdout",
     "output_type": "stream",
     "text": [
      "action 1\n",
      " 0 - Up  /  1 - Down  /  2 - Left  / 3 - Right\n",
      "reward 0.0\n",
      "done False\n",
      "action 1\n",
      " 0 - Up  /  1 - Down  /  2 - Left  / 3 - Right\n",
      "reward -1.0\n",
      "done False\n",
      "action 1\n",
      " 0 - Up  /  1 - Down  /  2 - Left  / 3 - Right\n",
      "reward -1.0\n",
      "done False\n",
      "action 1\n",
      " 0 - Up  /  1 - Down  /  2 - Left  / 3 - Right\n",
      "reward -1.0\n",
      "done False\n",
      "action 1\n",
      " 0 - Up  /  1 - Down  /  2 - Left  / 3 - Right\n",
      "reward -1.0\n",
      "done False\n",
      "action 1\n",
      " 0 - Up  /  1 - Down  /  2 - Left  / 3 - Right\n",
      "reward -1.0\n",
      "done False\n",
      "action 1\n",
      " 0 - Up  /  1 - Down  /  2 - Left  / 3 - Right\n",
      "reward -1.0\n",
      "done False\n",
      "action 1\n",
      " 0 - Up  /  1 - Down  /  2 - Left  / 3 - Right\n",
      "reward -1.0\n",
      "done False\n",
      "action 1\n",
      " 0 - Up  /  1 - Down  /  2 - Left  / 3 - Right\n",
      "reward 0.0\n",
      "done False\n",
      "action 1\n",
      " 0 - Up  /  1 - Down  /  2 - Left  / 3 - Right\n",
      "reward 1.0\n",
      "done True\n"
     ]
    },
    {
     "data": {
      "image/png": "[encoded data removed]",
      "text/plain": [
       "<Figure size 432x288 with 1 Axes>"
      ]
     },
     "metadata": {},
     "output_type": "display_data"
    },
    {
     "data": {
      "image/png": "[encoded data removed]",
      "text/plain": [
       "<Figure size 432x288 with 1 Axes>"
      ]
     },
     "metadata": {},
     "output_type": "display_data"
    },
    {
     "data": {
      "image/png": "[encoded data removed]",
      "text/plain": [
       "<Figure size 432x288 with 1 Axes>"
      ]
     },
     "metadata": {},
     "output_type": "display_data"
    },
    {
     "data": {
      "image/png": "[encoded data removed]",
      "text/plain": [
       "<Figure size 432x288 with 1 Axes>"
      ]
     },
     "metadata": {},
     "output_type": "display_data"
    },
    {
     "data": {
      "image/png": "[encoded data removed]",
      "text/plain": [
       "<Figure size 432x288 with 1 Axes>"
      ]
     },
     "metadata": {},
     "output_type": "display_data"
    },
    {
     "data": {
      "image/png": "[encoded data removed]",
      "text/plain": [
       "<Figure size 432x288 with 1 Axes>"
      ]
     },
     "metadata": {},
     "output_type": "display_data"
    },
    {
     "data": {
      "image/png": "[encoded data removed]",
      "text/plain": [
       "<Figure size 432x288 with 1 Axes>"
      ]
     },
     "metadata": {},
     "output_type": "display_data"
    },
    {
     "data": {
      "image/png": "[encoded data removed]",
      "text/plain": [
       "<Figure size 432x288 with 1 Axes>"
      ]
     },
     "metadata": {},
     "output_type": "display_data"
    },
    {
     "data": {
      "image/png": "[encoded data removed]",
      "text/plain": [
       "<Figure size 432x288 with 1 Axes>"
      ]
     },
     "metadata": {},
     "output_type": "display_data"
    },
    {
     "data": {
      "image/png": "[encoded data removed]",
      "text/plain": [
       "<Figure size 432x288 with 1 Axes>"
      ]
     },
     "metadata": {},
     "output_type": "display_data"
    }
   ],
   "source": [
    "\n",
    "# param_env = {\n",
    "#     \"agent_pos\":[0, 0], \n",
    "#     \"goal_pos\":[[9,0] ],\n",
    "#     \"reward_minmax\":[-1.,1.],\n",
    "#     \"reward_pos\":[[0, 0],[0, 1],[0, 2],[0, 3],[0, 4],[0, 5],[0, 6],[0, 7],[0, 8],[0, 9], \n",
    "#                   [1, 0],[1, 1],[1, 2],[1, 3],[1, 4],[1, 5],[1, 6],[1, 7],[1, 8],[1, 9], \n",
    "#                                                             [2, 6],[2, 7],[2, 8],[2, 9], \n",
    "#                                                             [3, 6],[3, 7],[3, 8],[3, 9], \n",
    "#                                                             [4, 6],[4, 7],[4, 8],[4, 9], \n",
    "#                                                             [5, 6],[5, 7],[5, 8],[5, 9], \n",
    "#                                                             [6, 6],[6, 7],[6, 8],[6, 9], \n",
    "#                                                             [7, 6],[7, 7],[7, 8],[7, 9], \n",
    "#                   [8, 0],[8, 1],[8, 2],[8, 3],[8, 4],[8, 5],[8, 6],[8, 7],[8, 8],[8, 9], \n",
    "#                   [9, 0],[9, 1],[9, 2],[9, 3],[9, 4],[9, 5],[9, 6],[9, 7],[9, 8],[9, 9]],\n",
    "#     \"grid_size\" : 10,\n",
    "#     \"pattern\": \"empty\",\n",
    "# #     \"pattern\":[\"user_defined\", [ [2,0],[2,1],[2,2],[2,3],[2,4],[2,5],\n",
    "# #                                [7,0],[7,1],[7,2],[7,3],[7,4],[7,5]]],\n",
    "#     \"obs_mode\":\"index\",\n",
    "# }\n",
    "\n",
    "# param_env = {\n",
    "#     \"agent_pos\":[0, 0], \n",
    "#     \"goal_pos\":[[5,0] ],\n",
    "#     \"reward_minmax\":[-1.,0.],\n",
    "#     \"reward_user_defined\":True,\n",
    "#     \"reward_pos\":[[0, 0],[0, 1],[0, 2],[0, 3],[0, 4],[0, 5], \n",
    "#                   [1, 0],[1, 1],[1, 2],[1, 3],[1, 4],[1, 5], \n",
    "#                                               [2, 4],[2, 5], \n",
    "#                                               [3, 4],[3, 5], \n",
    "#                   [4, 0],[4, 1],[4, 2],[4, 3],[4, 4],[4, 5], \n",
    "#                   [5, 0],[5, 1],[5, 2],[5, 3],[5, 4],[5, 5]],\n",
    "#     \"grid_size\" : 6,\n",
    "#     \"pattern\": \"empty\",\n",
    "#     \"obs_mode\":\"index\",\n",
    "# }\n",
    "\n",
    "\n",
    "param_env = {\n",
    "    \"agent_pos\":[0, 0], \n",
    "    \"goal_pos\":[[10,0] ],\n",
    "    \"reward_minmax\":[-1.,0.],\n",
    "    \"reward_user_defined\":True,\n",
    "    \"reward_pos\":[\n",
    "        [0, 0],[0, 1],[0, 2],[0, 3],[0, 4],[0, 5],[0, 6],[0, 7],[0, 8],[0, 9],[0, 10],\n",
    "        [1, 0],[1, 1],[1, 2],[1, 3],[1, 4],[1, 5],[1, 6],[1, 7],[1, 8],[1, 9],[1, 10],\n",
    "                                                                [2, 8],[2, 9],[2, 10],\n",
    "                                                                [3, 8],[3, 9],[3, 10],\n",
    "                                                                [4, 8],[4, 9],[4, 10],\n",
    "                                                                [5, 8],[5, 9],[5, 10],\n",
    "                                                                [6, 8],[6, 9],[6, 10],\n",
    "                                                                [7, 8],[7, 9],[7, 10],\n",
    "                                                                [8, 8],[8, 9],[8, 10],\n",
    "        [9, 0],[9, 1],[9, 2],[9, 3],[9, 4],[9, 5],[9, 6],[9, 7],[9, 8],[9, 9],[9, 10],\n",
    "        [10,0],[10,1],[10,2],[10,3],[10,4],[10,5],[10,6],[10,7],[10,8],[10,9],[10,10]\n",
    "                ],\n",
    "    \"grid_size\" : 11,\n",
    "    \"pattern\": \"empty\",\n",
    "    \"obs_mode\":\"index\",\n",
    "}\n",
    "\n",
    "\n",
    "\n",
    "env_name = \"SimpleGrid\"\n",
    "env = custom_env(env_name, param_env)\n",
    "\n",
    "\n",
    "latent_dimension = int(env._state_dim / 2)\n",
    "\n",
    "param_agent = {\n",
    "    \"gamma\": 0.90,\n",
    "    \"optimizer_LSFM\": keras.optimizers.Adam(),\n",
    "    \"optimizer_Q\": keras.optimizers.Adam(),\n",
    "    \"alpha_r\" : 1.,\n",
    "    \"alpha_N\" : 0.1,\n",
    "    \"alpha_psi\" : 0.01,\n",
    "    \"policy\": {\n",
    "        \"type\": [\"eps-greedy\", \"exponantial\"],\n",
    "        \"eps-greedy\": {\n",
    "            \"exponantial\": {\n",
    "                \"eps_max\": 1.,\n",
    "                \"eps_min\": 0.01,\n",
    "                \"lambda\": 0.0002\n",
    "            },\n",
    "            \"constant\": {\n",
    "                \"eps\": 0.01\n",
    "            }\n",
    "        }\n",
    "    },\n",
    "    \"memory\" : 500000,\n",
    "    \"latent_space\": latent_dimension,\n",
    "    \"num_episodes\" : 100,\n",
    "    \"batch_size\" : 32,\n",
    "    \"RANDOM_REWARD_STD\" : -1.0, \n",
    "    \"double_model\" : True,\n",
    "    \"tau\": 0.08,\n",
    "    \"filter_done\" : True,\n",
    "    \"train_LSFM\" : True,\n",
    "    \"train_on_Q_latent\": True,\n",
    "    \"model_Q_Lin\": True,\n",
    "    \"train\" : True\n",
    "}\n",
    "\n",
    "agent = Agent(env, param_agent)\n",
    "\n",
    "\n",
    "state = env.reset()\n",
    "actions_down = [1,1,1,1,1,1,1,1,1,1,1,1,1,1,1]\n",
    "for i in range(10) : \n",
    "    action = actions_down[i]\n",
    "    next_state, reward, done, info = env.step(action)\n",
    "\n",
    "    print(\"action\", action)\n",
    "    print(\" 0 - Up  /  1 - Down  /  2 - Left  / 3 - Right\")\n",
    "#     print(\"next_state\", next_state)\n",
    "    print(\"reward\", reward)\n",
    "    print(\"done\", done)\n",
    "    env.render()\n",
    "    \n",
    "    state = next_state\n",
    "\n"
   ]
  },
  {
   "cell_type": "code",
   "execution_count": 8,
   "metadata": {
    "ExecuteTime": {
     "end_time": "2021-05-18T08:08:38.525430Z",
     "start_time": "2021-05-18T08:08:38.523618Z"
    }
   },
   "outputs": [],
   "source": [
    "def random_action(env) : \n",
    "    return random.randint(0, env.action_space.n - 1)"
   ]
  },
  {
   "cell_type": "markdown",
   "metadata": {},
   "source": [
    "# models summary"
   ]
  },
  {
   "cell_type": "markdown",
   "metadata": {},
   "source": [
    "## LSFM"
   ]
  },
  {
   "cell_type": "code",
   "execution_count": 9,
   "metadata": {
    "ExecuteTime": {
     "end_time": "2021-05-18T08:08:38.602801Z",
     "start_time": "2021-05-18T08:08:38.526435Z"
    }
   },
   "outputs": [
    {
     "name": "stdout",
     "output_type": "stream",
     "text": [
      "Model: \"model_LSFM\"\n",
      "__________________________________________________________________________________________________\n",
      "Layer (type)                    Output Shape         Param #     Connected to                     \n",
      "==================================================================================================\n",
      "input (InputLayer)              [(None, 121)]        0                                            \n",
      "__________________________________________________________________________________________________\n",
      "hidden_latent (Dense)           (None, 30)           3660        input[0][0]                      \n",
      "__________________________________________________________________________________________________\n",
      "latent (Dense)                  (None, 60)           1860        hidden_latent[0][0]              \n",
      "__________________________________________________________________________________________________\n",
      "Fa (Dense)                      (None, 240)          14400       latent[0][0]                     \n",
      "__________________________________________________________________________________________________\n",
      "reshape (Reshape)               (None, 4, 60)        0           Fa[0][0]                         \n",
      "__________________________________________________________________________________________________\n",
      "ra (Dense)                      (None, 4)            240         latent[0][0]                     \n",
      "==================================================================================================\n",
      "Total params: 20,160\n",
      "Trainable params: 20,160\n",
      "Non-trainable params: 0\n",
      "__________________________________________________________________________________________________\n"
     ]
    },
    {
     "data": {
      "image/png": "[encoded data removed]",
      "text/plain": [
       "<IPython.core.display.Image object>"
      ]
     },
     "execution_count": 9,
     "metadata": {},
     "output_type": "execute_result"
    }
   ],
   "source": [
    "agent.model_LSFM.summary()\n",
    "keras.utils.plot_model(agent.model_LSFM, \"my_first_model.png\", show_shapes=True)"
   ]
  },
  {
   "cell_type": "markdown",
   "metadata": {},
   "source": [
    "## Linear QLearning\n",
    "Qlearning on latent space"
   ]
  },
  {
   "cell_type": "markdown",
   "metadata": {},
   "source": [
    "### QLin on latent space"
   ]
  },
  {
   "cell_type": "code",
   "execution_count": 10,
   "metadata": {
    "ExecuteTime": {
     "end_time": "2021-05-18T08:08:38.690783Z",
     "start_time": "2021-05-18T08:08:38.604417Z"
    }
   },
   "outputs": [
    {
     "name": "stdout",
     "output_type": "stream",
     "text": [
      "Agent_Q.model : initialization model_Q_Lin\n",
      "Model: \"sequential_4\"\n",
      "_________________________________________________________________\n",
      "Layer (type)                 Output Shape              Param #   \n",
      "=================================================================\n",
      "dense_6 (Dense)              (32, 4)                   240       \n",
      "=================================================================\n",
      "Total params: 240\n",
      "Trainable params: 240\n",
      "Non-trainable params: 0\n",
      "_________________________________________________________________\n"
     ]
    },
    {
     "data": {
      "image/png": "[encoded data removed]",
      "text/plain": [
       "<IPython.core.display.Image object>"
      ]
     },
     "execution_count": 10,
     "metadata": {},
     "output_type": "execute_result"
    }
   ],
   "source": [
    "param_agent[\"model_Q_Lin\"] = True\n",
    "\n",
    "x= np.zeros((param_agent[\"batch_size\"],param_agent[\"latent_space\"]), dtype=float)\n",
    "\n",
    "agent_Q = Agent_Q(env, param_agent)\n",
    "agent_Q.model(x)\n",
    "\n",
    "agent_Q.model.summary()\n",
    "keras.utils.plot_model(agent_Q.model, \"my_first_model_Q.png\", show_shapes=True)"
   ]
  },
  {
   "cell_type": "markdown",
   "metadata": {},
   "source": [
    "### DQN on original space"
   ]
  },
  {
   "cell_type": "code",
   "execution_count": 11,
   "metadata": {
    "ExecuteTime": {
     "end_time": "2021-05-18T08:08:38.770974Z",
     "start_time": "2021-05-18T08:08:38.692075Z"
    }
   },
   "outputs": [
    {
     "name": "stdout",
     "output_type": "stream",
     "text": [
      "Agent_Q.model : initialization model_DQN\n",
      "Model: \"sequential_5\"\n",
      "_________________________________________________________________\n",
      "Layer (type)                 Output Shape              Param #   \n",
      "=================================================================\n",
      "latent (Dense)               (32, 30)                  3660      \n",
      "_________________________________________________________________\n",
      "dense_7 (Dense)              (32, 4)                   124       \n",
      "=================================================================\n",
      "Total params: 3,784\n",
      "Trainable params: 3,784\n",
      "Non-trainable params: 0\n",
      "_________________________________________________________________\n"
     ]
    },
    {
     "data": {
      "image/png": "[encoded data removed]",
      "text/plain": [
       "<IPython.core.display.Image object>"
      ]
     },
     "execution_count": 11,
     "metadata": {},
     "output_type": "execute_result"
    }
   ],
   "source": [
    "param_agent[\"model_Q_Lin\"] = False\n",
    "\n",
    "x= np.zeros((param_agent[\"batch_size\"],env._state_dim), dtype=float)\n",
    "\n",
    "agent_Q = Agent_Q(env, param_agent)\n",
    "agent_Q.model(x)\n",
    "\n",
    "agent_Q.model.summary()\n",
    "keras.utils.plot_model(agent_Q.model, \"my_first_model_Q.png\", show_shapes=True)"
   ]
  },
  {
   "cell_type": "code",
   "execution_count": null,
   "metadata": {},
   "outputs": [],
   "source": []
  },
  {
   "cell_type": "markdown",
   "metadata": {},
   "source": [
    "# test "
   ]
  },
  {
   "cell_type": "code",
   "execution_count": 12,
   "metadata": {
    "ExecuteTime": {
     "end_time": "2021-05-18T08:08:38.776989Z",
     "start_time": "2021-05-18T08:08:38.772443Z"
    }
   },
   "outputs": [],
   "source": [
    "# states_double = np.array([[0., 0., 0., 0., 0., 0., 1., 0., 0., 0., 0., 0., 0., 0., 0., 0.,\n",
    "#         0., 0., 0., 0., 0., 0., 0., 0., 0., 0., 0., 0., 0., 0., 0., 0.,\n",
    "#         0., 0., 0., 0.], \n",
    "#                   [0., 0., 0., 0., 0., 0., 0., 0., 0., 0., 0., 0., 0., 0., 0., 0.,\n",
    "#         0., 0., 0., 0., 0., 0., 0., 0., 0., 0., 0., 0., 1., 0., 0., 0.,\n",
    "#         0., 0., 0., 0.]])\n",
    "# actions_double = np.array([0,1])\n",
    "\n",
    "# states = np.array([[0., 0., 0., 0., 0., 0., 1., 0., 0., 0., 0., 0., 0., 0., 0., 0.,\n",
    "#         0., 0., 0., 0., 0., 0., 0., 0., 0., 0., 0., 0., 0., 0., 0., 0.,\n",
    "#         0., 0., 0., 0.]])\n",
    "# actions = np.array([0])\n",
    "\n",
    "# states_2 = np.array([ \n",
    "#                   [0., 0., 0., 0., 0., 0., 0., 0., 0., 0., 0., 0., 0., 0., 0., 0.,\n",
    "#         0., 0., 0., 0., 0., 0., 0., 0., 0., 0., 0., 0., 1., 0., 0., 0.,\n",
    "#         0., 0., 0., 0.]])\n",
    "# actions_2 = np.array([1])\n",
    "\n",
    "\n",
    "states_double = np.zeros((2,env._state_dim))\n",
    "states_double[0,int(env._state_dim*1/3)] = 1\n",
    "states_double[1,int(env._state_dim*2/3)] = 1\n",
    "\n",
    "actions_double = np.array([0,1])\n",
    "\n",
    "states = np.zeros((1,env._state_dim))\n",
    "states[0,int(env._state_dim*1/3)]  = 1\n",
    "\n",
    "actions = np.array([0])\n",
    "\n",
    "states_2 = np.zeros((1,env._state_dim))\n",
    "states_2[0,int(env._state_dim*2/3)]  = 1 \n",
    "actions_2 = np.array([1])\n",
    "\n",
    "\n",
    "\n",
    "\n",
    "\n",
    "# phi = agent.phi(states, agent.model_LSFM)\n",
    "# phi"
   ]
  },
  {
   "cell_type": "code",
   "execution_count": null,
   "metadata": {
    "ExecuteTime": {
     "end_time": "2021-04-13T13:53:38.344954Z",
     "start_time": "2021-04-13T13:53:38.342348Z"
    }
   },
   "outputs": [],
   "source": []
  },
  {
   "cell_type": "code",
   "execution_count": null,
   "metadata": {
    "ExecuteTime": {
     "end_time": "2021-04-13T13:54:03.617894Z",
     "start_time": "2021-04-13T13:54:03.610424Z"
    }
   },
   "outputs": [],
   "source": [
    "\n"
   ]
  },
  {
   "cell_type": "code",
   "execution_count": null,
   "metadata": {},
   "outputs": [],
   "source": []
  },
  {
   "cell_type": "markdown",
   "metadata": {},
   "source": [
    "## reward "
   ]
  },
  {
   "cell_type": "code",
   "execution_count": 13,
   "metadata": {
    "ExecuteTime": {
     "end_time": "2021-05-18T08:08:38.789218Z",
     "start_time": "2021-05-18T08:08:38.778256Z"
    }
   },
   "outputs": [
    {
     "data": {
      "text/plain": [
       "TensorShape([2, 60])"
      ]
     },
     "execution_count": 13,
     "metadata": {},
     "output_type": "execute_result"
    }
   ],
   "source": [
    "phi = agent.model_LSFM(states_double)[\"phi\"]\n",
    "phi.shape"
   ]
  },
  {
   "cell_type": "code",
   "execution_count": 14,
   "metadata": {
    "ExecuteTime": {
     "end_time": "2021-05-18T08:08:38.793376Z",
     "start_time": "2021-05-18T08:08:38.790279Z"
    }
   },
   "outputs": [
    {
     "data": {
      "text/plain": [
       "TensorShape([60, 4])"
      ]
     },
     "execution_count": 14,
     "metadata": {},
     "output_type": "execute_result"
    }
   ],
   "source": [
    "for idl, layer in enumerate(agent.model_LSFM.layers):\n",
    "    name_a = \"ra\"\n",
    "    if layer.name == name_a : \n",
    "        wa = layer.weights[0]\n",
    "#         wa = tf.transpose(wa_transpose)\n",
    "\n",
    "wa.shape"
   ]
  },
  {
   "cell_type": "code",
   "execution_count": 15,
   "metadata": {
    "ExecuteTime": {
     "end_time": "2021-05-18T08:08:38.797547Z",
     "start_time": "2021-05-18T08:08:38.794473Z"
    }
   },
   "outputs": [
    {
     "data": {
      "text/plain": [
       "<tf.Tensor: shape=(2, 4), dtype=float32, numpy=\n",
       "array([[-0.02944615, -0.01035087,  0.03588234,  0.03549657],\n",
       "       [ 0.00437582, -0.12202953, -0.09647138,  0.04589715]],\n",
       "      dtype=float32)>"
      ]
     },
     "execution_count": 15,
     "metadata": {},
     "output_type": "execute_result"
    }
   ],
   "source": [
    "tf.matmul( phi , wa   )"
   ]
  },
  {
   "cell_type": "code",
   "execution_count": 16,
   "metadata": {
    "ExecuteTime": {
     "end_time": "2021-05-18T08:08:38.803498Z",
     "start_time": "2021-05-18T08:08:38.798294Z"
    }
   },
   "outputs": [
    {
     "data": {
      "text/plain": [
       "<tf.Tensor: shape=(2, 4), dtype=bool, numpy=\n",
       "array([[ True,  True,  True,  True],\n",
       "       [ True,  True,  True,  True]])>"
      ]
     },
     "execution_count": 16,
     "metadata": {},
     "output_type": "execute_result"
    }
   ],
   "source": [
    "agent.model_LSFM(states_double)[\"ra\"] == tf.matmul( phi , wa   )"
   ]
  },
  {
   "cell_type": "markdown",
   "metadata": {},
   "source": [
    "## psi_bar\n"
   ]
  },
  {
   "cell_type": "code",
   "execution_count": 17,
   "metadata": {
    "ExecuteTime": {
     "end_time": "2021-05-18T08:08:38.808051Z",
     "start_time": "2021-05-18T08:08:38.804616Z"
    }
   },
   "outputs": [
    {
     "data": {
      "text/plain": [
       "TensorShape([60, 240])"
      ]
     },
     "execution_count": 17,
     "metadata": {},
     "output_type": "execute_result"
    }
   ],
   "source": [
    "for idl, layer in enumerate(agent.model_LSFM.layers):\n",
    "    name_a = \"Fa\"\n",
    "    if layer.name == name_a :         \n",
    "        Fa = layer.weights[0]\n",
    "\n",
    "Fa.shape\n"
   ]
  },
  {
   "cell_type": "code",
   "execution_count": 18,
   "metadata": {
    "ExecuteTime": {
     "end_time": "2021-05-18T08:08:38.813122Z",
     "start_time": "2021-05-18T08:08:38.810284Z"
    }
   },
   "outputs": [
    {
     "data": {
      "text/plain": [
       "TensorShape([60, 4, 60])"
      ]
     },
     "execution_count": 18,
     "metadata": {},
     "output_type": "execute_result"
    }
   ],
   "source": [
    "Fa_reshape = tf.reshape(Fa, (Fa.shape[0],4,Fa.shape[0]))\n",
    "Fa_reshape.shape"
   ]
  },
  {
   "cell_type": "code",
   "execution_count": 19,
   "metadata": {
    "ExecuteTime": {
     "end_time": "2021-05-18T08:08:38.818337Z",
     "start_time": "2021-05-18T08:08:38.814619Z"
    }
   },
   "outputs": [
    {
     "data": {
      "text/plain": [
       "TensorShape([2, 60])"
      ]
     },
     "execution_count": 19,
     "metadata": {},
     "output_type": "execute_result"
    }
   ],
   "source": [
    "phi = agent.model_LSFM(states_double)[\"phi\"]\n",
    "phi.shape"
   ]
  },
  {
   "cell_type": "code",
   "execution_count": 20,
   "metadata": {
    "ExecuteTime": {
     "end_time": "2021-05-18T08:08:38.831304Z",
     "start_time": "2021-05-18T08:08:38.819204Z"
    }
   },
   "outputs": [
    {
     "data": {
      "text/plain": [
       "<tf.Tensor: shape=(2, 60), dtype=float32, numpy=\n",
       "array([[4.8616462e-09, 4.5806878e-09, 2.2812650e-09, 4.6566129e-09,\n",
       "        3.8469934e-09, 2.3283063e-10, 3.5540055e-09, 2.1623185e-09,\n",
       "        4.3682897e-09, 2.7939675e-09, 2.6341778e-09, 2.3744156e-09,\n",
       "        3.8489265e-09, 9.2694661e-09, 5.4354854e-09, 2.7939675e-09,\n",
       "        1.6789654e-09, 0.0000000e+00, 4.1650012e-09, 2.6341778e-09,\n",
       "        4.2678558e-09, 1.9199706e-09, 5.5146958e-09, 5.2683555e-09,\n",
       "        3.3579308e-09, 3.2345868e-09, 9.9465280e-10, 5.9633742e-09,\n",
       "        3.3900649e-09, 2.5211377e-09, 1.3488612e-09, 2.0825006e-09,\n",
       "        7.4505802e-09, 2.6367490e-09, 2.0825006e-09, 0.0000000e+00,\n",
       "        2.1339279e-09, 3.7542809e-09, 5.2270348e-09, 2.1339279e-09,\n",
       "        2.0062652e-09, 1.8626450e-09, 2.6341778e-09, 4.1650012e-09,\n",
       "        4.0654831e-09, 3.7542809e-09, 2.0825006e-09, 2.2812650e-09,\n",
       "        1.3170889e-09, 9.3132252e-10, 4.3682897e-09, 8.5357117e-09,\n",
       "        1.7578328e-09, 3.7252901e-09, 4.9280957e-09, 4.1650012e-09,\n",
       "        1.8626450e-09, 2.1339279e-09, 1.8626450e-09, 4.0125303e-09],\n",
       "       [4.1650012e-09, 9.3132252e-10, 4.8616462e-09, 3.7252901e-09,\n",
       "        4.1909511e-09, 4.3930397e-09, 4.6566129e-09, 1.2538314e-09,\n",
       "        1.6404234e-08, 4.3930397e-09, 8.5388869e-09, 6.4523920e-09,\n",
       "        8.5357117e-09, 3.5156655e-09, 4.5207531e-09, 6.9693797e-09,\n",
       "        3.2596288e-09, 6.4523920e-09, 2.1339279e-09, 4.7488311e-09,\n",
       "        3.0888476e-09, 8.1723224e-09, 3.8399413e-09, 4.2678558e-09,\n",
       "        1.0412503e-09, 4.7942761e-09, 5.2683555e-09, 1.1780402e-08,\n",
       "        3.8399413e-09, 7.6939868e-09, 3.7252901e-09, 1.8626450e-09,\n",
       "        5.8902012e-09, 5.8902012e-09, 5.6650138e-09, 1.1780402e-08,\n",
       "        8.5357117e-09, 4.4237818e-09, 8.1723224e-09, 2.7939675e-09,\n",
       "        4.3992054e-09, 5.2683555e-09, 1.9756334e-09, 1.0030651e-08,\n",
       "        5.1433968e-09, 4.6566126e-10, 7.5229876e-09, 6.7801298e-09,\n",
       "        5.6650138e-09, 1.5312044e-09, 7.9025337e-09, 5.5879350e-09,\n",
       "        4.5625299e-09, 3.2927223e-09, 3.9512669e-09, 5.2683555e-09,\n",
       "        7.6798825e-09, 5.3500404e-09, 7.7501481e-09, 4.5625299e-09]],\n",
       "      dtype=float32)>"
      ]
     },
     "execution_count": 20,
     "metadata": {},
     "output_type": "execute_result"
    }
   ],
   "source": [
    "psi_batch = []\n",
    "\n",
    "for b in range(2) : \n",
    "    phi_unique = tf.reshape(phi[b,:], (1,param_agent[\"latent_space\"]))\n",
    "    psi_unique = []\n",
    "    for a in range(4) : \n",
    "        res = tf.matmul( phi_unique,Fa_reshape[:,a])\n",
    "        res_reshape = tf.reshape(res, (param_agent[\"latent_space\"]))\n",
    "        psi_unique.append(res_reshape)\n",
    "    psi_batch.append(psi_unique)\n",
    "psi_scratch = tf.convert_to_tensor(psi_batch)\n",
    "\n",
    "tf.norm(agent.model_LSFM(states_double)[\"Fa\"]- psi_scratch, axis = 1)"
   ]
  },
  {
   "cell_type": "code",
   "execution_count": null,
   "metadata": {
    "ExecuteTime": {
     "end_time": "2021-04-02T11:35:38.607337Z",
     "start_time": "2021-04-02T11:35:38.447291Z"
    }
   },
   "outputs": [],
   "source": []
  },
  {
   "cell_type": "markdown",
   "metadata": {},
   "source": [
    "## Fa_bar"
   ]
  },
  {
   "cell_type": "code",
   "execution_count": 21,
   "metadata": {
    "ExecuteTime": {
     "end_time": "2021-05-18T08:08:38.840169Z",
     "start_time": "2021-05-18T08:08:38.832104Z"
    }
   },
   "outputs": [
    {
     "data": {
      "text/plain": [
       "<tf.Tensor: shape=(60,), dtype=float32, numpy=\n",
       "array([1.9199706e-09, 1.0412503e-09, 2.0825006e-09, 1.6789654e-09,\n",
       "       2.3283064e-09, 1.3170889e-09, 1.6789654e-09, 4.6566126e-10,\n",
       "       1.0412503e-09, 0.0000000e+00, 1.8626450e-09, 1.1641532e-09,\n",
       "       4.6566126e-10, 2.9816871e-09, 1.8626450e-09, 1.1641532e-09,\n",
       "       2.6031259e-09, 0.0000000e+00, 1.8626450e-09, 1.8771404e-09,\n",
       "       3.7325592e-09, 1.8626450e-09, 9.3132252e-10, 9.3132252e-10,\n",
       "       1.8184656e-09, 9.3132252e-10, 9.3132252e-10, 1.6789654e-09,\n",
       "       3.9512669e-09, 1.0412503e-09, 9.5998531e-10, 2.3283063e-10,\n",
       "       1.8626450e-09, 2.3283064e-09, 1.9199706e-09, 1.8626450e-09,\n",
       "       3.7542809e-09, 2.3283064e-09, 9.3132252e-10, 4.6566126e-10,\n",
       "       2.6341778e-09, 2.9451006e-09, 5.2062515e-10, 2.8036520e-09,\n",
       "       2.6341778e-09, 2.0825006e-09, 9.5998531e-10, 1.8184656e-09,\n",
       "       1.4725503e-09, 4.6566126e-10, 1.8626450e-09, 1.3170889e-09,\n",
       "       1.9514763e-09, 0.0000000e+00, 2.0825006e-09, 2.0825006e-09,\n",
       "       9.3132257e-10, 2.0825006e-09, 6.9849193e-10, 0.0000000e+00],\n",
       "      dtype=float32)>"
      ]
     },
     "execution_count": 21,
     "metadata": {},
     "output_type": "execute_result"
    }
   ],
   "source": [
    "Fa_bar = tf.math.reduce_mean(    Fa_reshape, axis=1 )\n",
    "Fa_bar[:,:] == (Fa_reshape[:,0,:] + Fa_reshape[:,1,:] +Fa_reshape[:,2,:] +Fa_reshape[:,3,:] ) / 4\n",
    " \n",
    "psi = agent.model_LSFM(states_double)[\"Fa\"]\n",
    "\n",
    "psi_bar = tf.math.reduce_mean(    psi, axis=1 )\n",
    "psi_bar_scratch = tf.matmul( phi,Fa_bar)\n",
    "\n",
    "tf.norm(psi_bar - psi_bar_scratch, axis = 0)\n",
    "# Fa_reshape.mean()"
   ]
  },
  {
   "cell_type": "markdown",
   "metadata": {},
   "source": [
    "## filter "
   ]
  },
  {
   "cell_type": "code",
   "execution_count": 22,
   "metadata": {
    "ExecuteTime": {
     "end_time": "2021-05-18T08:08:38.849585Z",
     "start_time": "2021-05-18T08:08:38.841033Z"
    }
   },
   "outputs": [
    {
     "data": {
      "text/plain": [
       "<tf.Tensor: shape=(2, 60), dtype=float32, numpy=\n",
       "array([[-0.        , -0.        , -0.        , -0.        , -0.        ,\n",
       "         0.        ,  0.        , -0.        , -0.        ,  0.        ,\n",
       "        -0.        ,  0.        , -0.        ,  0.        ,  0.        ,\n",
       "        -0.        , -0.        ,  0.        , -0.        ,  0.        ,\n",
       "        -0.        , -0.        , -0.        , -0.        , -0.        ,\n",
       "        -0.        ,  0.        , -0.        ,  0.        ,  0.        ,\n",
       "         0.        , -0.        , -0.        ,  0.        , -0.        ,\n",
       "         0.        , -0.        ,  0.        ,  0.        ,  0.        ,\n",
       "        -0.        , -0.        , -0.        , -0.        , -0.        ,\n",
       "         0.        ,  0.        ,  0.        ,  0.        , -0.        ,\n",
       "        -0.        ,  0.        , -0.        , -0.        ,  0.        ,\n",
       "         0.        ,  0.        , -0.        ,  0.        ,  0.        ],\n",
       "       [ 0.00446206, -0.0053972 ,  0.00611531, -0.00222602, -0.02796457,\n",
       "         0.00364292, -0.00231079, -0.0085639 ,  0.00360358, -0.02268548,\n",
       "        -0.02858764, -0.01047395,  0.00305419,  0.0040386 ,  0.00998263,\n",
       "        -0.00429606, -0.0005984 ,  0.01974797, -0.00780256, -0.00401475,\n",
       "        -0.01541814, -0.01655625,  0.01286923, -0.01173143, -0.00436777,\n",
       "        -0.00904135, -0.00028479, -0.00909291,  0.00167654,  0.00039287,\n",
       "         0.01150996, -0.00351416, -0.02138502, -0.00638661,  0.01250599,\n",
       "         0.02984913,  0.03033269,  0.00159536, -0.00510025,  0.00430036,\n",
       "        -0.00730009, -0.01239895, -0.00016598, -0.01021049, -0.02402209,\n",
       "         0.00485977,  0.00294595, -0.00384909, -0.0005051 ,  0.00734935,\n",
       "        -0.01562108,  0.00217013, -0.00720222, -0.00983434,  0.00699307,\n",
       "        -0.00860308,  0.02546858, -0.0010421 ,  0.00215432,  0.01452669]],\n",
       "      dtype=float32)>"
      ]
     },
     "execution_count": 22,
     "metadata": {},
     "output_type": "execute_result"
    }
   ],
   "source": [
    "\n",
    "\n",
    "terminate = [ True,  False]\n",
    "\n",
    "filter_idxs = tf.dtypes.cast(tf.logical_not(terminate), tf.float32)\n",
    "\n",
    "\n",
    "gamma = 0.9\n",
    "gamma_psibar = tf.multiply(gamma,psi_bar)\n",
    "\n",
    "filter_expand  = tf.transpose(tf.tile(\n",
    "    tf.reshape(filter_idxs, (1,-1) ), [gamma_psibar.shape[1],1]\n",
    "))\n",
    "\n",
    "\n",
    "tf.math.multiply(filter_expand, gamma_psibar)\n",
    "\n",
    "# tf.matmul( gamma_psibar,filter_expand)\n",
    "\n"
   ]
  },
  {
   "cell_type": "markdown",
   "metadata": {},
   "source": [
    "# Train"
   ]
  },
  {
   "cell_type": "markdown",
   "metadata": {},
   "source": [
    "## environments"
   ]
  },
  {
   "cell_type": "markdown",
   "metadata": {},
   "source": [
    "### first (puddle word)"
   ]
  },
  {
   "cell_type": "code",
   "execution_count": 23,
   "metadata": {
    "ExecuteTime": {
     "end_time": "2021-05-18T08:08:42.509892Z",
     "start_time": "2021-05-18T08:08:38.850515Z"
    },
    "scrolled": false
   },
   "outputs": [
    {
     "name": "stdout",
     "output_type": "stream",
     "text": [
      "action 3\n",
      " 0 - Up  /  1 - Down  /  2 - Left  / 3 - Right\n",
      "reward -0.001\n",
      "done False\n",
      "action 3\n",
      " 0 - Up  /  1 - Down  /  2 - Left  / 3 - Right\n",
      "reward -0.001\n",
      "done False\n",
      "action 1\n",
      " 0 - Up  /  1 - Down  /  2 - Left  / 3 - Right\n",
      "reward -0.001\n",
      "done False\n",
      "action 1\n",
      " 0 - Up  /  1 - Down  /  2 - Left  / 3 - Right\n",
      "reward -1.0\n",
      "done False\n",
      "action 3\n",
      " 0 - Up  /  1 - Down  /  2 - Left  / 3 - Right\n",
      "reward -1.0\n",
      "done False\n",
      "action 3\n",
      " 0 - Up  /  1 - Down  /  2 - Left  / 3 - Right\n",
      "reward -1.0\n",
      "done False\n",
      "action 3\n",
      " 0 - Up  /  1 - Down  /  2 - Left  / 3 - Right\n",
      "reward -1.0\n",
      "done False\n",
      "action 3\n",
      " 0 - Up  /  1 - Down  /  2 - Left  / 3 - Right\n",
      "reward -1.0\n",
      "done False\n",
      "action 3\n",
      " 0 - Up  /  1 - Down  /  2 - Left  / 3 - Right\n",
      "reward -1.0\n",
      "done False\n",
      "action 3\n",
      " 0 - Up  /  1 - Down  /  2 - Left  / 3 - Right\n",
      "reward -0.001\n",
      "done False\n",
      "action 1\n",
      " 0 - Up  /  1 - Down  /  2 - Left  / 3 - Right\n",
      "reward -0.001\n",
      "done False\n",
      "action 1\n",
      " 0 - Up  /  1 - Down  /  2 - Left  / 3 - Right\n",
      "reward -0.001\n",
      "done False\n",
      "action 1\n",
      " 0 - Up  /  1 - Down  /  2 - Left  / 3 - Right\n",
      "reward -0.001\n",
      "done False\n",
      "action 1\n",
      " 0 - Up  /  1 - Down  /  2 - Left  / 3 - Right\n",
      "reward -0.001\n",
      "done False\n",
      "action 1\n",
      " 0 - Up  /  1 - Down  /  2 - Left  / 3 - Right\n",
      "reward -0.001\n",
      "done False\n",
      "action 1\n",
      " 0 - Up  /  1 - Down  /  2 - Left  / 3 - Right\n",
      "reward -0.001\n",
      "done False\n",
      "action 1\n",
      " 0 - Up  /  1 - Down  /  2 - Left  / 3 - Right\n",
      "reward -0.001\n",
      "done False\n",
      "action 1\n",
      " 0 - Up  /  1 - Down  /  2 - Left  / 3 - Right\n",
      "reward -0.001\n",
      "done False\n",
      "action 1\n",
      " 0 - Up  /  1 - Down  /  2 - Left  / 3 - Right\n",
      "reward -0.001\n",
      "done False\n",
      "action 3\n",
      " 0 - Up  /  1 - Down  /  2 - Left  / 3 - Right\n",
      "reward -0.001\n",
      "done False\n",
      "action 3\n",
      " 0 - Up  /  1 - Down  /  2 - Left  / 3 - Right\n",
      "reward -0.001\n",
      "done False\n",
      "action 3\n",
      " 0 - Up  /  1 - Down  /  2 - Left  / 3 - Right\n",
      "reward -0.001\n",
      "done False\n"
     ]
    },
    {
     "name": "stderr",
     "output_type": "stream",
     "text": [
      "<ipython-input-2-f4e8a8cce243>:114: RuntimeWarning: More than 20 figures have been opened. Figures created through the pyplot interface (`matplotlib.pyplot.figure`) are retained until explicitly closed and may consume too much memory. (To control this warning, see the rcParam `figure.max_open_warning`).\n",
      "  fig, ax = plt.subplots()\n"
     ]
    },
    {
     "data": {
      "image/png": "[encoded data removed]",
      "text/plain": [
       "<Figure size 432x288 with 1 Axes>"
      ]
     },
     "metadata": {},
     "output_type": "display_data"
    },
    {
     "data": {
      "image/png": "[encoded data removed]",
      "text/plain": [
       "<Figure size 432x288 with 1 Axes>"
      ]
     },
     "metadata": {},
     "output_type": "display_data"
    },
    {
     "data": {
      "image/png": "[encoded data removed]",
      "text/plain": [
       "<Figure size 432x288 with 1 Axes>"
      ]
     },
     "metadata": {},
     "output_type": "display_data"
    },
    {
     "data": {
      "image/png": "[encoded data removed]",
      "text/plain": [
       "<Figure size 432x288 with 1 Axes>"
      ]
     },
     "metadata": {},
     "output_type": "display_data"
    },
    {
     "data": {
      "image/png": "[encoded data removed]",
      "text/plain": [
       "<Figure size 432x288 with 1 Axes>"
      ]
     },
     "metadata": {},
     "output_type": "display_data"
    },
    {
     "data": {
      "image/png": "[encoded data removed]",
      "text/plain": [
       "<Figure size 432x288 with 1 Axes>"
      ]
     },
     "metadata": {},
     "output_type": "display_data"
    },
    {
     "data": {
      "image/png": "[encoded data removed]",
      "text/plain": [
       "<Figure size 432x288 with 1 Axes>"
      ]
     },
     "metadata": {},
     "output_type": "display_data"
    },
    {
     "data": {
      "image/png": "[encoded data removed]",
      "text/plain": [
       "<Figure size 432x288 with 1 Axes>"
      ]
     },
     "metadata": {},
     "output_type": "display_data"
    },
    {
     "data": {
      "image/png": "[encoded data removed]",
      "text/plain": [
       "<Figure size 432x288 with 1 Axes>"
      ]
     },
     "metadata": {},
     "output_type": "display_data"
    },
    {
     "data": {
      "image/png": "[encoded data removed]",
      "text/plain": [
       "<Figure size 432x288 with 1 Axes>"
      ]
     },
     "metadata": {},
     "output_type": "display_data"
    },
    {
     "data": {
      "image/png": "[encoded data removed]",
      "text/plain": [
       "<Figure size 432x288 with 1 Axes>"
      ]
     },
     "metadata": {},
     "output_type": "display_data"
    },
    {
     "data": {
      "image/png": "[encoded data removed]",
      "text/plain": [
       "<Figure size 432x288 with 1 Axes>"
      ]
     },
     "metadata": {},
     "output_type": "display_data"
    },
    {
     "data": {
      "image/png": "[encoded data removed]",
      "text/plain": [
       "<Figure size 432x288 with 1 Axes>"
      ]
     },
     "metadata": {},
     "output_type": "display_data"
    },
    {
     "data": {
      "image/png": "[encoded data removed]",
      "text/plain": [
       "<Figure size 432x288 with 1 Axes>"
      ]
     },
     "metadata": {},
     "output_type": "display_data"
    },
    {
     "data": {
      "image/png": "[encoded data removed]",
      "text/plain": [
       "<Figure size 432x288 with 1 Axes>"
      ]
     },
     "metadata": {},
     "output_type": "display_data"
    },
    {
     "data": {
      "image/png": "[encoded data removed]",
      "text/plain": [
       "<Figure size 432x288 with 1 Axes>"
      ]
     },
     "metadata": {},
     "output_type": "display_data"
    },
    {
     "data": {
      "image/png": "[encoded data removed]",
      "text/plain": [
       "<Figure size 432x288 with 1 Axes>"
      ]
     },
     "metadata": {},
     "output_type": "display_data"
    },
    {
     "data": {
      "image/png": "[encoded data removed]",
      "text/plain": [
       "<Figure size 432x288 with 1 Axes>"
      ]
     },
     "metadata": {},
     "output_type": "display_data"
    },
    {
     "data": {
      "image/png": "[encoded data removed]",
      "text/plain": [
       "<Figure size 432x288 with 1 Axes>"
      ]
     },
     "metadata": {},
     "output_type": "display_data"
    },
    {
     "data": {
      "image/png": "[encoded data removed]",
      "text/plain": [
       "<Figure size 432x288 with 1 Axes>"
      ]
     },
     "metadata": {},
     "output_type": "display_data"
    },
    {
     "data": {
      "image/png": "[encoded data removed]",
      "text/plain": [
       "<Figure size 432x288 with 1 Axes>"
      ]
     },
     "metadata": {},
     "output_type": "display_data"
    },
    {
     "data": {
      "image/png": "[encoded data removed]",
      "text/plain": [
       "<Figure size 432x288 with 1 Axes>"
      ]
     },
     "metadata": {},
     "output_type": "display_data"
    }
   ],
   "source": [
    "\n",
    "param_env = {\n",
    "    \"agent_pos\":[0, 0], \n",
    "    \"goal_pos\":[[10,0] ],\n",
    "    \"reward_minmax\":[-1.,-0.001],\n",
    "    \"reward_user_defined\":True,\n",
    "    \"reward_pos\":[\n",
    "        [0, 0],[0, 1],[0, 2],[0, 3],[0, 4],[0, 5],[0, 6],[0, 7],[0, 8],[0, 9],[0, 10],\n",
    "        [1, 0],[1, 1],[1, 2],[1, 3],[1, 4],[1, 5],[1, 6],[1, 7],[1, 8],[1, 9],[1, 10],\n",
    "                                                                [2, 8],[2, 9],[2, 10],\n",
    "                                                                [3, 8],[3, 9],[3, 10],\n",
    "                                                                [4, 8],[4, 9],[4, 10],\n",
    "                                                                [5, 8],[5, 9],[5, 10],\n",
    "                                                                [6, 8],[6, 9],[6, 10],\n",
    "                                                                [7, 8],[7, 9],[7, 10],\n",
    "                                                                [8, 8],[8, 9],[8, 10],\n",
    "        [9, 0],[9, 1],[9, 2],[9, 3],[9, 4],[9, 5],[9, 6],[9, 7],[9, 8],[9, 9],[9, 10],\n",
    "        [10,0],[10,1],[10,2],[10,3],[10,4],[10,5],[10,6],[10,7],[10,8],[10,9],[10,10]\n",
    "                ],\n",
    "    \"grid_size\" : 11,\n",
    "    \"pattern\": \"empty\",\n",
    "    \"obs_mode\":\"index\",\n",
    "}\n",
    "\n",
    "\n",
    "env_name = \"SimpleGrid\"\n",
    "env = custom_env(env_name, param_env)\n",
    "\n",
    "\n",
    "state = env.reset()\n",
    "actions_down = [3,3,1,1,3,3,3,3,3,3,1,1,1,1,1,1,1,1,1,3,3,3,3,3]\n",
    "for i in range(22) : \n",
    "    env.render()\n",
    "    action = actions_down[i]\n",
    "    next_state, reward, done, info = env.step(action)\n",
    "\n",
    "    print(\"action\", action)\n",
    "    print(\" 0 - Up  /  1 - Down  /  2 - Left  / 3 - Right\")\n",
    "#     print(\"next_state\", next_state)\n",
    "    print(\"reward\", reward)\n",
    "    print(\"done\", done)\n",
    "    \n",
    "    state = next_state\n"
   ]
  },
  {
   "cell_type": "markdown",
   "metadata": {},
   "source": [
    "### second (four room)"
   ]
  },
  {
   "cell_type": "code",
   "execution_count": 24,
   "metadata": {
    "ExecuteTime": {
     "end_time": "2021-05-18T08:08:46.195189Z",
     "start_time": "2021-05-18T08:08:42.510890Z"
    },
    "scrolled": true
   },
   "outputs": [
    {
     "name": "stdout",
     "output_type": "stream",
     "text": [
      "action 3\n",
      " 0 - Up  /  1 - Down  /  2 - Left  / 3 - Right\n",
      "reward 0.0\n",
      "done False\n",
      "action 3\n",
      " 0 - Up  /  1 - Down  /  2 - Left  / 3 - Right\n",
      "reward 0.0\n",
      "done False\n",
      "action 1\n",
      " 0 - Up  /  1 - Down  /  2 - Left  / 3 - Right\n",
      "reward 0.0\n",
      "done False\n",
      "action 1\n",
      " 0 - Up  /  1 - Down  /  2 - Left  / 3 - Right\n",
      "reward 0.0\n",
      "done False\n",
      "action 3\n",
      " 0 - Up  /  1 - Down  /  2 - Left  / 3 - Right\n",
      "reward 0.0\n",
      "done False\n",
      "action 3\n",
      " 0 - Up  /  1 - Down  /  2 - Left  / 3 - Right\n",
      "reward 0.0\n",
      "done False\n",
      "action 3\n",
      " 0 - Up  /  1 - Down  /  2 - Left  / 3 - Right\n",
      "reward 0.0\n",
      "done False\n",
      "action 3\n",
      " 0 - Up  /  1 - Down  /  2 - Left  / 3 - Right\n",
      "reward 0.0\n",
      "done False\n",
      "action 3\n",
      " 0 - Up  /  1 - Down  /  2 - Left  / 3 - Right\n",
      "reward 0.0\n",
      "done False\n",
      "action 3\n",
      " 0 - Up  /  1 - Down  /  2 - Left  / 3 - Right\n",
      "reward 0.0\n",
      "done False\n",
      "action 1\n",
      " 0 - Up  /  1 - Down  /  2 - Left  / 3 - Right\n",
      "reward 0.0\n",
      "done False\n",
      "action 1\n",
      " 0 - Up  /  1 - Down  /  2 - Left  / 3 - Right\n",
      "reward 0.0\n",
      "done False\n",
      "action 1\n",
      " 0 - Up  /  1 - Down  /  2 - Left  / 3 - Right\n",
      "reward 0.0\n",
      "done False\n",
      "action 1\n",
      " 0 - Up  /  1 - Down  /  2 - Left  / 3 - Right\n",
      "reward 0.0\n",
      "done False\n",
      "action 1\n",
      " 0 - Up  /  1 - Down  /  2 - Left  / 3 - Right\n",
      "reward 0.0\n",
      "done False\n",
      "action 1\n",
      " 0 - Up  /  1 - Down  /  2 - Left  / 3 - Right\n",
      "reward 0.0\n",
      "done False\n",
      "action 1\n",
      " 0 - Up  /  1 - Down  /  2 - Left  / 3 - Right\n",
      "reward 0.0\n",
      "done False\n",
      "action 1\n",
      " 0 - Up  /  1 - Down  /  2 - Left  / 3 - Right\n",
      "reward 0.0\n",
      "done False\n",
      "action 1\n",
      " 0 - Up  /  1 - Down  /  2 - Left  / 3 - Right\n",
      "reward 0.0\n",
      "done False\n",
      "action 3\n",
      " 0 - Up  /  1 - Down  /  2 - Left  / 3 - Right\n",
      "reward 0.0\n",
      "done False\n",
      "action 3\n",
      " 0 - Up  /  1 - Down  /  2 - Left  / 3 - Right\n",
      "reward 1.0\n",
      "done True\n"
     ]
    },
    {
     "name": "stderr",
     "output_type": "stream",
     "text": [
      "<ipython-input-2-f4e8a8cce243>:114: RuntimeWarning: More than 20 figures have been opened. Figures created through the pyplot interface (`matplotlib.pyplot.figure`) are retained until explicitly closed and may consume too much memory. (To control this warning, see the rcParam `figure.max_open_warning`).\n",
      "  fig, ax = plt.subplots()\n"
     ]
    },
    {
     "name": "stdout",
     "output_type": "stream",
     "text": [
      "action 3\n",
      " 0 - Up  /  1 - Down  /  2 - Left  / 3 - Right\n",
      "reward 1.0\n",
      "done True\n"
     ]
    },
    {
     "data": {
      "image/png": "[encoded data removed]",
      "text/plain": [
       "<Figure size 432x288 with 1 Axes>"
      ]
     },
     "metadata": {},
     "output_type": "display_data"
    },
    {
     "data": {
      "image/png": "[encoded data removed]",
      "text/plain": [
       "<Figure size 432x288 with 1 Axes>"
      ]
     },
     "metadata": {},
     "output_type": "display_data"
    },
    {
     "data": {
      "image/png": "[encoded data removed]",
      "text/plain": [
       "<Figure size 432x288 with 1 Axes>"
      ]
     },
     "metadata": {},
     "output_type": "display_data"
    },
    {
     "data": {
      "image/png": "[encoded data removed]",
      "text/plain": [
       "<Figure size 432x288 with 1 Axes>"
      ]
     },
     "metadata": {},
     "output_type": "display_data"
    },
    {
     "data": {
      "image/png": "[encoded data removed]",
      "text/plain": [
       "<Figure size 432x288 with 1 Axes>"
      ]
     },
     "metadata": {},
     "output_type": "display_data"
    },
    {
     "data": {
      "image/png": "[encoded data removed]",
      "text/plain": [
       "<Figure size 432x288 with 1 Axes>"
      ]
     },
     "metadata": {},
     "output_type": "display_data"
    },
    {
     "data": {
      "image/png": "[encoded data removed]",
      "text/plain": [
       "<Figure size 432x288 with 1 Axes>"
      ]
     },
     "metadata": {},
     "output_type": "display_data"
    },
    {
     "data": {
      "image/png": "[encoded data removed]",
      "text/plain": [
       "<Figure size 432x288 with 1 Axes>"
      ]
     },
     "metadata": {},
     "output_type": "display_data"
    },
    {
     "data": {
      "image/png": "[encoded data removed]",
      "text/plain": [
       "<Figure size 432x288 with 1 Axes>"
      ]
     },
     "metadata": {},
     "output_type": "display_data"
    },
    {
     "data": {
      "image/png": "[encoded data removed]",
      "text/plain": [
       "<Figure size 432x288 with 1 Axes>"
      ]
     },
     "metadata": {},
     "output_type": "display_data"
    },
    {
     "data": {
      "image/png": "[encoded data removed]",
      "text/plain": [
       "<Figure size 432x288 with 1 Axes>"
      ]
     },
     "metadata": {},
     "output_type": "display_data"
    },
    {
     "data": {
      "image/png": "[encoded data removed]",
      "text/plain": [
       "<Figure size 432x288 with 1 Axes>"
      ]
     },
     "metadata": {},
     "output_type": "display_data"
    },
    {
     "data": {
      "image/png": "[encoded data removed]",
      "text/plain": [
       "<Figure size 432x288 with 1 Axes>"
      ]
     },
     "metadata": {},
     "output_type": "display_data"
    },
    {
     "data": {
      "image/png": "[encoded data removed]",
      "text/plain": [
       "<Figure size 432x288 with 1 Axes>"
      ]
     },
     "metadata": {},
     "output_type": "display_data"
    },
    {
     "data": {
      "image/png": "[encoded data removed]",
      "text/plain": [
       "<Figure size 432x288 with 1 Axes>"
      ]
     },
     "metadata": {},
     "output_type": "display_data"
    },
    {
     "data": {
      "image/png": "[encoded data removed]",
      "text/plain": [
       "<Figure size 432x288 with 1 Axes>"
      ]
     },
     "metadata": {},
     "output_type": "display_data"
    },
    {
     "data": {
      "image/png": "[encoded data removed]",
      "text/plain": [
       "<Figure size 432x288 with 1 Axes>"
      ]
     },
     "metadata": {},
     "output_type": "display_data"
    },
    {
     "data": {
      "image/png": "[encoded data removed]",
      "text/plain": [
       "<Figure size 432x288 with 1 Axes>"
      ]
     },
     "metadata": {},
     "output_type": "display_data"
    },
    {
     "data": {
      "image/png": "[encoded data removed]",
      "text/plain": [
       "<Figure size 432x288 with 1 Axes>"
      ]
     },
     "metadata": {},
     "output_type": "display_data"
    },
    {
     "data": {
      "image/png": "[encoded data removed]",
      "text/plain": [
       "<Figure size 432x288 with 1 Axes>"
      ]
     },
     "metadata": {},
     "output_type": "display_data"
    },
    {
     "data": {
      "image/png": "[encoded data removed]",
      "text/plain": [
       "<Figure size 432x288 with 1 Axes>"
      ]
     },
     "metadata": {},
     "output_type": "display_data"
    },
    {
     "data": {
      "image/png": "[encoded data removed]",
      "text/plain": [
       "<Figure size 432x288 with 1 Axes>"
      ]
     },
     "metadata": {},
     "output_type": "display_data"
    }
   ],
   "source": [
    "param_env = {\n",
    "    \"agent_pos\":[0, 0], \n",
    "    \"goal_pos\":[[10,10] ],\n",
    "    \"reward_minmax\":[0.,0.],\n",
    "    \"reward_user_defined\":False,\n",
    "    \"reward_pos\":None,\n",
    "    \"grid_size\" : 11,\n",
    "    \"pattern\": \"four_rooms\",\n",
    "    \"obs_mode\":\"index\",\n",
    "}\n",
    "\n",
    "\n",
    "env_name = \"SimpleGrid\"\n",
    "env_change_reward = custom_env(env_name, param_env)\n",
    "\n",
    "\n",
    "state = env_change_reward.reset()\n",
    "actions_down = [3,3,1,1,3,3,3,3,3,3,1,1,1,1,1,1,1,1,1,3,3,3,3,3]\n",
    "for i in range(22) : \n",
    "    env_change_reward.render()\n",
    "    action = actions_down[i]\n",
    "    next_state, reward, done, info = env_change_reward.step(action)\n",
    "\n",
    "    print(\"action\", action)\n",
    "    print(\" 0 - Up  /  1 - Down  /  2 - Left  / 3 - Right\")\n",
    "#     print(\"next_state\", next_state)\n",
    "    print(\"reward\", reward)\n",
    "    print(\"done\", done)\n",
    "    \n",
    "    state = next_state"
   ]
  },
  {
   "cell_type": "markdown",
   "metadata": {},
   "source": [
    "## functions simulations"
   ]
  },
  {
   "cell_type": "code",
   "execution_count": 25,
   "metadata": {
    "ExecuteTime": {
     "end_time": "2021-05-18T08:08:46.205516Z",
     "start_time": "2021-05-18T08:08:46.196812Z"
    }
   },
   "outputs": [],
   "source": [
    "def simu(env,param_agent,agent_LSFM = None, agent_Q = None) : \n",
    "    \n",
    "    \n",
    "    result_compile = []\n",
    "\n",
    "    steps = 0\n",
    "    render = param_agent[\"render\"]\n",
    "\n",
    "    reward_cumul = 0\n",
    "\n",
    "    action_space = np.arange(env.action_space.n)\n",
    "    possible_action = action_space\n",
    "\n",
    "    \n",
    "    memory = Memory(param_agent[\"memory\"])\n",
    "    memory_latent = Memory(param_agent[\"memory\"])\n",
    "\n",
    "    \n",
    "    avg_loss = 0\n",
    "    avg_loss_r  = 0\n",
    "    avg_loss_N  = 0\n",
    "    avg_loss_psi  = 0\n",
    "    \n",
    "    if agent_LSFM!= None : model_LSFM = agent_LSFM.model_LSFM\n",
    "        \n",
    "#     model_LSFM_prev= agent_LSFM.model_LSFM_prev\n",
    "    if param_agent[\"train_LSFM\"] == False : \n",
    "        model_Q = agent_Q.model\n",
    "        model_Q_prev = agent_Q.model_prev\n",
    "    \n",
    "    for i in range(param_agent[\"num_episodes\"]):\n",
    "        state = env.reset()\n",
    "\n",
    "        reward_ep_cumul = 0\n",
    "        cnt = 0\n",
    "        avg_loss = 0\n",
    "        while True:\n",
    "            if render:\n",
    "                env.render()\n",
    "\n",
    "            if param_agent[\"train_LSFM\"] : \n",
    "                action, eps = agent_LSFM.choose_action_random()\n",
    "                next_state, reward, done, info = env.step(action)\n",
    "            else : \n",
    "                if param_agent[\"train_on_Q_latent\"] : \n",
    "                    \n",
    "                    state_resh = state.reshape(1,-1)\n",
    "                    phi = agent_LSFM.model_LSFM(state_resh)[\"phi\"]\n",
    "                    state_latent = np.array(tf.reshape(phi, phi.shape[-1]))\n",
    "\n",
    "                    # eps = MIN_EPSILON + (MAX_EPSILON - MIN_EPSILON) * math.exp(-LAMBDA * steps)\n",
    "                                        \n",
    "                    action, eps = agent_Q.choose_action(\n",
    "                                        state_latent, \n",
    "                                        model_Q, \n",
    "                                        steps, \n",
    "                                        possible_action\n",
    "                                    )\n",
    "                    \n",
    "                    next_state, reward, done, info = env.step(action)\n",
    "\n",
    "                    next_state_resh = next_state.reshape(1,-1)\n",
    "                    phi_prime = agent_LSFM.model_LSFM(next_state_resh)[\"phi\"]\n",
    "                    next_state_latent = np.array(tf.reshape(phi_prime, phi_prime.shape[-1]))\n",
    "\n",
    "                    \n",
    "                else : \n",
    "                # eps = MIN_EPSILON + (MAX_EPSILON - MIN_EPSILON) * math.exp(-LAMBDA * steps)\n",
    "                    action, eps = agent_Q.choose_action(\n",
    "                        state, \n",
    "                        model_Q, \n",
    "                        steps, \n",
    "                        possible_action\n",
    "                    )\n",
    "\n",
    "                    next_state, reward, done, info = env.step(action)\n",
    "\n",
    "\n",
    "            if param_agent[\"RANDOM_REWARD_STD\"] > 0:\n",
    "                reward = np.random.normal(1.0, RANDOM_REWARD_STD)\n",
    "\n",
    "            reward_ep_cumul += reward\n",
    "            reward_cumul += reward\n",
    "            \n",
    "            if done:\n",
    "                next_state = np.zeros(env._state_dim)\n",
    "                next_state_latent = np.zeros(param_agent[\"latent_space\"])\n",
    "            \n",
    "            \n",
    "            \n",
    "            if param_agent[\"train\"] :\n",
    "                if param_agent[\"train_LSFM\"] : \n",
    "                    memory.add_sample((state, action, reward, next_state, done))\n",
    "                    loss_all = agent_LSFM.train_LSFM(\n",
    "                        model_LSFM, \n",
    "                        memory, \n",
    "                        param_agent[\"filter_done\"])\n",
    "\n",
    "                    avg_loss += loss_all[0]\n",
    "                    avg_loss_r += loss_all[1]\n",
    "                    avg_loss_N += loss_all[2]\n",
    "                    avg_loss_psi += loss_all[3]\n",
    "                else : \n",
    "                    if param_agent[\"train_on_Q_latent\"] : \n",
    "                        memory_latent.add_sample((state_latent, action, reward, next_state_latent, done))\n",
    "\n",
    "                        loss = agent_Q.train_Q(\n",
    "                        model_Q, \n",
    "                        model_Q_prev if param_agent[\"double_model\"] else None,\n",
    "                        memory_latent, param_agent[\"filter_done\"])\n",
    "                        avg_loss += loss\n",
    "                    else :                 \n",
    "                        memory.add_sample((state, action, reward, next_state, done))\n",
    "\n",
    "                        loss = agent_Q.train_Q(\n",
    "                        model_Q, \n",
    "                        model_Q_prev if param_agent[\"double_model\"] else None,\n",
    "                        memory, param_agent[\"filter_done\"])\n",
    "                        avg_loss += loss\n",
    "                \n",
    "            state = next_state\n",
    "        \n",
    "            steps += 1\n",
    "            if steps % 1000 == 0 : print(\"steps : {}, episode : {}, eps : {}\".format(steps, i, eps))\n",
    "#             print(\"steps : {}, episode : {}\".format(steps, i))\n",
    "            if done:\n",
    "                \n",
    "                if cnt != 0:\n",
    "                    avg_loss /= cnt\n",
    "                    avg_loss_r /= cnt\n",
    "                    avg_loss_N /= cnt\n",
    "                    avg_loss_psi /= cnt\n",
    "                    \n",
    "                else:\n",
    "                    avg_loss = 0\n",
    "                result = [i, cnt, steps, reward_ep_cumul,\n",
    "                          reward_cumul, eps, avg_loss, avg_loss_r, avg_loss_N, avg_loss_psi]\n",
    "                if i % 1  == 0 : print(\"Episode: {:03d}, step: {:03d}, cumul_step: {:04d}, Reward: {:3.1f}, Reward_cumul: {:3.1f}, eps: {:0.4f}, avg loss: {:0.4f}\".format(*result))\n",
    "\n",
    "                result_compile.append(result)\n",
    "    #             with train_writer.as_default():\n",
    "    #                 tf.summary.scalar('reward', cnt, step=i)\n",
    "    #                 tf.summary.scalar('avg loss', avg_loss, step=i)\n",
    "                break\n",
    "\n",
    "            cnt += 1\n",
    "    return result_compile\n",
    "    \n",
    "    \n"
   ]
  },
  {
   "cell_type": "code",
   "execution_count": null,
   "metadata": {
    "ExecuteTime": {
     "end_time": "2021-04-13T07:55:13.942786Z",
     "start_time": "2021-04-13T07:55:13.939879Z"
    }
   },
   "outputs": [],
   "source": []
  },
  {
   "cell_type": "code",
   "execution_count": null,
   "metadata": {},
   "outputs": [],
   "source": []
  },
  {
   "cell_type": "code",
   "execution_count": 26,
   "metadata": {
    "ExecuteTime": {
     "end_time": "2021-05-18T08:08:46.211598Z",
     "start_time": "2021-05-18T08:08:46.206305Z"
    }
   },
   "outputs": [],
   "source": [
    "def experience(environment, param, agent= None, save_model = None) : \n",
    "    \n",
    "\n",
    "    data = pd.DataFrame()\n",
    "    \n",
    "    for k in range(param[\"run\"]) : \n",
    "                \n",
    "        agent_Q_simu = Agent_Q(environment, param = param, save_model = save_model)      \n",
    "        # Restore the weights\n",
    "#         if save_model != None : \n",
    "#             for t in zip(agent_Q_simu.model.trainable_variables):\n",
    "#                 print(\"agent_Q_simu\", t)\n",
    "\n",
    "        \n",
    "        result_compile = simu(environment,param, agent, agent_Q_simu)\n",
    "    \n",
    "\n",
    "        data_train_df = pd.DataFrame(result_compile, columns=[ \n",
    "        \"Episode\", \n",
    "        \"Step\", \n",
    "        \"cum_step\",\n",
    "        \"Reward\", \n",
    "        \"Reward_cum\",\n",
    "        \"Eps\",  \n",
    "        \"Avg_loss\" ,  \n",
    "        \"Avg_loss_r\",  \n",
    "        \"Avg_loss_N\",  \n",
    "        \"Avg_loss_psi\"])\n",
    "\n",
    "        data_train_df[\"carac\"] = carac_model(param) \n",
    "        data_train_df[\"run\"] = k\n",
    "        data = pd.concat([data, data_train_df])\n",
    "\n",
    "    return data, agent_Q_simu"
   ]
  },
  {
   "cell_type": "markdown",
   "metadata": {},
   "source": [
    "## function plot"
   ]
  },
  {
   "cell_type": "code",
   "execution_count": 27,
   "metadata": {
    "ExecuteTime": {
     "end_time": "2021-05-18T08:08:46.216691Z",
     "start_time": "2021-05-18T08:08:46.212367Z"
    }
   },
   "outputs": [],
   "source": [
    "def plot_stat(data, param , col) : \n",
    "    stat = []\n",
    "    stat_all = []\n",
    "    for episode in range(param[\"num_episodes\"]) : \n",
    "\n",
    "        mean = data.loc[lambda df: df['Episode'] == episode][col].mean()\n",
    "        quantile10 = data.loc[lambda df: df['Episode'] == episode][col].quantile(0.1)\n",
    "        quantile90 = data.loc[lambda df: df['Episode'] == episode][col].quantile(0.9)\n",
    "        \n",
    "        stat_all.append(data.loc[lambda df: df['Episode'] == episode][col].values   )\n",
    "\n",
    "        stat.append([mean, quantile10, quantile90])\n",
    "        \n",
    "    data_stat = pd.DataFrame(stat, columns=[ \"mean\", \"quantile10\",\"quantile90\"]     )\n",
    "    \n",
    "\n",
    "\n",
    "    # set seaborn style\n",
    "    sns.set_theme()\n",
    "\n",
    "    # Data\n",
    "    x=range(param_agent_simu[\"num_episodes\"])\n",
    "    y=[ data_stat[\"quantile10\"], data_stat[\"mean\"], data_stat[\"quantile90\"]]\n",
    "\n",
    "    # Plot\n",
    "    plt.stackplot(x,y, labels=['quantile10','mean','quantile90'])\n",
    "    plt.legend(loc='upper left')\n",
    "    plt.show()\n",
    "    \n",
    "    \n",
    "    return data_stat, np.array(stat_all)"
   ]
  },
  {
   "cell_type": "code",
   "execution_count": 28,
   "metadata": {
    "ExecuteTime": {
     "end_time": "2021-05-18T08:08:46.220704Z",
     "start_time": "2021-05-18T08:08:46.217821Z"
    }
   },
   "outputs": [],
   "source": [
    "def box_plot(data,param, col) : \n",
    "\n",
    "\n",
    "    data_Q_episode_par_10 = pd.DataFrame()\n",
    "\n",
    "\n",
    "    for k in range(0,param[\"num_episodes\"], 10) : \n",
    "        data_Q_episode_par_10 = pd.concat([data_Q_episode_par_10,\n",
    "                                          data.loc[lambda df: df['Episode'] == k]])\n",
    "\n",
    "\n",
    "    fig, axs = plt.subplots(1, 1,figsize=(15, 5))\n",
    "    sns.boxplot( x=data_Q_episode_par_10[\"Episode\"], y=data_Q_episode_par_10[col] )\n",
    "    \n",
    "    return data_Q_episode_par_10"
   ]
  },
  {
   "cell_type": "code",
   "execution_count": 29,
   "metadata": {
    "ExecuteTime": {
     "end_time": "2021-05-18T08:08:46.223737Z",
     "start_time": "2021-05-18T08:08:46.221615Z"
    }
   },
   "outputs": [],
   "source": [
    "def carac_model(param) : \n",
    "    if param[\"train_LSFM\"] : calcul = \"LSFM\"\n",
    "    else : \n",
    "        if param[\"train_on_Q_latent\"]  : calcul = \"Q_latent\"\n",
    "        else : calcul = \"Q\"\n",
    "        if param[\"model_Q_Lin\"]  : calcul+=\"_Lin\"\n",
    "        else : calcul+=\"_Deep\"\n",
    "    \n",
    "    return calcul"
   ]
  },
  {
   "cell_type": "markdown",
   "metadata": {},
   "source": [
    "## Train LSFM on random policy"
   ]
  },
  {
   "cell_type": "markdown",
   "metadata": {},
   "source": [
    "### train"
   ]
  },
  {
   "cell_type": "code",
   "execution_count": 30,
   "metadata": {
    "ExecuteTime": {
     "end_time": "2021-05-18T08:08:46.227859Z",
     "start_time": "2021-05-18T08:08:46.224748Z"
    }
   },
   "outputs": [],
   "source": [
    "param_agent = {\n",
    "    \"gamma\": 0.90,\n",
    "    \"optimizer_LSFM\": keras.optimizers.Adam(),\n",
    "    \"optimizer_Q\": keras.optimizers.Adam(),\n",
    "    \"alpha_r\" : 1.,\n",
    "    \"alpha_N\" : 0.1,\n",
    "    \"alpha_psi\" : 0.01,\n",
    "    \"policy\": {\n",
    "        \"type\": [\"eps-greedy\", \"exponantial\"],\n",
    "        \"eps-greedy\": {\n",
    "            \"exponantial\": {\n",
    "                \"eps_max\": 1.,\n",
    "                \"eps_min\": 0.01,\n",
    "                \"lambda\": 0.0005\n",
    "            },\n",
    "            \"constant\": {\n",
    "                \"eps\": 0.01\n",
    "            }\n",
    "        }\n",
    "    },\n",
    "    \"memory\" : 500000,\n",
    "    \"latent_space\": latent_dimension,\n",
    "    \"num_episodes\" : 200,\n",
    "    \"batch_size\" : 32,\n",
    "    \"RANDOM_REWARD_STD\" : -1.0, \n",
    "    \"double_model\" : True,\n",
    "    \"tau\": 0.08,\n",
    "    \"filter_done\" : True,\n",
    "    \"train_LSFM\" : True,\n",
    "    \"train_on_Q_latent\": True,\n",
    "    \"model_Q_Lin\": True,\n",
    "    \"train\" : True,\n",
    "    \"render\": False,\n",
    "    \"run\": 15,\n",
    "    \n",
    "}"
   ]
  },
  {
   "cell_type": "code",
   "execution_count": 31,
   "metadata": {
    "ExecuteTime": {
     "end_time": "2021-05-18T08:08:46.230689Z",
     "start_time": "2021-05-18T08:08:46.228876Z"
    },
    "scrolled": true
   },
   "outputs": [],
   "source": [
    "# %%time\n",
    "\n",
    "\n",
    "# from itertools import product\n",
    "\n",
    "\n",
    "# param_agent_simu = {}\n",
    "# param_agent_simu = param_agent.copy()\n",
    "# param_agent_simu[\"run\"] = 10\n",
    "# param_agent_simu[\"double_model\"] = False\n",
    "\n",
    "\n",
    "\n",
    "\n",
    "# params = {\n",
    "#     \"alpha_N\" : [1e-2,1e-1, 1e0],\n",
    "#     \"alpha_psi\" : [1e-2, 1e-1, 1e0]\n",
    "# #     \"alpha_N\" : [1e-1],\n",
    "# #     \"alpha_psi\" : [1e-2]\n",
    "# }\n",
    "# combi_params = [dict(zip(params, v)) for v in product(*params.values())]\n",
    "\n",
    "# results = []\n",
    "\n",
    "# data_LSFM = pd.DataFrame()\n",
    "\n",
    "# for params in combi_params : \n",
    "    \n",
    "        \n",
    "    \n",
    "#     for key, value in params.items():\n",
    "#         param_agent_simu[key] = value\n",
    "    \n",
    "#     for k in range(param_agent_simu[\"run\"]) : \n",
    "#         param_agent_simu[\"reset_LSFM\"] = True\n",
    "        \n",
    "        \n",
    "#         agent = Agent(env, param_agent_simu)\n",
    "\n",
    "#         result_compile = simu(env,param_agent_simu,agent) \n",
    "        \n",
    "#         data_train_df = pd.DataFrame(result_compile, columns=[ \n",
    "#         \"Episode\", \n",
    "#         \"Step\", \n",
    "#         \"cum_step\",\n",
    "#         \"Reward\", \n",
    "#         \"Reward_cum\",\n",
    "#         \"Eps\",  \n",
    "#         \"Avg_loss\" ,  \n",
    "#         \"Avg_loss_r\",  \n",
    "#         \"Avg_loss_N\",  \n",
    "#         \"Avg_loss_psi\"])\n",
    "\n",
    "\n",
    "\n",
    "#         data_train_df[\"carac\"] = carac_model(param_agent_simu) \n",
    "#         data_train_df[\"param\"] = str(params)    \n",
    "#         data_LSFM = pd.concat([data_LSFM, data_train_df])\n",
    "\n",
    "#         eval_step = int(param_agent_simu[\"num_episodes\"] - param_agent_simu[\"num_episodes\"] /10)\n",
    "\n",
    "        \n",
    "\n",
    "#         avg_loss = data_train_df.loc[eval_step:,\"Avg_loss\"].mean()\n",
    "#         avg_loss_r = data_train_df.loc[eval_step:,\"Avg_loss_r\"].mean()\n",
    "#         avg_loss_N = data_train_df.loc[eval_step:,\"Avg_loss_N\"].mean()\n",
    "#         avg_loss_psi = data_train_df.loc[eval_step:,\"Avg_loss_psi\"].mean()\n",
    "\n",
    "#         print(\"avg_loss\", avg_loss)\n",
    "#         print(\"avg_loss_r\", avg_loss_r)\n",
    "#         print(\"avg_loss_N\", avg_loss_N)\n",
    "#         print(\"avg_loss_psi\", avg_loss_psi)\n",
    "\n",
    "#         results.append([avg_loss,avg_loss_r, avg_loss_N,avg_loss_psi , str(params)   ])\n",
    "    \n",
    "\n",
    "# results\n",
    "\n",
    "\n",
    "# # data_results = pd.DataFrame(results, columns=[ \"Avg_loss\", \"Avg_loss_r\",\"Avg_loss_N\", \"Avg_loss_psi\", params ]     )"
   ]
  },
  {
   "cell_type": "markdown",
   "metadata": {},
   "source": [
    "### eval the error on random sequence action"
   ]
  },
  {
   "cell_type": "code",
   "execution_count": 32,
   "metadata": {
    "ExecuteTime": {
     "end_time": "2021-05-18T08:08:46.232841Z",
     "start_time": "2021-05-18T08:08:46.231525Z"
    }
   },
   "outputs": [],
   "source": [
    "# data_results = pd.DataFrame(results, columns=[ \"Avg_loss\", \"Avg_loss_r\",\"Avg_loss_N\", \"Avg_loss_psi\", \"params\" ]     )"
   ]
  },
  {
   "cell_type": "code",
   "execution_count": 33,
   "metadata": {
    "ExecuteTime": {
     "end_time": "2021-05-18T08:08:46.234913Z",
     "start_time": "2021-05-18T08:08:46.233640Z"
    }
   },
   "outputs": [],
   "source": [
    "# data_results = pd.DataFrame(results, columns=[ \"Avg_loss\", \"Avg_loss_r\",\"Avg_loss_N\", \"Avg_loss_psi\", \"params\" ]     )\n",
    "# col = \"Avg_loss\"\n",
    "# df = data_results\n",
    "# fig, axs = plt.subplots(1, 1,figsize=(10, 5))\n",
    "# sns.boxplot( x=df[\"params\"], y=df[col] )\n",
    "# axs.set_xticklabels(df[\"params\"].unique(),  rotation=30, ha= 'right');\n",
    "# plt.ylim(0, 0.0001)"
   ]
  },
  {
   "cell_type": "markdown",
   "metadata": {},
   "source": [
    "### train LSFM on best parameters"
   ]
  },
  {
   "cell_type": "code",
   "execution_count": 34,
   "metadata": {
    "ExecuteTime": {
     "end_time": "2021-05-18T08:08:46.237039Z",
     "start_time": "2021-05-18T08:08:46.235738Z"
    }
   },
   "outputs": [],
   "source": [
    "# data_LSFM.to_csv('data_LSFM.csv')"
   ]
  },
  {
   "cell_type": "code",
   "execution_count": 35,
   "metadata": {
    "ExecuteTime": {
     "end_time": "2021-05-18T08:08:46.239622Z",
     "start_time": "2021-05-18T08:08:46.237776Z"
    }
   },
   "outputs": [],
   "source": [
    "# data_results.to_csv('data_results.csv')"
   ]
  },
  {
   "cell_type": "code",
   "execution_count": null,
   "metadata": {
    "ExecuteTime": {
     "start_time": "2021-05-18T08:08:34.661Z"
    },
    "scrolled": true
   },
   "outputs": [
    {
     "name": "stdout",
     "output_type": "stream",
     "text": [
      "steps : 1000, episode : 0, eps : 1.0\n",
      "Episode: 000, step: 1242, cumul_step: 1243, Reward: -543.7, Reward_cumul: -543.7, eps: 1.0000, avg loss: 0.0360\n",
      "steps : 2000, episode : 1, eps : 1.0\n",
      "steps : 3000, episode : 1, eps : 1.0\n",
      "Episode: 001, step: 2006, cumul_step: 3250, Reward: -903.1, Reward_cumul: -1446.8, eps: 1.0000, avg loss: 0.0016\n",
      "steps : 4000, episode : 2, eps : 1.0\n",
      "Episode: 002, step: 1222, cumul_step: 4473, Reward: -689.5, Reward_cumul: -2136.3, eps: 1.0000, avg loss: 0.0004\n"
     ]
    }
   ],
   "source": [
    "%%time\n",
    "\n",
    "\n",
    "from itertools import product\n",
    "\n",
    "\n",
    "param_agent_simu = {}\n",
    "param_agent_simu = param_agent.copy()\n",
    "param_agent_simu[\"run\"] = 1\n",
    "param_agent_simu[\"double_model\"] = False\n",
    "\n",
    "params = {\n",
    "#     \"alpha_N\" : [1e-1, 1e0],\n",
    "#     \"alpha_psi\" : [1e-2, 1e-1, 1e0]\n",
    "    \"alpha_N\" : [1e0],\n",
    "    \"alpha_psi\" : [1e-2]\n",
    "}\n",
    "combi_params = [dict(zip(params, v)) for v in product(*params.values())]\n",
    "\n",
    "results_best = []\n",
    "\n",
    "data_LSFM_best = pd.DataFrame()\n",
    "\n",
    "for params in combi_params : \n",
    "    \n",
    "    for key, value in params.items():\n",
    "        param_agent_simu[key] = value\n",
    "    \n",
    "    for k in range(param_agent_simu[\"run\"]) : \n",
    "        param_agent_simu[\"reset_LSFM\"] = True\n",
    "        \n",
    "        \n",
    "        \n",
    "        agent = Agent(env, param_agent_simu)\n",
    "        result_compile = simu(env,param_agent_simu,agent) \n",
    "        \n",
    "        data_train_df = pd.DataFrame(result_compile, columns=[ \n",
    "        \"Episode\", \n",
    "        \"Step\", \n",
    "        \"cum_step\",\n",
    "        \"Reward\", \n",
    "        \"Reward_cum\",\n",
    "        \"Eps\",  \n",
    "        \"Avg_loss\" ,  \n",
    "        \"Avg_loss_r\",  \n",
    "        \"Avg_loss_N\",  \n",
    "        \"Avg_loss_psi\"])\n",
    "\n",
    "\n",
    "\n",
    "        data_train_df[\"carac\"] = carac_model(param_agent_simu) \n",
    "        data_train_df[\"param\"] = str(params)    \n",
    "        data_LSFM_best = pd.concat([data_LSFM_best, data_train_df])\n",
    "\n",
    "        eval_step = int(param_agent_simu[\"num_episodes\"] - param_agent_simu[\"num_episodes\"] /10)\n",
    "\n",
    "        \n",
    "        \n",
    "        \n",
    "        \n",
    "        fig, axs = plt.subplots(2, 3,figsize=(15, 10))\n",
    "        plt.figure(figsize=(5, 5))\n",
    "        sns.lineplot(x=\"cum_step\", y=\"Avg_loss\", data=data_train_df, ax = axs[0,0] )\n",
    "        sns.lineplot(x=\"cum_step\", y=\"Avg_loss_r\", data=data_train_df, ax = axs[0,1] )\n",
    "        sns.lineplot(x=\"cum_step\", y=\"Avg_loss_N\", data=data_train_df, ax = axs[0,2] )\n",
    "        sns.lineplot(x=\"cum_step\", y=\"Avg_loss_psi\", data=data_train_df, ax = axs[1,0] )\n",
    "        plt.show()\n",
    "\n",
    "        avg_loss = data_train_df.loc[eval_step:,\"Avg_loss\"].mean()\n",
    "        avg_loss_r = data_train_df.loc[eval_step:,\"Avg_loss_r\"].mean()\n",
    "        avg_loss_N = data_train_df.loc[eval_step:,\"Avg_loss_N\"].mean()\n",
    "        avg_loss_psi = data_train_df.loc[eval_step:,\"Avg_loss_psi\"].mean()\n",
    "\n",
    "        print(\"avg_loss\", avg_loss)\n",
    "        print(\"avg_loss_r\", avg_loss_r)\n",
    "        print(\"avg_loss_N\", avg_loss_N)\n",
    "        print(\"avg_loss_psi\", avg_loss_psi)\n",
    "\n",
    "        results_best.append([avg_loss,avg_loss_r, avg_loss_N,avg_loss_psi , str(params)   ])\n",
    "    \n",
    "\n",
    "results_best\n",
    "\n",
    "agent.model_LSFM.save('./agent_LSFM_model')\n",
    "\n",
    "plt.figure(figsize=(5, 5))\n",
    "sns.lineplot(x=\"cum_step\", y=\"Avg_loss\", data=data_train_df, label=\"Avg_loss\" )\n",
    "sns.lineplot(x=\"cum_step\", y=\"Avg_loss_r\", data=data_train_df, label=\"Avg_loss_r\" )\n",
    "sns.lineplot(x=\"cum_step\", y=\"Avg_loss_N\", data=data_train_df , label=\"Avg_loss_N\")\n",
    "sns.lineplot(x=\"cum_step\", y=\"Avg_loss_psi\", data=data_train_df , label=\"Avg_loss_psi\")\n",
    "plt.legend()\n",
    "plt.show()\n",
    "\n"
   ]
  },
  {
   "cell_type": "markdown",
   "metadata": {},
   "source": [
    "## Q-learning"
   ]
  },
  {
   "cell_type": "markdown",
   "metadata": {},
   "source": [
    "### Linear latent Q-learning \n",
    "\n",
    "\n",
    " Train Q-function on __latent reward-predictive state space__ and on the _optimal policy_ to _maximize the dicounted sum of rewards_"
   ]
  },
  {
   "cell_type": "markdown",
   "metadata": {},
   "source": [
    "#### original environment"
   ]
  },
  {
   "cell_type": "code",
   "execution_count": null,
   "metadata": {
    "ExecuteTime": {
     "start_time": "2021-05-18T08:08:34.666Z"
    },
    "scrolled": true
   },
   "outputs": [],
   "source": [
    "%%time\n",
    "# choice of environement  : \n",
    "environment = env\n",
    "\n",
    "# parameters of simulation : \n",
    "param_agent_simu = {}\n",
    "param_agent_simu = param_agent.copy()\n",
    "\n",
    "param_agent_simu[\"train_LSFM\"] = False\n",
    "param_agent_simu[\"double_model\"] = True\n",
    "param_agent_simu[\"train_on_Q_latent\"] = True\n",
    "param_agent_simu[\"model_Q_Lin\"] = True\n",
    "param_agent_simu[\"run\"] =  5\n",
    "param_agent_simu[\"policy\"][\"eps-greedy\"][\"exponantial\"][\"lambda\"] =  0.0001\n",
    "# param_agent_simu[\"render\"] =  False\n",
    "\n",
    "\n",
    "\n",
    "\n",
    "# load LSFM model : \n",
    "agent = Agent(env, param_agent_simu)\n",
    "agent.model_LSFM = keras.models.load_model('./agent_LSFM_model')\n",
    "\n",
    "# initialisation data\n",
    "data = pd.DataFrame()\n",
    "        \n",
    "# launch experience of simulations\n",
    "data, agent_Q = experience(environment, param_agent_simu, agent)\n",
    "\n",
    "\n"
   ]
  },
  {
   "cell_type": "code",
   "execution_count": null,
   "metadata": {
    "ExecuteTime": {
     "start_time": "2021-05-18T08:08:34.671Z"
    }
   },
   "outputs": [],
   "source": [
    "\n",
    "data_Q_lat_state  = data.copy()\n",
    "data_Q_lat_state"
   ]
  },
  {
   "cell_type": "code",
   "execution_count": null,
   "metadata": {
    "ExecuteTime": {
     "start_time": "2021-05-18T08:08:34.675Z"
    }
   },
   "outputs": [],
   "source": [
    "data_stat, stat_all = plot_stat(data, param_agent_simu , \"Reward_cum\")\n",
    "box_plot(data, param_agent_simu, \"Reward_cum\")"
   ]
  },
  {
   "cell_type": "code",
   "execution_count": null,
   "metadata": {},
   "outputs": [],
   "source": [
    "\n"
   ]
  },
  {
   "cell_type": "markdown",
   "metadata": {},
   "source": [
    "#### change in environment rewards"
   ]
  },
  {
   "cell_type": "markdown",
   "metadata": {},
   "source": [
    "#### a refaire avec [\"lambda\"] =  0.0002"
   ]
  },
  {
   "cell_type": "code",
   "execution_count": null,
   "metadata": {
    "ExecuteTime": {
     "start_time": "2021-05-18T08:08:34.681Z"
    },
    "scrolled": true
   },
   "outputs": [],
   "source": [
    "%%time\n",
    "\n",
    "# choice of environement  : \n",
    "environment = env_change_reward\n",
    "\n",
    "# parameters of simulation : \n",
    "param_agent_simu = {}\n",
    "param_agent_simu = param_agent.copy()\n",
    "\n",
    "param_agent_simu[\"train_LSFM\"] = False\n",
    "param_agent_simu[\"double_model\"] = True\n",
    "param_agent_simu[\"train_on_Q_latent\"] = True\n",
    "param_agent_simu[\"model_Q_Lin\"] = True\n",
    "param_agent_simu[\"run\"] =  5\n",
    "param_agent_simu[\"policy\"][\"eps-greedy\"][\"exponantial\"][\"lambda\"] =  0.0005\n",
    "\n",
    "\n",
    "# load LSFM model : \n",
    "agent = Agent(env, param_agent_simu)\n",
    "agent.model_LSFM = keras.models.load_model('./agent_LSFM_model')\n",
    "\n",
    "# initialisation data\n",
    "data = pd.DataFrame()\n",
    "        \n",
    "# launch experience of simulations\n",
    "data, agent_Q = experience(environment, param_agent_simu, agent)\n",
    "\n",
    "\n"
   ]
  },
  {
   "cell_type": "code",
   "execution_count": null,
   "metadata": {},
   "outputs": [],
   "source": []
  },
  {
   "cell_type": "code",
   "execution_count": null,
   "metadata": {
    "ExecuteTime": {
     "start_time": "2021-05-18T08:08:34.686Z"
    }
   },
   "outputs": [],
   "source": [
    "\n",
    "data_Q_lat_state_change  = data.copy()\n",
    "data_Q_lat_state_change"
   ]
  },
  {
   "cell_type": "code",
   "execution_count": null,
   "metadata": {
    "ExecuteTime": {
     "start_time": "2021-05-18T08:08:34.690Z"
    },
    "scrolled": true
   },
   "outputs": [],
   "source": [
    "# %%time\n",
    "# param_agent_simu = {}\n",
    "# param_agent_simu = param_agent.copy()\n",
    "\n",
    "# param_agent_simu[\"train_LSFM\"] = False\n",
    "# param_agent_simu[\"double_model\"] = True\n",
    "# param_agent_simu[\"train_on_Q_latent\"] = True\n",
    "# param_agent_simu[\"model_Q_Lin\"] = True\n",
    "# param_agent_simu[\"policy\"][\"eps-greedy\"][\"exponantial\"][\"lambda\"]=0.0005\n",
    "\n",
    "# param_agent_simu[\"reset_Q_model\"] =  False\n",
    "# param_agent_simu[\"run\"] =  5\n",
    "\n",
    "# param_agent_simu[\"reset_LSFM\"] =  False\n",
    "\n",
    "# data = pd.DataFrame()\n",
    "\n",
    "# model_Q_copy = None\n",
    "# environment = env_change_reward\n",
    "\n",
    "# for k in range(param_agent_simu[\"run\"]) : \n",
    "#     if model_Q_copy == None: \n",
    "#         agent_Q = Agent_Q(environment, param_agent)\n",
    "#         result_compile = simu(environment,param_agent_simu, agent, agent_Q)\n",
    "#     else : \n",
    "#         agent_Q_simu = Agent_Q(environment, param_agent , modelclone = model_Q_copy)\n",
    "#         result_compile = simu(environment,param_agent_simu, agent, agent_Q_simu)\n",
    "    \n",
    "#     data_train_df = pd.DataFrame(result_compile, columns=[ \n",
    "#     \"Episode\", \n",
    "#     \"Step\", \n",
    "#     \"cum_step\",\n",
    "#     \"Reward\", \n",
    "#     \"Reward_cum\",\n",
    "#     \"Eps\",  \n",
    "#     \"Avg_loss\" ,  \n",
    "#     \"Avg_loss_r\",  \n",
    "#     \"Avg_loss_N\",  \n",
    "#     \"Avg_loss_psi\"])\n",
    "\n",
    "#     data_train_df[\"carac\"] = carac_model(param_agent_simu) \n",
    "#     data_train_df[\"run\"] = k\n",
    "#     data = pd.concat([data, data_train_df])\n",
    "\n",
    "# data_Q_lat_state  = data.copy()\n",
    "    "
   ]
  },
  {
   "cell_type": "code",
   "execution_count": null,
   "metadata": {
    "ExecuteTime": {
     "start_time": "2021-05-18T08:08:34.694Z"
    }
   },
   "outputs": [],
   "source": [
    "data_stat, stat_all = plot_stat(data, param_agent_simu , \"cum_step\")\n",
    "box_plot(data, param_agent_simu, \"cum_step\")"
   ]
  },
  {
   "cell_type": "markdown",
   "metadata": {},
   "source": [
    "### Deep Q-learning  --- original state"
   ]
  },
  {
   "cell_type": "markdown",
   "metadata": {},
   "source": [
    "#### original environment"
   ]
  },
  {
   "cell_type": "code",
   "execution_count": null,
   "metadata": {
    "ExecuteTime": {
     "start_time": "2021-05-18T08:08:34.699Z"
    },
    "scrolled": true
   },
   "outputs": [],
   "source": [
    "%%time\n",
    "\n",
    "# choice of environement  : \n",
    "environment = env\n",
    "\n",
    "# parameters of simulation : \n",
    "\n",
    "param_agent_simu = {}\n",
    "param_agent_simu = param_agent.copy()\n",
    "\n",
    "param_agent_simu[\"train_LSFM\"] = False\n",
    "param_agent_simu[\"double_model\"] = True\n",
    "param_agent_simu[\"train_on_Q_latent\"] = False\n",
    "param_agent_simu[\"model_Q_Lin\"] = False\n",
    "param_agent_simu[\"run\"] =  5\n",
    "param_agent_simu[\"policy\"][\"eps-greedy\"][\"exponantial\"][\"lambda\"] =  0.0001\n",
    "\n",
    "# load LSFM model : \n",
    "# agent = Agent(env, param_agent_simu)\n",
    "# agent.model_LSFM = keras.models.load_model('./agent_LSFM_model')\n",
    "\n",
    "# initialisation data\n",
    "data = pd.DataFrame()\n",
    "        \n",
    "# launch experience of simulations\n",
    "data, agent_Q = experience(environment, param_agent_simu)\n",
    "\n",
    "# save model_Q\n",
    "agent_Q.model.save('./agent_Q_model')\n",
    "\n",
    "\n",
    "\n",
    "\n",
    "\n",
    "\n",
    "\n"
   ]
  },
  {
   "cell_type": "code",
   "execution_count": null,
   "metadata": {},
   "outputs": [],
   "source": []
  },
  {
   "cell_type": "code",
   "execution_count": null,
   "metadata": {
    "ExecuteTime": {
     "end_time": "2021-04-16T08:25:37.218230Z",
     "start_time": "2021-04-16T08:25:26.577Z"
    },
    "scrolled": true
   },
   "outputs": [],
   "source": []
  },
  {
   "cell_type": "code",
   "execution_count": null,
   "metadata": {},
   "outputs": [],
   "source": []
  },
  {
   "cell_type": "code",
   "execution_count": null,
   "metadata": {
    "ExecuteTime": {
     "end_time": "2021-04-16T08:25:37.218928Z",
     "start_time": "2021-04-16T08:25:26.582Z"
    }
   },
   "outputs": [],
   "source": []
  },
  {
   "cell_type": "code",
   "execution_count": null,
   "metadata": {
    "ExecuteTime": {
     "start_time": "2021-05-18T08:08:34.708Z"
    },
    "scrolled": true
   },
   "outputs": [],
   "source": [
    "# %%time\n",
    "\n",
    "# param_agent_simu = param_agent.copy()\n",
    "\n",
    "# param_agent_simu[\"policy\"][\"type\"] = [\"eps-greedy\", \"exponantial\"]\n",
    "# param_agent_simu[\"double_model\"] = True\n",
    "# param_agent_simu[\"train_LSFM\"] = False\n",
    "# param_agent_simu[\"train_on_Q_latent\"] = False\n",
    "# param_agent_simu[\"model_Q_Lin\"] = False\n",
    "# param_agent_simu[\"policy\"][\"eps-greedy\"][\"exponantial\"][\"lambda\"]=0.0005\n",
    "# param_agent_simu[\"run\"] =  5\n",
    "\n",
    "# param_agent_simu[\"reset_Q_model\"] =  False\n",
    "\n",
    "# data = pd.DataFrame()\n",
    "\n",
    "# model_Q_copy = None\n",
    "# environment = env\n",
    "\n",
    "# for k in range(10) : \n",
    "#     if model_Q_copy == None: \n",
    "#         agent_Q = Agent_Q(environment, param_agent)\n",
    "#         result_compile = simu(environment,param_agent_simu, agent, agent_Q)\n",
    "#     else : \n",
    "#         agent_Q_simu = Agent_Q(environment, param_agent , modelclone = model_Q_copy)\n",
    "#         result_compile = simu(environment,param_agent_simu, agent, agent_Q_simu)\n",
    "        \n",
    "#     data_train_df = pd.DataFrame(result_compile, columns=[ \n",
    "#     \"Episode\", \n",
    "#     \"Step\", \n",
    "#     \"cum_step\",\n",
    "#     \"Reward\", \n",
    "#     \"Reward_cum\",\n",
    "#     \"Eps\",  \n",
    "#     \"Avg_loss\" ,  \n",
    "#     \"Avg_loss_r\",  \n",
    "#     \"Avg_loss_N\",  \n",
    "#     \"Avg_loss_psi\"])\n",
    "\n",
    "#     data_train_df[\"carac\"] = carac_model(param_agent_simu) \n",
    "#     data_train_df[\"run\"] = k\n",
    "#     data = pd.concat([data, data_train_df])\n",
    "    \n",
    "    \n",
    "\n",
    "# data_Deep_or_state  = data.copy()\n",
    "    \n",
    "# # fig, axs = plt.subplots(2, 3,figsize=(15, 10))\n",
    "\n",
    "# # sns.lineplot(x=\"cum_step\", y=\"Reward_cum\", data=data_train_df, ax = axs[0,0] )\n",
    "# # sns.lineplot(x=\"cum_step\", y=\"Reward\", data=data_train_df, ax = axs[0,1] )\n",
    "# # sns.lineplot(x=\"cum_step\", y=\"Avg_loss\", data=data_train_df, ax = axs[0,2] )\n",
    "# # sns.lineplot(x=\"cum_step\", y=\"Eps\", data=data_train_df, ax = axs[1,0] )"
   ]
  },
  {
   "cell_type": "code",
   "execution_count": null,
   "metadata": {
    "ExecuteTime": {
     "start_time": "2021-05-18T08:08:34.713Z"
    }
   },
   "outputs": [],
   "source": [
    "\n",
    "data_Deep_or_state  = data.copy()\n",
    "data_Deep_or_state"
   ]
  },
  {
   "cell_type": "code",
   "execution_count": null,
   "metadata": {
    "ExecuteTime": {
     "start_time": "2021-05-18T08:08:34.717Z"
    },
    "scrolled": false
   },
   "outputs": [],
   "source": [
    "data_stat, stat_all = plot_stat(data, param_agent_simu , \"Reward_cum\")\n",
    "box_plot(data, param_agent_simu, \"Reward_cum\")\n"
   ]
  },
  {
   "cell_type": "code",
   "execution_count": null,
   "metadata": {},
   "outputs": [],
   "source": []
  },
  {
   "cell_type": "markdown",
   "metadata": {},
   "source": [
    "#### change in environment rewards"
   ]
  },
  {
   "cell_type": "code",
   "execution_count": null,
   "metadata": {
    "ExecuteTime": {
     "start_time": "2021-05-18T08:08:34.722Z"
    },
    "scrolled": true
   },
   "outputs": [],
   "source": [
    "\n",
    "%%time\n",
    "\n",
    "# choice of environement  : \n",
    "environment = env_change_reward\n",
    "\n",
    "# parameters of simulation : \n",
    "\n",
    "param_agent_simu = {}\n",
    "param_agent_simu = param_agent.copy()\n",
    "\n",
    "param_agent_simu[\"train_LSFM\"] = False\n",
    "param_agent_simu[\"double_model\"] = True\n",
    "param_agent_simu[\"train_on_Q_latent\"] = False\n",
    "param_agent_simu[\"model_Q_Lin\"] = False\n",
    "param_agent_simu[\"run\"] =  2\n",
    "param_agent_simu[\"policy\"][\"eps-greedy\"][\"exponantial\"][\"lambda\"] =  0.0001\n",
    "\n",
    "\n",
    "# load LSFM model : \n",
    "# agent = Agent(env, param_agent_simu)\n",
    "# agent.model_LSFM = keras.models.load_model('./agent_LSFM_model')\n",
    "\n",
    "# initialisation data\n",
    "data = pd.DataFrame()\n",
    "        \n",
    "# launch experience of simulations\n",
    "data, agent_Q = experience(environment, param_agent_simu, save_model = './agent_Q_model')\n",
    "\n",
    "# save model_Q\n",
    "# agent_Q.model.save('./agent_Q_model')\n",
    "\n",
    "\n",
    "\n"
   ]
  },
  {
   "cell_type": "code",
   "execution_count": null,
   "metadata": {
    "ExecuteTime": {
     "start_time": "2021-05-18T08:08:34.725Z"
    }
   },
   "outputs": [],
   "source": [
    "data_Deep_or_state_change  = data.copy()\n",
    "data_Deep_or_state_change"
   ]
  },
  {
   "cell_type": "code",
   "execution_count": null,
   "metadata": {
    "ExecuteTime": {
     "end_time": "2021-04-12T15:30:23.746682Z",
     "start_time": "2021-04-12T15:28:20.682Z"
    }
   },
   "outputs": [],
   "source": []
  },
  {
   "cell_type": "code",
   "execution_count": null,
   "metadata": {
    "ExecuteTime": {
     "start_time": "2021-05-18T08:08:34.730Z"
    }
   },
   "outputs": [],
   "source": [
    "# %%time\n",
    "\n",
    "# param_agent_simu = param_agent.copy()\n",
    "\n",
    "# param_agent_simu[\"policy\"][\"type\"] = [\"eps-greedy\", \"exponantial\"]\n",
    "# param_agent_simu[\"double_model\"] = True\n",
    "# param_agent_simu[\"train_LSFM\"] = False\n",
    "# param_agent_simu[\"train_on_Q_latent\"] = False\n",
    "# param_agent_simu[\"model_Q_Lin\"] = False\n",
    "# param_agent_simu[\"policy\"][\"eps-greedy\"][\"exponantial\"][\"lambda\"]=0.0005\n",
    "# param_agent_simu[\"run\"] =  5\n",
    "\n",
    "# param_agent_simu[\"reset_Q_model\"] =  False\n",
    "\n",
    "# data = pd.DataFrame()\n",
    "\n",
    "# model_Q_copy = agent_Q.model\n",
    "# environment = env_change_reward\n",
    "\n",
    "# for k in range(param_agent_simu[\"run\"]) : \n",
    "#     if model_Q_copy == None: \n",
    "#         agent_Q = Agent_Q(environment, param_agent)\n",
    "#         result_compile = simu(environment,param_agent_simu, agent, agent_Q)\n",
    "#     else : \n",
    "#         agent_Q_simu = Agent_Q(environment, param_agent , modelclone = model_Q_copy)\n",
    "#         result_compile = simu(environment,param_agent_simu, agent, agent_Q_simu)\n",
    "        \n",
    "    \n",
    "#     data_train_df = pd.DataFrame(result_compile, columns=[ \n",
    "#     \"Episode\", \n",
    "#     \"Step\", \n",
    "#     \"cum_step\",\n",
    "#     \"Reward\", \n",
    "#     \"Reward_cum\",\n",
    "#     \"Eps\",  \n",
    "#     \"Avg_loss\" ,  \n",
    "#     \"Avg_loss_r\",  \n",
    "#     \"Avg_loss_N\",  \n",
    "#     \"Avg_loss_psi\"])\n",
    "\n",
    "#     data_train_df[\"carac\"] = carac_model(param_agent_simu) \n",
    "#     data_train_df[\"run\"] = k\n",
    "#     data = pd.concat([data, data_train_df])\n",
    "    \n",
    "    \n",
    "\n",
    "# data_Deep_or_state_change  = data.copy()\n",
    "    \n",
    "# # fig, axs = plt.subplots(2, 3,figsize=(15, 10))\n",
    "\n",
    "# # sns.lineplot(x=\"cum_step\", y=\"Reward_cum\", data=data_train_df, ax = axs[0,0] )\n",
    "# # sns.lineplot(x=\"cum_step\", y=\"Reward\", data=data_train_df, ax = axs[0,1] )\n",
    "# # sns.lineplot(x=\"cum_step\", y=\"Avg_loss\", data=data_train_df, ax = axs[0,2] )\n",
    "# # sns.lineplot(x=\"cum_step\", y=\"Eps\", data=data_train_df, ax = axs[1,0] )"
   ]
  },
  {
   "cell_type": "code",
   "execution_count": null,
   "metadata": {
    "ExecuteTime": {
     "start_time": "2021-05-18T08:08:34.735Z"
    },
    "scrolled": true
   },
   "outputs": [],
   "source": [
    "data_stat, stat_all = plot_stat(data, param_agent_simu , \"cum_step\")\n",
    "box_plot(data, param_agent_simu, \"cum_step\")\n"
   ]
  },
  {
   "cell_type": "code",
   "execution_count": null,
   "metadata": {},
   "outputs": [],
   "source": []
  },
  {
   "cell_type": "markdown",
   "metadata": {},
   "source": [
    "# Clustering"
   ]
  },
  {
   "cell_type": "markdown",
   "metadata": {},
   "source": [
    "## functions clustering"
   ]
  },
  {
   "cell_type": "code",
   "execution_count": null,
   "metadata": {
    "ExecuteTime": {
     "start_time": "2021-05-18T08:08:34.740Z"
    }
   },
   "outputs": [],
   "source": [
    "from sklearn.cluster import KMeans\n",
    "from sklearn.metrics import silhouette_samples, silhouette_score\n",
    "\n",
    "import matplotlib.pyplot as plt\n",
    "import matplotlib.cm as cm\n",
    "import numpy as np\n",
    "from sklearn import manifold\n",
    "\n",
    "def kmeans(XStd, n_clusters, perplexity=None) : \n",
    "\n",
    "    print(__doc__)\n",
    "\n",
    "    best_random_state = 0\n",
    "\n",
    "    fig, (ax1, ax2) = plt.subplots(1, 2)\n",
    "    fig.set_size_inches(18, 7)\n",
    "    ax1.set_xlim([-0.1, 1])\n",
    "    # The (n_clusters+1)*10 is for inserting blank space between silhouette\n",
    "    # plots of individual clusters, to demarcate them clearly.\n",
    "    ax1.set_ylim([0, len(XStd) + (n_clusters + 1) * 10])\n",
    "\n",
    "    # Initialize the clusterer with n_clusters value and a random generator\n",
    "    # seed of 10 for reproducibility.\n",
    "    clusterer = KMeans(n_clusters=n_clusters, random_state=best_random_state)\n",
    "    cluster_labels = clusterer.fit_predict(XStd)\n",
    "\n",
    "    # The silhouette_score gives the average value for all the samples.\n",
    "    # This gives a perspective into the density and separation of the formed\n",
    "    # clusters\n",
    "    silhouette_avg = silhouette_score(XStd, cluster_labels)\n",
    "    print(\"For n_clusters =\", n_clusters,\n",
    "          \"The average silhouette_score is :\", silhouette_avg)\n",
    "\n",
    "    # Compute the silhouette scores for each sample\n",
    "    sample_silhouette_values = silhouette_samples(XStd, cluster_labels)\n",
    "\n",
    "    y_lower = 10\n",
    "    for i in range(n_clusters):\n",
    "        # Aggregate the silhouette scores for samples belonging to\n",
    "        # cluster i, and sort them\n",
    "        ith_cluster_silhouette_values = \\\n",
    "            sample_silhouette_values[cluster_labels == i]\n",
    "\n",
    "        ith_cluster_silhouette_values.sort()\n",
    "\n",
    "        size_cluster_i = ith_cluster_silhouette_values.shape[0]\n",
    "        y_upper = y_lower + size_cluster_i\n",
    "\n",
    "        color = cm.nipy_spectral(float(i) / n_clusters)\n",
    "        ax1.fill_betweenx(np.arange(y_lower, y_upper),\n",
    "                          0, ith_cluster_silhouette_values,\n",
    "                          facecolor=color, edgecolor=color, alpha=0.7)\n",
    "\n",
    "        # Label the silhouette plots with their cluster numbers at the middle\n",
    "        ax1.text(-0.05, y_lower + 0.5 * size_cluster_i, str(i))\n",
    "\n",
    "        # Compute the new y_lower for next plot\n",
    "        y_lower = y_upper + 10  # 10 for the 0 samples\n",
    "\n",
    "    ax1.set_title(\"The silhouette plot for the various clusters.\")\n",
    "    ax1.set_xlabel(\"The silhouette coefficient values\")\n",
    "    ax1.set_ylabel(\"Cluster label\")\n",
    "\n",
    "    # The vertical line for average silhouette score of all the values\n",
    "    ax1.axvline(x=silhouette_avg, color=\"red\", linestyle=\"--\")\n",
    "\n",
    "    ax1.set_yticks([])  # Clear the yaxis labels / ticks\n",
    "    ax1.set_xticks([-0.1, 0, 0.2, 0.4, 0.6, 0.8, 1])\n",
    "\n",
    "    # 2nd Plot showing the actual clusters formed\n",
    "    if perplexity == None : perplexity = 100\n",
    "        \n",
    "    embedding = manifold.TSNE(n_components=2, perplexity=perplexity, init='pca')\n",
    "    # --- Visu 2d\n",
    "    X_transformed = embedding.fit_transform(XStd)\n",
    "\n",
    "    colors = cm.nipy_spectral(cluster_labels.astype(float) / n_clusters)\n",
    "    ax2.scatter(X_transformed[:, 0], X_transformed[:, 1], marker='.', s=30, lw=0, alpha=0.7,\n",
    "                c=colors, edgecolor='k')\n",
    "\n",
    "    # Labeling the clusters\n",
    "    #     centers = clusterer.cluster_centers_\n",
    "    #     centers_transformed = embedding.fit_transform(centers)\n",
    "    # Draw white circles at cluster centers\n",
    "    #     ax2.scatter(centers_transformed[:, 0], centers_transformed[:, 1], marker='o',\n",
    "    #                 c=\"white\", alpha=1, s=200, edgecolor='k')\n",
    "\n",
    "    #     for i, c in enumerate(centers_transformed):\n",
    "    #         ax2.scatter(c[0], c[1], marker='$%d$' % i, alpha=1,\n",
    "    #                     s=50, edgecolor='k')\n",
    "\n",
    "    ax2.set_title(\"The visualization of the clustered data.\")\n",
    "    #     ax2.set_xlabel(\"Feature space for the 1st feature\")\n",
    "    #     ax2.set_ylabel(\"Feature space for the 2nd feature\")\n",
    "\n",
    "    plt.suptitle((\"Silhouette analysis for KMeans clustering on sample data \"\n",
    "                  \"with n_clusters = %d\" % n_clusters),\n",
    "                 fontsize=14, fontweight='bold')\n",
    "\n",
    "    plt.show()\n",
    "    return cluster_labels\n",
    "\n"
   ]
  },
  {
   "cell_type": "code",
   "execution_count": null,
   "metadata": {
    "ExecuteTime": {
     "start_time": "2021-05-18T08:08:34.743Z"
    }
   },
   "outputs": [],
   "source": [
    "from sklearn.metrics import silhouette_samples, silhouette_score\n",
    "from sklearn.cluster import AgglomerativeClustering\n",
    "import matplotlib.pyplot as plt\n",
    "import matplotlib.cm as cm\n",
    "import numpy as np\n",
    "\n",
    "def agglom(XStd, n_clusters, linkage = None, perplexity = None) : \n",
    "    print(__doc__)\n",
    "    linkages = [\"ward\", \"complete\", \"average\", \"single\"]\n",
    "\n",
    "    if linkage !=None : linkages = [linkage]\n",
    "\n",
    "    for linkage in linkages:\n",
    "        # Create a subplot with 1 row and 2 columns\n",
    "        fig, (ax1, ax2) = plt.subplots(1, 2)\n",
    "        fig.set_size_inches(18, 7)\n",
    "\n",
    "        # The 1st subplot is the silhouette plot\n",
    "        # The silhouette coefficient can range from -1, 1 but in this example all\n",
    "        # lie within [-0.1, 1]\n",
    "        ax1.set_xlim([-0.1, 1])\n",
    "\n",
    "        clusterer = AgglomerativeClustering(n_clusters= n_clusters   , linkage=linkage)\n",
    "        cluster_labels = clusterer.fit_predict(XStd)\n",
    "\n",
    "        # The silhouette_score gives the average value for all the samples.\n",
    "        # This gives a perspective into the density and separation of the formed\n",
    "        # clusters\n",
    "        silhouette_avg = silhouette_score(XStd, cluster_labels)\n",
    "        print(\"For linkages =\", linkage,\n",
    "              \"The average silhouette_score is :\", silhouette_avg)\n",
    "\n",
    "        # Compute the silhouette scores for each sample\n",
    "        sample_silhouette_values = silhouette_samples(XStd, cluster_labels)\n",
    "\n",
    "        y_lower = 10\n",
    "        for i in range(len(np.unique(cluster_labels))):\n",
    "            # Aggregate the silhouette scores for samples belonging to\n",
    "            # cluster i, and sort them\n",
    "            ith_cluster_silhouette_values = \\\n",
    "                sample_silhouette_values[cluster_labels == i]\n",
    "\n",
    "            ith_cluster_silhouette_values.sort()\n",
    "\n",
    "            size_cluster_i = ith_cluster_silhouette_values.shape[0]\n",
    "            y_upper = y_lower + size_cluster_i\n",
    "\n",
    "            color = cm.nipy_spectral(float(i) /  len(np.unique(cluster_labels)))\n",
    "            ax1.fill_betweenx(np.arange(y_lower, y_upper),\n",
    "                              0, ith_cluster_silhouette_values,\n",
    "                              facecolor=color, edgecolor=color, alpha=0.7)\n",
    "\n",
    "            # Label the silhouette plots with their cluster numbers at the middle\n",
    "            ax1.text(-0.05, y_lower + 0.5 * size_cluster_i, str(i))\n",
    "\n",
    "            # Compute the new y_lower for next plot\n",
    "            y_lower = y_upper + 10  # 10 for the 0 samples\n",
    "\n",
    "        ax1.set_title(\"The silhouette plot for the various clusters.\")\n",
    "        ax1.set_xlabel(\"The silhouette coefficient values\")\n",
    "        ax1.set_ylabel(\"Cluster label\")\n",
    "\n",
    "        # The vertical line for average silhouette score of all the values\n",
    "        ax1.axvline(x=silhouette_avg, color=\"red\", linestyle=\"--\")\n",
    "\n",
    "        ax1.set_yticks([])  # Clear the yaxis labels / ticks\n",
    "        ax1.set_xticks([-0.1, 0, 0.2, 0.4, 0.6, 0.8, 1])\n",
    "\n",
    "        # 2nd Plot showing the actual clusters formed\n",
    "\n",
    "        if perplexity == None : perplexity = 100\n",
    "        embedding = manifold.TSNE(n_components=2, perplexity=perplexity, init='pca')\n",
    "        # --- Visu 2d\n",
    "        X_transformed = embedding.fit_transform(XStd)\n",
    "\n",
    "        colors = cm.nipy_spectral(cluster_labels.astype(float) /  len(np.unique(cluster_labels)))\n",
    "        ax2.scatter(X_transformed[:, 0], X_transformed[:, 1], marker='.', s=30, lw=0, alpha=0.7,\n",
    "                    c=colors, edgecolor='k')\n",
    "\n",
    "\n",
    "        ax2.set_title(\"The visualization of the clustered data.\")\n",
    "\n",
    "    plt.show()\n",
    "    return cluster_labels"
   ]
  },
  {
   "cell_type": "code",
   "execution_count": null,
   "metadata": {
    "ExecuteTime": {
     "start_time": "2021-05-18T08:08:34.746Z"
    }
   },
   "outputs": [],
   "source": [
    "\n",
    "param_agent_simu = {}\n",
    "param_agent_simu = param_agent.copy()\n",
    "\n",
    "# load LSFM model : \n",
    "agent = Agent(env, param_agent_simu)\n",
    "agent.model_LSFM = keras.models.load_model('./agent_LSFM_model')\n",
    "\n",
    "model = agent.model_LSFM\n",
    "for i in range(len(model.layers)):\n",
    "    print(\"layers name\",i,  model.layers[i].name)\n",
    "    \n",
    "aux_model_LSFM = tf.keras.Model(inputs=model.inputs,\n",
    "           outputs=[model.layers[2].output])\n"
   ]
  },
  {
   "cell_type": "code",
   "execution_count": null,
   "metadata": {
    "ExecuteTime": {
     "start_time": "2021-05-18T08:08:34.749Z"
    }
   },
   "outputs": [],
   "source": [
    "\n",
    "state = env.reset()\n",
    "\n",
    "n = env._state_dim  \n",
    "# param_env[\"grid_size\"]*param_env[\"grid_size\"]\n",
    "\n",
    "states = []\n",
    "for i in range(n) :\n",
    "    state = np.array(keras.utils.to_categorical(i,num_classes=n)).reshape(n)\n",
    "    states.append(state)\n",
    "\n",
    "    \n",
    "states = np.array(states)\n",
    "phi = agent.model_LSFM(states)[\"phi\"]\n",
    "\n",
    "aux_model(states) == phi\n"
   ]
  },
  {
   "cell_type": "code",
   "execution_count": null,
   "metadata": {
    "ExecuteTime": {
     "start_time": "2021-05-18T08:08:34.752Z"
    }
   },
   "outputs": [],
   "source": [
    "# choice of environement  : \n",
    "environment = env\n",
    "\n",
    "# parameters of simulation : \n",
    "\n",
    "param_agent_simu = {}\n",
    "param_agent_simu = param_agent.copy()\n",
    "\n",
    "param_agent_simu[\"train_LSFM\"] = False\n",
    "param_agent_simu[\"double_model\"] = True\n",
    "param_agent_simu[\"train_on_Q_latent\"] = False\n",
    "param_agent_simu[\"model_Q_Lin\"] = False\n",
    "param_agent_simu[\"run\"] =  5\n",
    "param_agent_simu[\"policy\"][\"eps-greedy\"][\"exponantial\"][\"lambda\"] =  0.0002\n",
    "\n",
    "\n",
    "agent_Q_simu = Agent_Q(environment, param = param_agent_simu, save_model = './agent_Q_model') \n",
    "\n",
    "model = agent_Q_simu.model\n",
    "for i in range(len(model.layers)):\n",
    "    print(\"layers name\",i,  model.layers[i].name)\n",
    "    \n",
    "aux_model_Q = tf.keras.Model(inputs=model.inputs,\n",
    "           outputs=[model.layers[0].output])"
   ]
  },
  {
   "cell_type": "code",
   "execution_count": null,
   "metadata": {
    "ExecuteTime": {
     "start_time": "2021-05-18T08:08:34.755Z"
    }
   },
   "outputs": [],
   "source": [
    "states = []\n",
    "for i in range(n) :\n",
    "    state = np.array(keras.utils.to_categorical(i,num_classes=n)).reshape(n)\n",
    "    states.append(state)\n",
    "\n",
    "    \n",
    "states = np.array(states)\n",
    "phi_Q = aux_model_Q(states)\n"
   ]
  },
  {
   "cell_type": "markdown",
   "metadata": {},
   "source": [
    "## LSFM clustering"
   ]
  },
  {
   "cell_type": "code",
   "execution_count": null,
   "metadata": {
    "ExecuteTime": {
     "start_time": "2021-05-18T08:08:34.759Z"
    }
   },
   "outputs": [],
   "source": [
    "# \"ward\", \"complete\", \"average\", \"single\"\n",
    "XStd = phi\n",
    "ncluster = param_agent_simu[\"latent_space\"]\n",
    "\n",
    "cluster_labels = agglom(XStd,ncluster, linkage = \"ward\", perplexity = 15)\n",
    "\n",
    "cluster_labels_tab = cluster_labels.reshape(param_env[\"grid_size\"],param_env[\"grid_size\"])\n",
    "\n",
    "state_dim = env._state_dim  \n",
    "\n",
    "\n",
    "\n",
    "fig, ax = plt.subplots()\n",
    "ax.imshow(cluster_labels_tab)\n",
    "\n",
    "# Minor ticks\n",
    "ax.set_xticks(np.arange(-.5, (state_dim)**0.5 - 1, 1), minor=True)\n",
    "ax.set_yticks(np.arange(-.5, (state_dim)**0.5 - 1, 1), minor=True)\n",
    "\n",
    "# Gridlines based on minor ticks\n",
    "ax.grid(which='both', color='w', linestyle='-', linewidth=1.5)\n",
    "\n",
    "\n",
    "cluster_labels_tab, np.unique(cluster_labels)\n"
   ]
  },
  {
   "cell_type": "markdown",
   "metadata": {},
   "source": [
    "## DQN clustering"
   ]
  },
  {
   "cell_type": "code",
   "execution_count": null,
   "metadata": {
    "ExecuteTime": {
     "start_time": "2021-05-18T08:08:34.763Z"
    },
    "scrolled": false
   },
   "outputs": [],
   "source": [
    "# \"ward\", \"complete\", \"average\", \"single\"\n",
    "XStd = phi_Q\n",
    "ncluster = param_agent_simu[\"latent_space\"]\n",
    "\n",
    "cluster_labels = agglom(XStd,ncluster, linkage = \"ward\", perplexity = 15)\n",
    "\n",
    "cluster_labels_tab = cluster_labels.reshape(param_env[\"grid_size\"],param_env[\"grid_size\"])\n",
    "\n",
    "state_dim = env._state_dim  \n",
    "\n",
    "\n",
    "\n",
    "fig, ax = plt.subplots()\n",
    "ax.imshow(cluster_labels_tab)\n",
    "\n",
    "# Minor ticks\n",
    "ax.set_xticks(np.arange(-.5, (state_dim)**0.5 - 1, 1), minor=True)\n",
    "ax.set_yticks(np.arange(-.5, (state_dim)**0.5 - 1, 1), minor=True)\n",
    "\n",
    "# Gridlines based on minor ticks\n",
    "ax.grid(which='both', color='w', linestyle='-', linewidth=1.5)\n",
    "\n",
    "\n",
    "cluster_labels_tab, np.unique(cluster_labels)"
   ]
  },
  {
   "cell_type": "markdown",
   "metadata": {},
   "source": [
    "# results"
   ]
  },
  {
   "cell_type": "markdown",
   "metadata": {},
   "source": [
    "## compile results"
   ]
  },
  {
   "cell_type": "markdown",
   "metadata": {},
   "source": [
    "### first environment : creation of latent space"
   ]
  },
  {
   "cell_type": "code",
   "execution_count": null,
   "metadata": {
    "ExecuteTime": {
     "start_time": "2021-05-18T08:08:34.767Z"
    }
   },
   "outputs": [],
   "source": [
    "data_concat = pd.concat([data_Q_lat_state,data_Deep_or_state])\n",
    "data_concat   "
   ]
  },
  {
   "cell_type": "code",
   "execution_count": null,
   "metadata": {
    "ExecuteTime": {
     "start_time": "2021-05-18T08:08:34.771Z"
    }
   },
   "outputs": [],
   "source": [
    "col = \"Reward_cum\"\n",
    "hue = \"carac\"\n",
    "\n",
    "data_Q_episode_par_10 = pd.DataFrame()\n",
    "\n",
    "range_k = list(range(0,param_agent_simu[\"num_episodes\"], 20))\n",
    "range_k.append(param_agent_simu[\"num_episodes\"]-1)\n",
    "\n",
    "\n",
    "for k in range_k : \n",
    "    data_Q_episode_par_10 = pd.concat([data_Q_episode_par_10,\n",
    "                                      data_concat.loc[lambda df: df['Episode'] == k]])\n",
    "data_Q_episode_par_10\n",
    "\n",
    "fig, axs = plt.subplots(1, 1,figsize=(5, 5))\n",
    "# sns.boxplot( x=data_Q_episode_par_10[\"Episode\"], y=data_Q_episode_par_10[col] , \n",
    "#             hue=data_Q_episode_par_10[hue], \n",
    "#            saturation=0.7, width=0.5, dodge=True, fliersize=1, linewidth=1., whis=0)\n",
    "sns.scatterplot(data=data_Q_episode_par_10, x=\"Episode\", y=col, hue=hue)\n"
   ]
  },
  {
   "cell_type": "code",
   "execution_count": null,
   "metadata": {
    "ExecuteTime": {
     "start_time": "2021-05-18T08:08:34.774Z"
    }
   },
   "outputs": [],
   "source": [
    "col = \"Step\"\n",
    "hue = \"carac\"\n",
    "\n",
    "data_Q_episode_par_10 = pd.DataFrame()\n",
    "\n",
    "range_k = list(range(0,param_agent_simu[\"num_episodes\"], 20))\n",
    "range_k.append(param_agent_simu[\"num_episodes\"]-1)\n",
    "\n",
    "\n",
    "for k in range_k : \n",
    "    data_Q_episode_par_10 = pd.concat([data_Q_episode_par_10,\n",
    "                                      data_concat.loc[lambda df: df['Episode'] == k]])\n",
    "data_Q_episode_par_10\n",
    "\n",
    "fig, axs = plt.subplots(3, 2,figsize=(12, 15))\n",
    "# sns.boxplot( x=data_Q_episode_par_10[\"Episode\"], y=data_Q_episode_par_10[col] , \n",
    "#             hue=data_Q_episode_par_10[hue], \n",
    "#            saturation=0.7, width=0.5, dodge=True, fliersize=1, linewidth=1., whis=0)\n",
    "sns.scatterplot(data=data_Q_episode_par_10, x=\"Episode\", y=\"Reward_cum\", hue=hue, ax = axs[0,0])\n",
    "sns.scatterplot(data=data_Q_episode_par_10, x=\"Episode\", y=\"Reward\", hue=hue, ax = axs[0,1])\n",
    "sns.scatterplot(data=data_Q_episode_par_10, x=\"Episode\", y=\"cum_step\", hue=hue, ax = axs[1,0])\n",
    "sns.scatterplot(data=data_Q_episode_par_10, x=\"Episode\", y=\"Step\", hue=hue, ax = axs[1,1])\n",
    "sns.scatterplot(data=data_Q_episode_par_10, x=\"Episode\", y=\"Avg_loss\", hue=hue, ax = axs[2,0])\n",
    "sns.scatterplot(data=data_Q_episode_par_10, x=\"Episode\", y=\"Eps\", hue=hue, ax = axs[2,1])\n",
    "# sns.scatterplot(data=data_Q_episode_par_10, x=\"Episode\", y=\"Reward_cum\", hue=hue, ax = axs[0,1])\n",
    "# axs.set(yscale=\"log\")"
   ]
  },
  {
   "cell_type": "markdown",
   "metadata": {},
   "source": [
    "### second environment :  use of previous latent spaces"
   ]
  },
  {
   "cell_type": "code",
   "execution_count": null,
   "metadata": {
    "ExecuteTime": {
     "start_time": "2021-05-18T08:08:34.778Z"
    }
   },
   "outputs": [],
   "source": [
    "data_Q_lat_state_change[\"carac\"] = \"LSFNN\"\n"
   ]
  },
  {
   "cell_type": "code",
   "execution_count": null,
   "metadata": {
    "ExecuteTime": {
     "start_time": "2021-05-18T08:08:34.781Z"
    }
   },
   "outputs": [],
   "source": [
    "data_concat = pd.concat([data_Q_lat_state_change,data_Deep_or_state_change ])\n",
    "data_concat   "
   ]
  },
  {
   "cell_type": "code",
   "execution_count": null,
   "metadata": {},
   "outputs": [],
   "source": []
  },
  {
   "cell_type": "code",
   "execution_count": null,
   "metadata": {
    "ExecuteTime": {
     "start_time": "2021-05-18T08:08:34.786Z"
    },
    "scrolled": false
   },
   "outputs": [],
   "source": [
    "col = \"cum_step\"\n",
    "hue = \"carac\"\n",
    "\n",
    "data_Q_episode_par_10 = pd.DataFrame()\n",
    "\n",
    "range_k = list(range(0,param_agent_simu[\"num_episodes\"], 20))\n",
    "range_k.append(param_agent_simu[\"num_episodes\"]-1)\n",
    "\n",
    "\n",
    "for k in range_k : \n",
    "    data_Q_episode_par_10 = pd.concat([data_Q_episode_par_10,\n",
    "                                      data_concat.loc[lambda df: df['Episode'] == k]])\n",
    "data_Q_episode_par_10\n",
    "\n",
    "fig, axs = plt.subplots(1, 1,figsize=(5, 5))\n",
    "# sns.boxplot( x=data_Q_episode_par_10[\"Episode\"], y=data_Q_episode_par_10[col] , \n",
    "#             hue=data_Q_episode_par_10[hue], \n",
    "#            saturation=0.7, width=0.5, dodge=True, fliersize=1, linewidth=1., whis=0)\n",
    "sns.scatterplot(data=data_Q_episode_par_10, x=\"Episode\", y=col, hue=hue)\n",
    "axs.set(yscale=\"log\")\n"
   ]
  },
  {
   "cell_type": "code",
   "execution_count": null,
   "metadata": {},
   "outputs": [],
   "source": []
  },
  {
   "cell_type": "code",
   "execution_count": null,
   "metadata": {
    "ExecuteTime": {
     "start_time": "2021-05-18T08:08:34.790Z"
    }
   },
   "outputs": [],
   "source": [
    "fig, axs = plt.subplots(2, 3,figsize=(15, 10))\n",
    "\n",
    "sns.lineplot(x=\"cum_step\", y=\"Reward_cum\", data=data_train_df, ax = axs[0,0] )\n",
    "sns.lineplot(x=\"cum_step\", y=\"Reward\", data=data_train_df, ax = axs[0,1] )\n",
    "sns.lineplot(x=\"cum_step\", y=\"Avg_loss\", data=data_train_df, ax = axs[0,2] )\n",
    "sns.lineplot(x=\"cum_step\", y=\"Eps\", data=data_train_df, ax = axs[1,0] )"
   ]
  },
  {
   "cell_type": "code",
   "execution_count": null,
   "metadata": {},
   "outputs": [],
   "source": []
  },
  {
   "cell_type": "markdown",
   "metadata": {},
   "source": [
    "## See results"
   ]
  },
  {
   "cell_type": "code",
   "execution_count": null,
   "metadata": {
    "ExecuteTime": {
     "start_time": "2021-05-18T08:08:34.795Z"
    }
   },
   "outputs": [],
   "source": [
    "# data_Q_or_state.loc[lambda df: df['Episode'] == 0]"
   ]
  },
  {
   "cell_type": "markdown",
   "metadata": {},
   "source": [
    "* Filter_done must be activate even for the learning of the LSFM model"
   ]
  },
  {
   "cell_type": "code",
   "execution_count": null,
   "metadata": {
    "ExecuteTime": {
     "end_time": "2021-04-06T12:32:01.036767Z",
     "start_time": "2021-04-06T12:32:01.033389Z"
    }
   },
   "outputs": [],
   "source": []
  },
  {
   "cell_type": "code",
   "execution_count": null,
   "metadata": {
    "ExecuteTime": {
     "end_time": "2021-04-06T12:32:21.585654Z",
     "start_time": "2021-04-06T12:32:21.378394Z"
    }
   },
   "outputs": [],
   "source": []
  },
  {
   "cell_type": "code",
   "execution_count": null,
   "metadata": {
    "ExecuteTime": {
     "start_time": "2021-05-18T08:08:34.801Z"
    },
    "scrolled": false
   },
   "outputs": [],
   "source": [
    "# param_agent_simu = {}\n",
    "# param_agent_simu = param_agent.copy()\n",
    "# param_agent_simu[\"train_LSFM\"] = False\n",
    "# param_agent_simu[\"train_on_Q_latent\"] = False\n",
    "# param_agent_simu[\"model_Q_Lin\"] = False\n",
    "# param_agent_simu[\"num_episodes\"] = 1\n",
    "# param_agent_simu[\"policy\"][\"type\"] = [\"eps-greedy\", \"constant\"]\n",
    "# param_agent_simu[\"policy\"][\"eps-greedy\"][\"constant\"][\"eps\"]=0.00\n",
    "# param_agent_simu[\"train\"]=False\n",
    "# param_agent_simu[\"render\"]=True\n",
    "# simu(env,param_agent_simu,agent)\n"
   ]
  },
  {
   "cell_type": "code",
   "execution_count": null,
   "metadata": {
    "ExecuteTime": {
     "start_time": "2021-05-18T08:08:34.804Z"
    }
   },
   "outputs": [],
   "source": [
    "\n",
    "# data_see_df = pd.DataFrame(result_compile, columns=[ \"Episode\", \"Step\", \"cum_step\", \"Reward\", \"Reward_cum\", \"Avg_loss\", \"Eps\"])\n",
    "\n",
    "\n",
    "# data_see_df.to_csv('data_see_df.csv', sep='\\t', encoding='utf-8')\n",
    "\n",
    "\n",
    "# import matplotlib.pyplot as plt\n",
    "\n",
    "# fig, axs = plt.subplots(2, 3,figsize=(15, 10))\n",
    "\n",
    "\n",
    "# plt.figure(figsize=(5, 5))\n",
    "# sns.lineplot(x=\"cum_step\", y=\"Reward_cum\", data=data_see_df, ax = axs[0,0] )\n",
    "# sns.lineplot(x=\"cum_step\", y=\"Reward\", data=data_see_df, ax = axs[0,1] )\n",
    "# sns.lineplot(x=\"cum_step\", y=\"Avg_loss\", data=data_see_df, ax = axs[0,2] )\n",
    "# sns.lineplot(x=\"cum_step\", y=\"Eps\", data=data_see_df, ax = axs[1,0] )"
   ]
  },
  {
   "cell_type": "code",
   "execution_count": null,
   "metadata": {
    "ExecuteTime": {
     "start_time": "2021-05-18T08:08:34.808Z"
    }
   },
   "outputs": [],
   "source": [
    "# env.close()"
   ]
  },
  {
   "cell_type": "code",
   "execution_count": null,
   "metadata": {},
   "outputs": [],
   "source": []
  },
  {
   "cell_type": "code",
   "execution_count": null,
   "metadata": {},
   "outputs": [],
   "source": []
  }
 ],
 "metadata": {
  "kernelspec": {
   "display_name": "Python 3",
   "language": "python",
   "name": "python3"
  },
  "language_info": {
   "codemirror_mode": {
    "name": "ipython",
    "version": 3
   },
   "file_extension": ".py",
   "mimetype": "text/x-python",
   "name": "python",
   "nbconvert_exporter": "python",
   "pygments_lexer": "ipython3",
   "version": "3.8.6"
  },
  "toc": {
   "base_numbering": 1,
   "nav_menu": {},
   "number_sections": true,
   "sideBar": true,
   "skip_h1_title": false,
   "title_cell": "Table of Contents",
   "title_sidebar": "Contents",
   "toc_cell": false,
   "toc_position": {
    "height": "calc(100% - 180px)",
    "left": "10px",
    "top": "150px",
    "width": "165px"
   },
   "toc_section_display": true,
   "toc_window_display": true
  },
  "varInspector": {
   "cols": {
    "lenName": 16,
    "lenType": 16,
    "lenVar": 40
   },
   "kernels_config": {
    "python": {
     "delete_cmd_postfix": "",
     "delete_cmd_prefix": "del ",
     "library": "var_list.py",
     "varRefreshCmd": "print(var_dic_list())"
    },
    "r": {
     "delete_cmd_postfix": ") ",
     "delete_cmd_prefix": "rm(",
     "library": "var_list.r",
     "varRefreshCmd": "cat(var_dic_list()) "
    }
   },
   "types_to_exclude": [
    "module",
    "function",
    "builtin_function_or_method",
    "instance",
    "_Feature"
   ],
   "window_display": false
  }
 },
 "nbformat": 4,
 "nbformat_minor": 4
}
