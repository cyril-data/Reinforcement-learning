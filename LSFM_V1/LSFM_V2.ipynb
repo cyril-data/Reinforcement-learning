{
 "cells": [
  {
   "cell_type": "markdown",
   "metadata": {},
   "source": [
    "__Warning__\n",
    "********************************\n",
    "\n",
    "_LSFMs only evaluate SFs for a fixed target policy that selects actions uni-formly at random.  The learned model can then be used to predict the valuefunction of any arbitrary policy, including the optimal policy._\n",
    "\n",
    "_LSFMs do not include a value prediction module_\n",
    "\n",
    "_test different alpha for the loss_ : results : alpha_N = 1.0 / alpha_psi = 0.01\n",
    "\n",
    "*********************************\n",
    "\n",
    "__BUGS__\n",
    "Attention : ne pas faire de _reset_LSFM_ : probleme d'allocation de nouveau tenseur je pense"
   ]
  },
  {
   "cell_type": "markdown",
   "metadata": {},
   "source": [
    "# Environment"
   ]
  },
  {
   "cell_type": "code",
   "execution_count": 1,
   "metadata": {
    "ExecuteTime": {
     "end_time": "2021-04-12T06:31:16.879533Z",
     "start_time": "2021-04-12T06:31:14.408970Z"
    }
   },
   "outputs": [],
   "source": [
    "import gym\n",
    "import tensorflow as tf\n",
    "from tensorflow import keras\n",
    "\n",
    "from tensorflow.keras import layers, Input\n",
    "\n",
    "\n",
    "import random\n",
    "import numpy as np\n",
    "import datetime as dt\n",
    "import math\n",
    "\n",
    "import pandas as pd\n",
    "import seaborn as sns\n",
    "sns.set()\n",
    "\n",
    "\n",
    "import matplotlib.pyplot as plt\n",
    "from gridworld import SimpleGrid\n"
   ]
  },
  {
   "cell_type": "code",
   "execution_count": 2,
   "metadata": {
    "ExecuteTime": {
     "end_time": "2021-04-12T06:31:16.890502Z",
     "start_time": "2021-04-12T06:31:16.880757Z"
    }
   },
   "outputs": [],
   "source": [
    "\n",
    "\n",
    "class custom_env:\n",
    "\n",
    "    def __init__(self, env_name, param={}):\n",
    "        # Initialize atributes\n",
    "        self.env_name = env_name    # name of environment\n",
    "        self.param = param          # dictionarry of environment parameters\n",
    "\n",
    "        if (self.env_name == \"SimpleGrid\"):\n",
    "            self.env = SimpleGrid(self.param[\"grid_size\"],\n",
    "                                  block_pattern=self.param[\"pattern\"],\n",
    "                                  obs_mode=self.param[\"obs_mode\"])\n",
    "\n",
    "            self.state_space = gym.spaces.Discrete(4)\n",
    "            self.env.reset(\n",
    "                agent_pos=self.param[\"agent_pos\"], \n",
    "                goal_pos=self.param[\"goal_pos\"],\n",
    "                reward_pos=self.param[\"reward_pos\"],\n",
    "                reward_minmax = self.param[\"reward_minmax\"],\n",
    "                reward_user_defined = self.param[\"reward_user_defined\"]\n",
    "            )\n",
    "\n",
    "            self.state_type = \"Discrete\"\n",
    "            self.observation_space = gym.spaces.Discrete(\n",
    "                self.param[\"grid_size\"]**2)\n",
    "            \n",
    "            self.action_space = gym.spaces.Discrete(4)\n",
    "            \n",
    "        if (self.env_name.split(\"_\")[0] == \"gym\"):\n",
    "            gym_name = \"_\".join(self.env_name.split(\"_\")[1:])\n",
    "            self.env = gym.make(gym_name)\n",
    "            self.action_space = self.env.action_space\n",
    "            if (type(self.env.observation_space) == gym.spaces.discrete.Discrete):\n",
    "                self.observation_space = self.env.observation_space\n",
    "                self.state_type = \"Discrete\"\n",
    "                                \n",
    "            else:\n",
    "                self.state_type = \"Continue\"\n",
    "\n",
    "        observation = self.reset()\n",
    "        \n",
    "        if self.state_type == \"Discrete\":\n",
    "            self._state_dim = self.observation_space.n\n",
    "        else:\n",
    "            self._state_dim = len(observation)\n",
    "\n",
    "    def reset(self):\n",
    "        \n",
    "        \n",
    "        if self.state_type == \"Discrete\":\n",
    "            if (self.env_name == \"SimpleGrid\"):\n",
    "                self.env.reset(\n",
    "                agent_pos=self.param[\"agent_pos\"], \n",
    "                goal_pos=self.param[\"goal_pos\"],\n",
    "                reward_pos=self.param[\"reward_pos\"] ,\n",
    "                reward_minmax = self.param[\"reward_minmax\"],\n",
    "                reward_user_defined = self.param[\"reward_user_defined\"]\n",
    "                )\n",
    "                n = self.observation_space.n\n",
    "                return_reset = np.array(keras.utils.to_categorical(\n",
    "                    self.env.observation,   \n",
    "                    num_classes=n)).reshape(n)\n",
    "            else : \n",
    "                \n",
    "                state_res = self.env.reset()\n",
    "                \n",
    "                n = self.observation_space.n\n",
    "                return_reset = np.array(keras.utils.to_categorical(\n",
    "                    state_res, \n",
    "                    num_classes=n)).reshape(n)\n",
    "                \n",
    "        else : \n",
    "            return_reset = self.env.reset()\n",
    "        \n",
    "        return return_reset\n",
    "\n",
    "    def step(self, action):\n",
    "        \n",
    "                    \n",
    "        if self.state_type == \"Discrete\":\n",
    "            \n",
    "            if (self.env_name == \"SimpleGrid\"):\n",
    "                reward = self.env.step(action)\n",
    "                done = self.env.done\n",
    "                info = \"\"\n",
    "                n = self.observation_space.n\n",
    "                next_state = np.array(keras.utils.to_categorical(\n",
    "                    self.env.observation, \n",
    "                    num_classes=n)).reshape(n)\n",
    "\n",
    "                return_env = np.array(next_state), reward, done, info\n",
    "            \n",
    "            else :\n",
    "            \n",
    "                next_state, reward, done, info = self.env.step(action)\n",
    "\n",
    "                n = self.observation_space.n\n",
    "                next_state = np.array(keras.utils.to_categorical(\n",
    "                    next_state, \n",
    "                    num_classes=n)).reshape(n)\n",
    "\n",
    "                return_env = np.array(next_state), reward, done, info\n",
    "            \n",
    "        else:\n",
    "            return_env = self.env.step(action)\n",
    "\n",
    "        \n",
    "        return return_env\n",
    "        \n",
    "        \n",
    "    def render(self):\n",
    "        if (self.env_name == \"SimpleGrid\"):\n",
    "#             print(\"self.env.grid\", self.env.grid, self.env.grid.shape)\n",
    "            \n",
    "            fig = plt.figure(figsize=(5, 5))         \n",
    "            plt.imshow(self.env.grid)\n",
    "            plt.show()\n",
    "        if (self.env_name.split(\"_\")[0] == \"gym\"):\n",
    "            self.env.render()\n",
    "\n",
    "        \n",
    "    def close(self):\n",
    "        if (self.env_name.split(\"_\")[0] == \"gym\"):\n",
    "            self.env.close()\n"
   ]
  },
  {
   "cell_type": "markdown",
   "metadata": {},
   "source": [
    "# Agents"
   ]
  },
  {
   "cell_type": "markdown",
   "metadata": {},
   "source": [
    "## LSFM"
   ]
  },
  {
   "cell_type": "code",
   "execution_count": 3,
   "metadata": {
    "ExecuteTime": {
     "end_time": "2021-04-12T06:31:16.921861Z",
     "start_time": "2021-04-12T06:31:16.891890Z"
    }
   },
   "outputs": [],
   "source": [
    "\n",
    "class Agent:\n",
    "    \n",
    "        \n",
    "    def __init__(self, enviroment, param={}):\n",
    "        self.param = param\n",
    "        self._action_size = enviroment.action_space.n\n",
    "        self._state_dim = enviroment._state_dim\n",
    "        self.dim_latent = self.param[\"latent_space\"]\n",
    "        self.batch_size = self.param[\"batch_size\"]\n",
    "        \n",
    "#         LSFM model for construction of a reward-predictive space representation  \n",
    "#         LSFM must be train on policy independant of state\n",
    "        inputs = Input(shape=(self._state_dim,), name=\"input\")\n",
    "        x = layers.Dense(30, activation='relu', name=\"hidden_latent\")(inputs)\n",
    "        layer_latent = layers.Dense(self.dim_latent, activation='relu', name=\"latent\")(x)\n",
    "        layers_ouputs = {}\n",
    "\n",
    "        x = layers.Dense(self.dim_latent * self._action_size,use_bias=False, name = \"Fa\")(layer_latent)\n",
    "        layers_ouputs[\"Fa\"] = layers.Reshape((self._action_size, self.dim_latent))(x)\n",
    "        layers_ouputs[\"ra\"]  = layers.Dense(self._action_size,use_bias=False, name = \"ra\")(layer_latent)\n",
    "\n",
    "        \n",
    "#         layers_ouputs[\"dot_reward\"] = layers.Dense(1, use_bias=False, name=\"dot_layer\")(layer_latent)\n",
    "        layers_ouputs[\"phi\"] = layer_latent    \n",
    "        self.model_LSFM = keras.Model(inputs=inputs, outputs=layers_ouputs, name=\"model_LSFM\")     \n",
    "        self.model_LSFM_prev = keras.models.clone_model(self.model_LSFM)\n",
    "        \n",
    "#         DQN model using the original state space\n",
    "        self.model_DQN = keras.Sequential()\n",
    "        self.model_DQN.add(layers.Dense(30, activation=\"relu\"))\n",
    "        self.model_DQN.add(layers.Dense(self._action_size))\n",
    "        self.model_DQN_prev = keras.models.clone_model(self.model_DQN)\n",
    "        \n",
    "\n",
    "#         DQN model using the latent state space\n",
    "        self.model_DQN_latent = keras.Sequential()\n",
    "        self.model_DQN_latent.add(layers.Dense(30, activation=\"relu\"))\n",
    "        self.model_DQN_latent.add(layers.Dense(self._action_size))\n",
    "        self.model_DQN_latent_prev = keras.models.clone_model(self.model_DQN_latent)\n",
    "        \n",
    "        \n",
    "        \n",
    "#         Linear Q model using the original state space  \n",
    "        self.model_LinQN = keras.Sequential()\n",
    "        self.model_LinQN.add(layers.Dense(self._action_size, use_bias=False))\n",
    "        self.model_LinQN_prev = keras.models.clone_model(self.model_LinQN)\n",
    "        \n",
    "\n",
    "#         Linear model using the latent state space\n",
    "        self.model_LinQN_latent = keras.Sequential()\n",
    "        self.model_LinQN_latent.add(layers.Dense(self._action_size, use_bias=False))\n",
    "        self.model_LinQN_latent_prev = keras.models.clone_model(self.model_LinQN_latent)\n",
    "        \n",
    "        \n",
    "        \n",
    "         # Initialize policy\n",
    "            \n",
    "            \n",
    "        if (self.param[\"policy\"][\"type\"][0] == \"eps-greedy\"):\n",
    "            self.policy = \"eps-greedy\"\n",
    "\n",
    "            if (self.param[\"policy\"][\"type\"][1] == \"exponantial\"):\n",
    "                self.pi_1 = \"exponantial\"\n",
    "\n",
    "                self.epsilon = self.param[\"policy\"][self.policy][self.pi_1][\"eps_max\"]\n",
    "                self.eps_max = self.param[\"policy\"][self.policy][self.pi_1][\"eps_max\"]\n",
    "                self.eps_min = self.param[\"policy\"][self.policy][self.pi_1][\"eps_min\"]\n",
    "                self._lambda = self.param[\"policy\"][self.policy][self.pi_1][\"lambda\"]\n",
    "\n",
    "            if (self.param[\"policy\"][\"type\"][1] == \"constant\"):\n",
    "                self.pi_1 = \"constant\"\n",
    "                self.epsilon = self.param[\"policy\"][self.policy][self.pi_1][\"eps\"]\n",
    "          \n",
    "        \n",
    "        \n",
    "        \n",
    "        \n",
    "        \n",
    "    def reset_optimizer_Q(self):\n",
    "        \n",
    "        self.param[\"optimizer_Q\"] = keras.optimizers.Adam()\n",
    "        \n",
    "    \n",
    "\n",
    "#     def reset_models_LSFM(self):\n",
    "# #         LSFM model for construction of a reward-predictive space representation  \n",
    "# #         LSFM must be train on policy independant of state\n",
    "#         inputs = Input(shape=(self._state_dim,), name=\"input\")\n",
    "#         x = layers.Dense(30, activation='relu', name=\"hidden_latent\")(inputs)\n",
    "#         layer_latent = layers.Dense(self.dim_latent, activation='relu', name=\"latent\")(x)\n",
    "#         layers_ouputs = {}\n",
    "\n",
    "#         x = layers.Dense(self.dim_latent * self._action_size,use_bias=False, name = \"Fa\")(layer_latent)\n",
    "#         layers_ouputs[\"Fa\"] = layers.Reshape((self._action_size, self.dim_latent))(x)\n",
    "#         layers_ouputs[\"ra\"]  = layers.Dense(self._action_size,use_bias=False, name = \"ra\")(layer_latent)\n",
    "\n",
    "        \n",
    "# #         layers_ouputs[\"dot_reward\"] = layers.Dense(1, use_bias=False, name=\"dot_layer\")(layer_latent)\n",
    "#         layers_ouputs[\"phi\"] = layer_latent    \n",
    "#         self.model_LSFM = keras.Model(inputs=inputs, outputs=layers_ouputs, name=\"model_LSFM\")     \n",
    "#         self.model_LSFM_prev = keras.models.clone_model(self.model_LSFM)\n",
    "    \n",
    "#     def reset_optimizer_LSFM(self):\n",
    "#         self.param[\"optimizer_LSFM\"] = keras.optimizers.Adam()\n",
    "        \n",
    "        \n",
    "    \n",
    "    def update_param(self,param ):\n",
    "        \n",
    "        self.param = param\n",
    "        self.dim_latent = self.param[\"latent_space\"]\n",
    "        self.batch_size = self.param[\"batch_size\"]\n",
    "\n",
    "# param_agent_simu[\"policy\"][\"eps-greedy\"][\"constant\"][\"eps\"]=0.      \n",
    "\n",
    "        if (self.param[\"policy\"][\"type\"][0] == \"eps-greedy\"):\n",
    "            self.policy = \"eps-greedy\"\n",
    "\n",
    "            if (self.param[\"policy\"][\"type\"][1] == \"exponantial\"):\n",
    "                self.pi_1 = \"exponantial\"\n",
    "\n",
    "                self.epsilon = self.param[\"policy\"][self.policy][self.pi_1][\"eps_max\"]\n",
    "                self.eps_max = self.param[\"policy\"][self.policy][self.pi_1][\"eps_max\"]\n",
    "                self.eps_min = self.param[\"policy\"][self.policy][self.pi_1][\"eps_min\"]\n",
    "                self._lambda = self.param[\"policy\"][self.policy][self.pi_1][\"lambda\"]\n",
    "\n",
    "            if (self.param[\"policy\"][\"type\"][1] == \"constant\"):\n",
    "                self.pi_1 = \"constant\"\n",
    "                self.epsilon = self.param[\"policy\"][self.policy][self.pi_1][\"eps\"]\n",
    "\n",
    "\n",
    "    def reset_models_Q(self):\n",
    "        \n",
    "#         DQN model using the original state space\n",
    "        self.model_DQN = keras.Sequential()\n",
    "        self.model_DQN.add(layers.Dense(30, activation=\"relu\"))\n",
    "        self.model_DQN.add(layers.Dense(self._action_size))\n",
    "        self.model_DQN_prev = keras.models.clone_model(self.model_DQN)\n",
    "        \n",
    "\n",
    "#         DQN model using the latent state space\n",
    "        self.model_DQN_latent = keras.Sequential()\n",
    "        self.model_DQN_latent.add(layers.Dense(30, activation=\"relu\"))\n",
    "        self.model_DQN_latent.add(layers.Dense(self._action_size))\n",
    "        self.model_DQN_latent_prev = keras.models.clone_model(self.model_DQN_latent)\n",
    "        \n",
    "        \n",
    "        \n",
    "#         Linear Q model using the original state space  \n",
    "        self.model_LinQN = keras.Sequential()\n",
    "        self.model_LinQN.add(layers.Dense(self._action_size, use_bias=False))\n",
    "        self.model_LinQN_prev = keras.models.clone_model(self.model_LinQN)\n",
    "        \n",
    "\n",
    "#         Linear model using the latent state space\n",
    "        self.model_LinQN_latent = keras.Sequential()\n",
    "        self.model_LinQN_latent.add(layers.Dense(self._action_size, use_bias=False))\n",
    "        self.model_LinQN_latent_prev = keras.models.clone_model(self.model_LinQN_latent)\n",
    "        \n",
    "        \n",
    "        \n",
    "    def choose_action(self, state, model_Q, steps, possible_action):\n",
    "        \n",
    "        if (self.policy == \"eps-greedy\"):\n",
    "            if (self.pi_1 == \"exponantial\"):\n",
    "                self.epsilon = self.eps_min + \\\n",
    "                    (self.eps_max - self.eps_min) * \\\n",
    "                    math.exp(-self._lambda * steps)\n",
    "\n",
    "            if random.random() < self.epsilon:\n",
    "                return random.randint(0, self._action_size - 1), self.epsilon\n",
    "            else:\n",
    "                \n",
    "                action_greedy, eps = self.choose_action_greedy(state, model_Q, steps, possible_action)\n",
    "                \n",
    "                return action_greedy, self.epsilon\n",
    "             \n",
    "    def choose_action_random(self):\n",
    "        return random.randint(0, self._action_size - 1), self.epsilon\n",
    "            \n",
    "    def choose_action_greedy(self, state, model_Q , steps, possible_action):\n",
    "\n",
    "        Q_values = model_Q(state.reshape(1, -1))\n",
    "#         print(\"Q_values , a\", Q_values,np.argmax(Q_values) )       \n",
    "        return np.argmax(Q_values), self.epsilon\n",
    "\n",
    "    def get_from_actions( self, states, actions, model, var) : \n",
    "        var_all_a = model(states)[var]\n",
    "        aggr = []\n",
    "        for k in range(var_all_a.shape[0]) : \n",
    "            aggr.append(var_all_a[k, actions[k]])\n",
    "        return tf.convert_to_tensor(aggr)\n",
    "    \n",
    "    \n",
    "    \n",
    "    def target_psi(self, model, states,actions, next_states,terminate,rewards, filter_done, action_space):\n",
    "\n",
    "        psi = model(states)[\"Fa\"]\n",
    "        \n",
    "        psi_prime = model(next_states)[\"Fa\"]\n",
    "        \n",
    "        psi_bar = tf.math.reduce_mean(psi_prime, axis=1 )\n",
    "        \n",
    "        phi = model(states)[\"phi\"] \n",
    "        \n",
    "#         if model_prev is None:\n",
    "#             psi_bar = self.psi_bar(next_states, action_space, model) \n",
    "#         else : \n",
    "#             psi_bar = self.psi_bar_prev(next_states, action_space, model, model_prev         \n",
    "        #  filter_done = True : - we don't take into account terminal states : \n",
    "        #                       - creation of a filter to determine whitch episode of batch is a terminal state\n",
    "        #  filter_done = False : we take into account all states\n",
    "        \n",
    "        if filter_done  : \n",
    "            \n",
    "            gamma_psibar = tf.multiply(self.param[\"gamma\"],psi_bar)\n",
    "            \n",
    "            filter_idxs = tf.dtypes.cast(tf.logical_not(terminate), tf.float32)\n",
    "\n",
    "            filter_expand  = tf.transpose(tf.tile(\n",
    "                tf.reshape(filter_idxs, (1,-1) ), [gamma_psibar.shape[1],1]\n",
    "            ))\n",
    "\n",
    "            gamma_psibar_filter = tf.math.multiply(filter_expand, gamma_psibar)\n",
    "            \n",
    "            y = tf.add(\n",
    "                phi, \n",
    "                gamma_psibar_filter\n",
    "            )\n",
    "            \n",
    "        else : \n",
    "            \n",
    "            y = tf.add(\n",
    "                phi, \n",
    "                tf.multiply(\n",
    "                        self.param[\"gamma\"],\n",
    "                        psi_bar\n",
    "                ) \n",
    "            )\n",
    "            \n",
    "        return y\n",
    "    \n",
    "        \n",
    "\n",
    "    def loss_mse(self,y_pred,y_true) : \n",
    "        return keras.losses.mean_squared_error(y_pred,y_true)\n",
    "            \n",
    "        \n",
    "    def loss_N(self,y_pred) : \n",
    "        vector_ONE = tf.constant(1., shape=y_pred.shape[0], dtype = y_pred.dtype)\n",
    "        loss =    tf.pow(tf.subtract(tf.norm(y_pred, axis=1), vector_ONE ), 2.) \n",
    "        return loss\n",
    "        \n",
    "        \n",
    "\n",
    "#         agent.train_LSFM(\n",
    "#                         model_LSFM, \n",
    "#                         memory, \n",
    "#                         model_LSFM_prev if param_agent[\"double_model\"] else None, \n",
    "#                         param_agent[\"filter_done\"])\n",
    "    \n",
    "    def train_LSFM(self, model, memory, filter_done):\n",
    "        if memory.num_samples < self.batch_size * 3:\n",
    "            return [0,0,0,0]\n",
    "        batch = memory.sample(self.batch_size)\n",
    "        \n",
    "        action_space = np.arange(self._action_size)\n",
    "#        tensor conversion\n",
    "        states = tf.convert_to_tensor(np.array([val[0] for val in batch]))\n",
    "        actions = tf.convert_to_tensor(np.array([val[1] for val in batch]))\n",
    "        rewards = tf.convert_to_tensor(np.array([val[2] for val in batch]).astype(np.float32))\n",
    "        next_states = tf.convert_to_tensor(np.array([(np.zeros(self._state_dim)\n",
    "                                 if val[3] is None else val[3]) for val in batch]))\n",
    "        terminate = tf.convert_to_tensor(np.array([val[4] for val in batch]))\n",
    "\n",
    "        \n",
    "        #         ************* A Calculate Loss on reward and normalisation first  *******************\n",
    "        # 1) calculate the losses \n",
    "            \n",
    "        target_psi = self.target_psi(model, states,actions, next_states,terminate,rewards, filter_done, action_space)\n",
    "        \n",
    "        \n",
    "        alpha_r = self.param[\"alpha_r\"]\n",
    "        alpha_N = self.param[\"alpha_N\"]\n",
    "        alpha_psi = self.param[\"alpha_psi\"]  \n",
    "        \n",
    "        with tf.GradientTape() as tape:\n",
    "            logits_r = self.get_from_actions( states, actions, model, \"ra\")\n",
    "            loss_r =  self.loss_mse(logits_r, rewards )\n",
    "\n",
    "            logits_N = model(states)[\"phi\"]\n",
    "            loss_N =  self.loss_N(logits_N)\n",
    "\n",
    "            logits_psi = self.get_from_actions( states, actions, model, \"Fa\")\n",
    "            loss_psi = self.loss_mse( logits_psi, target_psi )\n",
    "\n",
    "            loss_tot = alpha_r * loss_r + alpha_N * loss_N + alpha_psi * loss_psi\n",
    "        \n",
    "        # 2) : calculate the gradient   \n",
    "        grads = tape.gradient(loss_tot, model.trainable_weights) \n",
    "        \n",
    "#         print(\"grads\", grads)\n",
    "\n",
    "        # 3) : apply the gradient \n",
    "        self.param[\"optimizer_LSFM\"].apply_gradients(zip(grads, model.trainable_weights)) \n",
    "          \n",
    "        #         ****************************************************\n",
    "\n",
    "#         if model_prev is not None:\n",
    "#             # update model_prev parameters slowly from model (primary network) \n",
    "#             for t, e in zip(model_prev.trainable_variables, model.trainable_variables):\n",
    "#                 t.assign(\n",
    "#                     tf.add(\n",
    "#                         tf.multiply(\n",
    "#                             t,(1 - self.param[\"tau\"]) \n",
    "#                         ), \n",
    "#                         tf.multiply(\n",
    "#                             e , self.param[\"tau\"]  \n",
    "#                         )\n",
    "#                     ) \n",
    "#                 )\n",
    "        \n",
    "        return [tf.reduce_mean(loss_tot).numpy(), \n",
    "                tf.reduce_mean(loss_r).numpy(), \n",
    "                tf.reduce_mean(loss_N).numpy(), \n",
    "                tf.reduce_mean(loss_psi).numpy()]\n",
    "\n",
    "    \n",
    "\n",
    "#           ************************************************\n",
    "#           target_Q on latent reward-predictive state space\n",
    "#           ************************************************\n",
    "    def target_Q(self, model_Q, model_Q_prev, states,actions, next_states,terminate,rewards):\n",
    "        \n",
    "        \n",
    "        \n",
    "#       prediction of Q(s,*) and Q(s',*)\n",
    "        prim_qt =  model_Q(states)\n",
    "        prim_qtp1 = model_Q_prev(next_states)\n",
    "        \n",
    "#       creation of a filter to determine whitch episode of batch is a terminal state\n",
    "        filter_idxs = tf.dtypes.cast(tf.logical_not(terminate), tf.float32)\n",
    "        \n",
    "#       recompose id of the batch \n",
    "        batch_idxs = tf.range(self.batch_size)\n",
    "\n",
    "        if model_Q_prev is None:\n",
    "#          updates =  rewards + gamma * max(  Q(s',*)   )\n",
    "#          for s not terminated\n",
    "            updates = tf.add(\n",
    "                rewards ,tf.multiply(\n",
    "                    filter_idxs ,tf.multiply(\n",
    "                        self.param[\"gamma\"], tf.reduce_max(prim_qtp1, axis=1)\n",
    "                    )\n",
    "                ) \n",
    "            )\n",
    "            \n",
    "        else:\n",
    "#          updates =  rewards + gamma * max(  Q^old(s',*))\n",
    "#          for s not terminated\n",
    "\n",
    "            prim_action_tp1 = tf.argmax(prim_qtp1, axis=1)\n",
    "            q_from_target = model_Q_prev(next_states)\n",
    "            indices = np.transpose(np.array([batch_idxs,prim_action_tp1]))\n",
    "            \n",
    "            updates = tf.add(\n",
    "                rewards ,tf.multiply(\n",
    "                    filter_idxs ,tf.multiply(\n",
    "                        self.param[\"gamma\"], tf.gather_nd(q_from_target, indices)\n",
    "                    )\n",
    "                ) \n",
    "            )\n",
    "\n",
    "#       create the target_q / \n",
    "#                           target_q = Q(s,*) \n",
    "#                           target_q[batch_idxs,actions] = updates\n",
    "        indices = np.transpose(np.array([batch_idxs,actions]))\n",
    "        target_q = tf.tensor_scatter_nd_update(prim_qt, indices, updates)\n",
    "                \n",
    "        return target_q\n",
    "#         calculate the loss : prim_qt / target_q\n",
    "\n",
    "\n",
    "#           ***********************************************\n",
    "#           train_Q on latent reward-predictive state space\n",
    "#           ***********************************************\n",
    "    def train_Q(self, model_Q, model_Q_prev, memory, filter_done):\n",
    "        if memory.num_samples < self.batch_size * 3:\n",
    "            return 0\n",
    "        batch = memory.sample(self.batch_size)\n",
    "        \n",
    "#        tensor conversion\n",
    "        states = tf.convert_to_tensor(np.array([val[0] for val in batch]))\n",
    "        actions = tf.convert_to_tensor(np.array([val[1] for val in batch]))\n",
    "        rewards = tf.convert_to_tensor(np.array([val[2] for val in batch]).astype(np.float32))        \n",
    "        next_states = tf.convert_to_tensor(np.array([val[3] for val in batch]))\n",
    "        terminate = tf.convert_to_tensor(np.array([val[4] for val in batch]))\n",
    "\n",
    "\n",
    "        target_Q = self.target_Q(model_Q, \n",
    "            model_Q_prev, \n",
    "            states,\n",
    "            actions, \n",
    "            next_states,\n",
    "            terminate,\n",
    "            rewards)       \n",
    "        \n",
    "        with tf.GradientTape(persistent=True) as tape:\n",
    "            \n",
    "            logits = model_Q(states)\n",
    "            \n",
    "            loss = self.loss_mse(logits, target_Q )\n",
    "        #         *****************************************************\n",
    "\n",
    "        grads = tape.gradient(loss, model_Q.trainable_weights)\n",
    "    \n",
    "        self.param[\"optimizer_Q\"].apply_gradients(zip(grads, model_Q.trainable_weights))            \n",
    "         \n",
    "            \n",
    "        if model_Q_prev is not None:\n",
    "            # update target network parameters slowly from primary network\n",
    "            \n",
    "            for t, e in zip(model_Q_prev.trainable_variables, model_Q.trainable_variables):\n",
    "                t.assign(\n",
    "                    tf.add(\n",
    "                        tf.multiply(\n",
    "                            t,(1 - self.param[\"tau\"]) \n",
    "                        ), \n",
    "                        tf.multiply(\n",
    "                            e , self.param[\"tau\"]  \n",
    "                        )\n",
    "                    ) \n",
    "                )\n",
    "\n",
    "        return tf.reduce_mean(loss).numpy()\n",
    "    \n",
    "        "
   ]
  },
  {
   "cell_type": "markdown",
   "metadata": {},
   "source": [
    "## Qlearning"
   ]
  },
  {
   "cell_type": "code",
   "execution_count": 4,
   "metadata": {
    "ExecuteTime": {
     "end_time": "2021-04-12T06:31:16.943122Z",
     "start_time": "2021-04-12T06:31:16.923681Z"
    }
   },
   "outputs": [],
   "source": [
    "\n",
    "class Agent_Q:\n",
    "    \n",
    "        \n",
    "    def __init__(self, enviroment, param={}):\n",
    "        self.param = param\n",
    "        self._action_size = enviroment.action_space.n\n",
    "        self._state_dim = enviroment._state_dim\n",
    "        self.dim_latent = self.param[\"latent_space\"]\n",
    "        self.batch_size = self.param[\"batch_size\"]\n",
    "        \n",
    "        \n",
    "#         DQN model using the original state space\n",
    "        self.model_DQN = keras.Sequential()\n",
    "        self.model_DQN.add(layers.Dense(30, activation=\"relu\"))\n",
    "        self.model_DQN.add(layers.Dense(self._action_size))\n",
    "        self.model_DQN_prev = keras.models.clone_model(self.model_DQN)\n",
    "        \n",
    "\n",
    "#         DQN model using the latent state space\n",
    "        self.model_DQN_latent = keras.Sequential()\n",
    "        self.model_DQN_latent.add(layers.Dense(30, activation=\"relu\"))\n",
    "        self.model_DQN_latent.add(layers.Dense(self._action_size))\n",
    "        self.model_DQN_latent_prev = keras.models.clone_model(self.model_DQN_latent)\n",
    "        \n",
    "        \n",
    "        \n",
    "#         Linear Q model using the original state space  \n",
    "        self.model_LinQN = keras.Sequential()\n",
    "        self.model_LinQN.add(layers.Dense(self._action_size, use_bias=False))\n",
    "        self.model_LinQN_prev = keras.models.clone_model(self.model_LinQN)\n",
    "        \n",
    "\n",
    "#         Linear model using the latent state space\n",
    "        self.model_LinQN_latent = keras.Sequential()\n",
    "        self.model_LinQN_latent.add(layers.Dense(self._action_size, use_bias=False))\n",
    "        self.model_LinQN_latent_prev = keras.models.clone_model(self.model_LinQN_latent)\n",
    "        \n",
    "        \n",
    "        \n",
    "         # Initialize policy\n",
    "            \n",
    "            \n",
    "        if (self.param[\"policy\"][\"type\"][0] == \"eps-greedy\"):\n",
    "            self.policy = \"eps-greedy\"\n",
    "\n",
    "            if (self.param[\"policy\"][\"type\"][1] == \"exponantial\"):\n",
    "                self.pi_1 = \"exponantial\"\n",
    "\n",
    "                self.epsilon = self.param[\"policy\"][self.policy][self.pi_1][\"eps_max\"]\n",
    "                self.eps_max = self.param[\"policy\"][self.policy][self.pi_1][\"eps_max\"]\n",
    "                self.eps_min = self.param[\"policy\"][self.policy][self.pi_1][\"eps_min\"]\n",
    "                self._lambda = self.param[\"policy\"][self.policy][self.pi_1][\"lambda\"]\n",
    "\n",
    "            if (self.param[\"policy\"][\"type\"][1] == \"constant\"):\n",
    "                self.pi_1 = \"constant\"\n",
    "                self.epsilon = self.param[\"policy\"][self.policy][self.pi_1][\"eps\"]\n",
    "          \n",
    "        \n",
    "        \n",
    "        \n",
    "        \n",
    "        \n",
    "    def reset_optimizer_Q(self):\n",
    "        \n",
    "        self.param[\"optimizer_Q\"] = keras.optimizers.Adam()\n",
    "        \n",
    "    \n",
    "    def update_param(self,param ):\n",
    "        \n",
    "        self.param = param\n",
    "        self.dim_latent = self.param[\"latent_space\"]\n",
    "        self.batch_size = self.param[\"batch_size\"]\n",
    "\n",
    "# param_agent_simu[\"policy\"][\"eps-greedy\"][\"constant\"][\"eps\"]=0.      \n",
    "\n",
    "        if (self.param[\"policy\"][\"type\"][0] == \"eps-greedy\"):\n",
    "            self.policy = \"eps-greedy\"\n",
    "\n",
    "            if (self.param[\"policy\"][\"type\"][1] == \"exponantial\"):\n",
    "                self.pi_1 = \"exponantial\"\n",
    "\n",
    "                self.epsilon = self.param[\"policy\"][self.policy][self.pi_1][\"eps_max\"]\n",
    "                self.eps_max = self.param[\"policy\"][self.policy][self.pi_1][\"eps_max\"]\n",
    "                self.eps_min = self.param[\"policy\"][self.policy][self.pi_1][\"eps_min\"]\n",
    "                self._lambda = self.param[\"policy\"][self.policy][self.pi_1][\"lambda\"]\n",
    "\n",
    "            if (self.param[\"policy\"][\"type\"][1] == \"constant\"):\n",
    "                self.pi_1 = \"constant\"\n",
    "                self.epsilon = self.param[\"policy\"][self.policy][self.pi_1][\"eps\"]\n",
    "\n",
    "\n",
    "    def reset_models_Q(self):\n",
    "        \n",
    "#         DQN model using the original state space\n",
    "        self.model_DQN = keras.Sequential()\n",
    "        self.model_DQN.add(layers.Dense(30, activation=\"relu\"))\n",
    "        self.model_DQN.add(layers.Dense(self._action_size))\n",
    "        self.model_DQN_prev = keras.models.clone_model(self.model_DQN)\n",
    "        \n",
    "\n",
    "#         DQN model using the latent state space\n",
    "        self.model_DQN_latent = keras.Sequential()\n",
    "        self.model_DQN_latent.add(layers.Dense(30, activation=\"relu\"))\n",
    "        self.model_DQN_latent.add(layers.Dense(self._action_size))\n",
    "        self.model_DQN_latent_prev = keras.models.clone_model(self.model_DQN_latent)\n",
    "        \n",
    "        \n",
    "        \n",
    "#         Linear Q model using the original state space  \n",
    "        self.model_LinQN = keras.Sequential()\n",
    "        self.model_LinQN.add(layers.Dense(self._action_size, use_bias=False))\n",
    "        self.model_LinQN_prev = keras.models.clone_model(self.model_LinQN)\n",
    "        \n",
    "\n",
    "#         Linear model using the latent state space\n",
    "        self.model_LinQN_latent = keras.Sequential()\n",
    "        self.model_LinQN_latent.add(layers.Dense(self._action_size, use_bias=False))\n",
    "        self.model_LinQN_latent_prev = keras.models.clone_model(self.model_LinQN_latent)\n",
    "        \n",
    "        \n",
    "        \n",
    "    def choose_action(self, state, model_Q, steps, possible_action):\n",
    "        \n",
    "        if (self.policy == \"eps-greedy\"):\n",
    "            if (self.pi_1 == \"exponantial\"):\n",
    "                self.epsilon = self.eps_min + \\\n",
    "                    (self.eps_max - self.eps_min) * \\\n",
    "                    math.exp(-self._lambda * steps)\n",
    "\n",
    "            if random.random() < self.epsilon:\n",
    "                return random.randint(0, self._action_size - 1), self.epsilon\n",
    "            else:\n",
    "                \n",
    "                action_greedy, eps = self.choose_action_greedy(state, model_Q, steps, possible_action)\n",
    "                \n",
    "                return action_greedy, self.epsilon\n",
    "             \n",
    "    def choose_action_random(self):\n",
    "        return random.randint(0, self._action_size - 1), self.epsilon\n",
    "            \n",
    "    def choose_action_greedy(self, state, model_Q , steps, possible_action):\n",
    "\n",
    "        Q_values = model_Q(state.reshape(1, -1))\n",
    "#         print(\"Q_values , a\", Q_values,np.argmax(Q_values) )       \n",
    "        return np.argmax(Q_values), self.epsilon\n",
    "\n",
    "    def get_from_actions( self, states, actions, model, var) : \n",
    "        var_all_a = model(states)[var]\n",
    "        aggr = []\n",
    "        for k in range(var_all_a.shape[0]) : \n",
    "            aggr.append(var_all_a[k, actions[k]])\n",
    "        return tf.convert_to_tensor(aggr)\n",
    "    \n",
    "    \n",
    "    \n",
    "        \n",
    "\n",
    "    def loss_mse(self,y_pred,y_true) : \n",
    "        return keras.losses.mean_squared_error(y_pred,y_true)\n",
    "            \n",
    "        \n",
    "\n",
    "#           ************************************************\n",
    "#           target_Q on latent reward-predictive state space\n",
    "#           ************************************************\n",
    "    def target_Q(self, model_Q, model_Q_prev, states,actions, next_states,terminate,rewards):\n",
    "        \n",
    "        \n",
    "        \n",
    "#       prediction of Q(s,*) and Q(s',*)\n",
    "        prim_qt =  model_Q(states)\n",
    "        prim_qtp1 = model_Q_prev(next_states)\n",
    "        \n",
    "#       creation of a filter to determine whitch episode of batch is a terminal state\n",
    "        filter_idxs = tf.dtypes.cast(tf.logical_not(terminate), tf.float32)\n",
    "        \n",
    "#       recompose id of the batch \n",
    "        batch_idxs = tf.range(self.batch_size)\n",
    "\n",
    "        if model_Q_prev is None:\n",
    "#          updates =  rewards + gamma * max(  Q(s',*)   )\n",
    "#          for s not terminated\n",
    "            updates = tf.add(\n",
    "                rewards ,tf.multiply(\n",
    "                    filter_idxs ,tf.multiply(\n",
    "                        self.param[\"gamma\"], tf.reduce_max(prim_qtp1, axis=1)\n",
    "                    )\n",
    "                ) \n",
    "            )\n",
    "            \n",
    "        else:\n",
    "#          updates =  rewards + gamma * max(  Q^old(s',*))\n",
    "#          for s not terminated\n",
    "\n",
    "            prim_action_tp1 = tf.argmax(prim_qtp1, axis=1)\n",
    "            q_from_target = model_Q_prev(next_states)\n",
    "            indices = np.transpose(np.array([batch_idxs,prim_action_tp1]))\n",
    "            \n",
    "            updates = tf.add(\n",
    "                rewards ,tf.multiply(\n",
    "                    filter_idxs ,tf.multiply(\n",
    "                        self.param[\"gamma\"], tf.gather_nd(q_from_target, indices)\n",
    "                    )\n",
    "                ) \n",
    "            )\n",
    "\n",
    "#       create the target_q / \n",
    "#                           target_q = Q(s,*) \n",
    "#                           target_q[batch_idxs,actions] = updates\n",
    "        indices = np.transpose(np.array([batch_idxs,actions]))\n",
    "        target_q = tf.tensor_scatter_nd_update(prim_qt, indices, updates)\n",
    "                \n",
    "        return target_q\n",
    "#         calculate the loss : prim_qt / target_q\n",
    "\n",
    "\n",
    "#           ***********************************************\n",
    "#           train_Q on latent reward-predictive state space\n",
    "#           ***********************************************\n",
    "\n",
    "    def train_Q(self, model_Q, model_Q_prev, memory, filter_done):\n",
    "        if memory.num_samples < self.batch_size * 3:\n",
    "            return 0\n",
    "        batch = memory.sample(self.batch_size)\n",
    "        \n",
    "#        tensor conversion\n",
    "        states = tf.convert_to_tensor(np.array([val[0] for val in batch]))\n",
    "        actions = tf.convert_to_tensor(np.array([val[1] for val in batch]))\n",
    "        rewards = tf.convert_to_tensor(np.array([val[2] for val in batch]).astype(np.float32))        \n",
    "        next_states = tf.convert_to_tensor(np.array([val[3] for val in batch]))\n",
    "        terminate = tf.convert_to_tensor(np.array([val[4] for val in batch]))\n",
    "\n",
    "\n",
    "        target_Q = self.target_Q(model_Q, \n",
    "            model_Q_prev, \n",
    "            states,\n",
    "            actions, \n",
    "            next_states,\n",
    "            terminate,\n",
    "            rewards)       \n",
    "        \n",
    "        with tf.GradientTape(persistent=True) as tape:\n",
    "            \n",
    "            logits = model_Q(states)\n",
    "            \n",
    "            loss = self.loss_mse(logits, target_Q )\n",
    "        #         *****************************************************\n",
    "\n",
    "        grads = tape.gradient(loss, model_Q.trainable_weights)\n",
    "    \n",
    "        self.param[\"optimizer_Q\"].apply_gradients(zip(grads, model_Q.trainable_weights))            \n",
    "         \n",
    "            \n",
    "        if model_Q_prev is not None:\n",
    "            # update target network parameters slowly from primary network\n",
    "            \n",
    "            for t, e in zip(model_Q_prev.trainable_variables, model_Q.trainable_variables):\n",
    "                t.assign(\n",
    "                    tf.add(\n",
    "                        tf.multiply(\n",
    "                            t,(1 - self.param[\"tau\"]) \n",
    "                        ), \n",
    "                        tf.multiply(\n",
    "                            e , self.param[\"tau\"]  \n",
    "                        )\n",
    "                    ) \n",
    "                )\n",
    "\n",
    "        return tf.reduce_mean(loss).numpy()\n",
    "    \n",
    "        "
   ]
  },
  {
   "cell_type": "markdown",
   "metadata": {},
   "source": [
    "# Storage"
   ]
  },
  {
   "cell_type": "code",
   "execution_count": 5,
   "metadata": {
    "ExecuteTime": {
     "end_time": "2021-04-12T06:31:16.947894Z",
     "start_time": "2021-04-12T06:31:16.944277Z"
    }
   },
   "outputs": [],
   "source": [
    "\n",
    "class Memory:\n",
    "        \n",
    "    def __init__(self, max_memory):\n",
    "        self._max_memory = max_memory\n",
    "        self._samples = []\n",
    "\n",
    "    def add_sample(self, sample):\n",
    "        self._samples.append(sample)\n",
    "        if len(self._samples) > self._max_memory:\n",
    "            self._samples.pop(0)\n",
    "\n",
    "    def sample(self, no_samples):\n",
    "        if no_samples > len(self._samples):\n",
    "            return random.sample(self._samples, len(self._samples))\n",
    "        else:\n",
    "            return random.sample(self._samples, no_samples)\n",
    "            \n",
    "    def reset(self):\n",
    "        self._samples = []\n",
    "\n",
    "    @property\n",
    "    def num_samples(self):\n",
    "        return len(self._samples)\n"
   ]
  },
  {
   "cell_type": "code",
   "execution_count": null,
   "metadata": {},
   "outputs": [],
   "source": []
  },
  {
   "cell_type": "code",
   "execution_count": null,
   "metadata": {
    "ExecuteTime": {
     "end_time": "2021-03-30T13:53:54.068097Z",
     "start_time": "2021-03-30T13:53:54.064758Z"
    }
   },
   "outputs": [],
   "source": []
  },
  {
   "cell_type": "markdown",
   "metadata": {},
   "source": [
    "# Parameters"
   ]
  },
  {
   "cell_type": "code",
   "execution_count": 6,
   "metadata": {
    "ExecuteTime": {
     "end_time": "2021-04-12T06:31:17.561682Z",
     "start_time": "2021-04-12T06:31:16.949029Z"
    },
    "scrolled": false
   },
   "outputs": [
    {
     "name": "stdout",
     "output_type": "stream",
     "text": [
      "action 1\n",
      " 0 - Up  /  1 - Down  /  2 - Left  / 3 - Right\n",
      "reward 0.0\n",
      "done False\n"
     ]
    },
    {
     "data": {
      "image/png": "[encoded data removed]",
      "text/plain": [
       "<Figure size 360x360 with 1 Axes>"
      ]
     },
     "metadata": {},
     "output_type": "display_data"
    },
    {
     "name": "stdout",
     "output_type": "stream",
     "text": [
      "action 1\n",
      " 0 - Up  /  1 - Down  /  2 - Left  / 3 - Right\n",
      "reward -1.0\n",
      "done False\n"
     ]
    },
    {
     "data": {
      "image/png": "[encoded data removed]",
      "text/plain": [
       "<Figure size 360x360 with 1 Axes>"
      ]
     },
     "metadata": {},
     "output_type": "display_data"
    },
    {
     "name": "stdout",
     "output_type": "stream",
     "text": [
      "action 1\n",
      " 0 - Up  /  1 - Down  /  2 - Left  / 3 - Right\n",
      "reward -1.0\n",
      "done False\n"
     ]
    },
    {
     "data": {
      "image/png": "[encoded data removed]",
      "text/plain": [
       "<Figure size 360x360 with 1 Axes>"
      ]
     },
     "metadata": {},
     "output_type": "display_data"
    },
    {
     "name": "stdout",
     "output_type": "stream",
     "text": [
      "action 1\n",
      " 0 - Up  /  1 - Down  /  2 - Left  / 3 - Right\n",
      "reward 0.0\n",
      "done False\n"
     ]
    },
    {
     "data": {
      "image/png": "[encoded data removed]",
      "text/plain": [
       "<Figure size 360x360 with 1 Axes>"
      ]
     },
     "metadata": {},
     "output_type": "display_data"
    },
    {
     "name": "stdout",
     "output_type": "stream",
     "text": [
      "action 1\n",
      " 0 - Up  /  1 - Down  /  2 - Left  / 3 - Right\n",
      "reward 1.0\n",
      "done True\n"
     ]
    },
    {
     "data": {
      "image/png": "[encoded data removed]",
      "text/plain": [
       "<Figure size 360x360 with 1 Axes>"
      ]
     },
     "metadata": {},
     "output_type": "display_data"
    }
   ],
   "source": [
    "\n",
    "# param_env = {\n",
    "#     \"agent_pos\":[0, 0], \n",
    "#     \"goal_pos\":[[9,0] ],\n",
    "#     \"reward_minmax\":[-1.,1.],\n",
    "#     \"reward_pos\":[[0, 0],[0, 1],[0, 2],[0, 3],[0, 4],[0, 5],[0, 6],[0, 7],[0, 8],[0, 9], \n",
    "#                   [1, 0],[1, 1],[1, 2],[1, 3],[1, 4],[1, 5],[1, 6],[1, 7],[1, 8],[1, 9], \n",
    "#                                                             [2, 6],[2, 7],[2, 8],[2, 9], \n",
    "#                                                             [3, 6],[3, 7],[3, 8],[3, 9], \n",
    "#                                                             [4, 6],[4, 7],[4, 8],[4, 9], \n",
    "#                                                             [5, 6],[5, 7],[5, 8],[5, 9], \n",
    "#                                                             [6, 6],[6, 7],[6, 8],[6, 9], \n",
    "#                                                             [7, 6],[7, 7],[7, 8],[7, 9], \n",
    "#                   [8, 0],[8, 1],[8, 2],[8, 3],[8, 4],[8, 5],[8, 6],[8, 7],[8, 8],[8, 9], \n",
    "#                   [9, 0],[9, 1],[9, 2],[9, 3],[9, 4],[9, 5],[9, 6],[9, 7],[9, 8],[9, 9]],\n",
    "#     \"grid_size\" : 10,\n",
    "#     \"pattern\": \"empty\",\n",
    "# #     \"pattern\":[\"user_defined\", [ [2,0],[2,1],[2,2],[2,3],[2,4],[2,5],\n",
    "# #                                [7,0],[7,1],[7,2],[7,3],[7,4],[7,5]]],\n",
    "#     \"obs_mode\":\"index\",\n",
    "# }\n",
    "\n",
    "param_env = {\n",
    "    \"agent_pos\":[0, 0], \n",
    "    \"goal_pos\":[[5,0] ],\n",
    "    \"reward_minmax\":[-1.,0.],\n",
    "    \"reward_user_defined\":True,\n",
    "    \"reward_pos\":[[0, 0],[0, 1],[0, 2],[0, 3],[0, 4],[0, 5], \n",
    "                  [1, 0],[1, 1],[1, 2],[1, 3],[1, 4],[1, 5], \n",
    "                                              [2, 4],[2, 5], \n",
    "                                              [3, 4],[3, 5], \n",
    "                  [4, 0],[4, 1],[4, 2],[4, 3],[4, 4],[4, 5], \n",
    "                  [5, 0],[5, 1],[5, 2],[5, 3],[5, 4],[5, 5]],\n",
    "    \"grid_size\" : 6,\n",
    "    \"pattern\": \"empty\",\n",
    "    \"obs_mode\":\"index\",\n",
    "}\n",
    "\n",
    "\n",
    "\n",
    "env_name = \"SimpleGrid\"\n",
    "env = custom_env(env_name, param_env)\n",
    "\n",
    "\n",
    "param_agent = {\n",
    "    \"gamma\": 0.90,\n",
    "    \"optimizer_LSFM\": keras.optimizers.Adam(),\n",
    "    \"optimizer_Q\": keras.optimizers.Adam(),\n",
    "    \"alpha_r\" : 1.,\n",
    "    \"alpha_N\" : 0.1,\n",
    "    \"alpha_psi\" : 0.01,\n",
    "    \"policy\": {\n",
    "        \"type\": [\"eps-greedy\", \"exponantial\"],\n",
    "        \"eps-greedy\": {\n",
    "            \"exponantial\": {\n",
    "                \"eps_max\": 1.,\n",
    "                \"eps_min\": 0.01,\n",
    "                \"lambda\": 0.0002\n",
    "            },\n",
    "            \"constant\": {\n",
    "                \"eps\": 0.01\n",
    "            }\n",
    "        }\n",
    "    },\n",
    "    \"memory\" : 500000,\n",
    "    \"latent_space\": 30,\n",
    "    \"num_episodes\" : 100,\n",
    "    \"batch_size\" : 32,\n",
    "    \"RANDOM_REWARD_STD\" : -1.0, \n",
    "    \"double_model\" : True,\n",
    "    \"tau\": 0.08,\n",
    "    \"filter_done\" : True,\n",
    "    \"train_LSFM\" : True,\n",
    "    \"train_on_Q_latent\": True,\n",
    "    \"model_Q_Lin\": True,\n",
    "    \"train\" : True\n",
    "}\n",
    "\n",
    "agent = Agent(env, param_agent)\n",
    "\n",
    "\n",
    "state = env.reset()\n",
    "actions_down = [1,1,1,1,1,1,1,1,1,1,1,1,1,1,1]\n",
    "for i in range(5) : \n",
    "    action = actions_down[i]\n",
    "    next_state, reward, done, info = env.step(action)\n",
    "\n",
    "    print(\"action\", action)\n",
    "    print(\" 0 - Up  /  1 - Down  /  2 - Left  / 3 - Right\")\n",
    "#     print(\"next_state\", next_state)\n",
    "    print(\"reward\", reward)\n",
    "    print(\"done\", done)\n",
    "    env.render()\n",
    "    \n",
    "    state = next_state\n",
    "\n"
   ]
  },
  {
   "cell_type": "code",
   "execution_count": 7,
   "metadata": {
    "ExecuteTime": {
     "end_time": "2021-04-12T06:31:17.565238Z",
     "start_time": "2021-04-12T06:31:17.563516Z"
    }
   },
   "outputs": [],
   "source": [
    "def random_action(env) : \n",
    "    return random.randint(0, env.action_space.n - 1)"
   ]
  },
  {
   "cell_type": "markdown",
   "metadata": {},
   "source": [
    "# models summary"
   ]
  },
  {
   "cell_type": "markdown",
   "metadata": {},
   "source": [
    "## LSFM"
   ]
  },
  {
   "cell_type": "code",
   "execution_count": 8,
   "metadata": {
    "ExecuteTime": {
     "end_time": "2021-04-12T06:31:17.640233Z",
     "start_time": "2021-04-12T06:31:17.566366Z"
    }
   },
   "outputs": [
    {
     "name": "stdout",
     "output_type": "stream",
     "text": [
      "Model: \"model_LSFM\"\n",
      "__________________________________________________________________________________________________\n",
      "Layer (type)                    Output Shape         Param #     Connected to                     \n",
      "==================================================================================================\n",
      "input (InputLayer)              [(None, 36)]         0                                            \n",
      "__________________________________________________________________________________________________\n",
      "hidden_latent (Dense)           (None, 30)           1110        input[0][0]                      \n",
      "__________________________________________________________________________________________________\n",
      "latent (Dense)                  (None, 30)           930         hidden_latent[0][0]              \n",
      "__________________________________________________________________________________________________\n",
      "Fa (Dense)                      (None, 120)          3600        latent[0][0]                     \n",
      "__________________________________________________________________________________________________\n",
      "reshape (Reshape)               (None, 4, 30)        0           Fa[0][0]                         \n",
      "__________________________________________________________________________________________________\n",
      "ra (Dense)                      (None, 4)            120         latent[0][0]                     \n",
      "==================================================================================================\n",
      "Total params: 5,760\n",
      "Trainable params: 5,760\n",
      "Non-trainable params: 0\n",
      "__________________________________________________________________________________________________\n"
     ]
    },
    {
     "data": {
      "image/png": "[encoded data removed]",
      "text/plain": [
       "<IPython.core.display.Image object>"
      ]
     },
     "execution_count": 8,
     "metadata": {},
     "output_type": "execute_result"
    }
   ],
   "source": [
    "agent.model_LSFM.summary()\n",
    "keras.utils.plot_model(agent.model_LSFM, \"my_first_model.png\", show_shapes=True)"
   ]
  },
  {
   "cell_type": "markdown",
   "metadata": {},
   "source": [
    "## Linear QLearning\n",
    "Qlearning on latent space"
   ]
  },
  {
   "cell_type": "code",
   "execution_count": 9,
   "metadata": {
    "ExecuteTime": {
     "end_time": "2021-04-12T06:31:17.758154Z",
     "start_time": "2021-04-12T06:31:17.641390Z"
    }
   },
   "outputs": [
    {
     "name": "stdout",
     "output_type": "stream",
     "text": [
      "Model: \"sequential_4\"\n",
      "_________________________________________________________________\n",
      "Layer (type)                 Output Shape              Param #   \n",
      "=================================================================\n",
      "dense_6 (Dense)              (32, 30)                  1110      \n",
      "_________________________________________________________________\n",
      "dense_7 (Dense)              (32, 4)                   124       \n",
      "=================================================================\n",
      "Total params: 1,234\n",
      "Trainable params: 1,234\n",
      "Non-trainable params: 0\n",
      "_________________________________________________________________\n"
     ]
    },
    {
     "data": {
      "image/png": "[encoded data removed]",
      "text/plain": [
       "<IPython.core.display.Image object>"
      ]
     },
     "execution_count": 9,
     "metadata": {},
     "output_type": "execute_result"
    }
   ],
   "source": [
    "x= np.zeros((param_agent[\"batch_size\"],env._state_dim), dtype=float)\n",
    "\n",
    "agent_Q = Agent_Q(env, param_agent)\n",
    "agent_Q.model_DQN(x)\n",
    "\n",
    "agent_Q.model_DQN.summary()\n",
    "keras.utils.plot_model(agent_Q.model_DQN, \"my_first_model_Q.png\", show_shapes=True)"
   ]
  },
  {
   "cell_type": "code",
   "execution_count": null,
   "metadata": {},
   "outputs": [],
   "source": []
  },
  {
   "cell_type": "code",
   "execution_count": 10,
   "metadata": {
    "ExecuteTime": {
     "end_time": "2021-04-12T06:31:17.824284Z",
     "start_time": "2021-04-12T06:31:17.759719Z"
    }
   },
   "outputs": [
    {
     "name": "stdout",
     "output_type": "stream",
     "text": [
      "Model: \"sequential_5\"\n",
      "_________________________________________________________________\n",
      "Layer (type)                 Output Shape              Param #   \n",
      "=================================================================\n",
      "dense_8 (Dense)              (32, 30)                  930       \n",
      "_________________________________________________________________\n",
      "dense_9 (Dense)              (32, 4)                   124       \n",
      "=================================================================\n",
      "Total params: 1,054\n",
      "Trainable params: 1,054\n",
      "Non-trainable params: 0\n",
      "_________________________________________________________________\n"
     ]
    },
    {
     "data": {
      "image/png": "[encoded data removed]",
      "text/plain": [
       "<IPython.core.display.Image object>"
      ]
     },
     "execution_count": 10,
     "metadata": {},
     "output_type": "execute_result"
    }
   ],
   "source": [
    "x= np.zeros((param_agent[\"batch_size\"], param_agent[\"latent_space\"] ), dtype=float)\n",
    "agent_Q.model_DQN_latent(x)\n",
    "\n",
    "agent_Q.model_DQN_latent.summary()\n",
    "keras.utils.plot_model(agent_Q.model_DQN_latent, \"my_first_model_Q.png\", show_shapes=True)"
   ]
  },
  {
   "cell_type": "code",
   "execution_count": 11,
   "metadata": {
    "ExecuteTime": {
     "end_time": "2021-04-12T06:31:17.888289Z",
     "start_time": "2021-04-12T06:31:17.826160Z"
    }
   },
   "outputs": [
    {
     "name": "stdout",
     "output_type": "stream",
     "text": [
      "Model: \"sequential_6\"\n",
      "_________________________________________________________________\n",
      "Layer (type)                 Output Shape              Param #   \n",
      "=================================================================\n",
      "dense_10 (Dense)             (32, 4)                   144       \n",
      "=================================================================\n",
      "Total params: 144\n",
      "Trainable params: 144\n",
      "Non-trainable params: 0\n",
      "_________________________________________________________________\n"
     ]
    },
    {
     "data": {
      "image/png": "[encoded data removed]",
      "text/plain": [
       "<IPython.core.display.Image object>"
      ]
     },
     "execution_count": 11,
     "metadata": {},
     "output_type": "execute_result"
    }
   ],
   "source": [
    "x= np.zeros((param_agent[\"batch_size\"],env._state_dim), dtype=float)\n",
    "agent_Q.model_LinQN(x)\n",
    "\n",
    "agent_Q.model_LinQN.summary()\n",
    "keras.utils.plot_model(agent_Q.model_LinQN, \"my_first_model_QN.png\", show_shapes=True)"
   ]
  },
  {
   "cell_type": "code",
   "execution_count": 12,
   "metadata": {
    "ExecuteTime": {
     "end_time": "2021-04-12T06:31:17.939278Z",
     "start_time": "2021-04-12T06:31:17.889550Z"
    }
   },
   "outputs": [
    {
     "name": "stdout",
     "output_type": "stream",
     "text": [
      "Model: \"sequential_6\"\n",
      "_________________________________________________________________\n",
      "Layer (type)                 Output Shape              Param #   \n",
      "=================================================================\n",
      "dense_10 (Dense)             (32, 4)                   144       \n",
      "=================================================================\n",
      "Total params: 144\n",
      "Trainable params: 144\n",
      "Non-trainable params: 0\n",
      "_________________________________________________________________\n"
     ]
    },
    {
     "data": {
      "image/png": "[encoded data removed]",
      "text/plain": [
       "<IPython.core.display.Image object>"
      ]
     },
     "execution_count": 12,
     "metadata": {},
     "output_type": "execute_result"
    }
   ],
   "source": [
    "x= np.zeros((param_agent[\"batch_size\"],env._state_dim), dtype=float)\n",
    "agent_Q.model_LinQN(x)\n",
    "\n",
    "agent_Q.model_LinQN.summary()\n",
    "keras.utils.plot_model(agent_Q.model_LinQN, \"my_first_model_QN.png\", show_shapes=True)"
   ]
  },
  {
   "cell_type": "code",
   "execution_count": null,
   "metadata": {},
   "outputs": [],
   "source": []
  },
  {
   "cell_type": "markdown",
   "metadata": {},
   "source": [
    "# test "
   ]
  },
  {
   "cell_type": "code",
   "execution_count": 13,
   "metadata": {
    "ExecuteTime": {
     "end_time": "2021-04-12T06:31:17.945519Z",
     "start_time": "2021-04-12T06:31:17.940560Z"
    }
   },
   "outputs": [],
   "source": [
    "states_double = np.array([[0., 0., 0., 0., 0., 0., 1., 0., 0., 0., 0., 0., 0., 0., 0., 0.,\n",
    "        0., 0., 0., 0., 0., 0., 0., 0., 0., 0., 0., 0., 0., 0., 0., 0.,\n",
    "        0., 0., 0., 0.], \n",
    "                  [0., 0., 0., 0., 0., 0., 0., 0., 0., 0., 0., 0., 0., 0., 0., 0.,\n",
    "        0., 0., 0., 0., 0., 0., 0., 0., 0., 0., 0., 0., 1., 0., 0., 0.,\n",
    "        0., 0., 0., 0.]])\n",
    "actions_double = np.array([0,1])\n",
    "\n",
    "states = np.array([[0., 0., 0., 0., 0., 0., 1., 0., 0., 0., 0., 0., 0., 0., 0., 0.,\n",
    "        0., 0., 0., 0., 0., 0., 0., 0., 0., 0., 0., 0., 0., 0., 0., 0.,\n",
    "        0., 0., 0., 0.]])\n",
    "actions = np.array([0])\n",
    "\n",
    "states_2 = np.array([ \n",
    "                  [0., 0., 0., 0., 0., 0., 0., 0., 0., 0., 0., 0., 0., 0., 0., 0.,\n",
    "        0., 0., 0., 0., 0., 0., 0., 0., 0., 0., 0., 0., 1., 0., 0., 0.,\n",
    "        0., 0., 0., 0.]])\n",
    "actions_2 = np.array([1])\n",
    "\n",
    "\n",
    "# phi = agent.phi(states, agent.model_LSFM)\n",
    "# phi"
   ]
  },
  {
   "cell_type": "markdown",
   "metadata": {},
   "source": [
    "## reward "
   ]
  },
  {
   "cell_type": "code",
   "execution_count": 14,
   "metadata": {
    "ExecuteTime": {
     "end_time": "2021-04-12T06:31:17.956232Z",
     "start_time": "2021-04-12T06:31:17.946774Z"
    }
   },
   "outputs": [
    {
     "data": {
      "text/plain": [
       "TensorShape([2, 30])"
      ]
     },
     "execution_count": 14,
     "metadata": {},
     "output_type": "execute_result"
    }
   ],
   "source": [
    "phi = agent.model_LSFM(states_double)[\"phi\"]\n",
    "phi.shape"
   ]
  },
  {
   "cell_type": "code",
   "execution_count": 15,
   "metadata": {
    "ExecuteTime": {
     "end_time": "2021-04-12T06:31:17.960776Z",
     "start_time": "2021-04-12T06:31:17.957367Z"
    }
   },
   "outputs": [
    {
     "data": {
      "text/plain": [
       "TensorShape([30, 4])"
      ]
     },
     "execution_count": 15,
     "metadata": {},
     "output_type": "execute_result"
    }
   ],
   "source": [
    "for idl, layer in enumerate(agent.model_LSFM.layers):\n",
    "    name_a = \"ra\"\n",
    "    if layer.name == name_a : \n",
    "        wa = layer.weights[0]\n",
    "#         wa = tf.transpose(wa_transpose)\n",
    "\n",
    "wa.shape"
   ]
  },
  {
   "cell_type": "code",
   "execution_count": 16,
   "metadata": {
    "ExecuteTime": {
     "end_time": "2021-04-12T06:31:17.964566Z",
     "start_time": "2021-04-12T06:31:17.961632Z"
    }
   },
   "outputs": [
    {
     "data": {
      "text/plain": [
       "<tf.Tensor: shape=(2, 4), dtype=float32, numpy=\n",
       "array([[-0.00161126,  0.02376727, -0.06600967,  0.07853752],\n",
       "       [ 0.12521604, -0.1413795 , -0.08119919,  0.10340405]],\n",
       "      dtype=float32)>"
      ]
     },
     "execution_count": 16,
     "metadata": {},
     "output_type": "execute_result"
    }
   ],
   "source": [
    "tf.matmul( phi , wa   )"
   ]
  },
  {
   "cell_type": "code",
   "execution_count": 17,
   "metadata": {
    "ExecuteTime": {
     "end_time": "2021-04-12T06:31:17.970654Z",
     "start_time": "2021-04-12T06:31:17.965434Z"
    }
   },
   "outputs": [
    {
     "data": {
      "text/plain": [
       "<tf.Tensor: shape=(2, 4), dtype=bool, numpy=\n",
       "array([[ True,  True,  True,  True],\n",
       "       [ True,  True,  True,  True]])>"
      ]
     },
     "execution_count": 17,
     "metadata": {},
     "output_type": "execute_result"
    }
   ],
   "source": [
    "agent.model_LSFM(states_double)[\"ra\"] == tf.matmul( phi , wa   )"
   ]
  },
  {
   "cell_type": "markdown",
   "metadata": {},
   "source": [
    "## psi_bar\n"
   ]
  },
  {
   "cell_type": "code",
   "execution_count": 18,
   "metadata": {
    "ExecuteTime": {
     "end_time": "2021-04-12T06:31:17.974608Z",
     "start_time": "2021-04-12T06:31:17.971785Z"
    }
   },
   "outputs": [
    {
     "data": {
      "text/plain": [
       "TensorShape([30, 120])"
      ]
     },
     "execution_count": 18,
     "metadata": {},
     "output_type": "execute_result"
    }
   ],
   "source": [
    "for idl, layer in enumerate(agent.model_LSFM.layers):\n",
    "    name_a = \"Fa\"\n",
    "    if layer.name == name_a :         \n",
    "        Fa = layer.weights[0]\n",
    "\n",
    "Fa.shape\n"
   ]
  },
  {
   "cell_type": "code",
   "execution_count": 19,
   "metadata": {
    "ExecuteTime": {
     "end_time": "2021-04-12T06:31:17.977927Z",
     "start_time": "2021-04-12T06:31:17.975406Z"
    }
   },
   "outputs": [
    {
     "data": {
      "text/plain": [
       "TensorShape([30, 4, 30])"
      ]
     },
     "execution_count": 19,
     "metadata": {},
     "output_type": "execute_result"
    }
   ],
   "source": [
    "Fa_reshape = tf.reshape(Fa, (Fa.shape[0],4,Fa.shape[0]))\n",
    "Fa_reshape.shape"
   ]
  },
  {
   "cell_type": "code",
   "execution_count": 20,
   "metadata": {
    "ExecuteTime": {
     "end_time": "2021-04-12T06:31:17.982423Z",
     "start_time": "2021-04-12T06:31:17.978826Z"
    }
   },
   "outputs": [
    {
     "data": {
      "text/plain": [
       "TensorShape([2, 30])"
      ]
     },
     "execution_count": 20,
     "metadata": {},
     "output_type": "execute_result"
    }
   ],
   "source": [
    "phi = agent.model_LSFM(states_double)[\"phi\"]\n",
    "phi.shape"
   ]
  },
  {
   "cell_type": "code",
   "execution_count": 21,
   "metadata": {
    "ExecuteTime": {
     "end_time": "2021-04-12T06:31:17.995079Z",
     "start_time": "2021-04-12T06:31:17.983223Z"
    }
   },
   "outputs": [
    {
     "data": {
      "text/plain": [
       "<tf.Tensor: shape=(2, 30), dtype=float32, numpy=\n",
       "array([[3.25962879e-09, 5.35004041e-09, 3.72529008e-09, 4.36828973e-09,\n",
       "        4.26785585e-09, 1.49084356e-09, 1.05367111e-08, 1.31708888e-09,\n",
       "        7.90253374e-09, 3.83994125e-09, 1.04125031e-09, 3.90295263e-09,\n",
       "        3.60699670e-09, 2.67502021e-09, 4.92809571e-09, 3.22619598e-09,\n",
       "        3.75428089e-09, 4.56252991e-09, 3.35793082e-09, 7.48325046e-09,\n",
       "        3.35793082e-09, 5.89020122e-09, 4.60981120e-09, 4.26785585e-09,\n",
       "        4.56252991e-09, 4.56252991e-09, 2.63417776e-09, 7.69398678e-09,\n",
       "        7.56609975e-09, 5.26835553e-09],\n",
       "       [7.67988251e-09, 8.78607942e-09, 9.12505982e-09, 3.07759471e-08,\n",
       "        1.17804024e-08, 1.05367111e-08, 9.12505982e-09, 7.45058015e-09,\n",
       "        1.20713199e-08, 3.07759471e-08, 7.95722244e-09, 8.53571169e-09,\n",
       "        7.67988251e-09, 8.33000247e-09, 9.49766221e-09, 5.01532549e-09,\n",
       "        1.31708888e-09, 2.71205192e-08, 6.24750207e-09, 1.53879736e-08,\n",
       "        1.26330741e-08, 5.77870418e-09, 9.31322575e-09, 1.76951271e-08,\n",
       "        1.19267485e-08, 8.53571169e-09, 1.07000817e-08, 1.45477239e-08,\n",
       "        5.26835597e-09, 1.02445483e-08]], dtype=float32)>"
      ]
     },
     "execution_count": 21,
     "metadata": {},
     "output_type": "execute_result"
    }
   ],
   "source": [
    "psi_batch = []\n",
    "\n",
    "for b in range(2) : \n",
    "    phi_unique = tf.reshape(phi[b,:], (1,30))\n",
    "    psi_unique = []\n",
    "    for a in range(4) : \n",
    "        res = tf.matmul( phi_unique,Fa_reshape[:,a])\n",
    "        res_reshape = tf.reshape(res, (30))\n",
    "        psi_unique.append(res_reshape)\n",
    "    psi_batch.append(psi_unique)\n",
    "psi_scratch = tf.convert_to_tensor(psi_batch)\n",
    "\n",
    "tf.norm(agent.model_LSFM(states_double)[\"Fa\"]- psi_scratch, axis = 1)"
   ]
  },
  {
   "cell_type": "code",
   "execution_count": null,
   "metadata": {
    "ExecuteTime": {
     "end_time": "2021-04-02T11:35:38.607337Z",
     "start_time": "2021-04-02T11:35:38.447291Z"
    }
   },
   "outputs": [],
   "source": []
  },
  {
   "cell_type": "markdown",
   "metadata": {},
   "source": [
    "## Fa_bar"
   ]
  },
  {
   "cell_type": "code",
   "execution_count": 22,
   "metadata": {
    "ExecuteTime": {
     "end_time": "2021-04-12T06:31:18.008134Z",
     "start_time": "2021-04-12T06:31:17.997533Z"
    }
   },
   "outputs": [
    {
     "data": {
      "text/plain": [
       "<tf.Tensor: shape=(30,), dtype=float32, numpy=\n",
       "array([3.8399413e-09, 2.0825006e-09, 7.4651183e-09, 8.3948271e-10,\n",
       "       0.0000000e+00, 2.0825006e-09, 1.8626450e-09, 5.2683555e-09,\n",
       "       5.4304965e-09, 1.8626450e-09, 0.0000000e+00, 2.5076627e-09,\n",
       "       3.7542809e-09, 1.8626450e-09, 1.4725503e-09, 3.8399413e-09,\n",
       "       1.8626450e-09, 4.1650012e-09, 8.3300025e-09, 4.0057695e-09,\n",
       "       3.9786112e-09, 3.3579308e-09, 1.8626450e-09, 4.1650012e-09,\n",
       "       0.0000000e+00, 5.6650142e-09, 5.8902012e-09, 3.7252903e-09,\n",
       "       3.3579313e-09, 8.3300025e-09], dtype=float32)>"
      ]
     },
     "execution_count": 22,
     "metadata": {},
     "output_type": "execute_result"
    }
   ],
   "source": [
    "Fa_bar = tf.math.reduce_mean(    Fa_reshape, axis=1 )\n",
    "Fa_bar[:,:] == (Fa_reshape[:,0,:] + Fa_reshape[:,1,:] +Fa_reshape[:,2,:] +Fa_reshape[:,3,:] ) / 4\n",
    " \n",
    "psi = agent.model_LSFM(states_double)[\"Fa\"]\n",
    "\n",
    "psi_bar = tf.math.reduce_mean(    psi, axis=1 )\n",
    "psi_bar_scratch = tf.matmul( phi,Fa_bar)\n",
    "\n",
    "tf.norm(psi_bar - psi_bar_scratch, axis = 0)\n",
    "# Fa_reshape.mean()"
   ]
  },
  {
   "cell_type": "markdown",
   "metadata": {},
   "source": [
    "## filter "
   ]
  },
  {
   "cell_type": "code",
   "execution_count": 23,
   "metadata": {
    "ExecuteTime": {
     "end_time": "2021-04-12T06:31:18.021410Z",
     "start_time": "2021-04-12T06:31:18.010431Z"
    }
   },
   "outputs": [
    {
     "data": {
      "text/plain": [
       "<tf.Tensor: shape=(2, 30), dtype=float32, numpy=\n",
       "array([[ 0.        ,  0.        ,  0.        ,  0.        ,  0.        ,\n",
       "         0.        ,  0.        , -0.        ,  0.        ,  0.        ,\n",
       "        -0.        , -0.        , -0.        , -0.        , -0.        ,\n",
       "         0.        ,  0.        ,  0.        , -0.        , -0.        ,\n",
       "        -0.        , -0.        ,  0.        ,  0.        , -0.        ,\n",
       "         0.        , -0.        , -0.        , -0.        ,  0.        ],\n",
       "       [ 0.01804004,  0.00043806,  0.02211758, -0.00613722, -0.0232616 ,\n",
       "        -0.01645597,  0.0254419 , -0.0295538 , -0.00486518,  0.04054248,\n",
       "        -0.019366  , -0.00098363,  0.01799057, -0.0216305 ,  0.00436319,\n",
       "         0.0086106 ,  0.00331489,  0.0266325 , -0.03680964, -0.00647969,\n",
       "         0.00719629, -0.00904442,  0.02155369,  0.01533739,  0.02282221,\n",
       "        -0.00659893, -0.02662829, -0.04255011,  0.01158944,  0.03569445]],\n",
       "      dtype=float32)>"
      ]
     },
     "execution_count": 23,
     "metadata": {},
     "output_type": "execute_result"
    }
   ],
   "source": [
    "\n",
    "\n",
    "terminate = [ True,  False]\n",
    "\n",
    "filter_idxs = tf.dtypes.cast(tf.logical_not(terminate), tf.float32)\n",
    "\n",
    "\n",
    "gamma = 0.9\n",
    "gamma_psibar = tf.multiply(gamma,psi_bar)\n",
    "\n",
    "filter_expand  = tf.transpose(tf.tile(\n",
    "    tf.reshape(filter_idxs, (1,-1) ), [gamma_psibar.shape[1],1]\n",
    "))\n",
    "\n",
    "\n",
    "tf.math.multiply(filter_expand, gamma_psibar)\n",
    "\n",
    "# tf.matmul( gamma_psibar,filter_expand)\n",
    "\n"
   ]
  },
  {
   "cell_type": "markdown",
   "metadata": {},
   "source": [
    "# Train"
   ]
  },
  {
   "cell_type": "code",
   "execution_count": 24,
   "metadata": {
    "ExecuteTime": {
     "end_time": "2021-04-12T06:31:18.024647Z",
     "start_time": "2021-04-12T06:31:18.022515Z"
    }
   },
   "outputs": [
    {
     "name": "stdout",
     "output_type": "stream",
     "text": [
      "steps : 0, episode : 1\n"
     ]
    }
   ],
   "source": [
    "print(\"steps : {}, episode : {}\".format(0, 1))"
   ]
  },
  {
   "cell_type": "code",
   "execution_count": 25,
   "metadata": {
    "ExecuteTime": {
     "end_time": "2021-04-12T06:31:18.037874Z",
     "start_time": "2021-04-12T06:31:18.025848Z"
    }
   },
   "outputs": [],
   "source": [
    "def simu(env,param_agent,agent_LSFM, agent_Q = None) : \n",
    "    result_compile = []\n",
    "\n",
    "    steps = 0\n",
    "    render = param_agent[\"render\"]\n",
    "\n",
    "    reward_cumul = 0\n",
    "\n",
    "    action_space = np.arange(env.action_space.n)\n",
    "    possible_action = action_space\n",
    "\n",
    "    \n",
    "    memory = Memory(param_agent[\"memory\"])\n",
    "    memory_latent = Memory(param_agent[\"memory\"])\n",
    "\n",
    "    \n",
    "    avg_loss = 0\n",
    "    avg_loss_r  = 0\n",
    "    avg_loss_N  = 0\n",
    "    avg_loss_psi  = 0\n",
    "    \n",
    "    model_LSFM = agent_LSFM.model_LSFM\n",
    "#     model_LSFM_prev= agent_LSFM.model_LSFM_prev\n",
    "    if param_agent[\"train_LSFM\"] == False : \n",
    "        if param_agent[\"train_on_Q_latent\"] : \n",
    "            if param_agent[\"model_Q_Lin\"] : \n",
    "                model_Q = agent_Q.model_LinQN_latent\n",
    "                model_Q_prev = agent_Q.model_LinQN_latent_prev\n",
    "                \n",
    "                print(\"model Q is model_LinQN_latent_prev\")\n",
    "            else : \n",
    "                model_Q = agent_Q.model_DQN_latent\n",
    "                model_Q_prev = agent_Q.model_DQN_latent_prev\n",
    "                \n",
    "                \n",
    "                print(\"model Q is model_DQN_latent_prev\")\n",
    "        else : \n",
    "            if param_agent[\"model_Q_Lin\"] : \n",
    "                model_Q = agent_Q.model_LinQN\n",
    "                model_Q_prev = agent_Q.model_LinQN_prev\n",
    "                \n",
    "                print(\"model Q is model_LinQN_prev\")\n",
    "            else : \n",
    "                model_Q = agent_Q.model_DQN\n",
    "                model_Q_prev = agent_Q.model_DQN_prev\n",
    "                \n",
    "                print(\"model Q is model_DQN_prev\")\n",
    "    \n",
    "    for i in range(param_agent[\"num_episodes\"]):\n",
    "        state = env.reset()\n",
    "\n",
    "        reward_ep_cumul = 0\n",
    "        cnt = 0\n",
    "        avg_loss = 0\n",
    "        while True:\n",
    "            if render:\n",
    "                env.render()\n",
    "\n",
    "            if param_agent[\"train_LSFM\"] : \n",
    "                action, eps = agent_LSFM.choose_action_random()\n",
    "                next_state, reward, done, info = env.step(action)\n",
    "            else : \n",
    "                if param_agent[\"train_on_Q_latent\"] : \n",
    "                    \n",
    "                    state_resh = state.reshape(1,-1)\n",
    "                    phi = agent_LSFM.model_LSFM(state_resh)[\"phi\"]\n",
    "                    state_latent = np.array(tf.reshape(phi, phi.shape[-1]))\n",
    "\n",
    "                    # eps = MIN_EPSILON + (MAX_EPSILON - MIN_EPSILON) * math.exp(-LAMBDA * steps)\n",
    "                                        \n",
    "                    action, eps = agent_Q.choose_action(\n",
    "                                        state_latent, \n",
    "                                        model_Q, \n",
    "                                        steps, \n",
    "                                        possible_action\n",
    "                                    )\n",
    "                    \n",
    "                    next_state, reward, done, info = env.step(action)\n",
    "\n",
    "                    next_state_resh = next_state.reshape(1,-1)\n",
    "                    phi_prime = agent_LSFM.model_LSFM(next_state_resh)[\"phi\"]\n",
    "                    next_state_latent = np.array(tf.reshape(phi_prime, phi_prime.shape[-1]))\n",
    "\n",
    "                    \n",
    "                else : \n",
    "                # eps = MIN_EPSILON + (MAX_EPSILON - MIN_EPSILON) * math.exp(-LAMBDA * steps)\n",
    "                    action, eps = agent_Q.choose_action(\n",
    "                        state, \n",
    "                        model_Q, \n",
    "                        steps, \n",
    "                        possible_action\n",
    "                    )\n",
    "\n",
    "                    next_state, reward, done, info = env.step(action)\n",
    "\n",
    "\n",
    "            if param_agent[\"RANDOM_REWARD_STD\"] > 0:\n",
    "                reward = np.random.normal(1.0, RANDOM_REWARD_STD)\n",
    "\n",
    "            reward_ep_cumul += reward\n",
    "            reward_cumul += reward\n",
    "            \n",
    "            if done:\n",
    "                next_state = np.zeros(env._state_dim)\n",
    "                next_state_latent = np.zeros(param_agent[\"latent_space\"])\n",
    "            \n",
    "            \n",
    "            \n",
    "            if param_agent[\"train\"] :\n",
    "                if param_agent[\"train_LSFM\"] : \n",
    "                    memory.add_sample((state, action, reward, next_state, done))\n",
    "                    loss_all = agent_LSFM.train_LSFM(\n",
    "                        model_LSFM, \n",
    "                        memory, \n",
    "                        param_agent[\"filter_done\"])\n",
    "\n",
    "                    avg_loss += loss_all[0]\n",
    "                    avg_loss_r += loss_all[1]\n",
    "                    avg_loss_N += loss_all[2]\n",
    "                    avg_loss_psi += loss_all[3]\n",
    "                else : \n",
    "                    if param_agent[\"train_on_Q_latent\"] : \n",
    "                        memory_latent.add_sample((state_latent, action, reward, next_state_latent, done))\n",
    "\n",
    "                        loss = agent_Q.train_Q(\n",
    "                        model_Q, \n",
    "                        model_Q_prev if param_agent[\"double_model\"] else None,\n",
    "                        memory_latent, param_agent[\"filter_done\"])\n",
    "                        avg_loss += loss\n",
    "                    else :                 \n",
    "                        memory.add_sample((state, action, reward, next_state, done))\n",
    "\n",
    "                        loss = agent_Q.train_Q(\n",
    "                        model_Q, \n",
    "                        model_Q_prev if param_agent[\"double_model\"] else None,\n",
    "                        memory, param_agent[\"filter_done\"])\n",
    "                        avg_loss += loss\n",
    "                \n",
    "            state = next_state\n",
    "        \n",
    "            steps += 1\n",
    "            if steps % 1000 == 0 : print(\"steps : {}, episode : {}, eps : {}\".format(steps, i, eps))\n",
    "#             print(\"steps : {}, episode : {}\".format(steps, i))\n",
    "            if done:\n",
    "                \n",
    "                if cnt != 0:\n",
    "                    avg_loss /= cnt\n",
    "                    avg_loss_r /= cnt\n",
    "                    avg_loss_N /= cnt\n",
    "                    avg_loss_psi /= cnt\n",
    "                    \n",
    "                else:\n",
    "                    avg_loss = 0\n",
    "                result = [i, cnt, steps, reward_ep_cumul,\n",
    "                          reward_cumul, eps, avg_loss, avg_loss_r, avg_loss_N, avg_loss_psi]\n",
    "                if i % 10  == 0 : print(\"Episode: {:03d}, step: {:03d}, cumul_step: {:04d}, Reward: {:3.1f}, Reward_cumul: {:3.1f}, eps: {:0.4f}, avg loss: {:0.4f}\".format(*result))\n",
    "\n",
    "                result_compile.append(result)\n",
    "    #             with train_writer.as_default():\n",
    "    #                 tf.summary.scalar('reward', cnt, step=i)\n",
    "    #                 tf.summary.scalar('avg loss', avg_loss, step=i)\n",
    "                break\n",
    "\n",
    "            cnt += 1\n",
    "    return result_compile\n",
    "    \n",
    "    \n"
   ]
  },
  {
   "cell_type": "code",
   "execution_count": null,
   "metadata": {},
   "outputs": [],
   "source": []
  },
  {
   "cell_type": "code",
   "execution_count": 26,
   "metadata": {
    "ExecuteTime": {
     "end_time": "2021-04-12T06:31:18.044217Z",
     "start_time": "2021-04-12T06:31:18.039714Z"
    }
   },
   "outputs": [],
   "source": [
    "def plot_stat(data, param , col) : \n",
    "    stat = []\n",
    "    stat_all = []\n",
    "    for episode in range(param[\"num_episodes\"]) : \n",
    "\n",
    "        mean = data.loc[lambda df: df['Episode'] == episode][col].mean()\n",
    "        quantile10 = data.loc[lambda df: df['Episode'] == episode][col].quantile(0.1)\n",
    "        quantile90 = data.loc[lambda df: df['Episode'] == episode][col].quantile(0.9)\n",
    "        \n",
    "        stat_all.append(data.loc[lambda df: df['Episode'] == episode][col].values   )\n",
    "\n",
    "        stat.append([mean, quantile10, quantile90])\n",
    "        \n",
    "    data_stat = pd.DataFrame(stat, columns=[ \"mean\", \"quantile10\",\"quantile90\"]     )\n",
    "    \n",
    "\n",
    "\n",
    "    # set seaborn style\n",
    "    sns.set_theme()\n",
    "\n",
    "    # Data\n",
    "    x=range(param_agent_simu[\"num_episodes\"])\n",
    "    y=[ data_stat[\"quantile10\"], data_stat[\"mean\"], data_stat[\"quantile90\"]]\n",
    "\n",
    "    # Plot\n",
    "    plt.stackplot(x,y, labels=['quantile10','mean','quantile90'])\n",
    "    plt.legend(loc='upper left')\n",
    "    plt.show()\n",
    "    \n",
    "    \n",
    "    return data_stat, np.array(stat_all)"
   ]
  },
  {
   "cell_type": "code",
   "execution_count": 27,
   "metadata": {
    "ExecuteTime": {
     "end_time": "2021-04-12T06:31:18.048782Z",
     "start_time": "2021-04-12T06:31:18.045518Z"
    }
   },
   "outputs": [],
   "source": [
    "def box_plot(data,param, col) : \n",
    "\n",
    "\n",
    "    data_Q_episode_par_10 = pd.DataFrame()\n",
    "\n",
    "\n",
    "    for k in range(0,param[\"num_episodes\"], 10) : \n",
    "        data_Q_episode_par_10 = pd.concat([data_Q_episode_par_10,\n",
    "                                          data.loc[lambda df: df['Episode'] == k]])\n",
    "\n",
    "\n",
    "    fig, axs = plt.subplots(1, 1,figsize=(15, 5))\n",
    "    sns.boxplot( x=data_Q_episode_par_10[\"Episode\"], y=data_Q_episode_par_10[col] )\n",
    "    \n",
    "    return data_Q_episode_par_10"
   ]
  },
  {
   "cell_type": "code",
   "execution_count": 28,
   "metadata": {
    "ExecuteTime": {
     "end_time": "2021-04-12T06:31:18.052849Z",
     "start_time": "2021-04-12T06:31:18.050386Z"
    }
   },
   "outputs": [],
   "source": [
    "def carac_model(param) : \n",
    "    if param[\"train_LSFM\"] : calcul = \"LSFM\"\n",
    "    else : \n",
    "        if param[\"train_on_Q_latent\"]  : calcul = \"Q_latent\"\n",
    "        else : calcul = \"Q\"\n",
    "        if param[\"model_Q_Lin\"]  : calcul+=\"_Lin\"\n",
    "        else : calcul+=\"_Deep\"\n",
    "    \n",
    "    return calcul"
   ]
  },
  {
   "cell_type": "markdown",
   "metadata": {},
   "source": [
    "## Train LSFM on random policy"
   ]
  },
  {
   "cell_type": "markdown",
   "metadata": {},
   "source": [
    "### train"
   ]
  },
  {
   "cell_type": "code",
   "execution_count": 29,
   "metadata": {
    "ExecuteTime": {
     "end_time": "2021-04-12T06:31:18.057273Z",
     "start_time": "2021-04-12T06:31:18.053921Z"
    }
   },
   "outputs": [],
   "source": [
    "param_agent = {\n",
    "    \"gamma\": 0.90,\n",
    "    \"optimizer_LSFM\": keras.optimizers.Adam(),\n",
    "    \"optimizer_Q\": keras.optimizers.Adam(),\n",
    "    \"alpha_r\" : 1.,\n",
    "    \"alpha_N\" : 0.1,\n",
    "    \"alpha_psi\" : 0.01,\n",
    "    \"policy\": {\n",
    "        \"type\": [\"eps-greedy\", \"exponantial\"],\n",
    "        \"eps-greedy\": {\n",
    "            \"exponantial\": {\n",
    "                \"eps_max\": 1.,\n",
    "                \"eps_min\": 0.01,\n",
    "                \"lambda\": 0.0005\n",
    "            },\n",
    "            \"constant\": {\n",
    "                \"eps\": 0.01\n",
    "            }\n",
    "        }\n",
    "    },\n",
    "    \"memory\" : 500000,\n",
    "    \"latent_space\": 30,\n",
    "    \"num_episodes\" : 200,\n",
    "    \"batch_size\" : 32,\n",
    "    \"RANDOM_REWARD_STD\" : -1.0, \n",
    "    \"double_model\" : True,\n",
    "    \"tau\": 0.08,\n",
    "    \"filter_done\" : True,\n",
    "    \"train_LSFM\" : True,\n",
    "    \"train_on_Q_latent\": True,\n",
    "    \"model_Q_Lin\": True,\n",
    "    \"train\" : True,\n",
    "    \"render\": False,\n",
    "    \"reset_Q_model\": False,\n",
    "     \"reset_LSFM\" : False,\n",
    "    \"run\": 15,\n",
    "    \n",
    "}"
   ]
  },
  {
   "cell_type": "code",
   "execution_count": 30,
   "metadata": {
    "ExecuteTime": {
     "end_time": "2021-04-12T06:31:18.061103Z",
     "start_time": "2021-04-12T06:31:18.058632Z"
    },
    "scrolled": true
   },
   "outputs": [],
   "source": [
    "# %%time\n",
    "\n",
    "\n",
    "# from itertools import product\n",
    "\n",
    "\n",
    "# param_agent_simu = {}\n",
    "# param_agent_simu = param_agent.copy()\n",
    "# param_agent_simu[\"run\"] = 10\n",
    "# param_agent_simu[\"double_model\"] = False\n",
    "\n",
    "\n",
    "\n",
    "\n",
    "# params = {\n",
    "#     \"alpha_N\" : [1e-2,1e-1, 1e0],\n",
    "#     \"alpha_psi\" : [1e-2, 1e-1, 1e0]\n",
    "# #     \"alpha_N\" : [1e-1],\n",
    "# #     \"alpha_psi\" : [1e-2]\n",
    "# }\n",
    "# combi_params = [dict(zip(params, v)) for v in product(*params.values())]\n",
    "\n",
    "# results = []\n",
    "\n",
    "# data_LSFM = pd.DataFrame()\n",
    "\n",
    "# for params in combi_params : \n",
    "    \n",
    "        \n",
    "    \n",
    "#     for key, value in params.items():\n",
    "#         param_agent_simu[key] = value\n",
    "    \n",
    "#     for k in range(param_agent_simu[\"run\"]) : \n",
    "#         param_agent_simu[\"reset_LSFM\"] = True\n",
    "        \n",
    "        \n",
    "#         agent = Agent(env, param_agent_simu)\n",
    "\n",
    "#         result_compile = simu(env,param_agent_simu,agent) \n",
    "        \n",
    "#         data_train_df = pd.DataFrame(result_compile, columns=[ \n",
    "#         \"Episode\", \n",
    "#         \"Step\", \n",
    "#         \"cum_step\",\n",
    "#         \"Reward\", \n",
    "#         \"Reward_cum\",\n",
    "#         \"Eps\",  \n",
    "#         \"Avg_loss\" ,  \n",
    "#         \"Avg_loss_r\",  \n",
    "#         \"Avg_loss_N\",  \n",
    "#         \"Avg_loss_psi\"])\n",
    "\n",
    "\n",
    "\n",
    "#         data_train_df[\"carac\"] = carac_model(param_agent_simu) \n",
    "#         data_train_df[\"param\"] = str(params)    \n",
    "#         data_LSFM = pd.concat([data_LSFM, data_train_df])\n",
    "\n",
    "#         eval_step = int(param_agent_simu[\"num_episodes\"] - param_agent_simu[\"num_episodes\"] /10)\n",
    "\n",
    "        \n",
    "\n",
    "#         avg_loss = data_train_df.loc[eval_step:,\"Avg_loss\"].mean()\n",
    "#         avg_loss_r = data_train_df.loc[eval_step:,\"Avg_loss_r\"].mean()\n",
    "#         avg_loss_N = data_train_df.loc[eval_step:,\"Avg_loss_N\"].mean()\n",
    "#         avg_loss_psi = data_train_df.loc[eval_step:,\"Avg_loss_psi\"].mean()\n",
    "\n",
    "#         print(\"avg_loss\", avg_loss)\n",
    "#         print(\"avg_loss_r\", avg_loss_r)\n",
    "#         print(\"avg_loss_N\", avg_loss_N)\n",
    "#         print(\"avg_loss_psi\", avg_loss_psi)\n",
    "\n",
    "#         results.append([avg_loss,avg_loss_r, avg_loss_N,avg_loss_psi , str(params)   ])\n",
    "    \n",
    "\n",
    "# results\n",
    "\n",
    "\n",
    "# # data_results = pd.DataFrame(results, columns=[ \"Avg_loss\", \"Avg_loss_r\",\"Avg_loss_N\", \"Avg_loss_psi\", params ]     )"
   ]
  },
  {
   "cell_type": "markdown",
   "metadata": {},
   "source": [
    "### eval the error on random sequence action"
   ]
  },
  {
   "cell_type": "code",
   "execution_count": 31,
   "metadata": {
    "ExecuteTime": {
     "end_time": "2021-04-12T06:31:18.067201Z",
     "start_time": "2021-04-12T06:31:18.062333Z"
    }
   },
   "outputs": [],
   "source": [
    "# results = [[3.176959758045183e-05,\n",
    "#   2.798083355495293e-05,\n",
    "#   1.8875659346196596e-05,\n",
    "#   0.0003884338938202283,\n",
    "#   \"{'alpha_N': 0.01, 'alpha_psi': 0.01}\"],\n",
    "#  [4.8884972492475486e-05,\n",
    "#   4.2541213621542396e-05,\n",
    "#   3.5208295764644505e-05,\n",
    "#   0.0007129369574973769,\n",
    "#   \"{'alpha_N': 0.01, 'alpha_psi': 0.01}\"],\n",
    "#  [3.464046493115672e-05,\n",
    "#   2.527707237780832e-05,\n",
    "#   2.550882040988037e-05,\n",
    "#   0.001043851466359858,\n",
    "#   \"{'alpha_N': 0.01, 'alpha_psi': 0.01}\"],\n",
    "#  [2.5550009224490483e-05,\n",
    "#   2.1217015884888853e-05,\n",
    "#   1.98769202516294e-05,\n",
    "#   0.0004555757851310496,\n",
    "#   \"{'alpha_N': 0.01, 'alpha_psi': 0.01}\"],\n",
    "#  [2.8447343880421365e-05,\n",
    "#   2.196239187718853e-05,\n",
    "#   2.144160222404527e-05,\n",
    "#   0.0006803511764699953,\n",
    "#   \"{'alpha_N': 0.01, 'alpha_psi': 0.01}\"],\n",
    "#  [2.9093045833676346e-05,\n",
    "#   2.1357312640220443e-05,\n",
    "#   2.1698517801684723e-05,\n",
    "#   0.0007855017287279151,\n",
    "#   \"{'alpha_N': 0.01, 'alpha_psi': 0.01}\"],\n",
    "#  [3.3130845200072903e-05,\n",
    "#   2.2972594953577943e-05,\n",
    "#   1.85029824916625e-05,\n",
    "#   0.0010652871122968635,\n",
    "#   \"{'alpha_N': 0.01, 'alpha_psi': 0.01}\"],\n",
    "#  [3.948526118770918e-05,\n",
    "#   2.7193661616471355e-05,\n",
    "#   2.553463000528891e-05,\n",
    "#   0.0012429719253192735,\n",
    "#   \"{'alpha_N': 0.01, 'alpha_psi': 0.01}\"],\n",
    "#  [3.422338473180242e-05,\n",
    "#   2.871294602212402e-05,\n",
    "#   2.4339846638234243e-05,\n",
    "#   0.0006246352270925147,\n",
    "#   \"{'alpha_N': 0.01, 'alpha_psi': 0.01}\"],\n",
    "#  [3.717520847379691e-05,\n",
    "#   3.113054260616087e-05,\n",
    "#   2.2880063388150324e-05,\n",
    "#   0.0006441582120076925,\n",
    "#   \"{'alpha_N': 0.01, 'alpha_psi': 0.01}\"],\n",
    "#  [6.52864756302688e-05,\n",
    "#   3.725289569072417e-05,\n",
    "#   3.720898450932436e-05,\n",
    "#   0.0002832007729730925,\n",
    "#   \"{'alpha_N': 0.01, 'alpha_psi': 0.1}\"],\n",
    "#  [5.101970446536484e-05,\n",
    "#   2.7613140535364218e-05,\n",
    "#   3.4322052856015505e-05,\n",
    "#   0.0002513989606079645,\n",
    "#   \"{'alpha_N': 0.01, 'alpha_psi': 0.1}\"],\n",
    "#  [7.709987175685648e-05,\n",
    "#   3.1201638917941836e-05,\n",
    "#   5.277315327120332e-05,\n",
    "#   0.0004628295568060908,\n",
    "#   \"{'alpha_N': 0.01, 'alpha_psi': 0.1}\"],\n",
    "#  [7.076793844861253e-05,\n",
    "#   3.7390472608602074e-05,\n",
    "#   5.794195677115393e-05,\n",
    "#   0.00034192669566876374,\n",
    "#   \"{'alpha_N': 0.01, 'alpha_psi': 0.1}\"],\n",
    "#  [6.346093784901297e-05,\n",
    "#   3.282703831315166e-05,\n",
    "#   5.033679044178081e-05,\n",
    "#   0.0003134830434619762,\n",
    "#   \"{'alpha_N': 0.01, 'alpha_psi': 0.1}\"],\n",
    "#  [5.385581950363593e-05,\n",
    "#   2.9201698490858917e-05,\n",
    "#   2.2504818220310882e-05,\n",
    "#   0.00025148274826416117,\n",
    "#   \"{'alpha_N': 0.01, 'alpha_psi': 0.1}\"],\n",
    "#  [8.815392506436782e-05,\n",
    "#   3.67629265135954e-05,\n",
    "#   3.590629692676378e-05,\n",
    "#   0.0005250349952855157,\n",
    "#   \"{'alpha_N': 0.01, 'alpha_psi': 0.1}\"],\n",
    "#  [7.346414575348087e-05,\n",
    "#   3.840453380156711e-05,\n",
    "#   4.7613229111842826e-05,\n",
    "#   0.00037104784172715055,\n",
    "#   \"{'alpha_N': 0.01, 'alpha_psi': 0.1}\"],\n",
    "#  [9.308967194056943e-05,\n",
    "#   2.4404848937462363e-05,\n",
    "#   6.568275687766854e-05,\n",
    "#   0.0007029586218939849,\n",
    "#   \"{'alpha_N': 0.01, 'alpha_psi': 0.1}\"],\n",
    "#  [9.324558707031239e-05,\n",
    "#   3.477862938005002e-05,\n",
    "#   3.375284445833689e-05,\n",
    "#   0.0005921072777911917,\n",
    "#   \"{'alpha_N': 0.01, 'alpha_psi': 0.1}\"],\n",
    "#  [0.28654758553224624,\n",
    "#   0.003815033716421197,\n",
    "#   14.932313917242217,\n",
    "#   0.137514640165708,\n",
    "#   \"{'alpha_N': 0.01, 'alpha_psi': 1.0}\"],\n",
    "#  [0.1375300085088097,\n",
    "#   0.0022218251446129915,\n",
    "#   7.809552325751673,\n",
    "#   0.061217443090467394,\n",
    "#   \"{'alpha_N': 0.01, 'alpha_psi': 1.0}\"],\n",
    "#  [0.07070487038612328,\n",
    "#   0.002879446447658162,\n",
    "#   3.809394216802443,\n",
    "#   0.030617901358206447,\n",
    "#   \"{'alpha_N': 0.01, 'alpha_psi': 1.0}\"],\n",
    "#  [0.24856614073186684,\n",
    "#   0.009875844802900352,\n",
    "#   14.499701155805045,\n",
    "#   0.10387328352355599,\n",
    "#   \"{'alpha_N': 0.01, 'alpha_psi': 1.0}\"],\n",
    "#  [3.9312211759564795,\n",
    "#   0.027277407997172765,\n",
    "#   249.56283762473376,\n",
    "#   1.48283116946356,\n",
    "#   \"{'alpha_N': 0.01, 'alpha_psi': 1.0}\"],\n",
    "#  [0.08772798291038397,\n",
    "#   0.0021088188583843794,\n",
    "#   4.078964644297516,\n",
    "#   0.045522715871792505,\n",
    "#   \"{'alpha_N': 0.01, 'alpha_psi': 1.0}\"],\n",
    "#  [0.11356054768410022,\n",
    "#   0.0033031051747832696,\n",
    "#   6.6955202470576385,\n",
    "#   0.04496221637571584,\n",
    "#   \"{'alpha_N': 0.01, 'alpha_psi': 1.0}\"],\n",
    "#  [0.024748072987035016,\n",
    "#   0.0005010728558932448,\n",
    "#   1.2727548231093893,\n",
    "#   0.011883795847254863,\n",
    "#   \"{'alpha_N': 0.01, 'alpha_psi': 1.0}\"],\n",
    "#  [0.6662927972557047,\n",
    "#   0.006920361779779183,\n",
    "#   41.12313570791496,\n",
    "#   0.25502948688445864,\n",
    "#   \"{'alpha_N': 0.01, 'alpha_psi': 1.0}\"],\n",
    "#  [2.4660490142021603,\n",
    "#   0.019711229342777352,\n",
    "#   176.0566222595935,\n",
    "#   0.754686266896764,\n",
    "#   \"{'alpha_N': 0.01, 'alpha_psi': 1.0}\"],\n",
    "#  [2.881647043866401e-05,\n",
    "#   1.9820339128776974e-05,\n",
    "#   8.513623513396363e-06,\n",
    "#   0.0008635796502339971,\n",
    "#   \"{'alpha_N': 0.1, 'alpha_psi': 0.01}\"],\n",
    "#  [4.2722639199476506e-05,\n",
    "#   3.277616012075487e-05,\n",
    "#   1.0370234316033816e-05,\n",
    "#   0.0010134457933051672,\n",
    "#   \"{'alpha_N': 0.1, 'alpha_psi': 0.01}\"],\n",
    "#  [4.415230844960317e-05,\n",
    "#   2.8590263572884278e-05,\n",
    "#   1.1662369829904962e-05,\n",
    "#   0.0014866312682929807,\n",
    "#   \"{'alpha_N': 0.1, 'alpha_psi': 0.01}\"],\n",
    "#  [3.737975349878301e-05,\n",
    "#   3.06783683927371e-05,\n",
    "#   1.2063061562231913e-05,\n",
    "#   0.0006280583713087943,\n",
    "#   \"{'alpha_N': 0.1, 'alpha_psi': 0.01}\"],\n",
    "#  [3.6787226870784676e-05,\n",
    "#   2.1983455547099056e-05,\n",
    "#   8.48946169210556e-06,\n",
    "#   0.0014435815940087924,\n",
    "#   \"{'alpha_N': 0.1, 'alpha_psi': 0.01}\"],\n",
    "#  [4.4343857431642186e-05,\n",
    "#   3.228787588485694e-05,\n",
    "#   1.2325955713715e-05,\n",
    "#   0.001208144071242383,\n",
    "#   \"{'alpha_N': 0.1, 'alpha_psi': 0.01}\"],\n",
    "#  [4.249449430987399e-05,\n",
    "#   3.6348946025146896e-05,\n",
    "#   1.1017720783669243e-05,\n",
    "#   0.0005668697084253852,\n",
    "#   \"{'alpha_N': 0.1, 'alpha_psi': 0.01}\"],\n",
    "#  [2.8245040395478024e-05,\n",
    "#   1.922908566912168e-05,\n",
    "#   8.316381701958457e-06,\n",
    "#   0.0008509210365383844,\n",
    "#   \"{'alpha_N': 0.1, 'alpha_psi': 0.01}\"],\n",
    "#  [3.575858039519737e-05,\n",
    "#   2.7063217413534592e-05,\n",
    "#   1.2405134808477465e-05,\n",
    "#   0.0007912937102055936,\n",
    "#   \"{'alpha_N': 0.1, 'alpha_psi': 0.01}\"],\n",
    "#  [3.598561113744051e-05,\n",
    "#   2.8881291412928514e-05,\n",
    "#   1.43901463138736e-05,\n",
    "#   0.0006609573735877019,\n",
    "#   \"{'alpha_N': 0.1, 'alpha_psi': 0.01}\"],\n",
    "#  [5.6612268334074733e-05,\n",
    "#   3.0357995900993496e-05,\n",
    "#   1.3404449974826294e-05,\n",
    "#   0.0002555337012664302,\n",
    "#   \"{'alpha_N': 0.1, 'alpha_psi': 0.1}\"],\n",
    "#  [9.599180928075959e-05,\n",
    "#   3.195574675119656e-05,\n",
    "#   1.2165975515105552e-05,\n",
    "#   0.0006471840763685745,\n",
    "#   \"{'alpha_N': 0.1, 'alpha_psi': 0.1}\"],\n",
    "#  [6.10875779823452e-05,\n",
    "#   2.532197793727354e-05,\n",
    "#   1.1858445591488512e-05,\n",
    "#   0.00035860801292259394,\n",
    "#   \"{'alpha_N': 0.1, 'alpha_psi': 0.1}\"],\n",
    "#  [0.00012703329449637908,\n",
    "#   3.504553722521507e-05,\n",
    "#   1.7711195342374556e-05,\n",
    "#   0.000933045484700817,\n",
    "#   \"{'alpha_N': 0.1, 'alpha_psi': 0.1}\"],\n",
    "#  [6.660248395427181e-05,\n",
    "#   3.304567923545569e-05,\n",
    "#   1.3167597955093183e-05,\n",
    "#   0.00033629997237149113,\n",
    "#   \"{'alpha_N': 0.1, 'alpha_psi': 0.1}\"],\n",
    "#  [0.000113665320757566,\n",
    "#   2.5352868683759508e-05,\n",
    "#   1.1425712885011429e-05,\n",
    "#   0.0008989897371340953,\n",
    "#   \"{'alpha_N': 0.1, 'alpha_psi': 0.1}\"],\n",
    "#  [4.53799931099205e-05,\n",
    "#   2.135338665862016e-05,\n",
    "#   9.784442308159664e-06,\n",
    "#   0.00023606495942259283,\n",
    "#   \"{'alpha_N': 0.1, 'alpha_psi': 0.1}\"],\n",
    "#  [8.016729430046064e-05,\n",
    "#   4.640489790479639e-05,\n",
    "#   1.8755824861636798e-05,\n",
    "#   0.0003360907946084017,\n",
    "#   \"{'alpha_N': 0.1, 'alpha_psi': 0.1}\"],\n",
    "#  [5.7032520051838946e-05,\n",
    "#   2.4129857133400354e-05,\n",
    "#   9.859936633891711e-06,\n",
    "#   0.00032700812503505647,\n",
    "#   \"{'alpha_N': 0.1, 'alpha_psi': 0.1}\"],\n",
    "#  [4.112306830569268e-05,\n",
    "#   2.4723000340371554e-05,\n",
    "#   9.96492266961476e-06,\n",
    "#   0.00016128931224837715,\n",
    "#   \"{'alpha_N': 0.1, 'alpha_psi': 0.1}\"],\n",
    "#  [0.01211942646324359,\n",
    "#   0.00028471348578670163,\n",
    "#   0.04986248950564971,\n",
    "#   0.00697620534132552,\n",
    "#   \"{'alpha_N': 0.1, 'alpha_psi': 1.0}\"],\n",
    "#  [0.0026843853311440914,\n",
    "#   8.846795376525925e-05,\n",
    "#   0.0016581608141117258,\n",
    "#   0.002469876079076888,\n",
    "#   \"{'alpha_N': 0.1, 'alpha_psi': 1.0}\"],\n",
    "#  [0.007085966865627627,\n",
    "#   0.00017792505899211805,\n",
    "#   0.012918740104094367,\n",
    "#   0.00582830547519682,\n",
    "#   \"{'alpha_N': 0.1, 'alpha_psi': 1.0}\"],\n",
    "#  [0.0040222707604701926,\n",
    "#   0.00014867547187448368,\n",
    "#   0.004944405619049266,\n",
    "#   0.0034973572789600152,\n",
    "#   \"{'alpha_N': 0.1, 'alpha_psi': 1.0}\"],\n",
    "#  [0.010946695625658183,\n",
    "#   0.000364904348072361,\n",
    "#   0.024827556384167067,\n",
    "#   0.008296436293958698,\n",
    "#   \"{'alpha_N': 0.1, 'alpha_psi': 1.0}\"],\n",
    "#  [0.0026930807114850176,\n",
    "#   0.00015633178086269222,\n",
    "#   0.002167676638371473,\n",
    "#   0.002363299071196065,\n",
    "#   \"{'alpha_N': 0.1, 'alpha_psi': 1.0}\"],\n",
    "#  [0.01598305434437261,\n",
    "#   0.0004512546551352859,\n",
    "#   0.061459068673031636,\n",
    "#   0.009518789783122698,\n",
    "#   \"{'alpha_N': 0.1, 'alpha_psi': 1.0}\"],\n",
    "#  [0.0037217139725991936,\n",
    "#   0.0002574863029629899,\n",
    "#   0.003128893718646438,\n",
    "#   0.003191322524861204,\n",
    "#   \"{'alpha_N': 0.1, 'alpha_psi': 1.0}\"],\n",
    "#  [0.0026870804390382876,\n",
    "#   0.000203792540317672,\n",
    "#   0.002309238773388395,\n",
    "#   0.0022958197907789937,\n",
    "#   \"{'alpha_N': 0.1, 'alpha_psi': 1.0}\"],\n",
    "#  [0.0035648704236392473,\n",
    "#   0.0001820728831642426,\n",
    "#   0.005566655406999034,\n",
    "#   0.0029003081578680254,\n",
    "#   \"{'alpha_N': 0.1, 'alpha_psi': 1.0}\"],\n",
    "#  [3.8667069354083173e-05,\n",
    "#   2.3823230756280304e-05,\n",
    "#   8.101114082872805e-06,\n",
    "#   0.0007284180982897868,\n",
    "#   \"{'alpha_N': 1.0, 'alpha_psi': 0.01}\"],\n",
    "#  [2.999281257904857e-05,\n",
    "#   2.0312796720917496e-05,\n",
    "#   6.674153959903623e-06,\n",
    "#   0.00033038487899563726,\n",
    "#   \"{'alpha_N': 1.0, 'alpha_psi': 0.01}\"],\n",
    "#  [3.857167016533772e-05,\n",
    "#   2.2209853593714094e-05,\n",
    "#   6.688520808049372e-06,\n",
    "#   0.0010496358600429,\n",
    "#   \"{'alpha_N': 1.0, 'alpha_psi': 0.01}\"],\n",
    "#  [3.29156082391203e-05,\n",
    "#   2.0034494733513784e-05,\n",
    "#   7.57728426999535e-06,\n",
    "#   0.0006024092448449209,\n",
    "#   \"{'alpha_N': 1.0, 'alpha_psi': 0.01}\"],\n",
    "#  [2.9666278722722254e-05,\n",
    "#   1.814610034285708e-05,\n",
    "#   6.599684301182347e-06,\n",
    "#   0.0005312275883646522,\n",
    "#   \"{'alpha_N': 1.0, 'alpha_psi': 0.01}\"],\n",
    "#  [4.195798251692887e-05,\n",
    "#   2.8316689277421934e-05,\n",
    "#   8.279190943635242e-06,\n",
    "#   0.0006238058554663728,\n",
    "#   \"{'alpha_N': 1.0, 'alpha_psi': 0.01}\"],\n",
    "#  [2.628575898075719e-05,\n",
    "#   1.5546121741506355e-05,\n",
    "#   5.658745268473508e-06,\n",
    "#   0.0005372404288595177,\n",
    "#   \"{'alpha_N': 1.0, 'alpha_psi': 0.01}\"],\n",
    "#  [3.433251459221897e-05,\n",
    "#   2.259500738875881e-05,\n",
    "#   7.896018709604653e-06,\n",
    "#   0.0004454218528588583,\n",
    "#   \"{'alpha_N': 1.0, 'alpha_psi': 0.01}\"],\n",
    "#  [3.370595543337309e-05,\n",
    "#   2.2260230522160534e-05,\n",
    "#   7.4632018101096005e-06,\n",
    "#   0.0004646377243538124,\n",
    "#   \"{'alpha_N': 1.0, 'alpha_psi': 0.01}\"],\n",
    "#  [3.1095658724893276e-05,\n",
    "#   2.0160734321067183e-05,\n",
    "#   6.004906863210881e-06,\n",
    "#   0.0005581066361840274,\n",
    "#   \"{'alpha_N': 1.0, 'alpha_psi': 0.01}\"],\n",
    "#  [4.826063051966067e-05,\n",
    "#   2.1878201926374713e-05,\n",
    "#   7.870608946146138e-06,\n",
    "#   0.0001944645016502291,\n",
    "#   \"{'alpha_N': 1.0, 'alpha_psi': 0.1}\"],\n",
    "#  [5.935360572241952e-05,\n",
    "#   2.636343165933324e-05,\n",
    "#   9.923148605943418e-06,\n",
    "#   0.00024929234185695266,\n",
    "#   \"{'alpha_N': 1.0, 'alpha_psi': 0.1}\"],\n",
    "#  [6.65114018948972e-05,\n",
    "#   2.553594516342752e-05,\n",
    "#   7.32905388022987e-06,\n",
    "#   0.00034583647728885744,\n",
    "#   \"{'alpha_N': 1.0, 'alpha_psi': 0.1}\"],\n",
    "#  [5.617132404841622e-05,\n",
    "#   2.4472656706182285e-05,\n",
    "#   8.031797728269831e-06,\n",
    "#   0.00024818177394511203,\n",
    "#   \"{'alpha_N': 1.0, 'alpha_psi': 0.1}\"],\n",
    "#  [5.0264443665410114e-05,\n",
    "#   2.296431542282729e-05,\n",
    "#   7.737824550920327e-06,\n",
    "#   0.00020447333990280397,\n",
    "#   \"{'alpha_N': 1.0, 'alpha_psi': 0.1}\"],\n",
    "#  [5.957807127608687e-05,\n",
    "#   2.8845043037557322e-05,\n",
    "#   9.594733709157197e-06,\n",
    "#   0.00022535184133128588,\n",
    "#   \"{'alpha_N': 1.0, 'alpha_psi': 0.1}\"],\n",
    "#  [6.424275106512603e-05,\n",
    "#   2.2591462651720707e-05,\n",
    "#   6.359174800398199e-06,\n",
    "#   0.00036608998517234794,\n",
    "#   \"{'alpha_N': 1.0, 'alpha_psi': 0.1}\"],\n",
    "#  [5.6300362684908615e-05,\n",
    "#   2.1302928387034035e-05,\n",
    "#   7.440077943891242e-06,\n",
    "#   0.00028537629325416585,\n",
    "#   \"{'alpha_N': 1.0, 'alpha_psi': 0.1}\"],\n",
    "#  [7.648040766907535e-05,\n",
    "#   2.158935139269033e-05,\n",
    "#   7.13468214411341e-06,\n",
    "#   0.0004945688249824865,\n",
    "#   \"{'alpha_N': 1.0, 'alpha_psi': 0.1}\"],\n",
    "#  [4.850978205392804e-05,\n",
    "#   1.6770904024945998e-05,\n",
    "#   6.11373313541304e-06,\n",
    "#   0.0002627915943725481,\n",
    "#   \"{'alpha_N': 1.0, 'alpha_psi': 0.1}\"],\n",
    "#  [0.000141667697251407,\n",
    "#   2.5200620444911518e-05,\n",
    "#   1.5278453442390178e-05,\n",
    "#   0.00010413121806983896,\n",
    "#   \"{'alpha_N': 1.0, 'alpha_psi': 1.0}\"],\n",
    "#  [0.00017621572638902209,\n",
    "#   2.5521598214266157e-05,\n",
    "#   1.1315809266870382e-05,\n",
    "#   0.0001418513644754345,\n",
    "#   \"{'alpha_N': 1.0, 'alpha_psi': 1.0}\"],\n",
    "#  [0.00016592680403420586,\n",
    "#   2.0967515354843e-05,\n",
    "#   1.0615509188401127e-05,\n",
    "#   0.00013754596725971827,\n",
    "#   \"{'alpha_N': 1.0, 'alpha_psi': 1.0}\"],\n",
    "#  [0.00014628857910578075,\n",
    "#   2.5021998323726214e-05,\n",
    "#   9.839630294712792e-06,\n",
    "#   0.00011314860736258284,\n",
    "#   \"{'alpha_N': 1.0, 'alpha_psi': 1.0}\"],\n",
    "#  [0.00015792126272914142,\n",
    "#   2.8299323550847343e-05,\n",
    "#   1.544555039648625e-05,\n",
    "#   0.00011974550681940427,\n",
    "#   \"{'alpha_N': 1.0, 'alpha_psi': 1.0}\"],\n",
    "#  [0.00016080980572864283,\n",
    "#   2.3932286707604835e-05,\n",
    "#   9.445997562742533e-06,\n",
    "#   0.00012980475069630486,\n",
    "#   \"{'alpha_N': 1.0, 'alpha_psi': 1.0}\"],\n",
    "#  [0.0002766759620771564,\n",
    "#   2.806441175603661e-05,\n",
    "#   1.1436490448442928e-05,\n",
    "#   0.00024252233270083404,\n",
    "#   \"{'alpha_N': 1.0, 'alpha_psi': 1.0}\"],\n",
    "#  [0.0001860023970367141,\n",
    "#   2.474639820860709e-05,\n",
    "#   1.300370728380896e-05,\n",
    "#   0.00015084293728003065,\n",
    "#   \"{'alpha_N': 1.0, 'alpha_psi': 1.0}\"],\n",
    "#  [0.00016120976172051164,\n",
    "#   2.6619584250933458e-05,\n",
    "#   1.087386717002719e-05,\n",
    "#   0.0001265347718196023,\n",
    "#   \"{'alpha_N': 1.0, 'alpha_psi': 1.0}\"],\n",
    "#  [0.0002163590952307733,\n",
    "#   2.4562426432382867e-05,\n",
    "#   1.1764842807586456e-05,\n",
    "#   0.00018370386434648887,\n",
    "#   \"{'alpha_N': 1.0, 'alpha_psi': 1.0}\"]]"
   ]
  },
  {
   "cell_type": "code",
   "execution_count": 32,
   "metadata": {
    "ExecuteTime": {
     "end_time": "2021-04-12T06:31:18.070959Z",
     "start_time": "2021-04-12T06:31:18.069019Z"
    }
   },
   "outputs": [],
   "source": [
    "# data_results = pd.DataFrame(results, columns=[ \"Avg_loss\", \"Avg_loss_r\",\"Avg_loss_N\", \"Avg_loss_psi\", \"params\" ]     )"
   ]
  },
  {
   "cell_type": "code",
   "execution_count": 33,
   "metadata": {
    "ExecuteTime": {
     "end_time": "2021-04-12T06:31:18.073345Z",
     "start_time": "2021-04-12T06:31:18.071930Z"
    }
   },
   "outputs": [],
   "source": [
    "# data_results = pd.DataFrame(results, columns=[ \"Avg_loss\", \"Avg_loss_r\",\"Avg_loss_N\", \"Avg_loss_psi\", \"params\" ]     )\n",
    "# col = \"Avg_loss\"\n",
    "# df = data_results\n",
    "# fig, axs = plt.subplots(1, 1,figsize=(10, 5))\n",
    "# sns.boxplot( x=df[\"params\"], y=df[col] )\n",
    "# axs.set_xticklabels(df[\"params\"].unique(),  rotation=30, ha= 'right');\n",
    "# plt.ylim(0, 0.0001)"
   ]
  },
  {
   "cell_type": "markdown",
   "metadata": {},
   "source": [
    "### train LSFM on best parameters"
   ]
  },
  {
   "cell_type": "code",
   "execution_count": 34,
   "metadata": {
    "ExecuteTime": {
     "end_time": "2021-04-12T06:31:18.076089Z",
     "start_time": "2021-04-12T06:31:18.074360Z"
    }
   },
   "outputs": [],
   "source": [
    "# data_LSFM.to_csv('data_LSFM.csv')"
   ]
  },
  {
   "cell_type": "code",
   "execution_count": 35,
   "metadata": {
    "ExecuteTime": {
     "end_time": "2021-04-12T06:31:18.079002Z",
     "start_time": "2021-04-12T06:31:18.077144Z"
    }
   },
   "outputs": [],
   "source": [
    "# data_results.to_csv('data_results.csv')"
   ]
  },
  {
   "cell_type": "code",
   "execution_count": null,
   "metadata": {
    "ExecuteTime": {
     "start_time": "2021-04-12T06:31:14.558Z"
    }
   },
   "outputs": [
    {
     "name": "stdout",
     "output_type": "stream",
     "text": [
      "Episode: 000, step: 098, cumul_step: 0099, Reward: -17.0, Reward_cumul: -17.0, eps: 1.0000, avg loss: 0.0237\n",
      "steps : 1000, episode : 8, eps : 1.0\n",
      "Episode: 010, step: 036, cumul_step: 1271, Reward: -3.0, Reward_cumul: -269.0, eps: 1.0000, avg loss: 0.0009\n",
      "steps : 2000, episode : 13, eps : 1.0\n",
      "steps : 3000, episode : 20, eps : 1.0\n",
      "Episode: 020, step: 622, cumul_step: 3352, Reward: -92.0, Reward_cumul: -747.0, eps: 1.0000, avg loss: 0.0001\n",
      "steps : 4000, episode : 21, eps : 1.0\n",
      "steps : 5000, episode : 24, eps : 1.0\n",
      "steps : 6000, episode : 28, eps : 1.0\n",
      "Episode: 030, step: 149, cumul_step: 6644, Reward: -34.0, Reward_cumul: -1379.0, eps: 1.0000, avg loss: 0.0001\n",
      "steps : 7000, episode : 31, eps : 1.0\n",
      "steps : 8000, episode : 38, eps : 1.0\n",
      "Episode: 040, step: 067, cumul_step: 8109, Reward: -30.0, Reward_cumul: -1678.0, eps: 1.0000, avg loss: 0.0000\n",
      "steps : 9000, episode : 47, eps : 1.0\n",
      "Episode: 050, step: 086, cumul_step: 9486, Reward: -26.0, Reward_cumul: -1937.0, eps: 1.0000, avg loss: 0.0001\n",
      "steps : 10000, episode : 53, eps : 1.0\n",
      "steps : 11000, episode : 58, eps : 1.0\n",
      "Episode: 060, step: 089, cumul_step: 11247, Reward: -13.0, Reward_cumul: -2345.0, eps: 1.0000, avg loss: 0.0000\n",
      "steps : 12000, episode : 68, eps : 1.0\n",
      "Episode: 070, step: 101, cumul_step: 12275, Reward: -1.0, Reward_cumul: -2579.0, eps: 1.0000, avg loss: 0.0002\n",
      "steps : 13000, episode : 75, eps : 1.0\n",
      "steps : 14000, episode : 80, eps : 1.0\n",
      "Episode: 080, step: 725, cumul_step: 14385, Reward: -119.0, Reward_cumul: -3016.0, eps: 1.0000, avg loss: 0.0000\n",
      "steps : 15000, episode : 85, eps : 1.0\n",
      "steps : 16000, episode : 90, eps : 1.0\n",
      "Episode: 090, step: 064, cumul_step: 16021, Reward: -20.0, Reward_cumul: -3392.0, eps: 1.0000, avg loss: 0.0000\n",
      "steps : 17000, episode : 92, eps : 1.0\n",
      "steps : 18000, episode : 99, eps : 1.0\n",
      "Episode: 100, step: 160, cumul_step: 18192, Reward: -34.0, Reward_cumul: -3876.0, eps: 1.0000, avg loss: 0.0000\n",
      "steps : 19000, episode : 107, eps : 1.0\n",
      "Episode: 110, step: 189, cumul_step: 19516, Reward: -37.0, Reward_cumul: -4167.0, eps: 1.0000, avg loss: 0.0000\n",
      "steps : 20000, episode : 115, eps : 1.0\n",
      "steps : 21000, episode : 120, eps : 1.0\n",
      "Episode: 120, step: 208, cumul_step: 21196, Reward: -42.0, Reward_cumul: -4497.0, eps: 1.0000, avg loss: 0.0001\n",
      "steps : 22000, episode : 126, eps : 1.0\n"
     ]
    }
   ],
   "source": [
    "%%time\n",
    "\n",
    "\n",
    "from itertools import product\n",
    "\n",
    "\n",
    "param_agent_simu = {}\n",
    "param_agent_simu = param_agent.copy()\n",
    "param_agent_simu[\"run\"] = 1\n",
    "param_agent_simu[\"double_model\"] = False\n",
    "\n",
    "params = {\n",
    "#     \"alpha_N\" : [1e-1, 1e0],\n",
    "#     \"alpha_psi\" : [1e-2, 1e-1, 1e0]\n",
    "    \"alpha_N\" : [1e0],\n",
    "    \"alpha_psi\" : [1e-2]\n",
    "}\n",
    "combi_params = [dict(zip(params, v)) for v in product(*params.values())]\n",
    "\n",
    "results_best = []\n",
    "\n",
    "data_LSFM_best = pd.DataFrame()\n",
    "\n",
    "for params in combi_params : \n",
    "    \n",
    "        \n",
    "    \n",
    "    for key, value in params.items():\n",
    "        param_agent_simu[key] = value\n",
    "    \n",
    "    for k in range(param_agent_simu[\"run\"]) : \n",
    "        param_agent_simu[\"reset_LSFM\"] = True\n",
    "        \n",
    "        \n",
    "        \n",
    "        agent = Agent(env, param_agent_simu)\n",
    "        result_compile = simu(env,param_agent_simu,agent) \n",
    "        \n",
    "        data_train_df = pd.DataFrame(result_compile, columns=[ \n",
    "        \"Episode\", \n",
    "        \"Step\", \n",
    "        \"cum_step\",\n",
    "        \"Reward\", \n",
    "        \"Reward_cum\",\n",
    "        \"Eps\",  \n",
    "        \"Avg_loss\" ,  \n",
    "        \"Avg_loss_r\",  \n",
    "        \"Avg_loss_N\",  \n",
    "        \"Avg_loss_psi\"])\n",
    "\n",
    "\n",
    "\n",
    "        data_train_df[\"carac\"] = carac_model(param_agent_simu) \n",
    "        data_train_df[\"param\"] = str(params)    \n",
    "        data_LSFM_best = pd.concat([data_LSFM_best, data_train_df])\n",
    "\n",
    "        eval_step = int(param_agent_simu[\"num_episodes\"] - param_agent_simu[\"num_episodes\"] /10)\n",
    "\n",
    "        \n",
    "        \n",
    "        \n",
    "        \n",
    "        fig, axs = plt.subplots(2, 3,figsize=(15, 10))\n",
    "        plt.figure(figsize=(5, 5))\n",
    "        sns.lineplot(x=\"cum_step\", y=\"Avg_loss\", data=data_train_df, ax = axs[0,0] )\n",
    "        sns.lineplot(x=\"cum_step\", y=\"Avg_loss_r\", data=data_train_df, ax = axs[0,1] )\n",
    "        sns.lineplot(x=\"cum_step\", y=\"Avg_loss_N\", data=data_train_df, ax = axs[0,2] )\n",
    "        sns.lineplot(x=\"cum_step\", y=\"Avg_loss_psi\", data=data_train_df, ax = axs[1,0] )\n",
    "        plt.show()\n",
    "\n",
    "        avg_loss = data_train_df.loc[eval_step:,\"Avg_loss\"].mean()\n",
    "        avg_loss_r = data_train_df.loc[eval_step:,\"Avg_loss_r\"].mean()\n",
    "        avg_loss_N = data_train_df.loc[eval_step:,\"Avg_loss_N\"].mean()\n",
    "        avg_loss_psi = data_train_df.loc[eval_step:,\"Avg_loss_psi\"].mean()\n",
    "\n",
    "        print(\"avg_loss\", avg_loss)\n",
    "        print(\"avg_loss_r\", avg_loss_r)\n",
    "        print(\"avg_loss_N\", avg_loss_N)\n",
    "        print(\"avg_loss_psi\", avg_loss_psi)\n",
    "\n",
    "        results_best.append([avg_loss,avg_loss_r, avg_loss_N,avg_loss_psi , str(params)   ])\n",
    "    \n",
    "\n",
    "results_best"
   ]
  },
  {
   "cell_type": "code",
   "execution_count": null,
   "metadata": {
    "ExecuteTime": {
     "start_time": "2021-04-12T06:31:14.562Z"
    }
   },
   "outputs": [],
   "source": [
    "plt.figure(figsize=(5, 5))\n",
    "sns.lineplot(x=\"cum_step\", y=\"Avg_loss\", data=data_train_df, label=\"Avg_loss\" )\n",
    "sns.lineplot(x=\"cum_step\", y=\"Avg_loss_r\", data=data_train_df, label=\"Avg_loss_r\" )\n",
    "sns.lineplot(x=\"cum_step\", y=\"Avg_loss_N\", data=data_train_df , label=\"Avg_loss_N\")\n",
    "sns.lineplot(x=\"cum_step\", y=\"Avg_loss_psi\", data=data_train_df , label=\"Avg_loss_psi\")\n",
    "plt.legend()\n",
    "plt.show()"
   ]
  },
  {
   "cell_type": "code",
   "execution_count": null,
   "metadata": {
    "ExecuteTime": {
     "end_time": "2021-04-09T11:45:52.604962Z",
     "start_time": "2021-04-09T11:45:52.474620Z"
    }
   },
   "outputs": [],
   "source": []
  },
  {
   "cell_type": "code",
   "execution_count": null,
   "metadata": {
    "ExecuteTime": {
     "start_time": "2021-04-12T06:31:14.564Z"
    }
   },
   "outputs": [],
   "source": [
    "# data_results = pd.DataFrame(results, columns=[ \"Avg_loss\", \"Avg_loss_r\",\"Avg_loss_N\", \"Avg_loss_psi\", \"params\" ]     )\n",
    "# col = \"Avg_loss\"\n",
    "# df = data_results\n",
    "# fig, axs = plt.subplots(1, 1,figsize=(10, 5))\n",
    "# sns.boxplot( x=df[\"params\"], y=df[col] )\n",
    "# axs.set_xticklabels(df[\"params\"].unique(),  rotation=30, ha= 'right');"
   ]
  },
  {
   "cell_type": "markdown",
   "metadata": {},
   "source": [
    "## Q-learning"
   ]
  },
  {
   "cell_type": "code",
   "execution_count": null,
   "metadata": {
    "ExecuteTime": {
     "start_time": "2021-04-12T06:31:14.568Z"
    }
   },
   "outputs": [],
   "source": [
    "param_agent_simu = {}\n",
    "param_agent_simu = param_agent.copy()\n",
    "\n",
    "param_agent_simu[\"train_LSFM\"] = False\n",
    "param_agent_simu[\"double_model\"] = True\n",
    "param_agent_simu[\"train_on_Q_latent\"] = True\n",
    "param_agent_simu[\"model_Q_Lin\"] = True\n",
    "param_agent_simu[\"policy\"][\"eps-greedy\"][\"exponantial\"][\"lambda\"]=0.0005\n",
    "\n",
    "param_agent_simu[\"reset_LSFM\"] =  False\n",
    "param_agent_simu[\"reset_Q_model\"] =  True\n",
    "param_agent_simu[\"run\"] =  15"
   ]
  },
  {
   "cell_type": "code",
   "execution_count": null,
   "metadata": {
    "ExecuteTime": {
     "start_time": "2021-04-12T06:31:14.572Z"
    }
   },
   "outputs": [],
   "source": [
    "param_agent_simu"
   ]
  },
  {
   "cell_type": "markdown",
   "metadata": {},
   "source": [
    "### Linear latent Q-learning \n",
    "\n",
    "\n",
    " Train Q-function on __latent reward-predictive state space__ and on the _optimal policy_ to _maximize the dicounted sum of rewards_"
   ]
  },
  {
   "cell_type": "code",
   "execution_count": null,
   "metadata": {
    "ExecuteTime": {
     "start_time": "2021-04-12T06:31:14.576Z"
    },
    "scrolled": true
   },
   "outputs": [],
   "source": [
    "%%time\n",
    "param_agent_simu = {}\n",
    "param_agent_simu = param_agent.copy()\n",
    "\n",
    "param_agent_simu[\"train_LSFM\"] = False\n",
    "param_agent_simu[\"double_model\"] = True\n",
    "param_agent_simu[\"train_on_Q_latent\"] = True\n",
    "param_agent_simu[\"model_Q_Lin\"] = True\n",
    "param_agent_simu[\"policy\"][\"eps-greedy\"][\"exponantial\"][\"lambda\"]=0.0005\n",
    "\n",
    "param_agent_simu[\"reset_Q_model\"] =  False\n",
    "param_agent_simu[\"run\"] =  15\n",
    "\n",
    "param_agent_simu[\"reset_LSFM\"] =  False\n",
    "\n",
    "data = pd.DataFrame()\n",
    "\n",
    "for k in range(param_agent_simu[\"run\"]) : \n",
    "    agent_Q = Agent_Q(env, param_agent)\n",
    "    \n",
    "    result_compile = simu(env,param_agent_simu, agent, agent_Q)\n",
    "    data_train_df = pd.DataFrame(result_compile, columns=[ \n",
    "    \"Episode\", \n",
    "    \"Step\", \n",
    "    \"cum_step\",\n",
    "    \"Reward\", \n",
    "    \"Reward_cum\",\n",
    "    \"Eps\",  \n",
    "    \"Avg_loss\" ,  \n",
    "    \"Avg_loss_r\",  \n",
    "    \"Avg_loss_N\",  \n",
    "    \"Avg_loss_psi\"])\n",
    "\n",
    "    data_train_df[\"carac\"] = carac_model(param_agent_simu) \n",
    "    data_train_df[\"run\"] = k\n",
    "    data = pd.concat([data, data_train_df])\n",
    "\n",
    "data_Q_lat_state  = data.copy()\n",
    "    "
   ]
  },
  {
   "cell_type": "code",
   "execution_count": null,
   "metadata": {
    "ExecuteTime": {
     "start_time": "2021-04-12T06:31:14.580Z"
    }
   },
   "outputs": [],
   "source": [
    "data_stat, stat_all = plot_stat(data, param_agent_simu , \"Reward_cum\")\n",
    "box_plot(data, param_agent_simu, \"Reward_cum\")"
   ]
  },
  {
   "cell_type": "code",
   "execution_count": null,
   "metadata": {
    "ExecuteTime": {
     "start_time": "2021-04-12T06:31:14.583Z"
    }
   },
   "outputs": [],
   "source": [
    "data"
   ]
  },
  {
   "cell_type": "markdown",
   "metadata": {},
   "source": [
    "### Linear Q-learning  --- original state"
   ]
  },
  {
   "cell_type": "code",
   "execution_count": null,
   "metadata": {
    "ExecuteTime": {
     "start_time": "2021-04-12T06:31:14.587Z"
    }
   },
   "outputs": [],
   "source": [
    "%%time\n",
    "param_agent_simu = {}\n",
    "param_agent_simu = param_agent.copy()\n",
    "\n",
    "param_agent_simu[\"policy\"][\"type\"] = [\"eps-greedy\", \"exponantial\"]\n",
    "param_agent_simu[\"double_model\"] = True\n",
    "param_agent_simu[\"train_LSFM\"] = False\n",
    "param_agent_simu[\"train_on_Q_latent\"] = False\n",
    "param_agent_simu[\"model_Q_Lin\"] = True\n",
    "param_agent_simu[\"policy\"][\"eps-greedy\"][\"exponantial\"][\"lambda\"]=0.0005\n",
    "\n",
    "param_agent_simu[\"reset_Q_model\"] =  False\n",
    "\n",
    "data = pd.DataFrame()\n",
    "\n",
    "for k in range(10) : \n",
    "    agent_Q = Agent_Q(env, param_agent)\n",
    "\n",
    "    result_compile = simu(env,param_agent_simu, agent, agent_Q)\n",
    "    data_train_df = pd.DataFrame(result_compile, columns=[ \n",
    "    \"Episode\", \n",
    "    \"Step\", \n",
    "    \"cum_step\",\n",
    "    \"Reward\", \n",
    "    \"Reward_cum\",\n",
    "    \"Eps\",  \n",
    "    \"Avg_loss\" ,  \n",
    "    \"Avg_loss_r\",  \n",
    "    \"Avg_loss_N\",  \n",
    "    \"Avg_loss_psi\"])\n",
    "\n",
    "    data_train_df[\"carac\"] = carac_model(param_agent_simu) \n",
    "    data_train_df[\"run\"] = k\n",
    "    data = pd.concat([data, data_train_df])\n",
    "    \n",
    "data_Q_or_state  = data.copy()"
   ]
  },
  {
   "cell_type": "code",
   "execution_count": null,
   "metadata": {
    "ExecuteTime": {
     "start_time": "2021-04-12T06:31:14.591Z"
    }
   },
   "outputs": [],
   "source": [
    "data_stat, stat_all = plot_stat(data, param_agent_simu , \"Reward_cum\")\n",
    "box_plot(data, param_agent_simu , \"Reward_cum\")"
   ]
  },
  {
   "cell_type": "markdown",
   "metadata": {},
   "source": [
    "### Deep Q-learning  --- original state"
   ]
  },
  {
   "cell_type": "code",
   "execution_count": null,
   "metadata": {
    "ExecuteTime": {
     "start_time": "2021-04-12T06:31:14.595Z"
    },
    "scrolled": true
   },
   "outputs": [],
   "source": [
    "%%time\n",
    "\n",
    "param_agent_simu = param_agent.copy()\n",
    "\n",
    "param_agent_simu[\"policy\"][\"type\"] = [\"eps-greedy\", \"exponantial\"]\n",
    "param_agent_simu[\"double_model\"] = True\n",
    "param_agent_simu[\"train_LSFM\"] = False\n",
    "param_agent_simu[\"train_on_Q_latent\"] = False\n",
    "param_agent_simu[\"model_Q_Lin\"] = False\n",
    "param_agent_simu[\"policy\"][\"eps-greedy\"][\"exponantial\"][\"lambda\"]=0.0005\n",
    "\n",
    "param_agent_simu[\"reset_Q_model\"] =  False\n",
    "\n",
    "for k in range(10) : \n",
    "    agent_Q = Agent_Q(env, param_agent)\n",
    "\n",
    "    result_compile = simu(env,param_agent_simu, agent, agent_Q)\n",
    "    data_train_df = pd.DataFrame(result_compile, columns=[ \n",
    "    \"Episode\", \n",
    "    \"Step\", \n",
    "    \"cum_step\",\n",
    "    \"Reward\", \n",
    "    \"Reward_cum\",\n",
    "    \"Eps\",  \n",
    "    \"Avg_loss\" ,  \n",
    "    \"Avg_loss_r\",  \n",
    "    \"Avg_loss_N\",  \n",
    "    \"Avg_loss_psi\"])\n",
    "\n",
    "    data_train_df[\"carac\"] = carac_model(param_agent_simu) \n",
    "    data_train_df[\"run\"] = k\n",
    "    data = pd.concat([data, data_train_df])\n",
    "    \n",
    "    \n",
    "\n",
    "data_Deep_or_state  = data.copy()\n",
    "    \n",
    "# fig, axs = plt.subplots(2, 3,figsize=(15, 10))\n",
    "\n",
    "# sns.lineplot(x=\"cum_step\", y=\"Reward_cum\", data=data_train_df, ax = axs[0,0] )\n",
    "# sns.lineplot(x=\"cum_step\", y=\"Reward\", data=data_train_df, ax = axs[0,1] )\n",
    "# sns.lineplot(x=\"cum_step\", y=\"Avg_loss\", data=data_train_df, ax = axs[0,2] )\n",
    "# sns.lineplot(x=\"cum_step\", y=\"Eps\", data=data_train_df, ax = axs[1,0] )"
   ]
  },
  {
   "cell_type": "code",
   "execution_count": null,
   "metadata": {
    "ExecuteTime": {
     "start_time": "2021-04-12T06:31:14.598Z"
    }
   },
   "outputs": [],
   "source": [
    "data_stat, stat_all = plot_stat(data, param_agent_simu , \"Reward_cum\")\n",
    "box_plot(data, param_agent_simu, \"Reward_cum\")\n"
   ]
  },
  {
   "cell_type": "markdown",
   "metadata": {},
   "source": [
    "# results"
   ]
  },
  {
   "cell_type": "markdown",
   "metadata": {},
   "source": [
    "## compile results"
   ]
  },
  {
   "cell_type": "code",
   "execution_count": null,
   "metadata": {
    "ExecuteTime": {
     "start_time": "2021-04-12T06:31:14.603Z"
    }
   },
   "outputs": [],
   "source": [
    "data_Q_lat_state"
   ]
  },
  {
   "cell_type": "code",
   "execution_count": null,
   "metadata": {},
   "outputs": [],
   "source": []
  },
  {
   "cell_type": "code",
   "execution_count": null,
   "metadata": {
    "ExecuteTime": {
     "start_time": "2021-04-12T06:31:14.607Z"
    }
   },
   "outputs": [],
   "source": [
    "fig, axs = plt.subplots(2, 3,figsize=(15, 10))\n",
    "\n",
    "sns.lineplot(x=\"cum_step\", y=\"Reward_cum\", data=data_train_df, ax = axs[0,0] )\n",
    "sns.lineplot(x=\"cum_step\", y=\"Reward\", data=data_train_df, ax = axs[0,1] )\n",
    "sns.lineplot(x=\"cum_step\", y=\"Avg_loss\", data=data_train_df, ax = axs[0,2] )\n",
    "sns.lineplot(x=\"cum_step\", y=\"Eps\", data=data_train_df, ax = axs[1,0] )"
   ]
  },
  {
   "cell_type": "code",
   "execution_count": null,
   "metadata": {},
   "outputs": [],
   "source": []
  },
  {
   "cell_type": "markdown",
   "metadata": {},
   "source": [
    "## See results"
   ]
  },
  {
   "cell_type": "code",
   "execution_count": null,
   "metadata": {
    "ExecuteTime": {
     "start_time": "2021-04-12T06:31:14.612Z"
    }
   },
   "outputs": [],
   "source": [
    "# data_Q_or_state.loc[lambda df: df['Episode'] == 0]"
   ]
  },
  {
   "cell_type": "markdown",
   "metadata": {},
   "source": [
    "* Filter_done must be activate even for the learning of the LSFM model"
   ]
  },
  {
   "cell_type": "code",
   "execution_count": null,
   "metadata": {
    "ExecuteTime": {
     "end_time": "2021-04-06T12:32:01.036767Z",
     "start_time": "2021-04-06T12:32:01.033389Z"
    }
   },
   "outputs": [],
   "source": []
  },
  {
   "cell_type": "code",
   "execution_count": null,
   "metadata": {
    "ExecuteTime": {
     "end_time": "2021-04-06T12:32:21.585654Z",
     "start_time": "2021-04-06T12:32:21.378394Z"
    }
   },
   "outputs": [],
   "source": []
  },
  {
   "cell_type": "code",
   "execution_count": null,
   "metadata": {
    "ExecuteTime": {
     "start_time": "2021-04-12T06:31:14.618Z"
    },
    "scrolled": false
   },
   "outputs": [],
   "source": [
    "# param_agent_simu = {}\n",
    "# param_agent_simu = param_agent.copy()\n",
    "# param_agent_simu[\"train_LSFM\"] = False\n",
    "# param_agent_simu[\"train_on_Q_latent\"] = False\n",
    "# param_agent_simu[\"model_Q_Lin\"] = False\n",
    "# param_agent_simu[\"num_episodes\"] = 1\n",
    "# param_agent_simu[\"policy\"][\"type\"] = [\"eps-greedy\", \"constant\"]\n",
    "# param_agent_simu[\"policy\"][\"eps-greedy\"][\"constant\"][\"eps\"]=0.00\n",
    "# param_agent_simu[\"train\"]=False\n",
    "# param_agent_simu[\"render\"]=True\n",
    "# simu(env,param_agent_simu,agent)\n"
   ]
  },
  {
   "cell_type": "code",
   "execution_count": null,
   "metadata": {
    "ExecuteTime": {
     "start_time": "2021-04-12T06:31:14.620Z"
    }
   },
   "outputs": [],
   "source": [
    "\n",
    "# data_see_df = pd.DataFrame(result_compile, columns=[ \"Episode\", \"Step\", \"cum_step\", \"Reward\", \"Reward_cum\", \"Avg_loss\", \"Eps\"])\n",
    "\n",
    "\n",
    "# data_see_df.to_csv('data_see_df.csv', sep='\\t', encoding='utf-8')\n",
    "\n",
    "\n",
    "# import matplotlib.pyplot as plt\n",
    "\n",
    "# fig, axs = plt.subplots(2, 3,figsize=(15, 10))\n",
    "\n",
    "\n",
    "# plt.figure(figsize=(5, 5))\n",
    "# sns.lineplot(x=\"cum_step\", y=\"Reward_cum\", data=data_see_df, ax = axs[0,0] )\n",
    "# sns.lineplot(x=\"cum_step\", y=\"Reward\", data=data_see_df, ax = axs[0,1] )\n",
    "# sns.lineplot(x=\"cum_step\", y=\"Avg_loss\", data=data_see_df, ax = axs[0,2] )\n",
    "# sns.lineplot(x=\"cum_step\", y=\"Eps\", data=data_see_df, ax = axs[1,0] )"
   ]
  },
  {
   "cell_type": "code",
   "execution_count": null,
   "metadata": {
    "ExecuteTime": {
     "start_time": "2021-04-12T06:31:14.623Z"
    }
   },
   "outputs": [],
   "source": [
    "# env.close()"
   ]
  },
  {
   "cell_type": "code",
   "execution_count": null,
   "metadata": {},
   "outputs": [],
   "source": []
  },
  {
   "cell_type": "code",
   "execution_count": null,
   "metadata": {},
   "outputs": [],
   "source": []
  }
 ],
 "metadata": {
  "kernelspec": {
   "display_name": "Python 3",
   "language": "python",
   "name": "python3"
  },
  "language_info": {
   "codemirror_mode": {
    "name": "ipython",
    "version": 3
   },
   "file_extension": ".py",
   "mimetype": "text/x-python",
   "name": "python",
   "nbconvert_exporter": "python",
   "pygments_lexer": "ipython3",
   "version": "3.8.6"
  },
  "toc": {
   "base_numbering": 1,
   "nav_menu": {},
   "number_sections": true,
   "sideBar": true,
   "skip_h1_title": false,
   "title_cell": "Table of Contents",
   "title_sidebar": "Contents",
   "toc_cell": false,
   "toc_position": {
    "height": "calc(100% - 180px)",
    "left": "10px",
    "top": "150px",
    "width": "165px"
   },
   "toc_section_display": true,
   "toc_window_display": true
  },
  "varInspector": {
   "cols": {
    "lenName": 16,
    "lenType": 16,
    "lenVar": 40
   },
   "kernels_config": {
    "python": {
     "delete_cmd_postfix": "",
     "delete_cmd_prefix": "del ",
     "library": "var_list.py",
     "varRefreshCmd": "print(var_dic_list())"
    },
    "r": {
     "delete_cmd_postfix": ") ",
     "delete_cmd_prefix": "rm(",
     "library": "var_list.r",
     "varRefreshCmd": "cat(var_dic_list()) "
    }
   },
   "types_to_exclude": [
    "module",
    "function",
    "builtin_function_or_method",
    "instance",
    "_Feature"
   ],
   "window_display": false
  }
 },
 "nbformat": 4,
 "nbformat_minor": 4
}
