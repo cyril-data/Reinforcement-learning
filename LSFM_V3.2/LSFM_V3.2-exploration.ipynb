{
 "cells": [
  {
   "cell_type": "markdown",
   "metadata": {},
   "source": [
    "__Warning__\n",
    "********************************\n",
    "\n",
    "_LSFMs only evaluate SFs for a fixed target policy that selects actions uni-formly at random.  The learned model can then be used to predict the valuefunction of any arbitrary policy, including the optimal policy._\n",
    "\n",
    "_LSFMs do not include a value prediction module_\n",
    "\n",
    "_test different alpha for the loss_ : results : alpha_N = 1.0 / alpha_psi = 0.01\n",
    "\n",
    "*********************************\n",
    "\n",
    "__BUGS__\n",
    "Attention : ne pas faire de _reset_LSFM_ : probleme d'allocation de nouveau tenseur je pense"
   ]
  },
  {
   "cell_type": "markdown",
   "metadata": {},
   "source": [
    "# Commits and folder name"
   ]
  },
  {
   "cell_type": "markdown",
   "metadata": {},
   "source": [
    "hidden layer dimension (LSFM or DQN) = latent layer dimension = dim origine state space / .....\n",
    "\n",
    "Smaller env"
   ]
  },
  {
   "cell_type": "code",
   "execution_count": 1,
   "metadata": {
    "ExecuteTime": {
     "end_time": "2021-09-24T11:16:38.307866Z",
     "start_time": "2021-09-24T11:16:38.303992Z"
    }
   },
   "outputs": [],
   "source": [
    "from datetime import datetime\n",
    "\n",
    "# datetime object containing current date and time\n",
    "now = datetime.now()\n",
    " \n",
    "print(\"now =\", now)\n",
    "\n",
    "# dd/mm/YY H:M:S\n",
    "dt_string = now.strftime(\"%Y-%m-%d_%Hh-%Mm-%Ss\")\n",
    "print(\"date and time =\", dt_string)"
   ]
  },
  {
   "cell_type": "code",
   "execution_count": 2,
   "metadata": {
    "ExecuteTime": {
     "end_time": "2021-09-24T11:16:38.319380Z",
     "start_time": "2021-09-24T11:16:38.317155Z"
    }
   },
   "outputs": [],
   "source": [
    "folder_WORK = \"LSFM_V2.5_dim1.2-hidden_ratio_2\"+dt_string"
   ]
  },
  {
   "cell_type": "markdown",
   "metadata": {},
   "source": [
    "# Environment"
   ]
  },
  {
   "cell_type": "code",
   "execution_count": 3,
   "metadata": {
    "ExecuteTime": {
     "end_time": "2021-09-24T11:16:39.857220Z",
     "start_time": "2021-09-24T11:16:38.325110Z"
    }
   },
   "outputs": [
    {
     "data": {
      "text/plain": [
       "'float32'"
      ]
     },
     "execution_count": 3,
     "metadata": {},
     "output_type": "execute_result"
    }
   ],
   "source": [
    "import gym\n",
    "import tensorflow as tf\n",
    "from tensorflow import keras\n",
    "\n",
    "from tensorflow.keras import layers, Input\n",
    "\n",
    "from tensorflow.keras.layers import Lambda\n",
    "\n",
    "\n",
    "import random\n",
    "import numpy as np\n",
    "import datetime as dt\n",
    "import math\n",
    "\n",
    "import pandas as pd\n",
    "import seaborn as sns\n",
    "sns.set()\n",
    "\n",
    "\n",
    "import matplotlib.pyplot as plt\n",
    "from gridworld import SimpleGrid\n",
    "\n",
    "tf.keras.backend.floatx()\n",
    "\n",
    "tf.keras.backend.set_floatx('float32')\n",
    "tf.keras.backend.floatx()\n"
   ]
  },
  {
   "cell_type": "code",
   "execution_count": 4,
   "metadata": {
    "ExecuteTime": {
     "end_time": "2021-09-24T11:16:39.871180Z",
     "start_time": "2021-09-24T11:16:39.858683Z"
    }
   },
   "outputs": [],
   "source": [
    "class custom_env:\n",
    "\n",
    "    def __init__(self, env_name, param={}, state_dim = None, action_dim=None):\n",
    "        # Initialize atributes\n",
    "        self.env_name = env_name    # name of environment\n",
    "        self.param = param          # dictionarry of environment parameters\n",
    "\n",
    "        if (self.env_name == \"SimpleGrid\"):\n",
    "            self.env = SimpleGrid(self.param[\"grid_size\"],\n",
    "                                  block_pattern=self.param[\"pattern\"],\n",
    "                                  obs_mode=self.param[\"obs_mode\"])\n",
    "\n",
    "            self.state_space = gym.spaces.Discrete(4)\n",
    "            self.env.reset(\n",
    "                agent_pos=self.param[\"agent_pos\"], \n",
    "                goal_pos=self.param[\"goal_pos\"],\n",
    "                reward_pos=self.param[\"reward_pos\"],\n",
    "                reward_minmax = self.param[\"reward_minmax\"],\n",
    "                reward_user_defined = self.param[\"reward_user_defined\"]\n",
    "            )\n",
    "\n",
    "            self.state_type = \"Discrete\"\n",
    "            self.observation_space = gym.spaces.Discrete(\n",
    "                self.param[\"grid_size\"]**2)\n",
    "            \n",
    "            self.action_space = gym.spaces.Discrete(4)\n",
    "            self._action_dim = self.action_space.n\n",
    "            \n",
    "            \n",
    "        if (self.env_name.split(\"_\")[0] == \"gym\"):\n",
    "            gym_name = \"_\".join(self.env_name.split(\"_\")[1:])\n",
    "            self.env = gym.make(gym_name)\n",
    "            self.action_space = self.env.action_space\n",
    "            self._action_dim = self.action_space.n\n",
    "            if (type(self.env.observation_space) == gym.spaces.discrete.Discrete):\n",
    "                self.observation_space = self.env.observation_space\n",
    "                self.state_type = \"Discrete\"\n",
    "                                \n",
    "            else:\n",
    "                self.state_type = \"Continue\"\n",
    "\n",
    "        if (self.env_name == \"custom\"):\n",
    "            \n",
    "            self._action_dim = action_dim\n",
    "            self._state_dim = int(state_dim)\n",
    "            \n",
    "            self.state_type = \"custom\"\n",
    "            observation = np.random.uniform(low=0., high=1., size=(state_dim,))\n",
    "            \n",
    "        else :            \n",
    "            observation = self.reset()\n",
    "        \n",
    "        if self.state_type == \"Discrete\":\n",
    "            self._state_dim = int(self.observation_space.n)\n",
    "        else:\n",
    "            self._state_dim = int(len(observation))\n",
    "\n",
    "    def reset(self):\n",
    "        \n",
    "        \n",
    "        if self.state_type == \"Discrete\":\n",
    "            if (self.env_name == \"SimpleGrid\"):\n",
    "                self.env.reset(\n",
    "                agent_pos=self.param[\"agent_pos\"], \n",
    "                goal_pos=self.param[\"goal_pos\"],\n",
    "                reward_pos=self.param[\"reward_pos\"] ,\n",
    "                reward_minmax = self.param[\"reward_minmax\"],\n",
    "                reward_user_defined = self.param[\"reward_user_defined\"]\n",
    "                )\n",
    "                                \n",
    "                n = self.observation_space.n\n",
    "                return_reset = np.array(keras.utils.to_categorical(\n",
    "                    self.env.observation,   \n",
    "                    num_classes=n)).reshape(n)\n",
    "            else : \n",
    "                \n",
    "                state_res = self.env.reset()\n",
    "                \n",
    "                n = self.observation_space.n\n",
    "                return_reset = np.array(keras.utils.to_categorical(\n",
    "                    state_res, \n",
    "                    num_classes=n)).reshape(n)\n",
    "                \n",
    "        else : \n",
    "            return_reset = self.env.reset()\n",
    "        \n",
    "        return return_reset\n",
    "\n",
    "    def step(self, action):\n",
    "        \n",
    "                    \n",
    "        if self.state_type == \"Discrete\":\n",
    "            \n",
    "            if (self.env_name == \"SimpleGrid\"):\n",
    "                reward = self.env.step(action)\n",
    "                done = self.env.done\n",
    "                info = \"\"\n",
    "                n = self.observation_space.n\n",
    "                next_state = np.array(keras.utils.to_categorical(\n",
    "                    self.env.observation, \n",
    "                    num_classes=n)).reshape(n)\n",
    "\n",
    "                return_env = np.array(next_state), reward, done, info\n",
    "            \n",
    "            else :\n",
    "            \n",
    "                next_state, reward, done, info = self.env.step(action)\n",
    "\n",
    "                n = self.observation_space.n\n",
    "                next_state = np.array(keras.utils.to_categorical(\n",
    "                    next_state, \n",
    "                    num_classes=n)).reshape(n)\n",
    "\n",
    "                return_env = np.array(next_state), reward, done, info\n",
    "            \n",
    "        else:\n",
    "            return_env = self.env.step(action)\n",
    "\n",
    "        \n",
    "        return return_env\n",
    "        \n",
    "        \n",
    "    def render(self):\n",
    "        if (self.env_name == \"SimpleGrid\"):\n",
    "            \n",
    "            fig, ax = plt.subplots()\n",
    "            ax.imshow(self.env.grid)\n",
    "\n",
    "            # Minor ticks\n",
    "            ax.set_xticks(np.arange(-.5, (self._state_dim)**0.5 - 1, 1), minor=True)\n",
    "            ax.set_yticks(np.arange(-.5, (self._state_dim)**0.5 - 1, 1), minor=True)\n",
    "\n",
    "            # Gridlines based on minor ticks\n",
    "            ax.grid(which='both', color='w', linestyle='-', linewidth=1.5)\n",
    "            \n",
    "#             plt.close()\n",
    "            \n",
    "        if (self.env_name.split(\"_\")[0] == \"gym\"):\n",
    "            self.env.render()\n",
    "\n",
    "            \n",
    "    def render_state(self, state) : \n",
    "        if (self.env_name == \"SimpleGrid\"):\n",
    "            \n",
    "            fig, ax = plt.subplots()\n",
    "            ax.imshow(self.env.grid_state(state))\n",
    "\n",
    "            # Minor ticks\n",
    "            ax.set_xticks(np.arange(-.5, (self._state_dim)**0.5 - 1, 1), minor=True)\n",
    "            ax.set_yticks(np.arange(-.5, (self._state_dim)**0.5 - 1, 1), minor=True)\n",
    "\n",
    "            # Gridlines based on minor ticks\n",
    "            ax.grid(which='both', color='w', linestyle='-', linewidth=1.5)\n",
    "        \n",
    "        \n",
    "    def close(self):\n",
    "        if (self.env_name.split(\"_\")[0] == \"gym\"):\n",
    "            self.env.close()\n"
   ]
  },
  {
   "cell_type": "markdown",
   "metadata": {},
   "source": [
    "# Agents"
   ]
  },
  {
   "cell_type": "code",
   "execution_count": null,
   "metadata": {},
   "outputs": [],
   "source": []
  },
  {
   "cell_type": "code",
   "execution_count": 5,
   "metadata": {
    "ExecuteTime": {
     "end_time": "2021-09-24T11:16:39.879104Z",
     "start_time": "2021-09-24T11:16:39.873069Z"
    }
   },
   "outputs": [
    {
     "data": {
      "text/plain": [
       "[1]"
      ]
     },
     "execution_count": 5,
     "metadata": {},
     "output_type": "execute_result"
    }
   ],
   "source": [
    "import random\n",
    "\n",
    "numberList = [0,1]\n",
    "sample = random.choices(numberList, weights=(1-0.8, 0.8), k=10000)\n",
    "sample.count(0) /len(sample), sample.count(1) /len(sample)\n",
    "\n",
    "eigen_exploitation = 0.8\n",
    "random.choices(numberList, weights=(1.-eigen_exploitation, eigen_exploitation))"
   ]
  },
  {
   "cell_type": "code",
   "execution_count": null,
   "metadata": {},
   "outputs": [],
   "source": []
  },
  {
   "cell_type": "code",
   "execution_count": null,
   "metadata": {},
   "outputs": [],
   "source": []
  },
  {
   "cell_type": "markdown",
   "metadata": {},
   "source": [
    "## LSFM"
   ]
  },
  {
   "cell_type": "code",
   "execution_count": 6,
   "metadata": {
    "ExecuteTime": {
     "end_time": "2021-09-24T11:16:39.885920Z",
     "start_time": "2021-09-24T11:16:39.880788Z"
    }
   },
   "outputs": [],
   "source": [
    "\n",
    "    \n",
    "def my_init(shape,nb_action, dtype=None):\n",
    "    \n",
    "    initializer_zero = tf.keras.initializers.Zeros()\n",
    "    F = tf.Variable(\n",
    "        initial_value=initializer_zero(shape=shape, dtype=dtype))\n",
    "    \n",
    "\n",
    "    Fa_reshape = tf.Variable(tf.reshape(F, (F.shape[0],nb_action,F.shape[0])))\n",
    "\n",
    "    initializer_Id = tf.keras.initializers.Identity()\n",
    "    Id = initializer_Id(shape=(shape[0], int(shape[1]/nb_action)))\n",
    "    \n",
    "    \n",
    "    for k in range(nb_action) : \n",
    "        Fa_reshape[:,k,:].assign(Id)\n",
    "        \n",
    "\n",
    "        \n",
    "        \n",
    "    return tf.reshape(Fa_reshape, shape)\n",
    "    \n",
    "\n",
    "class My_init:\n",
    "    \n",
    "    def __init__(self, shape, nb_action):\n",
    "        self.shape = shape\n",
    "        self.nb_action = nb_action\n",
    "        \n",
    "    def __call__(self, shape, dtype=None):\n",
    "        return my_init(self.shape, self.nb_action, dtype=dtype)\n",
    "\n",
    "def discretize(r, reward_parser) : \n",
    "    k = 0\n",
    "    while r > sorted(reward_parser)[k] : \n",
    "        k+=1\n",
    "        if k > len(reward_parser)-1 : \n",
    "            break\n",
    "    return k\n",
    "\n",
    "def discretize_batch(batch, reward_parser)  : \n",
    "    return tf.map_fn(lambda x: discretize(x, reward_parser), batch,  fn_output_signature=tf.int32)\n",
    "#     keras.utils.get_custom_objects().update(custom_objects)\n",
    "# from tensorflow.keras.utils import get_custom_objects\n",
    "# get_custom_objects().update({'custom_initializer': My_init})"
   ]
  },
  {
   "cell_type": "code",
   "execution_count": 7,
   "metadata": {
    "ExecuteTime": {
     "end_time": "2021-09-24T11:16:39.922769Z",
     "start_time": "2021-09-24T11:16:39.887420Z"
    }
   },
   "outputs": [],
   "source": [
    "\n",
    "\n",
    "class Agent:\n",
    "    \n",
    "        \n",
    "    def __init__(self, environment, param={}, save_model_path = None):\n",
    "        self.environment = environment\n",
    "        self.param = param\n",
    "        self._action_size = environment._action_dim\n",
    "        self._state_dim = environment._state_dim\n",
    "        self.dim_latent = self.param[\"latent_space\"]\n",
    "        self.hidden_dim = int(self.param[\"latent_space\"] * self.param[\"hidden_dim_ratio\"])\n",
    "        self.batch_size = self.param[\"batch_size\"]\n",
    "        self.reward_parser = self.param[\"reward_parser\"]\n",
    "#         no Eigenoption discovery by default\n",
    "        self.eigenoption = [-1]\n",
    "        self.eigenoption_number = self.param[\"eigenoption_number\"]\n",
    "        self.error_phisp1 = 0.\n",
    "        self.discoverNegation = self.param[\"discoverNegation\"]\n",
    "        self.eigen_exploitation = self.param[\"eigen_exploitation\"]\n",
    "        self.negation_vect = False\n",
    "        \n",
    "        \n",
    "        self.fig, self.ax = plt.subplots()\n",
    "        \n",
    "        \n",
    "#         LSFM model for construction of a reward-predictive space representation  \n",
    "#         LSFM must be train on policy independant of state\n",
    "        layers_inputs = []\n",
    "        input_state = Input(shape=(self._state_dim,), name=\"input_state\")\n",
    "        \n",
    "        layers_inputs.append(input_state)\n",
    "    \n",
    "        x = layers.Dense(self.hidden_dim, activation='relu', name=\"hidden_latent\")(input_state)\n",
    "        layer_latent = layers.Dense(self.dim_latent, activation='relu', name=\"latent\")(x)\n",
    "        \n",
    "#         layer_latent = input_state\n",
    "        layers_ouputs = {}\n",
    "        \n",
    "        \n",
    "\n",
    "        # init Identity Fa Matrix          \n",
    "        shape = (layer_latent.shape[-1], layer_latent.shape[-1] * self._action_size)\n",
    "        x = layers.Dense(\n",
    "            layer_latent.shape[-1] * self._action_size,\n",
    "            use_bias=False, \n",
    "            name = \"Fa\", \n",
    "            kernel_initializer=My_init(shape, self._action_size)\n",
    "#             kernel_initializer=my_init(shape,self._action_size)\n",
    "        )(layer_latent)\n",
    "        \n",
    "        layers_ouputs[\"Fa\"] = layers.Reshape((self._action_size, layer_latent.shape[-1]))(x)\n",
    "        \n",
    "#         classification on rewards\n",
    "        x  = layers.Dense(self._action_size * (len(self.reward_parser)+2),use_bias=False, name = \"ra\")(layer_latent)\n",
    "        x = layers.Reshape((self._action_size, len(self.reward_parser)+2))(x)\n",
    "#         layers_ouputs[\"ra\"]  = Lambda(lambda x: tf.keras.activations.softmax(x, axis=2))(x)\n",
    "        layers_ouputs[\"ra\"] = tf.keras.activations.softmax(x, axis=2)\n",
    "\n",
    "        \n",
    "#         out of phi\n",
    "        layers_ouputs[\"phi\"] = layer_latent    \n",
    "        \n",
    "        \n",
    "        \n",
    "        \n",
    "#         ---------------------------------------------------------------------------\n",
    "#         Ma layers : transition state latent matrices\n",
    "        initializer_zero = tf.keras.initializers.Zeros()\n",
    "        \n",
    "#         x_1_stop_grad = Lambda(lambda x: tf.stop_gradient(x),name=\"Stop_grad_prop\")(layer_latent)\n",
    "        \n",
    "        x_1_stop_grad = layer_latent\n",
    "        tf.stop_gradient(x_1_stop_grad)\n",
    "        \n",
    "        \n",
    "        \n",
    "        shape = (layer_latent.shape[-1], layer_latent.shape[-1] * self._action_size)\n",
    "        x = layers.Dense(\n",
    "            layer_latent.shape[-1] * self._action_size,\n",
    "            use_bias=False, \n",
    "            name = \"Ma\", \n",
    "            kernel_initializer=initializer_zero\n",
    "#             kernel_initializer=my_init(shape,self._action_size)\n",
    "        )(x_1_stop_grad)\n",
    "        layers_ouputs[\"Ma\"] = layers.Reshape((self._action_size, layer_latent.shape[-1]))(x)\n",
    "#         ---------------------------------------------------------------------------\n",
    "        \n",
    "    \n",
    "    \n",
    "#         Model compilation\n",
    "        self.model_LSFM = keras.Model(inputs=input_state, outputs=layers_ouputs, name=\"model_LSFM\")  \n",
    "#         In case we activate the double model as in DQN\n",
    "        self.model_LSFM_prev = keras.Model(inputs=input_state, outputs=layers_ouputs, name=\"model_LSFM_prev\")   \n",
    "        \n",
    "        \n",
    "        if save_model_path != None : \n",
    "            self.model_LSFM.load_weights(save_model_path)\n",
    "            self.model_LSFM_prev.load_weights(save_model_path)\n",
    "        \n",
    "         # Initialize policy\n",
    "            \n",
    "            \n",
    "        if (self.param[\"policy\"][\"type\"][0] == \"eps-greedy\"):\n",
    "            self.policy = \"eps-greedy\"\n",
    "\n",
    "            if (self.param[\"policy\"][\"type\"][1] == \"exponantial\"):\n",
    "                self.pi_1 = \"exponantial\"\n",
    "\n",
    "                self.epsilon = self.param[\"policy\"][self.policy][self.pi_1][\"eps_max\"]\n",
    "                self.eps_max = self.param[\"policy\"][self.policy][self.pi_1][\"eps_max\"]\n",
    "                self.eps_min = self.param[\"policy\"][self.policy][self.pi_1][\"eps_min\"]\n",
    "                self._lambda = self.param[\"policy\"][self.policy][self.pi_1][\"lambda\"]\n",
    "\n",
    "            if (self.param[\"policy\"][\"type\"][1] == \"constant\"):\n",
    "                self.pi_1 = \"constant\"\n",
    "                self.epsilon = self.param[\"policy\"][self.policy][self.pi_1][\"eps\"]\n",
    "        \n",
    "    def choose_action(self, state, model_Q, steps, possible_action):\n",
    "        \n",
    "        if (self.policy == \"eps-greedy\"):\n",
    "            if (self.pi_1 == \"exponantial\"):\n",
    "                self.epsilon = self.eps_min + \\\n",
    "                    (self.eps_max - self.eps_min) * \\\n",
    "                    math.exp(-self._lambda * steps)\n",
    "\n",
    "            if random.random() < self.epsilon:\n",
    "                return random.randint(0, self._action_size - 1), self.epsilon\n",
    "            else:\n",
    "                \n",
    "                action_greedy, eps = self.choose_action_greedy(state, model_Q, steps, possible_action)\n",
    "                \n",
    "                return action_greedy, self.epsilon\n",
    "             \n",
    "    def choose_action_random(self):\n",
    "        return random.randint(0, self._action_size - 1), self.epsilon\n",
    "            \n",
    "    def choose_action_greedy(self, state, model_Q , steps, possible_action):\n",
    "\n",
    "        Q_values = model_Q(state.reshape(1, -1))\n",
    "#         print(\"Q_values , a\", Q_values,np.argmax(Q_values) )       \n",
    "        return np.argmax(Q_values), self.epsilon\n",
    "\n",
    "    def get_from_actions( self, states, actions, model, var) : \n",
    "        \n",
    "        var_all_a = model(states)[var]\n",
    "        aggr = []\n",
    "        for k in range(var_all_a.shape[0]) : \n",
    "            aggr.append(var_all_a[k, actions[k]])\n",
    "        \n",
    "        return tf.stack(aggr, axis=0)\n",
    "    \n",
    "    \n",
    "    \n",
    "    def target_psi(self, model, states,actions, next_states,terminate,rewards, filter_done):\n",
    "\n",
    "        psi = model(states)[\"Fa\"]\n",
    "        \n",
    "        psi_prime = model(next_states)[\"Fa\"]\n",
    "        \n",
    "        psi_bar = tf.math.reduce_mean(psi_prime, axis=1 )\n",
    "        \n",
    "        phi = model(states)[\"phi\"] \n",
    "        \n",
    "#         if model_prev is None:\n",
    "#             psi_bar = self.psi_bar(next_states, action_space, model) \n",
    "#         else : \n",
    "#             psi_bar = self.psi_bar_prev(next_states, action_space, model, model_prev         \n",
    "        #  filter_done = True : - we don't take into account terminal states : \n",
    "        #                       - creation of a filter to determine whitch episode of batch is a terminal state\n",
    "        #  filter_done = False : we take into account all states\n",
    "        \n",
    "        if filter_done  : \n",
    "            \n",
    "            gamma_psibar = tf.multiply(self.param[\"gamma\"],psi_bar)\n",
    "            \n",
    "            filter_idxs = tf.dtypes.cast(tf.logical_not(terminate), tf.float32)\n",
    "\n",
    "            filter_expand  = tf.transpose(tf.tile(\n",
    "                tf.reshape(filter_idxs, (1,-1) ), [gamma_psibar.shape[1],1]\n",
    "            ))\n",
    "\n",
    "            gamma_psibar_filter = tf.math.multiply(filter_expand, gamma_psibar)\n",
    "            \n",
    "            y = tf.add(\n",
    "                phi, \n",
    "                gamma_psibar_filter\n",
    "            )\n",
    "            \n",
    "        else : \n",
    "            \n",
    "            y = tf.add(\n",
    "                phi, \n",
    "                tf.multiply(\n",
    "                        self.param[\"gamma\"],\n",
    "                        psi_bar\n",
    "                ) \n",
    "            )\n",
    "            \n",
    "        return y\n",
    "\n",
    "    def loss_mse(self,y_true,y_pred) : \n",
    "        return keras.losses.mean_squared_error(y_true,y_pred)\n",
    "            \n",
    "        \n",
    "    def loss_classif(self,y_true,  y_pred) : \n",
    "        scce = tf.keras.losses.SparseCategoricalCrossentropy()\n",
    "        return scce(y_true, y_pred)\n",
    "        \n",
    "    def loss_N(self,y_pred) : \n",
    "        vector_ONE = tf.constant(1., shape=y_pred.shape[0], dtype = y_pred.dtype)\n",
    "        loss =    tf.pow(tf.subtract(tf.norm(y_pred, axis=1), vector_ONE ), 2.) \n",
    "        return loss\n",
    "        \n",
    "    def losses_all(self,states, actions, rewards, next_states, target_psi, model) : \n",
    "        \n",
    "        \n",
    "        alpha_r = self.param[\"alpha_r\"]\n",
    "        alpha_N = self.param[\"alpha_N\"]\n",
    "        alpha_psi = self.param[\"alpha_psi\"]  \n",
    "        alpha_phi = self.param[\"alpha_phi\"]  \n",
    "        \n",
    "        \n",
    "        \n",
    "        logits_r = self.get_from_actions( states, actions, model, \"ra\")\n",
    "        target_r = discretize_batch(rewards, self.reward_parser)\n",
    "        loss_r =  self.loss_classif(target_r, logits_r)\n",
    "\n",
    "        logits_N = model(states)[\"phi\"]\n",
    "        loss_N =  self.loss_N(logits_N)\n",
    "\n",
    "        logits_psi = self.get_from_actions( states, actions, model, \"Fa\")\n",
    "        loss_psi = self.loss_mse( target_psi, logits_psi )\n",
    "\n",
    "        logits_phi = self.get_from_actions( states, actions, model, \"Ma\")            \n",
    "        loss_phi = self.loss_mse(  model(next_states)[\"phi\"]  , logits_phi)\n",
    "\n",
    "        loss_tot = alpha_r * loss_r + alpha_N * loss_N + alpha_psi * loss_psi + alpha_phi *loss_phi\n",
    "        \n",
    "        return loss_tot, loss_r ,  loss_N , loss_psi , loss_phi\n",
    "    \n",
    "    def train_LSFM(self, model, memory, filter_done):\n",
    "        if memory.num_samples < self.batch_size * 3:\n",
    "            return [0,0,0,0,0]\n",
    "        batch = memory.sample(self.batch_size)\n",
    "        \n",
    "        action_space = np.arange(self._action_size)\n",
    "#        tensor conversion\n",
    "        states = tf.convert_to_tensor(np.array([val[0] for val in batch]))\n",
    "        \n",
    "        action_mask = batch[1]\n",
    "        actions = tf.convert_to_tensor(np.array([val[2] for val in batch]))\n",
    "        rewards = tf.convert_to_tensor(np.array([val[3] for val in batch]).astype(np.float32))\n",
    "        next_states = tf.convert_to_tensor(np.array([(np.zeros(self._state_dim)\n",
    "                                 if val[3] is None else val[4]) for val in batch]))\n",
    "        terminate = tf.convert_to_tensor(np.array([val[5] for val in batch]))\n",
    "    \n",
    "#         actions = tf.convert_to_tensor(np.array([val[1] for val in batch]))\n",
    "#         rewards = tf.convert_to_tensor(np.array([val[2] for val in batch]).astype(np.float32))\n",
    "#         next_states = tf.convert_to_tensor(np.array([(np.zeros(self._state_dim)\n",
    "#                                  if val[3] is None else val[3]) for val in batch]))\n",
    "#         terminate = tf.convert_to_tensor(np.array([val[4] for val in batch]))\n",
    "\n",
    "        \n",
    "        #         ************* A Calculate Loss on reward and normalisation first  *******************\n",
    "        # 1) calculate the losses \n",
    "            \n",
    "        target_psi = self.target_psi(model, states,actions, next_states,terminate,rewards, filter_done)\n",
    "        \n",
    "        \n",
    "        with tf.GradientTape() as tape:\n",
    "            loss_tot, loss_r ,  loss_N , loss_psi , loss_phi = self.losses_all(\n",
    "                states, actions, rewards,next_states, target_psi, model)\n",
    "#             logits_r = self.get_from_actions( states, actions, model, \"ra\")\n",
    "#             target_r = discretize_batch(rewards, self.reward_parser)\n",
    "#             loss_r =  self.loss_classif(target_r, logits_r)\n",
    "\n",
    "#             logits_N = model(states)[\"phi\"]\n",
    "#             loss_N =  self.loss_N(logits_N)\n",
    "\n",
    "#             logits_psi = self.get_from_actions( states, actions, model, \"Fa\")\n",
    "#             loss_psi = self.loss_mse( target_psi, logits_psi )\n",
    "            \n",
    "#             logits_phi = self.get_from_actions( states, actions, model, \"Ma\")            \n",
    "#             loss_phi = self.loss_mse(  model(next_states)[\"phi\"]  , logits_phi)\n",
    "\n",
    "#             loss_tot = alpha_r * loss_r + alpha_N * loss_N + alpha_psi * loss_psi + alpha_phi * loss_phi\n",
    "        \n",
    "        # 2) : calculate the gradient   \n",
    "        grads = tape.gradient(loss_tot, model.trainable_weights) \n",
    "        \n",
    "#         print(\"grads\", grads)\n",
    "\n",
    "        # 3) : apply the gradient \n",
    "        self.param[\"optimizer_LSFM\"].apply_gradients(zip(grads, model.trainable_weights)) \n",
    "        \n",
    "        \n",
    "        \n",
    "        \n",
    "        \n",
    "        #         ****************************************************\n",
    "\n",
    "#         if model_prev is not None:\n",
    "#             # update model_prev parameters slowly from model (primary network) \n",
    "#             for t, e in zip(model_prev.trainable_variables, model.trainable_variables):\n",
    "#                 t.assign(\n",
    "#                     tf.add(\n",
    "#                         tf.multiply(\n",
    "#                             t,(1 - self.param[\"tau\"]) \n",
    "#                         ), \n",
    "#                         tf.multiply(\n",
    "#                             e , self.param[\"tau\"]  \n",
    "#                         )\n",
    "#                     ) \n",
    "#                 )\n",
    "        \n",
    "        return [tf.reduce_mean(loss_tot).numpy(), \n",
    "                tf.reduce_mean(loss_r).numpy(), \n",
    "                tf.reduce_mean(loss_N).numpy(), \n",
    "                tf.reduce_mean(loss_psi).numpy(), \n",
    "                tf.reduce_mean(loss_phi).numpy()]\n",
    "\n",
    "\n",
    "\n",
    "#     def M_transi(self, model) : \n",
    "        \n",
    "#         for idl, layer in enumerate(model.layers):\n",
    "#             name_a = \"Fa\"\n",
    "#             if layer.name == name_a :         \n",
    "#                 Fa = layer.weights[0]\n",
    "\n",
    "#         Fa_reshape = tf.reshape(Fa, (Fa.shape[0],self._action_size,Fa.shape[0]))\n",
    "#         F_bar = tf.math.reduce_mean( Fa_reshape, axis=1 )\n",
    "\n",
    "#         I = tf.eye(F_bar.shape[0], dtype=tf.dtypes.float32)\n",
    "#         gamma = self.param[\"gamma\"]\n",
    "        \n",
    "        \n",
    "#         Mlist = []\n",
    "        \n",
    "#         for a in range(Fa_reshape.shape[1]) :\n",
    "\n",
    "#             MaFbar = tf.multiply(1./gamma , ( Fa_reshape[:,a,:] - I ))\n",
    "\n",
    "#             Ma = tf.matmul( MaFbar , tf.linalg.inv(F_bar)   )\n",
    "\n",
    "#             Mlist.append(Ma)\n",
    "        \n",
    "#         self.M = tf.stack(Mlist, axis=0)\n",
    "        \n",
    "#         return self.M\n",
    "    \n",
    "    \n",
    "#     def next_states_pred(self, model, states,actions) : \n",
    "        \n",
    "#         phi = model(states)[\"phi\"] \n",
    "\n",
    "#         M = self.M\n",
    "\n",
    "#         aggr = []\n",
    "        \n",
    "        \n",
    "#         for k in range(states.shape[0]) : \n",
    "#             phik = tf.reshape(phi[k], (1, phi.shape[1]))\n",
    "#             Ma=tf.matmul(phik, M[actions[k]])   \n",
    "#             Ma = tf.reshape(Ma, (Ma.shape[1]))\n",
    "\n",
    "#             aggr.append(Ma)\n",
    "            \n",
    "#         return tf.stack(aggr, axis=0)\n",
    "        \n",
    "\n",
    "    def next_phi_pred(self, model, phis,actions) : \n",
    "        \n",
    "        for idl, layer in enumerate(model.layers):\n",
    "            name_a = \"Ma\"\n",
    "            if layer.name == name_a :         \n",
    "                Ma = layer.weights[0]\n",
    "\n",
    "        Ma_reshape = tf.reshape(Ma, (Ma.shape[0],self._action_size,Ma.shape[0]))\n",
    "\n",
    "        agrr = []\n",
    "\n",
    "        for k, action in enumerate(actions) : \n",
    "            agrr.append( tf.reshape((tf.matmul(tf.reshape(phis[k], (1,-1)), Ma_reshape[:,action,:])), (-1)) )\n",
    "        #     agrr.append( tf.matmul(tf.reshape(phi[k], (1,-1)), Ma_reshape[:,action,:]))\n",
    "        phisp1_pred = tf.stack(agrr, axis=0)\n",
    "        \n",
    "        return phisp1_pred\n",
    "        \n",
    "        \n",
    "        \n",
    "        \n",
    "\n",
    "    def rewards_latent( self, phi,model) : \n",
    "        for idl, layer in enumerate(model.layers):\n",
    "            name_a = \"ra\"\n",
    "            if layer.name == name_a : \n",
    "                wa = layer.weights[0]\n",
    "\n",
    "        var_all_a = tf.matmul( phi , wa   )\n",
    "\n",
    "        var_all_a_reshape = tf.reshape(\n",
    "            var_all_a, (var_all_a.shape[0], self._action_size, len(self.reward_parser)+2), name=None\n",
    "        )\n",
    "\n",
    "        out = []\n",
    "\n",
    "        for k in range(var_all_a_reshape.shape[0]) : \n",
    "\n",
    "            out.append(Lambda(lambda x: tf.keras.activations.softmax(x, axis=2))(var_all_a_reshape[k]))\n",
    "\n",
    "        return tf.stack(out, axis=0)\n",
    "    \n",
    "    \n",
    "    def next_rewards( self, phi, actions, model) : \n",
    "        rew = self.rewards_latent( phi, model)\n",
    "\n",
    "        out = []\n",
    "        for k in range(rew.shape[0]) : \n",
    "            out.append(rew[k,actions[k] ])\n",
    "            \n",
    "        return tf.stack(out, axis=0)\n",
    "    \n",
    "\n",
    "    def F_bar( self, model) : \n",
    "        for idl, layer in enumerate(model.layers):\n",
    "            name_a = \"Fa\"\n",
    "            if layer.name == name_a :         \n",
    "                Fa = layer.weights[0]\n",
    "        Fa_reshape = tf.reshape(Fa, (Fa.shape[0],self._action_size,Fa.shape[0]))\n",
    "        F_bar = tf.math.reduce_mean( Fa_reshape, axis=1 )\n",
    "        return F_bar\n",
    "\n",
    "\n",
    "    def eigen_decomp( self, model) : \n",
    "        F_bar = self.F_bar(model)\n",
    "        d, u, v = tf.linalg.svd(F_bar, full_matrices=True, compute_uv=True)\n",
    "        \n",
    "        self.eigenvalue = d\n",
    "            \n",
    "        self.eigenvect = tf.transpose(u)\n",
    "        \n",
    "        return self.eigenvalue , self.eigenvect\n",
    "    \n",
    "    def eigenpurpose( self,model, phis, phisp1, eigvalue = 0, negation_vect = False) : \n",
    "#         print(\"eigvalue\", eigvalue)\n",
    "\n",
    "        eigenvect = self.eigenvect[eigvalue]\n",
    "    \n",
    "        if negation_vect : \n",
    "            eigenvect = -1 * self.eigenvect[eigvalue]\n",
    "            \n",
    "            \n",
    "        \n",
    "        \n",
    "#         print(\"phisp1-phis\", np.array(tf.transpose(phisp1-phis)))\n",
    "#         print(\"eigenvect\", np.array(tf.reshape(eigenvect, (1,-1))))\n",
    "#         print(\"eigen phisp1\", np.array(tf.matmul(tf.reshape(eigenvect, (1,-1)), tf.transpose(phisp1))[0]))\n",
    "#         print(\"eigen phi\", np.array(tf.matmul(tf.reshape(eigenvect, (1,-1)), tf.transpose(phi))[0]))\n",
    "\n",
    "        return tf.matmul(tf.reshape(eigenvect, (1,-1)), tf.transpose(phisp1-phis))[0]\n",
    "    \n",
    "    def intrinsec_rewards( self, model, phis, actions, eigvalue = 0, negation_vect = False) : \n",
    "        \n",
    "        phisp1 = self.next_phi_pred(model, phis,actions)   \n",
    "#         print(\"phi : \", np.array(phis))\n",
    "#         print(\"next_phi_pred : \", np.array(phisp1))\n",
    "        \n",
    "        \n",
    "        return self.eigenpurpose(model, phis, phisp1,eigvalue, negation_vect )\n",
    "        \n",
    "        \n",
    "    def one_step_greedy_eigenpurpose(self, model, phis, mask_action,  eigvalue = 0, negation_vect = False) : \n",
    "        # do a one-step lookahead and act greedily with respect to the eigenpurpose\n",
    "        # the one-step lookahead is done by the prediction of next latent state\n",
    "        agrr = []\n",
    "        switcher={\n",
    "            0:\"Up\",\n",
    "            1:\"Down\",\n",
    "            2:\"Left\",\n",
    "            3:\"Right\"\n",
    "            }\n",
    "        for action in np.where(np.array(mask_action) > 0)[0] : \n",
    "#             print(\" \\n\\n\\n action\", switcher[action])\n",
    "            actions = tf.constant(action, dtype=tf.int32, shape=(phis.shape[0]))\n",
    "            rew = self.intrinsec_rewards(model, phis, actions, eigvalue, negation_vect)\n",
    "            agrr.append(rew)\n",
    "            \n",
    "#             print(\"reward : \", np.array(rew), \"\\n**************\\n\\n\")\n",
    "            \n",
    "            \n",
    "        next_possible_phis =  tf.stack(agrr, axis=0)\n",
    "        \n",
    "#         print(\"next_possible_phis\", np.array(next_possible_phis))\n",
    "        \n",
    "        action_greedy = tf.math.argmax(next_possible_phis, 0)\n",
    "        \n",
    "        \n",
    "#         print(\"action_greedy\", np.array(action_greedy))\n",
    "        \n",
    "        intrisec_reward_max = tf.reduce_max(next_possible_phis, 0)\n",
    "\n",
    "#         print(\"intrisec_reward_max\", np.array(intrisec_reward_max))\n",
    "        \n",
    "        terminate =  tf.where(intrisec_reward_max <= self.error_phisp1)[:,0]\n",
    "                \n",
    "        \n",
    "        \n",
    "        aggr = []\n",
    "        aggr_eioption = []\n",
    "        for k in range(action_greedy.shape[0]) : \n",
    "            if k in terminate : \n",
    "                aggr.append(random.choice(np.where(np.array(mask_action) > 0)[0]))\n",
    "                aggr_eioption.append(-1)\n",
    "            else : \n",
    "                aggr.append( tf.keras.backend.get_value(action_greedy[k]))\n",
    "                aggr_eioption.append( tf.keras.backend.get_value(self.eigenoption[k])     )\n",
    "\n",
    "        self.eigenoption = tf.stack(aggr_eioption, axis=0)    \n",
    "        action_greedy_mask = tf.stack(aggr, axis=0)\n",
    "        \n",
    "#         print(\"terminate greedy\", np.array(terminate))\n",
    "#         print(\"action_greedy_mask\", switcher[np.array(action_greedy_mask)[0]])\n",
    "        \n",
    "        return action_greedy_mask\n",
    "    \n",
    "    def eigenbehavior(self, model, phis, mask_action, steps) : \n",
    "        \n",
    "        if self.eigenoption[0] == -1 :             \n",
    "#             choose the random action because eigen value option = -1\n",
    "            actions = []\n",
    "            for k in range(phis.shape[0]) : \n",
    "                actions.append(random.choice(np.where(np.array(mask_action) > 0)[0]))\n",
    "            \n",
    "            if (self.policy == \"eps-greedy\"):\n",
    "                if (self.param[\"policy\"][\"type\"][1] == \"exponantial\"):\n",
    "                    self.eigen_exploitation = self.eps_min + (self.eps_max - self.eps_min) * \\\n",
    "                        math.exp(-self._lambda * steps)\n",
    "                   \n",
    "            \n",
    "            \n",
    "            \n",
    "#           Once the random action is taken, choose between a option or random action (1-ei_expl / ei_expl) \n",
    "            eigenchoice = random.choices(\n",
    "                numberList, weights=(1.- self.eigen_exploitation, self.eigen_exploitation))[0]\n",
    "    \n",
    "    \n",
    "    \n",
    "    \n",
    "    \n",
    "            if eigenchoice == 1 :    \n",
    "                if self.eigenoption_number>1 : self.eigenoption = [\n",
    "                    random.randint(0,self.eigenoption_number - 1)]\n",
    "#          take the negative eigen vect orientation if self.negation_vect = True\n",
    "                if self.discoverNegation  : self.negation_vect = random.choice([True, False])\n",
    "            \n",
    "        else : \n",
    "            \n",
    "            actions = self.one_step_greedy_eigenpurpose(\n",
    "                model, \n",
    "                phis, \n",
    "                mask_action,  \n",
    "                eigvalue = self.eigenoption[0], \n",
    "                negation_vect = self.negation_vect )\n",
    "#             print(\"action optiondiscovery\", np.array(actions))\n",
    "            \n",
    "        return np.array(actions)\n",
    "    \n",
    "    def exploration_online(self, model, phis, mask_action, steps, start_eigenoption = 300) :\n",
    "        if steps <= start_eigenoption : \n",
    "            return [random.randint(0, self._action_size - 1)]\n",
    "        else : \n",
    "            return self.eigenbehavior(model, phis, mask_action, steps)\n",
    "        \n",
    "        \n",
    "    \n",
    "    def visu_grid(self,visu_state, grid_size, axs) : \n",
    "\n",
    "        axs.imshow(visu_state, aspect=\"auto\")\n",
    "\n",
    "        axs.set_xticks(np.arange(-.5, grid_size - 1, 1), minor=True)\n",
    "        axs.set_yticks(np.arange(-.5, grid_size - 1, 1), minor=True)\n",
    "        axs.grid(which='both', color='w', linestyle='-', linewidth=1.5)\n",
    "\n",
    "\n",
    "        axs.tick_params(left=False,\n",
    "                    bottom=False,\n",
    "                    labelleft=False,\n",
    "                    labelbottom=False)\n",
    "\n",
    "\n",
    "\n",
    "\n",
    "    def plot_eigenvect(self, model_LSFM, file) :\n",
    "\n",
    "\n",
    "        n_eigen_value = self.eigenoption_number\n",
    "\n",
    "        ncol = 5\n",
    "        nrow = int(n_eigen_value / ncol) + 1\n",
    "\n",
    "        value, vect = self.eigen_decomp(model_LSFM)\n",
    "\n",
    "        n = self._state_dim\n",
    "        ngrid = int(n**0.5)\n",
    "\n",
    "\n",
    "        fig, axs = plt.subplots(nrow, ncol , figsize=(5*ncol, 5*ncol * nrow/ncol))\n",
    "        for idx in range(n_eigen_value) : \n",
    "            \n",
    "            grid_size = ngrid\n",
    "            \n",
    "            visu_state = tf.reshape(vect[ idx ], (ngrid, ngrid))\n",
    "            \n",
    "            \n",
    "            axs[idx//ncol,idx%ncol].imshow(visu_state, aspect=\"auto\")\n",
    "\n",
    "            axs[idx//ncol,idx%ncol].set_xticks(np.arange(-.5, grid_size - 1, 1), minor=True)\n",
    "            axs[idx//ncol,idx%ncol].set_yticks(np.arange(-.5, grid_size - 1, 1), minor=True)\n",
    "            axs[idx//ncol,idx%ncol].grid(which='both', color='w', linestyle='-', linewidth=1.5)\n",
    "            axs[idx//ncol,idx%ncol].tick_params(left=False,\n",
    "                        bottom=False,\n",
    "                        labelleft=False,\n",
    "                        labelbottom=False)\n",
    "            \n",
    "            \n",
    "            \n",
    "#             self.visu_grid(tf.reshape(vect[ idx ], (ngrid, ngrid)) ,ngrid, axs[idx//ncol,idx%ncol]) \n",
    "        \n",
    "        \n",
    "        fig.savefig(file)\n",
    "        \n",
    "        plt.close()\n",
    "        \n",
    "        return value, vect\n",
    "        \n",
    "    "
   ]
  },
  {
   "cell_type": "markdown",
   "metadata": {},
   "source": [
    "## Qlearning"
   ]
  },
  {
   "cell_type": "code",
   "execution_count": 8,
   "metadata": {
    "ExecuteTime": {
     "end_time": "2021-09-24T11:16:39.938882Z",
     "start_time": "2021-09-24T11:16:39.924682Z"
    }
   },
   "outputs": [],
   "source": [
    "\n",
    "class Agent_Q:\n",
    "    \n",
    "        \n",
    "    def __init__(self, environment, param = {}, save_model=None):\n",
    "        self.param = param\n",
    "        self._action_size = environment.action_space.n\n",
    "        self._state_dim = environment._state_dim\n",
    "        self.dim_latent = self.param[\"latent_space\"]\n",
    "        self.hidden_dim = int(self.param[\"latent_space\"] * self.param[\"hidden_dim_ratio\"])\n",
    "        self.batch_size = self.param[\"batch_size\"]\n",
    "\n",
    "        \n",
    "        if save_model == None : \n",
    "            if  param[\"model_Q_Lin\"] : \n",
    "                print(\"Agent_Q.model : initialization model_Q_Lin\")\n",
    "                self.model = keras.Sequential()\n",
    "                self.model.add(layers.Dense(self._action_size, use_bias=False))\n",
    "                self.model_prev = keras.models.clone_model(self.model)\n",
    "                \n",
    "\n",
    "                \n",
    "            else : \n",
    "                print(\"Agent_Q.model : initialization model_DQN\")\n",
    "            \n",
    "                self.model = keras.Sequential()\n",
    "                self.model.add(layers.Dense(self.dim_latent, activation=\"relu\", name=\"latent\"))\n",
    "                self.model.add(layers.Dense(self._action_size))\n",
    "                self.model_prev = keras.models.clone_model(self.model)\n",
    "        else : \n",
    "            print(\"Agent_Q.model : load model \")\n",
    "\n",
    "            self.model               = keras.models.load_model(save_model)\n",
    "            self.model_prev          = keras.models.load_model(save_model)\n",
    "            \n",
    "            for i in range(len(self.model.layers)-1):\n",
    "                print(\"layers name\",i,  self.model.layers[i].name)\n",
    "                self.model.layers[i].trainable = False  \n",
    "                self.model_prev.layers[i].trainable = False  \n",
    "\n",
    "            \n",
    "         # Initialize policy\n",
    "            \n",
    "            \n",
    "        if (self.param[\"policy\"][\"type\"][0] == \"eps-greedy\"):\n",
    "            self.policy = \"eps-greedy\"\n",
    "\n",
    "            if (self.param[\"policy\"][\"type\"][1] == \"exponantial\"):\n",
    "                self.pi_1 = \"exponantial\"\n",
    "\n",
    "                self.epsilon = self.param[\"policy\"][self.policy][self.pi_1][\"eps_max\"]\n",
    "                self.eps_max = self.param[\"policy\"][self.policy][self.pi_1][\"eps_max\"]\n",
    "                self.eps_min = self.param[\"policy\"][self.policy][self.pi_1][\"eps_min\"]\n",
    "                self._lambda = self.param[\"policy\"][self.policy][self.pi_1][\"lambda\"]\n",
    "\n",
    "            if (self.param[\"policy\"][\"type\"][1] == \"constant\"):\n",
    "                self.pi_1 = \"constant\"\n",
    "                self.epsilon = self.param[\"policy\"][self.policy][self.pi_1][\"eps\"]\n",
    "        \n",
    "        \n",
    "        \n",
    "    def choose_action(self, state, model_Q, steps, possible_action):\n",
    "        \n",
    "        if (self.policy == \"eps-greedy\"):\n",
    "            if (self.pi_1 == \"exponantial\"):\n",
    "                self.epsilon = self.eps_min + \\\n",
    "                    (self.eps_max - self.eps_min) * \\\n",
    "                    math.exp(-self._lambda * steps)\n",
    "\n",
    "            if random.random() < self.epsilon:\n",
    "                return random.randint(0, self._action_size - 1), self.epsilon\n",
    "            else:\n",
    "                \n",
    "                action_greedy, eps = self.choose_action_greedy(state, model_Q, steps, possible_action)\n",
    "                \n",
    "                return action_greedy, self.epsilon\n",
    "             \n",
    "    def choose_action_random(self):\n",
    "        return random.randint(0, self._action_size - 1), self.epsilon\n",
    "            \n",
    "    def choose_action_greedy(self, state, model_Q , steps, possible_action):\n",
    "\n",
    "        Q_values = model_Q(state.reshape(1, -1))\n",
    "#         print(\"Q_values , a\", Q_values,np.argmax(Q_values) )       \n",
    "        return np.argmax(Q_values), self.epsilon\n",
    "\n",
    "    def get_from_actions( self, states, actions, model, var) : \n",
    "        var_all_a = model(states)[var]\n",
    "        aggr = []\n",
    "        for k in range(var_all_a.shape[0]) : \n",
    "            aggr.append(var_all_a[k, actions[k]])\n",
    "        return tf.convert_to_tensor(aggr)\n",
    "    \n",
    "    \n",
    "    \n",
    "        \n",
    "\n",
    "    def loss_mse(self,y_pred,y_true) : \n",
    "        return keras.losses.mean_squared_error(y_pred,y_true)\n",
    "            \n",
    "        \n",
    "\n",
    "#           ************************************************\n",
    "#           target_Q on latent reward-predictive state space\n",
    "#           ************************************************\n",
    "    def target_Q(self, model_Q, model_Q_prev, states,actions, next_states,terminate,rewards):\n",
    "        \n",
    "        \n",
    "        \n",
    "#       prediction of Q(s,*) and Q(s',*)\n",
    "        prim_qt =  model_Q(states)\n",
    "        prim_qtp1 = model_Q_prev(next_states)\n",
    "        \n",
    "#       creation of a filter to determine whitch episode of batch is a terminal state\n",
    "        filter_idxs = tf.dtypes.cast(tf.logical_not(terminate), tf.float32)\n",
    "        \n",
    "#       recompose id of the batch \n",
    "        batch_idxs = tf.range(self.batch_size)\n",
    "\n",
    "        if model_Q_prev is None:\n",
    "#          updates =  rewards + gamma * max(  Q(s',*)   )\n",
    "#          for s not terminated\n",
    "            updates = tf.add(\n",
    "                rewards ,tf.multiply(\n",
    "                    filter_idxs ,tf.multiply(\n",
    "                        self.param[\"gamma\"], tf.reduce_max(prim_qtp1, axis=1)\n",
    "                    )\n",
    "                ) \n",
    "            )\n",
    "            \n",
    "        else:\n",
    "#          updates =  rewards + gamma * max(  Q^old(s',*))\n",
    "#          for s not terminated\n",
    "\n",
    "            prim_action_tp1 = tf.argmax(prim_qtp1, axis=1)\n",
    "            q_from_target = model_Q_prev(next_states)\n",
    "            indices = np.transpose(np.array([batch_idxs,prim_action_tp1]))\n",
    "            \n",
    "            updates = tf.add(\n",
    "                rewards ,tf.multiply(\n",
    "                    filter_idxs ,tf.multiply(\n",
    "                        self.param[\"gamma\"], tf.gather_nd(q_from_target, indices)\n",
    "                    )\n",
    "                ) \n",
    "            )\n",
    "\n",
    "#       create the target_q / \n",
    "#                           target_q = Q(s,*) \n",
    "#                           target_q[batch_idxs,actions] = updates\n",
    "        indices = np.transpose(np.array([batch_idxs,actions]))\n",
    "        target_q = tf.tensor_scatter_nd_update(prim_qt, indices, updates)\n",
    "                \n",
    "        return target_q\n",
    "#         calculate the loss : prim_qt / target_q\n",
    "\n",
    "\n",
    "#           ***********************************************\n",
    "#           train_Q on latent reward-predictive state space\n",
    "#           ***********************************************\n",
    "\n",
    "    def train_Q(self, model_Q, model_Q_prev, memory, filter_done):\n",
    "        if memory.num_samples < self.batch_size * 3:\n",
    "            return 0\n",
    "        batch = memory.sample(self.batch_size)\n",
    "        \n",
    "#        tensor conversion\n",
    "        states = tf.convert_to_tensor(np.array([val[0] for val in batch]))\n",
    "        actions = tf.convert_to_tensor(np.array([val[1] for val in batch]))\n",
    "        rewards = tf.convert_to_tensor(np.array([val[2] for val in batch]).astype(np.float32))        \n",
    "        next_states = tf.convert_to_tensor(np.array([val[3] for val in batch]))\n",
    "        terminate = tf.convert_to_tensor(np.array([val[4] for val in batch]))\n",
    "\n",
    "\n",
    "        target_Q = self.target_Q(model_Q, \n",
    "            model_Q_prev, \n",
    "            states,\n",
    "            actions, \n",
    "            next_states,\n",
    "            terminate,\n",
    "            rewards)       \n",
    "        \n",
    "        with tf.GradientTape(persistent=True) as tape:\n",
    "            \n",
    "            logits = model_Q(states)\n",
    "            \n",
    "            loss = self.loss_mse(logits, target_Q )\n",
    "        #         *****************************************************\n",
    "\n",
    "        grads = tape.gradient(loss, model_Q.trainable_weights)\n",
    "    \n",
    "        self.param[\"optimizer_Q\"].apply_gradients(zip(grads, model_Q.trainable_weights))            \n",
    "         \n",
    "            \n",
    "        if model_Q_prev is not None:\n",
    "            # update target network parameters slowly from primary network\n",
    "            \n",
    "            for t, e in zip(model_Q_prev.trainable_variables, model_Q.trainable_variables):\n",
    "                t.assign(\n",
    "                    tf.add(\n",
    "                        tf.multiply(\n",
    "                            t,(1 - self.param[\"tau\"]) \n",
    "                        ), \n",
    "                        tf.multiply(\n",
    "                            e , self.param[\"tau\"]  \n",
    "                        )\n",
    "                    ) \n",
    "                )\n",
    "\n",
    "        return tf.reduce_mean(loss).numpy()\n",
    "    \n",
    "        "
   ]
  },
  {
   "cell_type": "markdown",
   "metadata": {},
   "source": [
    "# Memory : storage"
   ]
  },
  {
   "cell_type": "code",
   "execution_count": 9,
   "metadata": {
    "ExecuteTime": {
     "end_time": "2021-09-24T11:16:39.945165Z",
     "start_time": "2021-09-24T11:16:39.940133Z"
    }
   },
   "outputs": [],
   "source": [
    "import csv\n",
    "\n",
    "class Memory:\n",
    "        \n",
    "    def __init__(self, max_memory, buffer_input=None):\n",
    "        self._max_memory = max_memory\n",
    "        \n",
    "        if buffer_input==None : self._samples = []\n",
    "        else : self._samples = buffer_input\n",
    "            \n",
    "    def add_sample(self, sample):\n",
    "        self._samples.append(sample)\n",
    "        if len(self._samples) > self._max_memory:\n",
    "            self._samples.pop(0)\n",
    "\n",
    "    def sample(self, no_samples):\n",
    "        if no_samples > len(self._samples):\n",
    "            return random.sample(self._samples, len(self._samples))\n",
    "        else:\n",
    "            return random.sample(self._samples, no_samples)\n",
    "            \n",
    "    def reset(self):\n",
    "        self._samples = []\n",
    "        \n",
    "    def write(self, file) : \n",
    "        \n",
    "        with open(file, 'w', newline=\"\") as file:\n",
    "            writer = csv.DictWriter(\n",
    "                file,\n",
    "                fieldnames=[\"observation\", \"action_mask\", \"action\", \"reward\",\"new_observation\", \"finished\"],\n",
    "            )\n",
    "            writer.writeheader()\n",
    "            \n",
    "            for idrow,row in enumerate(self._samples) : \n",
    "                \n",
    "                observation = f\"[{','.join(str(float(x)) for x in  row[0])}]\"\n",
    "                action_mask = f\"[{','.join(str(int(x)) for x in  row[1])}]\"\n",
    "                action = row[2]\n",
    "                reward = row[3]\n",
    "                new_observation = f\"[{','.join(str(float(x)) for x in  row[4])}]\"\n",
    "                finished = row[5]\n",
    "                \n",
    "                writer.writerow(\n",
    "                {\n",
    "                    \"observation\": observation,\n",
    "                    \"action_mask\": action_mask,\n",
    "                    \"action\": action,\n",
    "                    \"reward\": reward,\n",
    "                    \"new_observation\": new_observation,\n",
    "                    \"finished\": finished,\n",
    "                })\n",
    "\n",
    "    @property\n",
    "    def num_samples(self):\n",
    "        return len(self._samples)\n"
   ]
  },
  {
   "cell_type": "markdown",
   "metadata": {},
   "source": [
    "# Visu environment and models"
   ]
  },
  {
   "cell_type": "markdown",
   "metadata": {},
   "source": [
    "## param environnement"
   ]
  },
  {
   "cell_type": "code",
   "execution_count": 10,
   "metadata": {
    "ExecuteTime": {
     "end_time": "2021-09-24T11:16:39.951440Z",
     "start_time": "2021-09-24T11:16:39.947836Z"
    }
   },
   "outputs": [],
   "source": [
    "\n",
    "# param_env = {\n",
    "#     \"agent_pos\":[0, 0], \n",
    "#     \"goal_pos\":[[9,0] ],\n",
    "#     \"reward_minmax\":[-1.,1.],\n",
    "#     \"reward_pos\":[[0, 0],[0, 1],[0, 2],[0, 3],[0, 4],[0, 5],[0, 6],[0, 7],[0, 8],[0, 9], \n",
    "#                   [1, 0],[1, 1],[1, 2],[1, 3],[1, 4],[1, 5],[1, 6],[1, 7],[1, 8],[1, 9], \n",
    "#                                                             [2, 6],[2, 7],[2, 8],[2, 9], \n",
    "#                                                             [3, 6],[3, 7],[3, 8],[3, 9], \n",
    "#                                                             [4, 6],[4, 7],[4, 8],[4, 9], \n",
    "#                                                             [5, 6],[5, 7],[5, 8],[5, 9], \n",
    "#                                                             [6, 6],[6, 7],[6, 8],[6, 9], \n",
    "#                                                             [7, 6],[7, 7],[7, 8],[7, 9], \n",
    "#                   [8, 0],[8, 1],[8, 2],[8, 3],[8, 4],[8, 5],[8, 6],[8, 7],[8, 8],[8, 9], \n",
    "#                   [9, 0],[9, 1],[9, 2],[9, 3],[9, 4],[9, 5],[9, 6],[9, 7],[9, 8],[9, 9]],\n",
    "#     \"grid_size\" : 10,\n",
    "#     \"pattern\": \"empty\",\n",
    "# #     \"pattern\":[\"user_defined\", [ [2,0],[2,1],[2,2],[2,3],[2,4],[2,5],\n",
    "# #                                [7,0],[7,1],[7,2],[7,3],[7,4],[7,5]]],\n",
    "#     \"obs_mode\":\"index\",\n",
    "# }\n",
    "\n",
    "# param_env = {\n",
    "#     \"agent_pos\":[0, 0], \n",
    "#     \"goal_pos\":[[5,0] ],\n",
    "#     \"reward_minmax\":[-1.,0.],\n",
    "#     \"reward_user_defined\":True,\n",
    "#     \"reward_pos\":[[0, 0],[0, 1],[0, 2],[0, 3],[0, 4],[0, 5], \n",
    "#                   [1, 0],[1, 1],[1, 2],[1, 3],[1, 4],[1, 5], \n",
    "#                                               [2, 4],[2, 5], \n",
    "#                                               [3, 4],[3, 5], \n",
    "#                   [4, 0],[4, 1],[4, 2],[4, 3],[4, 4],[4, 5], \n",
    "#                   [5, 0],[5, 1],[5, 2],[5, 3],[5, 4],[5, 5]],\n",
    "#     \"grid_size\" : 6,\n",
    "#     \"pattern\": \"empty\",\n",
    "#     \"obs_mode\":\"index\",\n",
    "# }\n",
    "\n",
    "# param_env = {\n",
    "#     \"agent_pos\":[0, 0], \n",
    "#     \"goal_pos\":[[5,0] ],\n",
    "#     \"reward_pos\": [[5,0] ],\n",
    "#     \"grid_size\" : 6,\n",
    "#     \"reward_minmax\":[0.,0.],\n",
    "#     \"reward_user_defined\":False,\n",
    "#     \"pattern\":\"empty\",\n",
    "#     \"obs_mode\":\"index\",\n",
    "# }\n",
    "\n",
    "\n",
    "param_env = {\n",
    "    \"agent_pos\":[0, 0], \n",
    "    \"goal_pos\":[[10,10] ],\n",
    "    \"reward_minmax\":[0.,0.],\n",
    "    \"reward_user_defined\":False,\n",
    "    \"reward_pos\":None,\n",
    "    \"grid_size\" : 11,\n",
    "    \"pattern\": \"four_rooms\",\n",
    "    \"obs_mode\":\"index\",\n",
    "}\n",
    "\n",
    "\n",
    "# param_env = {\n",
    "#     \"agent_pos\":[0, 0], \n",
    "#     \"goal_pos\":[[10,0] ],\n",
    "#     \"reward_minmax\":[-1.,0.],\n",
    "#     \"reward_user_defined\":True,\n",
    "#     \"reward_pos\":[\n",
    "#         [0, 0],[0, 1],[0, 2],[0, 3],[0, 4],[0, 5],[0, 6],[0, 7],[0, 8],[0, 9],[0, 10],\n",
    "#         [1, 0],[1, 1],[1, 2],[1, 3],[1, 4],[1, 5],[1, 6],[1, 7],[1, 8],[1, 9],[1, 10],\n",
    "#                                                                 [2, 8],[2, 9],[2, 10],\n",
    "#                                                                 [3, 8],[3, 9],[3, 10],\n",
    "#                                                                 [4, 8],[4, 9],[4, 10],\n",
    "#                                                                 [5, 8],[5, 9],[5, 10],\n",
    "#                                                                 [6, 8],[6, 9],[6, 10],\n",
    "#                                                                 [7, 8],[7, 9],[7, 10],\n",
    "#                                                                 [8, 8],[8, 9],[8, 10],\n",
    "#         [9, 0],[9, 1],[9, 2],[9, 3],[9, 4],[9, 5],[9, 6],[9, 7],[9, 8],[9, 9],[9, 10],\n",
    "#         [10,0],[10,1],[10,2],[10,3],[10,4],[10,5],[10,6],[10,7],[10,8],[10,9],[10,10]\n",
    "#                 ],\n",
    "#     \"grid_size\" : 11,\n",
    "#     \"pattern\": \"empty\",\n",
    "#     \"obs_mode\":\"index\",\n",
    "# }\n",
    "\n",
    "\n",
    "\n",
    "env_name = \"SimpleGrid\"\n",
    "env = custom_env(env_name, param_env)\n",
    "\n",
    "environment = env\n"
   ]
  },
  {
   "cell_type": "code",
   "execution_count": 11,
   "metadata": {
    "ExecuteTime": {
     "end_time": "2021-09-24T11:16:39.956833Z",
     "start_time": "2021-09-24T11:16:39.953284Z"
    }
   },
   "outputs": [],
   "source": [
    "\n",
    "\n",
    "\n",
    "\n",
    "\n",
    "\n",
    "def init_count(environment) : \n",
    "\n",
    "        \n",
    "    states_free_tab = []\n",
    "    n = environment._state_dim\n",
    "    grid_size = n**0.5\n",
    "\n",
    "    \n",
    "    \n",
    "    states_block = [point[0] * grid_size + point[1] for point in environment.env.blocks]\n",
    "    \n",
    "    for i in range(n) :\n",
    "         if i not in states_block : \n",
    "            states_free_tab.append(i)\n",
    "    \n",
    "    states_free_tab = np.array(states_free_tab) \n",
    "    \n",
    "    count_explore = np.zeros(len(states_free_tab))\n",
    "    \n",
    "    return count_explore, states_free_tab\n",
    "\n",
    "\n",
    "\n",
    "def exploration_count(state, count_explore,states_free_tab ) : \n",
    "    \n",
    "    count = count_explore\n",
    "    i = np.where(state>0)[0][0]\n",
    "    i_free_state = np.where(np.array(states_free_tab) == i)[0][0]\n",
    "    count[i_free_state]+=1\n",
    "    return count\n",
    "\n",
    "\n"
   ]
  },
  {
   "cell_type": "markdown",
   "metadata": {},
   "source": [
    "## latent dimension"
   ]
  },
  {
   "cell_type": "code",
   "execution_count": null,
   "metadata": {
    "ExecuteTime": {
     "end_time": "2021-09-16T06:33:56.272787Z",
     "start_time": "2021-09-16T06:33:56.271285Z"
    }
   },
   "outputs": [],
   "source": [
    "\n",
    "\n"
   ]
  },
  {
   "cell_type": "markdown",
   "metadata": {},
   "source": [
    "## param"
   ]
  },
  {
   "cell_type": "code",
   "execution_count": null,
   "metadata": {},
   "outputs": [],
   "source": []
  },
  {
   "cell_type": "code",
   "execution_count": 12,
   "metadata": {
    "ExecuteTime": {
     "end_time": "2021-09-24T11:16:42.087156Z",
     "start_time": "2021-09-24T11:16:39.958334Z"
    },
    "scrolled": true
   },
   "outputs": [
    {
     "name": "stdout",
     "output_type": "stream",
     "text": [
      "action 1\n",
      " 0 - Up  /  1 - Down  /  2 - Left  / 3 - Right\n",
      "reward 0.0\n",
      "done False\n",
      "action 1\n",
      " 0 - Up  /  1 - Down  /  2 - Left  / 3 - Right\n",
      "reward 0.0\n",
      "done False\n",
      "action 1\n",
      " 0 - Up  /  1 - Down  /  2 - Left  / 3 - Right\n",
      "reward 0.0\n",
      "done False\n",
      "action 1\n",
      " 0 - Up  /  1 - Down  /  2 - Left  / 3 - Right\n",
      "reward 0.0\n",
      "done False\n",
      "action 1\n",
      " 0 - Up  /  1 - Down  /  2 - Left  / 3 - Right\n",
      "reward 0.0\n",
      "done False\n",
      "action 1\n",
      " 0 - Up  /  1 - Down  /  2 - Left  / 3 - Right\n",
      "reward 0.0\n",
      "done False\n",
      "action 1\n",
      " 0 - Up  /  1 - Down  /  2 - Left  / 3 - Right\n",
      "reward 0.0\n",
      "done False\n",
      "action 1\n",
      " 0 - Up  /  1 - Down  /  2 - Left  / 3 - Right\n",
      "reward 0.0\n",
      "done False\n",
      "action 1\n",
      " 0 - Up  /  1 - Down  /  2 - Left  / 3 - Right\n",
      "reward 0.0\n",
      "done False\n",
      "action 1\n",
      " 0 - Up  /  1 - Down  /  2 - Left  / 3 - Right\n",
      "reward 0.0\n",
      "done False\n"
     ]
    },
    {
     "data": {
      "image/png": "[encoded data removed]",
      "text/plain": [
       "<Figure size 432x288 with 1 Axes>"
      ]
     },
     "metadata": {},
     "output_type": "display_data"
    },
    {
     "data": {
      "image/png": "[encoded data removed]",
      "text/plain": [
       "<Figure size 432x288 with 1 Axes>"
      ]
     },
     "metadata": {},
     "output_type": "display_data"
    },
    {
     "data": {
      "image/png": "[encoded data removed]",
      "text/plain": [
       "<Figure size 432x288 with 1 Axes>"
      ]
     },
     "metadata": {},
     "output_type": "display_data"
    },
    {
     "data": {
      "image/png": "[encoded data removed]",
      "text/plain": [
       "<Figure size 432x288 with 1 Axes>"
      ]
     },
     "metadata": {},
     "output_type": "display_data"
    },
    {
     "data": {
      "image/png": "[encoded data removed]",
      "text/plain": [
       "<Figure size 432x288 with 1 Axes>"
      ]
     },
     "metadata": {},
     "output_type": "display_data"
    },
    {
     "data": {
      "image/png": "[encoded data removed]",
      "text/plain": [
       "<Figure size 432x288 with 1 Axes>"
      ]
     },
     "metadata": {},
     "output_type": "display_data"
    },
    {
     "data": {
      "image/png": "[encoded data removed]",
      "text/plain": [
       "<Figure size 432x288 with 1 Axes>"
      ]
     },
     "metadata": {},
     "output_type": "display_data"
    },
    {
     "data": {
      "image/png": "[encoded data removed]",
      "text/plain": [
       "<Figure size 432x288 with 1 Axes>"
      ]
     },
     "metadata": {},
     "output_type": "display_data"
    },
    {
     "data": {
      "image/png": "[encoded data removed]",
      "text/plain": [
       "<Figure size 432x288 with 1 Axes>"
      ]
     },
     "metadata": {},
     "output_type": "display_data"
    },
    {
     "data": {
      "image/png": "[encoded data removed]",
      "text/plain": [
       "<Figure size 432x288 with 1 Axes>"
      ]
     },
     "metadata": {},
     "output_type": "display_data"
    },
    {
     "data": {
      "image/png": "[encoded data removed]",
      "text/plain": [
       "<Figure size 432x288 with 1 Axes>"
      ]
     },
     "metadata": {},
     "output_type": "display_data"
    },
    {
     "data": {
      "image/png": "[encoded data removed]",
      "text/plain": [
       "<Figure size 432x288 with 1 Axes>"
      ]
     },
     "metadata": {},
     "output_type": "display_data"
    }
   ],
   "source": [
    "# latent_dimension = int(env._state_dim / 1.2)\n",
    "latent_dimension = 100\n",
    "hidden_ratio = 2.\n",
    "param_agent = {\n",
    "    \"gamma\": 0.90,\n",
    "    \"optimizer_LSFM\": keras.optimizers.Adam(),\n",
    "    \"optimizer_Q\": keras.optimizers.Adam(),\n",
    "    \"alpha_r\" : 1.,\n",
    "    \"alpha_N\" : 0.1,\n",
    "    \"alpha_psi\" : 0.01,\n",
    "    \"alpha_phi\" : 0.01,\n",
    "    \"policy\": {\n",
    "        \"type\": [\"eps-greedy\", \"exponantial\"],\n",
    "        \"eps-greedy\": {\n",
    "            \"exponantial\": {\n",
    "                \"eps_max\": 1.,\n",
    "                \"eps_min\": 0.01,\n",
    "                \"lambda\": 0.002\n",
    "            },\n",
    "            \"constant\": {\n",
    "                \"eps\": 0.01\n",
    "            }\n",
    "        }\n",
    "    },\n",
    "    \"memory\" : 500000,\n",
    "    \"latent_space\": latent_dimension,\n",
    "    \"hidden_dim_ratio\": hidden_ratio,\n",
    "    \"num_episodes\" : 100,\n",
    "    \"batch_size\" : 32,\n",
    "    \"double_model\" : True,\n",
    "    \"tau\": 0.08,\n",
    "    \"filter_done\" : True,\n",
    "    \"train_LSFM\" : True,\n",
    "    \"train_on_Q_latent\": True,\n",
    "    \"model_Q_Lin\": True,\n",
    "    \"train\" : True,\n",
    "    \"RANDOM_REWARD_STD\" : -1.0, \n",
    "    \"reward_parser\" : [-1.5,-0.5,0.5,1.5],\n",
    "    \"eigenoption_number\" : 8,\n",
    "    \"eigen_exploitation\" : 0.5,\n",
    "    \"discoverNegation\" : True,\n",
    "    \"render\" : False,\n",
    "}\n",
    "\n",
    "agent = Agent(env, param_agent)\n",
    "\n",
    "\n",
    "state = env.reset()\n",
    "env.render()\n",
    "actions_down = [1,1,1,1,1,1,1,1,1,1,1,1,1,1,1]\n",
    "for i in range(10) : \n",
    "    action = actions_down[i]\n",
    "    next_state, reward, done, info = env.step(action)\n",
    "\n",
    "    print(\"action\", action)\n",
    "    print(\" 0 - Up  /  1 - Down  /  2 - Left  / 3 - Right\")\n",
    "#     print(\"next_state\", next_state)\n",
    "    print(\"reward\", reward)\n",
    "    print(\"done\", done)\n",
    "    env.render()\n",
    "    \n",
    "    state = next_state\n",
    "\n"
   ]
  },
  {
   "cell_type": "code",
   "execution_count": null,
   "metadata": {
    "ExecuteTime": {
     "end_time": "2021-09-17T06:23:55.631698Z",
     "start_time": "2021-09-17T06:23:55.628757Z"
    }
   },
   "outputs": [],
   "source": []
  },
  {
   "cell_type": "code",
   "execution_count": null,
   "metadata": {
    "ExecuteTime": {
     "end_time": "2021-09-16T12:52:28.864280Z",
     "start_time": "2021-09-16T12:52:28.862122Z"
    }
   },
   "outputs": [],
   "source": []
  },
  {
   "cell_type": "code",
   "execution_count": null,
   "metadata": {},
   "outputs": [],
   "source": []
  },
  {
   "cell_type": "code",
   "execution_count": null,
   "metadata": {},
   "outputs": [],
   "source": []
  },
  {
   "cell_type": "code",
   "execution_count": 13,
   "metadata": {
    "ExecuteTime": {
     "end_time": "2021-09-24T11:16:42.227851Z",
     "start_time": "2021-09-24T11:16:42.088951Z"
    }
   },
   "outputs": [
    {
     "data": {
      "image/png": "[encoded data removed]",
      "text/plain": [
       "<Figure size 432x288 with 1 Axes>"
      ]
     },
     "metadata": {},
     "output_type": "display_data"
    }
   ],
   "source": [
    "agent = Agent(env, param_agent)"
   ]
  },
  {
   "cell_type": "code",
   "execution_count": 14,
   "metadata": {
    "ExecuteTime": {
     "end_time": "2021-09-24T11:16:42.248750Z",
     "start_time": "2021-09-24T11:16:42.229080Z"
    },
    "scrolled": false
   },
   "outputs": [
    {
     "data": {
      "text/plain": [
       "<tensorflow.python.training.tracking.util.CheckpointLoadStatus at 0x7f01c46ee220>"
      ]
     },
     "execution_count": 14,
     "metadata": {},
     "output_type": "execute_result"
    }
   ],
   "source": [
    "\n",
    "from tensorflow.keras.models import load_model\n",
    "from tensorflow.keras.models import save_model\n",
    "\n",
    "agent.model_LSFM.save_weights(folder_WORK+\"/agent_LSFM_model\")\n",
    "agent.model_LSFM.load_weights(folder_WORK+\"/agent_LSFM_model\")\n",
    "# model.load_weights(\"savedmodel.hdf5\")\n",
    "\n",
    "# save_model(agent.model_LSFM, folder_WORK+\"/agent_LSFM_model\")"
   ]
  },
  {
   "cell_type": "code",
   "execution_count": 15,
   "metadata": {
    "ExecuteTime": {
     "end_time": "2021-09-24T11:16:42.252092Z",
     "start_time": "2021-09-24T11:16:42.249975Z"
    }
   },
   "outputs": [],
   "source": [
    "def random_action(env) : \n",
    "    return random.randint(0, env.action_space.n - 1)"
   ]
  },
  {
   "cell_type": "markdown",
   "metadata": {},
   "source": [
    "# models summary"
   ]
  },
  {
   "cell_type": "markdown",
   "metadata": {},
   "source": [
    "## LSFM"
   ]
  },
  {
   "cell_type": "code",
   "execution_count": 16,
   "metadata": {
    "ExecuteTime": {
     "end_time": "2021-09-24T11:16:42.375867Z",
     "start_time": "2021-09-24T11:16:42.253202Z"
    }
   },
   "outputs": [
    {
     "name": "stdout",
     "output_type": "stream",
     "text": [
      "Model: \"model_LSFM\"\n",
      "__________________________________________________________________________________________________\n",
      "Layer (type)                    Output Shape         Param #     Connected to                     \n",
      "==================================================================================================\n",
      "input_state (InputLayer)        [(None, 121)]        0                                            \n",
      "__________________________________________________________________________________________________\n",
      "hidden_latent (Dense)           (None, 200)          24400       input_state[0][0]                \n",
      "__________________________________________________________________________________________________\n",
      "latent (Dense)                  (None, 100)          20100       hidden_latent[0][0]              \n",
      "__________________________________________________________________________________________________\n",
      "ra (Dense)                      (None, 24)           2400        latent[0][0]                     \n",
      "__________________________________________________________________________________________________\n",
      "reshape_4 (Reshape)             (None, 4, 6)         0           ra[0][0]                         \n",
      "__________________________________________________________________________________________________\n",
      "tf.math.reduce_max_1 (TFOpLambd (None, 4, 1)         0           reshape_4[0][0]                  \n",
      "__________________________________________________________________________________________________\n",
      "tf.math.subtract_1 (TFOpLambda) (None, 4, 6)         0           reshape_4[0][0]                  \n",
      "                                                                 tf.math.reduce_max_1[0][0]       \n",
      "__________________________________________________________________________________________________\n",
      "tf.math.exp_1 (TFOpLambda)      (None, 4, 6)         0           tf.math.subtract_1[0][0]         \n",
      "__________________________________________________________________________________________________\n",
      "Fa (Dense)                      (None, 400)          40000       latent[0][0]                     \n",
      "__________________________________________________________________________________________________\n",
      "Ma (Dense)                      (None, 400)          40000       latent[0][0]                     \n",
      "__________________________________________________________________________________________________\n",
      "tf.math.reduce_sum_1 (TFOpLambd (None, 4, 1)         0           tf.math.exp_1[0][0]              \n",
      "__________________________________________________________________________________________________\n",
      "reshape_3 (Reshape)             (None, 4, 100)       0           Fa[0][0]                         \n",
      "__________________________________________________________________________________________________\n",
      "reshape_5 (Reshape)             (None, 4, 100)       0           Ma[0][0]                         \n",
      "__________________________________________________________________________________________________\n",
      "tf.math.truediv_1 (TFOpLambda)  (None, 4, 6)         0           tf.math.exp_1[0][0]              \n",
      "                                                                 tf.math.reduce_sum_1[0][0]       \n",
      "==================================================================================================\n",
      "Total params: 126,900\n",
      "Trainable params: 126,900\n",
      "Non-trainable params: 0\n",
      "__________________________________________________________________________________________________\n"
     ]
    },
    {
     "data": {
      "image/png": "[encoded data removed]",
      "text/plain": [
       "<IPython.core.display.Image object>"
      ]
     },
     "execution_count": 16,
     "metadata": {},
     "output_type": "execute_result"
    }
   ],
   "source": [
    "agent.model_LSFM.summary()\n",
    "keras.utils.plot_model(agent.model_LSFM, \"my_first_model.png\", show_shapes=True)"
   ]
  },
  {
   "cell_type": "code",
   "execution_count": 17,
   "metadata": {
    "ExecuteTime": {
     "end_time": "2021-09-24T11:16:42.389267Z",
     "start_time": "2021-09-24T11:16:42.377336Z"
    }
   },
   "outputs": [
    {
     "name": "stdout",
     "output_type": "stream",
     "text": [
      "input_state <class 'list'> 1 (None, 121)\n",
      "hidden_latent <class 'tuple'> 2 200\n",
      "latent <class 'tuple'> 2 100\n",
      "ra <class 'tuple'> 2 24\n",
      "reshape_4 <class 'tuple'> 3 6\n",
      "tf.math.reduce_max_1 <class 'tuple'> 3 1\n",
      "tf.math.subtract_1 <class 'tuple'> 3 6\n",
      "tf.math.exp_1 <class 'tuple'> 3 6\n",
      "Fa <class 'tuple'> 2 400\n",
      "Ma <class 'tuple'> 2 400\n",
      "tf.math.reduce_sum_1 <class 'tuple'> 3 1\n",
      "reshape_3 <class 'tuple'> 3 100\n",
      "reshape_5 <class 'tuple'> 3 100\n",
      "tf.math.truediv_1 <class 'tuple'> 3 6\n"
     ]
    }
   ],
   "source": [
    "for layer in agent.model_LSFM.layers:\n",
    "    print(layer.name, type(layer.output_shape), len(layer.output_shape),layer.output_shape[-1] )\n",
    "    "
   ]
  },
  {
   "cell_type": "code",
   "execution_count": null,
   "metadata": {},
   "outputs": [],
   "source": []
  },
  {
   "cell_type": "code",
   "execution_count": null,
   "metadata": {},
   "outputs": [],
   "source": []
  },
  {
   "cell_type": "code",
   "execution_count": null,
   "metadata": {},
   "outputs": [],
   "source": []
  },
  {
   "cell_type": "markdown",
   "metadata": {},
   "source": [
    "## Linear QLearning\n",
    "Qlearning on latent space"
   ]
  },
  {
   "cell_type": "markdown",
   "metadata": {},
   "source": [
    "### QLin on latent space"
   ]
  },
  {
   "cell_type": "code",
   "execution_count": 18,
   "metadata": {
    "ExecuteTime": {
     "end_time": "2021-09-24T11:16:42.480942Z",
     "start_time": "2021-09-24T11:16:42.390622Z"
    }
   },
   "outputs": [
    {
     "name": "stdout",
     "output_type": "stream",
     "text": [
      "Agent_Q.model : initialization model_Q_Lin\n",
      "Model: \"sequential\"\n",
      "_________________________________________________________________\n",
      "Layer (type)                 Output Shape              Param #   \n",
      "=================================================================\n",
      "dense (Dense)                (32, 4)                   400       \n",
      "=================================================================\n",
      "Total params: 400\n",
      "Trainable params: 400\n",
      "Non-trainable params: 0\n",
      "_________________________________________________________________\n"
     ]
    },
    {
     "data": {
      "image/png": "[encoded data removed]",
      "text/plain": [
       "<IPython.core.display.Image object>"
      ]
     },
     "execution_count": 18,
     "metadata": {},
     "output_type": "execute_result"
    }
   ],
   "source": [
    "param_agent[\"model_Q_Lin\"] = True\n",
    "\n",
    "x= np.zeros((param_agent[\"batch_size\"],param_agent[\"latent_space\"]), dtype=float)\n",
    "\n",
    "agent_Q = Agent_Q(env, param_agent)\n",
    "agent_Q.model(x)\n",
    "\n",
    "agent_Q.model.summary()\n",
    "keras.utils.plot_model(agent_Q.model, \"my_first_model_Q.png\", show_shapes=True)"
   ]
  },
  {
   "cell_type": "markdown",
   "metadata": {},
   "source": [
    "### DQN on original space"
   ]
  },
  {
   "cell_type": "code",
   "execution_count": 19,
   "metadata": {
    "ExecuteTime": {
     "end_time": "2021-09-24T11:16:42.573956Z",
     "start_time": "2021-09-24T11:16:42.483054Z"
    }
   },
   "outputs": [
    {
     "name": "stdout",
     "output_type": "stream",
     "text": [
      "Agent_Q.model : initialization model_DQN\n",
      "Model: \"sequential_1\"\n",
      "_________________________________________________________________\n",
      "Layer (type)                 Output Shape              Param #   \n",
      "=================================================================\n",
      "latent (Dense)               (32, 100)                 12200     \n",
      "_________________________________________________________________\n",
      "dense_1 (Dense)              (32, 4)                   404       \n",
      "=================================================================\n",
      "Total params: 12,604\n",
      "Trainable params: 12,604\n",
      "Non-trainable params: 0\n",
      "_________________________________________________________________\n"
     ]
    },
    {
     "data": {
      "image/png": "[encoded data removed]",
      "text/plain": [
       "<IPython.core.display.Image object>"
      ]
     },
     "execution_count": 19,
     "metadata": {},
     "output_type": "execute_result"
    }
   ],
   "source": [
    "param_agent[\"model_Q_Lin\"] = False\n",
    "\n",
    "x= np.zeros((param_agent[\"batch_size\"],env._state_dim), dtype=float)\n",
    "\n",
    "agent_Q = Agent_Q(env, param_agent)\n",
    "agent_Q.model(x)\n",
    "\n",
    "agent_Q.model.summary()\n",
    "keras.utils.plot_model(agent_Q.model, \"my_first_model_Q.png\", show_shapes=True)"
   ]
  },
  {
   "cell_type": "markdown",
   "metadata": {},
   "source": [
    "# Function"
   ]
  },
  {
   "cell_type": "markdown",
   "metadata": {},
   "source": [
    "## environments"
   ]
  },
  {
   "cell_type": "markdown",
   "metadata": {},
   "source": [
    "### first (puddle word)"
   ]
  },
  {
   "cell_type": "code",
   "execution_count": 20,
   "metadata": {
    "ExecuteTime": {
     "end_time": "2021-09-24T11:16:49.093663Z",
     "start_time": "2021-09-24T11:16:42.575516Z"
    },
    "scrolled": true
   },
   "outputs": [
    {
     "name": "stdout",
     "output_type": "stream",
     "text": [
      "memory clean 0\n",
      "memory clean 1000\n",
      "memory clean 2000\n",
      "memory clean 3000\n",
      "memory clean 4000\n",
      "memory clean 5000\n",
      "memory clean 6000\n",
      "memory clean 7000\n",
      "memory clean 8000\n",
      "memory clean 9000\n",
      "memory clean 10000\n",
      "memory clean 11000\n",
      "memory clean 12000\n",
      "memory clean 13000\n",
      "memory clean 14000\n",
      "memory clean 15000\n",
      "memory clean 16000\n",
      "memory clean 17000\n",
      "memory clean 18000\n",
      "memory clean 19000\n",
      "memory clean 20000\n",
      "memory clean 21000\n",
      "memory clean 22000\n",
      "memory clean 23000\n",
      "memory clean 24000\n",
      "memory clean 25000\n",
      "memory clean 26000\n",
      "memory clean 27000\n",
      "memory clean 28000\n",
      "memory clean 29000\n",
      "memory clean 30000\n",
      "memory clean 31000\n",
      "memory clean 32000\n",
      "memory clean 33000\n",
      "memory clean 34000\n",
      "memory clean 35000\n",
      "memory clean 36000\n",
      "memory clean 37000\n",
      "memory clean 38000\n",
      "memory clean 39000\n",
      "memory clean 40000\n",
      "memory clean 41000\n",
      "memory clean 42000\n",
      "memory clean 43000\n",
      "memory clean 44000\n",
      "memory clean 45000\n",
      "memory clean 46000\n",
      "memory clean 47000\n",
      "memory clean 48000\n",
      "memory clean 49000\n",
      "satet [1. 0. 0. 0. 0. 0. 0. 0. 0. 0. 0. 0. 0. 0. 0. 0. 0. 0. 0. 0. 0. 0. 0. 0.\n",
      " 0. 0. 0. 0. 0. 0. 0. 0. 0. 0. 0. 0.]\n",
      "action 3\n",
      " 0 - Up  /  1 - Down  /  2 - Left  / 3 - Right\n",
      "reward 0.0\n",
      "done False\n",
      "satet [0. 1. 0. 0. 0. 0. 0. 0. 0. 0. 0. 0. 0. 0. 0. 0. 0. 0. 0. 0. 0. 0. 0. 0.\n",
      " 0. 0. 0. 0. 0. 0. 0. 0. 0. 0. 0. 0.]\n",
      "action 3\n",
      " 0 - Up  /  1 - Down  /  2 - Left  / 3 - Right\n",
      "reward 0.0\n",
      "done False\n",
      "satet [0. 0. 1. 0. 0. 0. 0. 0. 0. 0. 0. 0. 0. 0. 0. 0. 0. 0. 0. 0. 0. 0. 0. 0.\n",
      " 0. 0. 0. 0. 0. 0. 0. 0. 0. 0. 0. 0.]\n",
      "action 1\n",
      " 0 - Up  /  1 - Down  /  2 - Left  / 3 - Right\n",
      "reward 0.0\n",
      "done False\n",
      "satet [0. 0. 0. 0. 0. 0. 0. 0. 1. 0. 0. 0. 0. 0. 0. 0. 0. 0. 0. 0. 0. 0. 0. 0.\n",
      " 0. 0. 0. 0. 0. 0. 0. 0. 0. 0. 0. 0.]\n",
      "action 1\n",
      " 0 - Up  /  1 - Down  /  2 - Left  / 3 - Right\n",
      "reward 0.0\n",
      "done False\n",
      "satet [0. 0. 0. 0. 0. 0. 0. 0. 0. 0. 0. 0. 0. 0. 1. 0. 0. 0. 0. 0. 0. 0. 0. 0.\n",
      " 0. 0. 0. 0. 0. 0. 0. 0. 0. 0. 0. 0.]\n",
      "action 3\n",
      " 0 - Up  /  1 - Down  /  2 - Left  / 3 - Right\n",
      "reward 0.0\n",
      "done False\n",
      "satet [0. 0. 0. 0. 0. 0. 0. 0. 0. 0. 0. 0. 0. 0. 0. 1. 0. 0. 0. 0. 0. 0. 0. 0.\n",
      " 0. 0. 0. 0. 0. 0. 0. 0. 0. 0. 0. 0.]\n",
      "action 3\n",
      " 0 - Up  /  1 - Down  /  2 - Left  / 3 - Right\n",
      "reward 0.0\n",
      "done False\n",
      "satet [0. 0. 0. 0. 0. 0. 0. 0. 0. 0. 0. 0. 0. 0. 0. 0. 1. 0. 0. 0. 0. 0. 0. 0.\n",
      " 0. 0. 0. 0. 0. 0. 0. 0. 0. 0. 0. 0.]\n",
      "action 3\n",
      " 0 - Up  /  1 - Down  /  2 - Left  / 3 - Right\n",
      "reward 0.0\n",
      "done False\n",
      "satet [0. 0. 0. 0. 0. 0. 0. 0. 0. 0. 0. 0. 0. 0. 0. 0. 0. 1. 0. 0. 0. 0. 0. 0.\n",
      " 0. 0. 0. 0. 0. 0. 0. 0. 0. 0. 0. 0.]\n",
      "action 3\n",
      " 0 - Up  /  1 - Down  /  2 - Left  / 3 - Right\n",
      "reward 0.0\n",
      "done False\n",
      "satet [0. 0. 0. 0. 0. 0. 0. 0. 0. 0. 0. 0. 0. 0. 0. 0. 0. 1. 0. 0. 0. 0. 0. 0.\n",
      " 0. 0. 0. 0. 0. 0. 0. 0. 0. 0. 0. 0.]\n",
      "action 3\n",
      " 0 - Up  /  1 - Down  /  2 - Left  / 3 - Right\n",
      "reward 0.0\n",
      "done False\n",
      "satet [0. 0. 0. 0. 0. 0. 0. 0. 0. 0. 0. 0. 0. 0. 0. 0. 0. 1. 0. 0. 0. 0. 0. 0.\n",
      " 0. 0. 0. 0. 0. 0. 0. 0. 0. 0. 0. 0.]\n",
      "action 3\n",
      " 0 - Up  /  1 - Down  /  2 - Left  / 3 - Right\n",
      "reward 0.0\n",
      "done False\n",
      "satet [0. 0. 0. 0. 0. 0. 0. 0. 0. 0. 0. 0. 0. 0. 0. 0. 0. 1. 0. 0. 0. 0. 0. 0.\n",
      " 0. 0. 0. 0. 0. 0. 0. 0. 0. 0. 0. 0.]\n",
      "action 1\n",
      " 0 - Up  /  1 - Down  /  2 - Left  / 3 - Right\n",
      "reward 0.0\n",
      "done False\n",
      "satet [0. 0. 0. 0. 0. 0. 0. 0. 0. 0. 0. 0. 0. 0. 0. 0. 0. 0. 0. 0. 0. 0. 0. 1.\n",
      " 0. 0. 0. 0. 0. 0. 0. 0. 0. 0. 0. 0.]\n",
      "action 1\n",
      " 0 - Up  /  1 - Down  /  2 - Left  / 3 - Right\n",
      "reward 0.0\n",
      "done False\n",
      "satet [0. 0. 0. 0. 0. 0. 0. 0. 0. 0. 0. 0. 0. 0. 0. 0. 0. 0. 0. 0. 0. 0. 0. 0.\n",
      " 0. 0. 0. 0. 0. 1. 0. 0. 0. 0. 0. 0.]\n",
      "action 1\n",
      " 0 - Up  /  1 - Down  /  2 - Left  / 3 - Right\n",
      "reward 0.0\n",
      "done False\n",
      "satet [0. 0. 0. 0. 0. 0. 0. 0. 0. 0. 0. 0. 0. 0. 0. 0. 0. 0. 0. 0. 0. 0. 0. 0.\n",
      " 0. 0. 0. 0. 0. 0. 0. 0. 0. 0. 0. 1.]\n",
      "action 1\n",
      " 0 - Up  /  1 - Down  /  2 - Left  / 3 - Right\n",
      "reward 0.0\n",
      "done False\n",
      "satet [0. 0. 0. 0. 0. 0. 0. 0. 0. 0. 0. 0. 0. 0. 0. 0. 0. 0. 0. 0. 0. 0. 0. 0.\n",
      " 0. 0. 0. 0. 0. 0. 0. 0. 0. 0. 0. 1.]\n",
      "action 1\n",
      " 0 - Up  /  1 - Down  /  2 - Left  / 3 - Right\n",
      "reward 0.0\n",
      "done False\n",
      "satet [0. 0. 0. 0. 0. 0. 0. 0. 0. 0. 0. 0. 0. 0. 0. 0. 0. 0. 0. 0. 0. 0. 0. 0.\n",
      " 0. 0. 0. 0. 0. 0. 0. 0. 0. 0. 0. 1.]\n",
      "action 1\n",
      " 0 - Up  /  1 - Down  /  2 - Left  / 3 - Right\n",
      "reward 0.0\n",
      "done False\n",
      "satet [0. 0. 0. 0. 0. 0. 0. 0. 0. 0. 0. 0. 0. 0. 0. 0. 0. 0. 0. 0. 0. 0. 0. 0.\n",
      " 0. 0. 0. 0. 0. 0. 0. 0. 0. 0. 0. 1.]\n",
      "action 1\n",
      " 0 - Up  /  1 - Down  /  2 - Left  / 3 - Right\n",
      "reward 0.0\n",
      "done False\n",
      "satet [0. 0. 0. 0. 0. 0. 0. 0. 0. 0. 0. 0. 0. 0. 0. 0. 0. 0. 0. 0. 0. 0. 0. 0.\n",
      " 0. 0. 0. 0. 0. 0. 0. 0. 0. 0. 0. 1.]\n",
      "action 1\n",
      " 0 - Up  /  1 - Down  /  2 - Left  / 3 - Right\n",
      "reward 0.0\n",
      "done False\n",
      "satet [0. 0. 0. 0. 0. 0. 0. 0. 0. 0. 0. 0. 0. 0. 0. 0. 0. 0. 0. 0. 0. 0. 0. 0.\n",
      " 0. 0. 0. 0. 0. 0. 0. 0. 0. 0. 0. 1.]\n",
      "action 1\n",
      " 0 - Up  /  1 - Down  /  2 - Left  / 3 - Right\n",
      "reward 0.0\n",
      "done False\n",
      "satet [0. 0. 0. 0. 0. 0. 0. 0. 0. 0. 0. 0. 0. 0. 0. 0. 0. 0. 0. 0. 0. 0. 0. 0.\n",
      " 0. 0. 0. 0. 0. 0. 0. 0. 0. 0. 0. 1.]\n",
      "action 3\n",
      " 0 - Up  /  1 - Down  /  2 - Left  / 3 - Right\n",
      "reward 0.0\n",
      "done False\n",
      "satet [0. 0. 0. 0. 0. 0. 0. 0. 0. 0. 0. 0. 0. 0. 0. 0. 0. 0. 0. 0. 0. 0. 0. 0.\n",
      " 0. 0. 0. 0. 0. 0. 0. 0. 0. 0. 0. 1.]\n",
      "action 3\n",
      " 0 - Up  /  1 - Down  /  2 - Left  / 3 - Right\n",
      "reward 0.0\n",
      "done False\n",
      "satet [0. 0. 0. 0. 0. 0. 0. 0. 0. 0. 0. 0. 0. 0. 0. 0. 0. 0. 0. 0. 0. 0. 0. 0.\n",
      " 0. 0. 0. 0. 0. 0. 0. 0. 0. 0. 0. 1.]\n",
      "action 3\n",
      " 0 - Up  /  1 - Down  /  2 - Left  / 3 - Right\n",
      "reward 0.0\n",
      "done False\n"
     ]
    },
    {
     "name": "stderr",
     "output_type": "stream",
     "text": [
      "<ipython-input-4-ef59c99ffdcd>:126: RuntimeWarning: More than 20 figures have been opened. Figures created through the pyplot interface (`matplotlib.pyplot.figure`) are retained until explicitly closed and may consume too much memory. (To control this warning, see the rcParam `figure.max_open_warning`).\n",
      "  fig, ax = plt.subplots()\n"
     ]
    },
    {
     "data": {
      "image/png": "[encoded data removed]",
      "text/plain": [
       "<Figure size 432x288 with 1 Axes>"
      ]
     },
     "metadata": {},
     "output_type": "display_data"
    },
    {
     "data": {
      "image/png": "[encoded data removed]",
      "text/plain": [
       "<Figure size 432x288 with 1 Axes>"
      ]
     },
     "metadata": {},
     "output_type": "display_data"
    },
    {
     "data": {
      "image/png": "[encoded data removed]",
      "text/plain": [
       "<Figure size 432x288 with 1 Axes>"
      ]
     },
     "metadata": {},
     "output_type": "display_data"
    },
    {
     "data": {
      "image/png": "[encoded data removed]",
      "text/plain": [
       "<Figure size 432x288 with 1 Axes>"
      ]
     },
     "metadata": {},
     "output_type": "display_data"
    },
    {
     "data": {
      "image/png": "[encoded data removed]",
      "text/plain": [
       "<Figure size 432x288 with 1 Axes>"
      ]
     },
     "metadata": {},
     "output_type": "display_data"
    },
    {
     "data": {
      "image/png": "[encoded data removed]",
      "text/plain": [
       "<Figure size 432x288 with 1 Axes>"
      ]
     },
     "metadata": {},
     "output_type": "display_data"
    },
    {
     "data": {
      "image/png": "[encoded data removed]",
      "text/plain": [
       "<Figure size 432x288 with 1 Axes>"
      ]
     },
     "metadata": {},
     "output_type": "display_data"
    },
    {
     "data": {
      "image/png": "[encoded data removed]",
      "text/plain": [
       "<Figure size 432x288 with 1 Axes>"
      ]
     },
     "metadata": {},
     "output_type": "display_data"
    },
    {
     "data": {
      "image/png": "[encoded data removed]",
      "text/plain": [
       "<Figure size 432x288 with 1 Axes>"
      ]
     },
     "metadata": {},
     "output_type": "display_data"
    },
    {
     "data": {
      "image/png": "[encoded data removed]",
      "text/plain": [
       "<Figure size 432x288 with 1 Axes>"
      ]
     },
     "metadata": {},
     "output_type": "display_data"
    },
    {
     "data": {
      "image/png": "[encoded data removed]",
      "text/plain": [
       "<Figure size 432x288 with 1 Axes>"
      ]
     },
     "metadata": {},
     "output_type": "display_data"
    },
    {
     "data": {
      "image/png": "[encoded data removed]",
      "text/plain": [
       "<Figure size 432x288 with 1 Axes>"
      ]
     },
     "metadata": {},
     "output_type": "display_data"
    },
    {
     "data": {
      "image/png": "[encoded data removed]",
      "text/plain": [
       "<Figure size 432x288 with 1 Axes>"
      ]
     },
     "metadata": {},
     "output_type": "display_data"
    },
    {
     "data": {
      "image/png": "[encoded data removed]",
      "text/plain": [
       "<Figure size 432x288 with 1 Axes>"
      ]
     },
     "metadata": {},
     "output_type": "display_data"
    },
    {
     "data": {
      "image/png": "[encoded data removed]",
      "text/plain": [
       "<Figure size 432x288 with 1 Axes>"
      ]
     },
     "metadata": {},
     "output_type": "display_data"
    },
    {
     "data": {
      "image/png": "[encoded data removed]",
      "text/plain": [
       "<Figure size 432x288 with 1 Axes>"
      ]
     },
     "metadata": {},
     "output_type": "display_data"
    },
    {
     "data": {
      "image/png": "[encoded data removed]",
      "text/plain": [
       "<Figure size 432x288 with 1 Axes>"
      ]
     },
     "metadata": {},
     "output_type": "display_data"
    },
    {
     "data": {
      "image/png": "[encoded data removed]",
      "text/plain": [
       "<Figure size 432x288 with 1 Axes>"
      ]
     },
     "metadata": {},
     "output_type": "display_data"
    },
    {
     "data": {
      "image/png": "[encoded data removed]",
      "text/plain": [
       "<Figure size 432x288 with 1 Axes>"
      ]
     },
     "metadata": {},
     "output_type": "display_data"
    },
    {
     "data": {
      "image/png": "[encoded data removed]",
      "text/plain": [
       "<Figure size 432x288 with 1 Axes>"
      ]
     },
     "metadata": {},
     "output_type": "display_data"
    },
    {
     "data": {
      "image/png": "[encoded data removed]",
      "text/plain": [
       "<Figure size 432x288 with 1 Axes>"
      ]
     },
     "metadata": {},
     "output_type": "display_data"
    },
    {
     "data": {
      "image/png": "[encoded data removed]",
      "text/plain": [
       "<Figure size 432x288 with 1 Axes>"
      ]
     },
     "metadata": {},
     "output_type": "display_data"
    }
   ],
   "source": [
    "\n",
    "\n",
    "def clean_duplicate(memory) : \n",
    "\n",
    "    df = pd.DataFrame(memory._samples)\n",
    "    df[5] = df[5].astype(np.float32)\n",
    "\n",
    "    col_st = [ \"st_\"+str(k) for k in range(len(df[0][0]))]\n",
    "    col_ma= [ \"ma_\"+str(k) for k in range(len(df[1][0]))]\n",
    "    col_nst = [ \"nst_\"+str(k) for k in range(len(df[4][0]))]\n",
    "\n",
    "    col_st, col_nst\n",
    "    st_exp = pd.DataFrame(df[0].to_list(), columns = col_st)\n",
    "    ma_exp = pd.DataFrame(df[1].to_list(), columns = col_ma)\n",
    "    nst_exp = pd.DataFrame(df[4].to_list(), columns = col_nst)\n",
    "\n",
    "    exp = pd.concat([st_exp,ma_exp,df.loc[:, [2,3]], nst_exp, df[5]], axis=1)\n",
    "    keep_id = list(exp.drop_duplicates().index)\n",
    "\n",
    "    memory_clean = memory\n",
    "    memory_clean._samples = [memory_clean._samples[i] for i in keep_id]\n",
    "    \n",
    "    return memory_clean\n",
    "    \n",
    "# param_env = {\n",
    "#     \"agent_pos\":[0, 0], \n",
    "#     \"goal_pos\":[[10,0] ],\n",
    "#     \"reward_minmax\":[-1.,-0.001],\n",
    "#     \"reward_user_defined\":True,\n",
    "#     \"reward_pos\":[\n",
    "#         [0, 0],[0, 1],[0, 2],[0, 3],[0, 4],[0, 5],[0, 6],[0, 7],[0, 8],[0, 9],[0, 10],\n",
    "#         [1, 0],[1, 1],[1, 2],[1, 3],[1, 4],[1, 5],[1, 6],[1, 7],[1, 8],[1, 9],[1, 10],\n",
    "#                                                                 [2, 8],[2, 9],[2, 10],\n",
    "#                                                                 [3, 8],[3, 9],[3, 10],\n",
    "#                                                                 [4, 8],[4, 9],[4, 10],\n",
    "#                                                                 [5, 8],[5, 9],[5, 10],\n",
    "#                                                                 [6, 8],[6, 9],[6, 10],\n",
    "#                                                                 [7, 8],[7, 9],[7, 10],\n",
    "#                                                                 [8, 8],[8, 9],[8, 10],\n",
    "#         [9, 0],[9, 1],[9, 2],[9, 3],[9, 4],[9, 5],[9, 6],[9, 7],[9, 8],[9, 9],[9, 10],\n",
    "#         [10,0],[10,1],[10,2],[10,3],[10,4],[10,5],[10,6],[10,7],[10,8],[10,9],[10,10]\n",
    "#                 ],\n",
    "#     \"grid_size\" : 11,\n",
    "#     \"pattern\": \"empty\",\n",
    "#     \"obs_mode\":\"index\",\n",
    "# }\n",
    "\n",
    "\n",
    "\n",
    "# param_env = {\n",
    "#     \"agent_pos\":[0, 0], \n",
    "#     \"goal_pos\":[[5,0] ],\n",
    "#     \"reward_minmax\":[-1.,0.],\n",
    "#     \"reward_user_defined\":True,\n",
    "#     \"reward_pos\":[[0, 0],[0, 1],[0, 2],[0, 3],[0, 4],[0, 5], \n",
    "#                   [1, 0],[1, 1],[1, 2],[1, 3],[1, 4],[1, 5], \n",
    "#                                               [2, 4],[2, 5], \n",
    "#                                               [3, 4],[3, 5], \n",
    "#                   [4, 0],[4, 1],[4, 2],[4, 3],[4, 4],[4, 5], \n",
    "#                   [5, 0],[5, 1],[5, 2],[5, 3],[5, 4],[5, 5]],\n",
    "#     \"grid_size\" : 6,\n",
    "#     \"pattern\": \"empty\",\n",
    "#     \"obs_mode\":\"index\",\n",
    "# }\n",
    "\n",
    "\n",
    "param_env = {\n",
    "    \"agent_pos\":[0, 0], \n",
    "    \"goal_pos\":[[5,0] ],\n",
    "    \"reward_pos\": [[5,0] ],\n",
    "    \"grid_size\" : 6,\n",
    "    \"reward_minmax\":[0.,0.],\n",
    "    \"reward_user_defined\":False,\n",
    "    \"pattern\":\"empty\",\n",
    "    \"obs_mode\":\"index\",\n",
    "}\n",
    "\n",
    "\n",
    "env_name = \"SimpleGrid\"\n",
    "env = custom_env(env_name, param_env)\n",
    "environment = env\n",
    "\n",
    "\n",
    "data = pd.DataFrame()\n",
    "state = environment.reset()\n",
    "\n",
    "nb_transi = 50000\n",
    "\n",
    "action_no_mask = [1,1,1,1]\n",
    "memory = Memory(param_agent[\"memory\"])\n",
    "\n",
    "for k in range(nb_transi) : \n",
    "\n",
    "    action, eps = agent.choose_action_random()\n",
    "    next_state, reward, done, info = environment.step(action)\n",
    "\n",
    "    \n",
    "#     memory = add_in_memory(state, action_no_mask, action, reward, next_state, done, memory) \n",
    "    memory.add_sample((state, action_no_mask, action, reward, next_state, done))\n",
    "    \n",
    "    if k%1000 == 0 : \n",
    "        memory = clean_duplicate(memory)\n",
    "        print(\"memory clean\", k)\n",
    "    \n",
    "    state = next_state\n",
    "    \n",
    "    if done : \n",
    "        state = environment.reset()\n",
    "     \n",
    "\n",
    "memory = clean_duplicate(memory)\n",
    "memory.write(\"memory_simple.csv\")\n",
    "\n",
    "\n",
    "\n",
    "\n",
    "\n",
    "\n",
    "\n",
    "\n",
    "\n",
    "\n",
    "\n",
    "\n",
    "\n",
    "\n",
    "\n",
    "\n",
    "\n",
    "state = env.reset()\n",
    "actions_down = [3,3,1,1,3,3,3,3,3,3,1,1,1,1,1,1,1,1,1,3,3,3,3,3]\n",
    "\n",
    "for i in range(22) : \n",
    "    env.render()\n",
    "    action = actions_down[i]\n",
    "    next_state, reward, done, info = env.step(action)\n",
    "\n",
    "    print(\"satet\", state)\n",
    "    print(\"action\", action)\n",
    "    print(\" 0 - Up  /  1 - Down  /  2 - Left  / 3 - Right\")\n",
    "#     print(\"next_state\", next_state)\n",
    "    print(\"reward\", reward)\n",
    "    print(\"done\", done)\n",
    "    \n",
    "    state = next_state\n"
   ]
  },
  {
   "cell_type": "markdown",
   "metadata": {},
   "source": [
    "### second (four room)"
   ]
  },
  {
   "cell_type": "code",
   "execution_count": 21,
   "metadata": {
    "ExecuteTime": {
     "end_time": "2021-09-24T11:16:57.622935Z",
     "start_time": "2021-09-24T11:16:49.094963Z"
    },
    "scrolled": false
   },
   "outputs": [
    {
     "name": "stdout",
     "output_type": "stream",
     "text": [
      "memory clean 0\n",
      "memory clean 4000\n",
      "memory clean 8000\n",
      "memory clean 12000\n",
      "memory clean 16000\n",
      "memory clean 20000\n",
      "memory clean 24000\n",
      "memory clean 28000\n",
      "memory clean 32000\n",
      "memory clean 36000\n",
      "memory clean 40000\n",
      "memory clean 44000\n",
      "memory clean 48000\n",
      "action 3\n",
      " 0 - Up  /  1 - Down  /  2 - Left  / 3 - Right\n",
      "reward 0.0\n",
      "done False\n",
      "action 3\n",
      " 0 - Up  /  1 - Down  /  2 - Left  / 3 - Right\n",
      "reward 0.0\n",
      "done False\n",
      "action 1\n",
      " 0 - Up  /  1 - Down  /  2 - Left  / 3 - Right\n",
      "reward 0.0\n",
      "done False\n",
      "action 1\n",
      " 0 - Up  /  1 - Down  /  2 - Left  / 3 - Right\n",
      "reward 0.0\n",
      "done False\n",
      "action 3\n",
      " 0 - Up  /  1 - Down  /  2 - Left  / 3 - Right\n",
      "reward 0.0\n",
      "done False\n",
      "action 3\n",
      " 0 - Up  /  1 - Down  /  2 - Left  / 3 - Right\n",
      "reward 0.0\n",
      "done False\n",
      "action 3\n",
      " 0 - Up  /  1 - Down  /  2 - Left  / 3 - Right\n",
      "reward 0.0\n",
      "done False\n",
      "action 3\n",
      " 0 - Up  /  1 - Down  /  2 - Left  / 3 - Right\n",
      "reward 0.0\n",
      "done False\n",
      "action 3\n",
      " 0 - Up  /  1 - Down  /  2 - Left  / 3 - Right\n",
      "reward 0.0\n",
      "done False\n",
      "action 3\n",
      " 0 - Up  /  1 - Down  /  2 - Left  / 3 - Right\n",
      "reward 0.0\n",
      "done False\n",
      "action 1\n",
      " 0 - Up  /  1 - Down  /  2 - Left  / 3 - Right\n",
      "reward 0.0\n",
      "done False\n",
      "action 1\n",
      " 0 - Up  /  1 - Down  /  2 - Left  / 3 - Right\n",
      "reward 0.0\n",
      "done False\n",
      "action 1\n",
      " 0 - Up  /  1 - Down  /  2 - Left  / 3 - Right\n",
      "reward 0.0\n",
      "done False\n",
      "action 1\n",
      " 0 - Up  /  1 - Down  /  2 - Left  / 3 - Right\n",
      "reward 0.0\n",
      "done False\n",
      "action 1\n",
      " 0 - Up  /  1 - Down  /  2 - Left  / 3 - Right\n",
      "reward 0.0\n",
      "done False\n",
      "action 1\n",
      " 0 - Up  /  1 - Down  /  2 - Left  / 3 - Right\n",
      "reward 0.0\n",
      "done False\n",
      "action 1\n",
      " 0 - Up  /  1 - Down  /  2 - Left  / 3 - Right\n",
      "reward 0.0\n",
      "done False\n",
      "action 1\n",
      " 0 - Up  /  1 - Down  /  2 - Left  / 3 - Right\n",
      "reward 0.0\n",
      "done False\n",
      "action 1\n",
      " 0 - Up  /  1 - Down  /  2 - Left  / 3 - Right\n",
      "reward 0.0\n",
      "done False\n",
      "action 3\n",
      " 0 - Up  /  1 - Down  /  2 - Left  / 3 - Right\n",
      "reward 0.0\n",
      "done False\n",
      "action 3\n",
      " 0 - Up  /  1 - Down  /  2 - Left  / 3 - Right\n",
      "reward 0.0\n",
      "done False\n",
      "action 3\n",
      " 0 - Up  /  1 - Down  /  2 - Left  / 3 - Right\n",
      "reward 0.0\n",
      "done False\n"
     ]
    },
    {
     "name": "stderr",
     "output_type": "stream",
     "text": [
      "<ipython-input-4-ef59c99ffdcd>:126: RuntimeWarning: More than 20 figures have been opened. Figures created through the pyplot interface (`matplotlib.pyplot.figure`) are retained until explicitly closed and may consume too much memory. (To control this warning, see the rcParam `figure.max_open_warning`).\n",
      "  fig, ax = plt.subplots()\n"
     ]
    },
    {
     "data": {
      "image/png": "[encoded data removed]",
      "text/plain": [
       "<Figure size 432x288 with 1 Axes>"
      ]
     },
     "metadata": {},
     "output_type": "display_data"
    },
    {
     "data": {
      "image/png": "[encoded data removed]",
      "text/plain": [
       "<Figure size 432x288 with 1 Axes>"
      ]
     },
     "metadata": {},
     "output_type": "display_data"
    },
    {
     "data": {
      "image/png": "[encoded data removed]",
      "text/plain": [
       "<Figure size 432x288 with 1 Axes>"
      ]
     },
     "metadata": {},
     "output_type": "display_data"
    },
    {
     "data": {
      "image/png": "[encoded data removed]",
      "text/plain": [
       "<Figure size 432x288 with 1 Axes>"
      ]
     },
     "metadata": {},
     "output_type": "display_data"
    },
    {
     "data": {
      "image/png": "[encoded data removed]",
      "text/plain": [
       "<Figure size 432x288 with 1 Axes>"
      ]
     },
     "metadata": {},
     "output_type": "display_data"
    },
    {
     "data": {
      "image/png": "[encoded data removed]",
      "text/plain": [
       "<Figure size 432x288 with 1 Axes>"
      ]
     },
     "metadata": {},
     "output_type": "display_data"
    },
    {
     "data": {
      "image/png": "[encoded data removed]",
      "text/plain": [
       "<Figure size 432x288 with 1 Axes>"
      ]
     },
     "metadata": {},
     "output_type": "display_data"
    },
    {
     "data": {
      "image/png": "[encoded data removed]",
      "text/plain": [
       "<Figure size 432x288 with 1 Axes>"
      ]
     },
     "metadata": {},
     "output_type": "display_data"
    },
    {
     "data": {
      "image/png": "[encoded data removed]",
      "text/plain": [
       "<Figure size 432x288 with 1 Axes>"
      ]
     },
     "metadata": {},
     "output_type": "display_data"
    },
    {
     "data": {
      "image/png": "[encoded data removed]",
      "text/plain": [
       "<Figure size 432x288 with 1 Axes>"
      ]
     },
     "metadata": {},
     "output_type": "display_data"
    },
    {
     "data": {
      "image/png": "[encoded data removed]",
      "text/plain": [
       "<Figure size 432x288 with 1 Axes>"
      ]
     },
     "metadata": {},
     "output_type": "display_data"
    },
    {
     "data": {
      "image/png": "[encoded data removed]",
      "text/plain": [
       "<Figure size 432x288 with 1 Axes>"
      ]
     },
     "metadata": {},
     "output_type": "display_data"
    },
    {
     "data": {
      "image/png": "[encoded data removed]",
      "text/plain": [
       "<Figure size 432x288 with 1 Axes>"
      ]
     },
     "metadata": {},
     "output_type": "display_data"
    },
    {
     "data": {
      "image/png": "[encoded data removed]",
      "text/plain": [
       "<Figure size 432x288 with 1 Axes>"
      ]
     },
     "metadata": {},
     "output_type": "display_data"
    },
    {
     "data": {
      "image/png": "[encoded data removed]",
      "text/plain": [
       "<Figure size 432x288 with 1 Axes>"
      ]
     },
     "metadata": {},
     "output_type": "display_data"
    },
    {
     "data": {
      "image/png": "[encoded data removed]",
      "text/plain": [
       "<Figure size 432x288 with 1 Axes>"
      ]
     },
     "metadata": {},
     "output_type": "display_data"
    },
    {
     "data": {
      "image/png": "[encoded data removed]",
      "text/plain": [
       "<Figure size 432x288 with 1 Axes>"
      ]
     },
     "metadata": {},
     "output_type": "display_data"
    },
    {
     "data": {
      "image/png": "[encoded data removed]",
      "text/plain": [
       "<Figure size 432x288 with 1 Axes>"
      ]
     },
     "metadata": {},
     "output_type": "display_data"
    },
    {
     "data": {
      "image/png": "[encoded data removed]",
      "text/plain": [
       "<Figure size 432x288 with 1 Axes>"
      ]
     },
     "metadata": {},
     "output_type": "display_data"
    },
    {
     "data": {
      "image/png": "[encoded data removed]",
      "text/plain": [
       "<Figure size 432x288 with 1 Axes>"
      ]
     },
     "metadata": {},
     "output_type": "display_data"
    },
    {
     "data": {
      "image/png": "[encoded data removed]",
      "text/plain": [
       "<Figure size 432x288 with 1 Axes>"
      ]
     },
     "metadata": {},
     "output_type": "display_data"
    },
    {
     "data": {
      "image/png": "[encoded data removed]",
      "text/plain": [
       "<Figure size 432x288 with 1 Axes>"
      ]
     },
     "metadata": {},
     "output_type": "display_data"
    }
   ],
   "source": [
    "# param_env = {\n",
    "#     \"agent_pos\":[0, 0], \n",
    "#     \"goal_pos\":[[10,10] ],\n",
    "#     \"reward_minmax\":[0.,0.],\n",
    "#     \"reward_user_defined\":False,\n",
    "#     \"reward_pos\":None,\n",
    "#     \"grid_size\" : 11,\n",
    "#     \"pattern\": \"four_rooms\",\n",
    "#     \"obs_mode\":\"index\",\n",
    "# }\n",
    "\n",
    "param_env = {\n",
    "    \"agent_pos\":[0, 0], \n",
    "    \"goal_pos\":[],\n",
    "    \"reward_minmax\":[0.,0.],\n",
    "    \"reward_user_defined\":False,\n",
    "    \"reward_pos\":[],\n",
    "    \"grid_size\" : 11,\n",
    "    \"pattern\": \"four_rooms\",\n",
    "    \"obs_mode\":\"index\",\n",
    "}\n",
    "\n",
    "\n",
    "\n",
    "env_name = \"SimpleGrid\"\n",
    "env_change_reward = custom_env(env_name, param_env)\n",
    "environment = env_change_reward\n",
    "\n",
    "\n",
    "data = pd.DataFrame()\n",
    "state = environment.reset()\n",
    "\n",
    "nb_transi = 50000\n",
    "\n",
    "action_no_mask = [1,1,1,1]\n",
    "memory = Memory(param_agent[\"memory\"])\n",
    "\n",
    "for k in range(nb_transi) : \n",
    "\n",
    "    action, eps = agent.choose_action_random()\n",
    "    next_state, reward, done, info = environment.step(action)\n",
    "\n",
    "    \n",
    "    memory.add_sample((state, action_no_mask, action, reward, next_state, done))\n",
    "    \n",
    "    \n",
    "    if k%4000 == 0 : \n",
    "        memory = clean_duplicate(memory)\n",
    "        print(\"memory clean\", k)\n",
    "    \n",
    "    state = next_state\n",
    "    \n",
    "    if done : \n",
    "        state = environment.reset()\n",
    "     \n",
    "\n",
    "\n",
    "memory.write(\"memory_env_change_reward.csv\")\n",
    "\n",
    "\n",
    "\n",
    "state = env_change_reward.reset()\n",
    "actions_down = [3,3,1,1,3,3,3,3,3,3,1,1,1,1,1,1,1,1,1,3,3,3,3,3]\n",
    "for i in range(22) : \n",
    "    env_change_reward.render()\n",
    "    action = actions_down[i]\n",
    "    next_state, reward, done, info = env_change_reward.step(action)\n",
    "\n",
    "    print(\"action\", action)\n",
    "    print(\" 0 - Up  /  1 - Down  /  2 - Left  / 3 - Right\")\n",
    "#     print(\"next_state\", next_state)\n",
    "    print(\"reward\", reward)\n",
    "    print(\"done\", done)\n",
    "    \n",
    "    state = next_state"
   ]
  },
  {
   "cell_type": "markdown",
   "metadata": {},
   "source": [
    "### Load Buffer"
   ]
  },
  {
   "cell_type": "code",
   "execution_count": 22,
   "metadata": {
    "ExecuteTime": {
     "end_time": "2021-09-24T11:16:58.357378Z",
     "start_time": "2021-09-24T11:16:57.624449Z"
    }
   },
   "outputs": [
    {
     "name": "stderr",
     "output_type": "stream",
     "text": [
      "/home/ious/miniconda3/envs/gym/lib/python3.8/site-packages/seaborn/distributions.py:2551: FutureWarning: `distplot` is a deprecated function and will be removed in a future version. Please adapt your code to use either `displot` (a figure-level function with similar flexibility) or `histplot` (an axes-level function for histograms).\n",
      "  warnings.warn(msg, FutureWarning)\n",
      "/home/ious/miniconda3/envs/gym/lib/python3.8/site-packages/seaborn/distributions.py:305: UserWarning: Dataset has 0 variance; skipping density estimate.\n",
      "  warnings.warn(msg, UserWarning)\n",
      "/home/ious/miniconda3/envs/gym/lib/python3.8/site-packages/seaborn/distributions.py:2551: FutureWarning: `distplot` is a deprecated function and will be removed in a future version. Please adapt your code to use either `displot` (a figure-level function with similar flexibility) or `histplot` (an axes-level function for histograms).\n",
      "  warnings.warn(msg, FutureWarning)\n",
      "/home/ious/miniconda3/envs/gym/lib/python3.8/site-packages/seaborn/distributions.py:2589: RuntimeWarning: Mean of empty slice.\n",
      "  line, = ax.plot(a.mean(), 0)\n",
      "/home/ious/miniconda3/envs/gym/lib/python3.8/site-packages/numpy/core/_methods.py:161: RuntimeWarning: invalid value encountered in double_scalars\n",
      "  ret = ret.dtype.type(ret / rcount)\n",
      "/home/ious/miniconda3/envs/gym/lib/python3.8/site-packages/numpy/lib/histograms.py:908: RuntimeWarning: invalid value encountered in true_divide\n",
      "  return n/db/n.sum(), bin_edges\n"
     ]
    },
    {
     "data": {
      "text/plain": [
       "[Text(0.5, 1.0, 'Reward distribution on at the end of episode')]"
      ]
     },
     "execution_count": 22,
     "metadata": {},
     "output_type": "execute_result"
    },
    {
     "data": {
      "image/png": "[encoded data removed]",
      "text/plain": [
       "<Figure size 936x360 with 2 Axes>"
      ]
     },
     "metadata": {},
     "output_type": "display_data"
    }
   ],
   "source": [
    "\n",
    "# **********************************************\n",
    "# **********************************************\n",
    "df = pd.read_csv(\"memory_env_change_reward.csv\")\n",
    "# **********************************************\n",
    "# **********************************************\n",
    "\n",
    "\n",
    "\n",
    "df[\"observation\"] = df[\"observation\"].apply(eval)\n",
    "df[\"action_mask\"] = df[\"action_mask\"].apply(eval)\n",
    "df[\"new_observation\"] = df[\"new_observation\"].apply(eval)\n",
    "\n",
    "buff_df = df\n",
    "\n",
    "Ends = buff_df.loc[buff_df[\"finished\"]==True]\n",
    "\n",
    "if len(Ends) >0 : \n",
    "    nb_ep = len(Ends)\n",
    "    nb_Ep_train = int(nb_ep*0.8)\n",
    "    nb_Ep_test = nb_ep - nb_Ep_train\n",
    "    \n",
    "    id_train = buff_df.loc[buff_df[\"finished\"]==True].iloc[nb_Ep_train].name\n",
    "else : \n",
    "    nb_Ep_train = int(len(df)*0.8)\n",
    "    nb_Ep_test = int(len(df)) - nb_Ep_train\n",
    "    \n",
    "    id_train = nb_Ep_train\n",
    "\n",
    "\n",
    "buffer_train = list(buff_df.loc[0:id_train].values)\n",
    "buffer_test = list(buff_df.loc[id_train+1:].values)\n",
    "\n",
    "fig, axs = plt.subplots(1,2, figsize=(13, 5))\n",
    "\n",
    "sns.distplot(buff_df['reward'], ax = axs[0]).set(title='Reward distribution')\n",
    "sns.distplot(Ends['reward'], ax = axs[1]).set(title='Reward distribution on at the end of episode')\n",
    "\n",
    "\n",
    "# sns.barplot(x=\"error\", y=\"MSE\", hue=\"action\", data=reward_positive, ax = axs[0]).set(\n",
    "#     title='Test errors on positive rewards (>{}) by actions'.format(thresold))\n",
    "\n",
    "# sns.barplot(x=\"error\", y=\"MSE\", data=global_losses, ax = axs[1]).set(title='Test global errors')\n",
    "\n",
    "\n",
    "# plt.setp(axs[0].get_xticklabels(), rotation=30, horizontalalignment='right')\n",
    "# plt.setp(axs[1].get_xticklabels(), rotation=30, horizontalalignment='right')\n",
    "\n",
    "\n",
    "\n",
    "\n",
    "\n",
    "\n",
    "\n",
    "\n",
    "\n"
   ]
  },
  {
   "cell_type": "code",
   "execution_count": null,
   "metadata": {
    "ExecuteTime": {
     "end_time": "2021-09-23T14:39:50.621799Z",
     "start_time": "2021-09-23T14:39:50.614111Z"
    }
   },
   "outputs": [],
   "source": []
  },
  {
   "cell_type": "code",
   "execution_count": null,
   "metadata": {
    "ExecuteTime": {
     "end_time": "2021-09-23T14:31:35.176086Z",
     "start_time": "2021-09-23T14:31:13.227Z"
    },
    "scrolled": true
   },
   "outputs": [],
   "source": []
  },
  {
   "cell_type": "markdown",
   "metadata": {},
   "source": [
    "## functions simulations"
   ]
  },
  {
   "cell_type": "code",
   "execution_count": 23,
   "metadata": {
    "ExecuteTime": {
     "end_time": "2021-09-24T11:16:58.362377Z",
     "start_time": "2021-09-24T11:16:58.358556Z"
    }
   },
   "outputs": [],
   "source": [
    "def experience_random_collection(env, param_agent, buffer = None) : \n",
    "    \n",
    "    \n",
    "    data = pd.DataFrame()\n",
    "    state = env.reset()\n",
    "    \n",
    "    for k in range(param_agent[\"run\"]) : \n",
    "                \n",
    "        action, eps = agent_LSFM.choose_action_random()\n",
    "        next_state, reward, done, info = env.step(action)\n",
    "            \n",
    "            \n",
    "            \n",
    "            \n",
    "        \n",
    "        result_compile, agent_LSFM, memory = simu_online_LSFM(env,param_agent, buffer=None)\n",
    "    \n",
    "        memory.write(\"memory.csv\")\n",
    "        data_train_df = pd.DataFrame(result_compile, columns=[ \n",
    "        \"Episode\", \n",
    "        \"Step\", \n",
    "        \"cum_step\",\n",
    "        \"Reward\", \n",
    "        \"Reward_cum\",\n",
    "        \"Eps\",  \n",
    "        \"Avg_loss\" ,  \n",
    "        \"Avg_loss_r\",  \n",
    "        \"Avg_loss_N\",  \n",
    "        \"Avg_loss_psi\", \"Avg_loss_phi\"])\n",
    "\n",
    "        data_train_df[\"carac\"] = carac_model(param_agent) \n",
    "        data_train_df[\"run\"] = k\n",
    "        data = pd.concat([data, data_train_df])\n",
    "\n",
    "    return data, agent_LSFM"
   ]
  },
  {
   "cell_type": "markdown",
   "metadata": {},
   "source": [
    "### Offline"
   ]
  },
  {
   "cell_type": "code",
   "execution_count": 24,
   "metadata": {
    "ExecuteTime": {
     "end_time": "2021-09-24T11:16:58.370703Z",
     "start_time": "2021-09-24T11:16:58.363970Z"
    }
   },
   "outputs": [],
   "source": [
    "def simu_offline_LSFM(env,param_agent, buffer) : \n",
    "    \n",
    "    result_compile = []\n",
    "    steps = 0\n",
    "\n",
    "#     No mask for simple env\n",
    "    if env.env_name == \"SimpleGrid\" : \n",
    "        action_space = np.arange(env.action_space.n)\n",
    "        action_no_mask = np.full((env.action_space.n), 1)   \n",
    "        possible_action = action_space\n",
    "\n",
    "    memory = Memory(param_agent[\"memory\"], buffer)\n",
    "\n",
    "    avg_loss = 0\n",
    "    avg_loss_r  = 0\n",
    "    avg_loss_N  = 0\n",
    "    avg_loss_psi  = 0\n",
    "\n",
    "    agent_LSFM = Agent(env, param_agent)\n",
    "    model_LSFM = agent_LSFM.model_LSFM\n",
    "    \n",
    "    \n",
    "\n",
    "    for i in range(param_agent[\"num_steps\"]):\n",
    "\n",
    "        avg_loss = 0\n",
    "\n",
    "#         TRAIN ON BUFFER ONLY \n",
    "        if buffer != None : \n",
    "\n",
    "            loss_all = agent_LSFM.train_LSFM(\n",
    "                        model_LSFM, \n",
    "                        memory, \n",
    "                        param_agent[\"filter_done\"])\n",
    "            \n",
    "            avg_loss += loss_all[0]\n",
    "            avg_loss_r += loss_all[1]\n",
    "            avg_loss_N += loss_all[2]\n",
    "            avg_loss_psi += loss_all[3]\n",
    "\n",
    "\n",
    "            if steps>0 : \n",
    "                if steps % 200 == 0:\n",
    "                    avg_loss /= steps\n",
    "                    avg_loss_r /= steps\n",
    "                    avg_loss_N /= steps\n",
    "                    avg_loss_psi /= steps\n",
    "#                     loss_phisp1 /= steps\n",
    "\n",
    "                    result = [steps, avg_loss, avg_loss_r, avg_loss_N, avg_loss_psi]\n",
    "    \n",
    "                    print(\"cumul_step: {:06d}, L: {:0.4f}, Lr: {:0.4f}, LN: {:0.4f}, Lpsi: {:0.4f}\".format(*result[:]))\n",
    "\n",
    "                    result_compile.append(result)\n",
    "\n",
    "            steps += 1\n",
    "\n",
    "    return result_compile, agent_LSFM, memory\n",
    "       \n",
    "    \n",
    "    \n",
    "    \n",
    "\n",
    "\n",
    "def experience_offline_LSFM(env,param_agent,buffer) : \n",
    "    \n",
    "    data = pd.DataFrame()\n",
    "    \n",
    "    for k in range(param_agent[\"run\"]) : \n",
    "    \n",
    "        result_compile, agent_LSFM, memory = simu_offline_LSFM(env,param_agent, buffer)\n",
    "    \n",
    "        memory.write(\"memory.csv\")\n",
    "        data_train_df = pd.DataFrame(result_compile, columns=[ \n",
    "        \"cum_step\",\n",
    "        \"Avg_loss\" ,  \n",
    "        \"Avg_loss_r\",  \n",
    "        \"Avg_loss_N\",  \n",
    "        \"Avg_loss_psi\"])\n",
    "\n",
    "        data_train_df[\"carac\"] = carac_model(param_agent) \n",
    "        data_train_df[\"run\"] = k\n",
    "        data = pd.concat([data, data_train_df])\n",
    "        \n",
    "        \n",
    "    return data, agent_LSFM"
   ]
  },
  {
   "cell_type": "markdown",
   "metadata": {},
   "source": [
    "### Test error on datatest"
   ]
  },
  {
   "cell_type": "code",
   "execution_count": 25,
   "metadata": {
    "ExecuteTime": {
     "end_time": "2021-09-24T11:16:58.383328Z",
     "start_time": "2021-09-24T11:16:58.375226Z"
    }
   },
   "outputs": [],
   "source": [
    "def test_error_Ma_rewClassif_offline_LSFM(env,param_agent, buffer, save_model_path, reward_parser) : \n",
    "    \n",
    "    result_compile = []\n",
    "    steps = 0\n",
    "\n",
    "#     No mask for simple env\n",
    "    if env.env_name == \"SimpleGrid\" : \n",
    "        action_space = np.arange(env.action_space.n)\n",
    "        action_no_mask = np.full((env.action_space.n), 1)   \n",
    "        possible_action = action_space\n",
    "\n",
    "    memory = Memory(param_agent[\"memory\"], buffer)\n",
    "\n",
    "    avg_loss = 0\n",
    "    avg_loss_r  = 0\n",
    "    avg_loss_N  = 0\n",
    "    avg_loss_psi  = 0\n",
    "\n",
    "    agent_LSFM = Agent(env, param_agent, save_model_path)\n",
    "    model_LSFM = agent_LSFM.model_LSFM\n",
    "\n",
    "    y_true_compile = []\n",
    "    y_pred_compile = []\n",
    "\n",
    "    for i in range(param_agent[\"num_episodes\"]):\n",
    "        \n",
    "        cnt = 0\n",
    "        \n",
    "        state,*_= buffer[steps]\n",
    "        \n",
    "        states = np.array(state).reshape(1,-1)\n",
    "        phi_pred = model_LSFM(states)[\"phi\"]\n",
    "        \n",
    "        while True:\n",
    "\n",
    "            avg_loss = 0\n",
    "\n",
    "            state, action_mask, action, reward, next_state, done = buffer[steps]\n",
    "            \n",
    "            states = np.array(state).reshape(1,-1)\n",
    "            action_masks = np.array(action_mask).reshape(1,-1)\n",
    "            actions = [action]\n",
    "            rewards = [reward]\n",
    "            next_states = np.array(next_state).reshape(1,-1)\n",
    "            terminates = [done]\n",
    "            \n",
    "            \n",
    "            target_psi = agent_LSFM.target_psi(\n",
    "                model_LSFM, states, actions, next_states,terminates,rewards, param_agent[\"filter_done\"])\n",
    "\n",
    "#             loss_tot, loss_r ,  loss_N , loss_psi , loss_phi = agent_LSFM.losses_all(\n",
    "#                 states, actions, rewards,next_states, target_psi, agent_LSFM)\n",
    "            \n",
    "            \n",
    "            phi = model_LSFM(states)[\"phi\"]\n",
    "            phi_sp1 = agent_LSFM.model_LSFM(next_states)[\"phi\"]\n",
    "#             next_state_latent = np.array(tf.reshape(phi_sp1, phi_sp1.shape[-1]))\n",
    "\n",
    "\n",
    "#             y_true = [reward, 1., target_psi, next_state_latent]\n",
    "\n",
    "            logits_r = agent_LSFM.get_from_actions( states, actions, model_LSFM, \"ra\")\n",
    "            reward_onestep = tf.keras.backend.get_value(logits_r)[0]\n",
    "#             reward_onestep = tf.keras.backend.get_value(logits_r)[0]\n",
    "            \n",
    "            norm_phi = tf.keras.backend.get_value(tf.norm(phi, axis=1))[0]\n",
    "            \n",
    "            logits_psi = agent_LSFM.get_from_actions( states, actions, model_LSFM, \"Fa\")\n",
    "            phi_sp1_pred = agent_LSFM.get_from_actions( states, actions, model_LSFM, \"Ma\") \n",
    "\n",
    "            reward_n_step = tf.keras.backend.get_value(\n",
    "                agent_LSFM.next_rewards( phi_pred, actions, model_LSFM))[0]\n",
    "\n",
    "            \n",
    "            \n",
    "            y_true = [i, cnt, steps,  done, action, discretize(reward, reward_parser),\n",
    "                      1., target_psi,   phi_sp1, discretize(reward, reward_parser)]\n",
    "            \n",
    "            \n",
    "            \n",
    "            y_pred = [i, cnt, steps,  done, action, reward_onestep,\n",
    "                      norm_phi, logits_psi, phi_sp1_pred, reward_n_step]\n",
    "            \n",
    "            y_true_compile.append(y_true)\n",
    "            y_pred_compile.append(y_pred)\n",
    "            \n",
    "            \n",
    "            \n",
    "            \n",
    "            phi_pred = phi_sp1_pred\n",
    "            \n",
    "            \n",
    "            steps += 1\n",
    "            \n",
    "            if done:\n",
    "\n",
    "#                 if cnt != 0:\n",
    "#                     avg_loss /= cnt\n",
    "#                     avg_loss_r /= cnt\n",
    "#                     avg_loss_N /= cnt\n",
    "#                     avg_loss_psi /= cnt\n",
    "#                     loss_phip1 /= cnt\n",
    "\n",
    "#                 else:\n",
    "#                     avg_loss = 0\n",
    "#                     loss_phip1 = 0\n",
    "\n",
    "               \n",
    "    \n",
    "                if i % 1  == 0 : \n",
    "                    print(\n",
    "                    \"Ep: {:03d}, stEp: {:03d}, stAll: {:04d}\".format(*y_true[:]))\n",
    "\n",
    "#                 y_true_compile.append(y_true)\n",
    "#                 y_pred_compile.append(y_true)\n",
    "    #             with train_writer.as_default():\n",
    "    #                 tf.summary.scalar('reward', cnt, step=i)\n",
    "    #                 tf.summary.scalar('avg loss', avg_loss, step=i)\n",
    "                break\n",
    "\n",
    "            cnt += 1\n",
    "            \n",
    "    y_true_df = pd.DataFrame(y_true_compile, columns=[ \n",
    "    \"Ep\",\n",
    "    \"stEp\" ,  \n",
    "    \"stAll\",\n",
    "    \"finished\",\n",
    "    \"action\",\n",
    "    \"reward_one-step\",  \n",
    "    \"Norm_phi\", \n",
    "    \"target_psi\",\n",
    "    \"phi_sp1\",\n",
    "    \"reward_n-step\"])\n",
    "    y_pred_df = pd.DataFrame(y_pred_compile, columns=[ \n",
    "    \"Ep\",\n",
    "    \"stEp\" ,  \n",
    "    \"stAll\",\n",
    "    \"finished\",\n",
    "    \"action\",\n",
    "    \"reward_one-step\",  \n",
    "    \"Norm_phi\", \n",
    "    \"target_psi\",\n",
    "    \"phi_sp1\",\n",
    "    \"reward_n-step\"])\n",
    "        \n",
    "\n",
    "\n",
    "    return y_pred_df, y_true_df\n",
    "       \n",
    "    \n",
    "    "
   ]
  },
  {
   "cell_type": "code",
   "execution_count": 26,
   "metadata": {
    "ExecuteTime": {
     "end_time": "2021-09-24T11:16:58.404002Z",
     "start_time": "2021-09-24T11:16:58.386069Z"
    }
   },
   "outputs": [],
   "source": [
    "def test_error_Ma_offline_LSFM(env,param_agent, buffer, save_model_path) : \n",
    "    \n",
    "    result_compile = []\n",
    "    steps = 0\n",
    "\n",
    "#     No mask for simple env\n",
    "    if env.env_name == \"SimpleGrid\" : \n",
    "        action_space = np.arange(env.action_space.n)\n",
    "        action_no_mask = np.full((env.action_space.n), 1)   \n",
    "        possible_action = action_space\n",
    "\n",
    "    memory = Memory(param_agent[\"memory\"], buffer)\n",
    "\n",
    "    avg_loss = 0\n",
    "    avg_loss_r  = 0\n",
    "    avg_loss_N  = 0\n",
    "    avg_loss_psi  = 0\n",
    "\n",
    "    agent_LSFM = Agent(env, param_agent, save_model_path)\n",
    "    model_LSFM = agent_LSFM.model_LSFM\n",
    "\n",
    "    y_true_compile = []\n",
    "    y_pred_compile = []\n",
    "\n",
    "    for i in range(param_agent[\"num_episodes\"]):\n",
    "        \n",
    "        cnt = 0\n",
    "        \n",
    "        state,*_= buffer[steps]\n",
    "        \n",
    "        states = np.array(state).reshape(1,-1)\n",
    "        phi_pred = model_LSFM(states)[\"phi\"]\n",
    "        \n",
    "        while True:\n",
    "\n",
    "            avg_loss = 0\n",
    "\n",
    "            state, action_mask, action, reward, next_state, done = buffer[steps]\n",
    "            \n",
    "            states = np.array(state).reshape(1,-1)\n",
    "            action_masks = np.array(action_mask).reshape(1,-1)\n",
    "            actions = [action]\n",
    "            rewards = [reward]\n",
    "            next_states = np.array(next_state).reshape(1,-1)\n",
    "            terminates = [done]\n",
    "            \n",
    "            \n",
    "            phi = model_LSFM(states)[\"phi\"]\n",
    "            phi_sp1 = agent_LSFM.model_LSFM(next_states)[\"phi\"]\n",
    "#             next_state_latent = np.array(tf.reshape(phi_sp1, phi_sp1.shape[-1]))\n",
    "\n",
    "\n",
    "            target_psi = agent_LSFM.target_psi(model_LSFM, states, actions, next_states,terminates,rewards, param_agent[\"filter_done\"])\n",
    "\n",
    "#             y_true = [reward, 1., target_psi, next_state_latent]\n",
    "\n",
    "            logits_r = agent_LSFM.get_from_actions( states, actions, model_LSFM, \"ra\")\n",
    "            reward_onestep = tf.keras.backend.get_value(logits_r)[0]\n",
    "            \n",
    "            norm_phi = tf.keras.backend.get_value(tf.norm(phi, axis=1))[0]\n",
    "            \n",
    "            logits_psi = agent_LSFM.get_from_actions( states, actions, model_LSFM, \"Fa\")\n",
    "            phi_sp1_pred = agent_LSFM.get_from_actions( states, actions, model_LSFM, \"Ma\") \n",
    "\n",
    "            reward_n_step = tf.keras.backend.get_value(\n",
    "                agent_LSFM.next_rewards( phi_pred, actions, model_LSFM)[0]\n",
    "            )\n",
    "\n",
    "\n",
    "            \n",
    "            y_true = [i, cnt, steps,  done, action, reward,\n",
    "                      1., target_psi,   phi_sp1, reward]\n",
    "            y_pred = [i, cnt, steps,  done, action, reward_onestep,\n",
    "                      norm_phi, logits_psi, phi_sp1_pred, reward_n_step]\n",
    "            \n",
    "            y_true_compile.append(y_true)\n",
    "            y_pred_compile.append(y_pred)\n",
    "            \n",
    "            \n",
    "            \n",
    "            \n",
    "            \n",
    "            phi_pred = phi_sp1_pred\n",
    "            steps += 1\n",
    "            \n",
    "            if done:\n",
    "\n",
    "#                 if cnt != 0:\n",
    "#                     avg_loss /= cnt\n",
    "#                     avg_loss_r /= cnt\n",
    "#                     avg_loss_N /= cnt\n",
    "#                     avg_loss_psi /= cnt\n",
    "#                     loss_phip1 /= cnt\n",
    "\n",
    "#                 else:\n",
    "#                     avg_loss = 0\n",
    "#                     loss_phip1 = 0\n",
    "\n",
    "               \n",
    "    \n",
    "                if i % 1  == 0 : \n",
    "                    print(\n",
    "                    \"Ep: {:03d}, stEp: {:03d}, stAll: {:04d}\".format(*y_true[:]))\n",
    "\n",
    "#                 y_true_compile.append(y_true)\n",
    "#                 y_pred_compile.append(y_true)\n",
    "    #             with train_writer.as_default():\n",
    "    #                 tf.summary.scalar('reward', cnt, step=i)\n",
    "    #                 tf.summary.scalar('avg loss', avg_loss, step=i)\n",
    "                break\n",
    "\n",
    "            cnt += 1\n",
    "            \n",
    "    y_true_df = pd.DataFrame(y_true_compile, columns=[ \n",
    "    \"Ep\",\n",
    "    \"stEp\" ,  \n",
    "    \"stAll\",\n",
    "    \"finished\",\n",
    "    \"action\",\n",
    "    \"reward_one-step\",  \n",
    "    \"Norm_phi\", \n",
    "    \"target_psi\",\n",
    "    \"phi_sp1\",\n",
    "    \"reward_n-step\"])\n",
    "    y_pred_df = pd.DataFrame(y_pred_compile, columns=[ \n",
    "    \"Ep\",\n",
    "    \"stEp\" ,  \n",
    "    \"stAll\",\n",
    "    \"finished\",\n",
    "    \"action\",\n",
    "    \"reward_one-step\",  \n",
    "    \"Norm_phi\", \n",
    "    \"target_psi\",\n",
    "    \"phi_sp1\",\n",
    "    \"reward_n-step\"])\n",
    "        \n",
    "\n",
    "\n",
    "    return y_pred_df, y_true_df\n",
    "       \n",
    "    \n",
    "    "
   ]
  },
  {
   "cell_type": "code",
   "execution_count": 27,
   "metadata": {
    "ExecuteTime": {
     "end_time": "2021-09-24T11:16:58.415606Z",
     "start_time": "2021-09-24T11:16:58.407004Z"
    }
   },
   "outputs": [],
   "source": [
    "def test_error_offline_LSFM(env,param_agent, buffer, save_model_path) : \n",
    "    \n",
    "    result_compile = []\n",
    "    steps = 0\n",
    "\n",
    "#     No mask for simple env\n",
    "    if env.env_name == \"SimpleGrid\" : \n",
    "        action_space = np.arange(env.action_space.n)\n",
    "        action_no_mask = np.full((env.action_space.n), 1)   \n",
    "        possible_action = action_space\n",
    "\n",
    "    memory = Memory(param_agent[\"memory\"], buffer)\n",
    "\n",
    "    avg_loss = 0\n",
    "    avg_loss_r  = 0\n",
    "    avg_loss_N  = 0\n",
    "    avg_loss_psi  = 0\n",
    "\n",
    "    agent_LSFM = Agent(env, param_agent, save_model_path)\n",
    "    model_LSFM = agent_LSFM.model_LSFM\n",
    "    \n",
    "    agent_LSFM.M_transi(model_LSFM)\n",
    "    \n",
    "#     nb_steps = min(param_agent[\"num_steps\"], len(buffer))\n",
    "#     trajectories = []\n",
    "#     trajectory = []\n",
    "\n",
    "    y_true_compile = []\n",
    "    y_pred_compile = []\n",
    "\n",
    "    for i in range(param_agent[\"num_episodes\"]):\n",
    "        \n",
    "        cnt = 0\n",
    "        \n",
    "        state,*_= buffer[steps]\n",
    "        \n",
    "        states = np.array(state).reshape(1,-1)\n",
    "        phi_pred = model_LSFM(states)[\"phi\"]\n",
    "        \n",
    "        while True:\n",
    "\n",
    "            avg_loss = 0\n",
    "\n",
    "            state, action_mask, action, reward, next_state, done = buffer[steps]\n",
    "            \n",
    "            states = np.array(state).reshape(1,-1)\n",
    "            action_masks = np.array(action_mask).reshape(1,-1)\n",
    "            actions = [action]\n",
    "            rewards = [reward]\n",
    "            next_states = np.array(next_state).reshape(1,-1)\n",
    "            terminates = [done]\n",
    "            \n",
    "            \n",
    "            phi = model_LSFM(states)[\"phi\"]\n",
    "            phi_sp1 = agent_LSFM.model_LSFM(next_states)[\"phi\"]\n",
    "#             next_state_latent = np.array(tf.reshape(phi_sp1, phi_sp1.shape[-1]))\n",
    "\n",
    "\n",
    "            target_psi = agent_LSFM.target_psi(model_LSFM, states, actions, next_states,terminates,rewards, param_agent[\"filter_done\"])\n",
    "\n",
    "#             y_true = [reward, 1., target_psi, next_state_latent]\n",
    "\n",
    "            logits_r = agent_LSFM.get_from_actions( states, actions, model_LSFM, \"ra\")\n",
    "            reward_onestep = tf.keras.backend.get_value(logits_r)[0]\n",
    "            \n",
    "            norm_phi = tf.keras.backend.get_value(tf.norm(phi, axis=1))[0]\n",
    "            \n",
    "            logits_psi = agent_LSFM.get_from_actions( states, actions, model_LSFM, \"Fa\")\n",
    "            phi_sp1_pred = agent_LSFM.next_phi_pred(model_LSFM, phi_pred,actions)\n",
    "#             y_pred = [logits_r, tf.norm(y_pred, axis=1), logits_psi, phi_sp1]\n",
    "\n",
    "\n",
    "\n",
    "            reward_n_step = tf.keras.backend.get_value(\n",
    "                agent_LSFM.next_rewards( phi_pred, actions, model_LSFM)[0]\n",
    "            )\n",
    "\n",
    "\n",
    "            \n",
    "            y_true = [i, cnt, steps,  done, action, reward,                      1., target_psi,   phi_sp1, reward]\n",
    "            y_pred = [i, cnt, steps,  done, action, reward_onestep, norm_phi, logits_psi, phi_sp1_pred, reward_n_step]\n",
    "            \n",
    "            y_true_compile.append(y_true)\n",
    "            y_pred_compile.append(y_pred)\n",
    "            \n",
    "            \n",
    "            \n",
    "            \n",
    "            \n",
    "            phi_pred = phi_sp1_pred\n",
    "            steps += 1\n",
    "            \n",
    "            if done:\n",
    "\n",
    "#                 if cnt != 0:\n",
    "#                     avg_loss /= cnt\n",
    "#                     avg_loss_r /= cnt\n",
    "#                     avg_loss_N /= cnt\n",
    "#                     avg_loss_psi /= cnt\n",
    "#                     loss_phip1 /= cnt\n",
    "\n",
    "#                 else:\n",
    "#                     avg_loss = 0\n",
    "#                     loss_phip1 = 0\n",
    "\n",
    "               \n",
    "    \n",
    "                if i % 1  == 0 : \n",
    "                    print(\n",
    "                    \"Ep: {:03d}, stEp: {:03d}, stAll: {:04d}\".format(*y_true[:]))\n",
    "\n",
    "#                 y_true_compile.append(y_true)\n",
    "#                 y_pred_compile.append(y_true)\n",
    "    #             with train_writer.as_default():\n",
    "    #                 tf.summary.scalar('reward', cnt, step=i)\n",
    "    #                 tf.summary.scalar('avg loss', avg_loss, step=i)\n",
    "                break\n",
    "\n",
    "            cnt += 1\n",
    "            \n",
    "    y_true_df = pd.DataFrame(y_true_compile, columns=[ \n",
    "    \"Ep\",\n",
    "    \"stEp\" ,  \n",
    "    \"stAll\",\n",
    "    \"finished\",\n",
    "    \"action\",\n",
    "    \"reward_one-step\",  \n",
    "    \"Norm_phi\", \n",
    "    \"target_psi\",\n",
    "    \"phi_sp1\",\n",
    "    \"reward_n-step\"])\n",
    "    y_pred_df = pd.DataFrame(y_pred_compile, columns=[ \n",
    "    \"Ep\",\n",
    "    \"stEp\" ,  \n",
    "    \"stAll\",\n",
    "    \"finished\",\n",
    "    \"action\",\n",
    "    \"reward_one-step\",  \n",
    "    \"Norm_phi\", \n",
    "    \"target_psi\",\n",
    "    \"phi_sp1\",\n",
    "    \"reward_n-step\"])\n",
    "        \n",
    "\n",
    "\n",
    "    return y_pred_df, y_true_df\n",
    "       \n",
    "    \n",
    "    "
   ]
  },
  {
   "cell_type": "markdown",
   "metadata": {},
   "source": [
    "### Old simus"
   ]
  },
  {
   "cell_type": "code",
   "execution_count": 28,
   "metadata": {
    "ExecuteTime": {
     "end_time": "2021-09-24T11:16:58.528168Z",
     "start_time": "2021-09-24T11:16:58.417127Z"
    }
   },
   "outputs": [],
   "source": [
    "def simu(env,param_agent,agent_LSFM = None, agent_Q = None) : \n",
    "    \n",
    "    \n",
    "    result_compile = []\n",
    "\n",
    "    steps = 0\n",
    "    render = param_agent[\"render\"]\n",
    "\n",
    "    reward_cumul = 0\n",
    "\n",
    "#     action_space = np.arange(env.action_space.n)\n",
    "#     possible_action = action_space\n",
    "    \n",
    "    \n",
    "#     No mask for simple env\n",
    "    if env.env_name == \"SimpleGrid\" : \n",
    "        action_space = np.arange(env.action_space.n)\n",
    "        action_no_mask = np.full((env.action_space.n), 1)   \n",
    "        possible_action = action_space\n",
    "\n",
    "    \n",
    "    memory = Memory(param_agent[\"memory\"])\n",
    "    memory_latent = Memory(param_agent[\"memory\"])\n",
    "\n",
    "    \n",
    "    avg_loss = 0\n",
    "    avg_loss_r  = 0\n",
    "    avg_loss_N  = 0\n",
    "    avg_loss_psi  = 0\n",
    "    \n",
    "    if agent_LSFM!= None : model_LSFM = agent_LSFM.model_LSFM\n",
    "        \n",
    "#     model_LSFM_prev= agent_LSFM.model_LSFM_prev\n",
    "    if param_agent[\"train_LSFM\"] == False : \n",
    "        model_Q = agent_Q.model\n",
    "        model_Q_prev = agent_Q.model_prev\n",
    "    \n",
    "    for i in range(param_agent[\"num_episodes\"]):\n",
    "        state = env.reset()\n",
    "\n",
    "        reward_ep_cumul = 0\n",
    "        cnt = 0\n",
    "        avg_loss = 0\n",
    "        while True:\n",
    "            if render:\n",
    "                env.render()\n",
    "\n",
    "            if param_agent[\"train_LSFM\"] : \n",
    "                action, eps = agent_LSFM.choose_action_random()\n",
    "                next_state, reward, done, info = env.step(action)\n",
    "            else : \n",
    "                if param_agent[\"train_on_Q_latent\"] : \n",
    "                    \n",
    "                    state_resh = state.reshape(1,-1)\n",
    "                    phi = agent_LSFM.model_LSFM(state_resh)[\"phi\"]\n",
    "                    state_latent = np.array(tf.reshape(phi, phi.shape[-1]))\n",
    "\n",
    "                    # eps = MIN_EPSILON + (MAX_EPSILON - MIN_EPSILON) * math.exp(-LAMBDA * steps)\n",
    "                                        \n",
    "                    action, eps = agent_Q.choose_action(\n",
    "                                        state_latent, \n",
    "                                        model_Q, \n",
    "                                        steps, \n",
    "                                        possible_action\n",
    "                                    )\n",
    "                    \n",
    "                    next_state, reward, done, info = env.step(action)\n",
    "\n",
    "                    next_state_resh = next_state.reshape(1,-1)\n",
    "                    phi_prime = agent_LSFM.model_LSFM(next_state_resh)[\"phi\"]\n",
    "                    next_state_latent = np.array(tf.reshape(phi_prime, phi_prime.shape[-1]))\n",
    "\n",
    "                    \n",
    "                else : \n",
    "                # eps = MIN_EPSILON + (MAX_EPSILON - MIN_EPSILON) * math.exp(-LAMBDA * steps)\n",
    "                    action, eps = agent_Q.choose_action(\n",
    "                        state, \n",
    "                        model_Q, \n",
    "                        steps, \n",
    "                        possible_action\n",
    "                    )\n",
    "\n",
    "                    next_state, reward, done, info = env.step(action)\n",
    "\n",
    "\n",
    "            if param_agent[\"RANDOM_REWARD_STD\"] > 0:\n",
    "                reward = np.random.normal(1.0, RANDOM_REWARD_STD)\n",
    "\n",
    "            reward_ep_cumul += reward\n",
    "            reward_cumul += reward\n",
    "            \n",
    "            if done:\n",
    "                next_state = np.zeros(env._state_dim)\n",
    "                next_state_latent = np.zeros(param_agent[\"latent_space\"])\n",
    "            \n",
    "            \n",
    "            \n",
    "            if param_agent[\"train\"] :\n",
    "                if param_agent[\"train_LSFM\"] : \n",
    "                    memory.add_sample((state, action_no_mask, action, reward, next_state, done))\n",
    "                    loss_all = agent_LSFM.train_LSFM(\n",
    "                        model_LSFM, \n",
    "                        memory, \n",
    "                        param_agent[\"filter_done\"])\n",
    "\n",
    "                    avg_loss += loss_all[0]\n",
    "                    avg_loss_r += loss_all[1]\n",
    "                    avg_loss_N += loss_all[2]\n",
    "                    avg_loss_psi += loss_all[3]\n",
    "                else : \n",
    "                    if param_agent[\"train_on_Q_latent\"] : \n",
    "                        memory_latent.add_sample((state_latent,action_no_mask, action, reward, next_state_latent, done))\n",
    "\n",
    "                        loss = agent_Q.train_Q(\n",
    "                        model_Q, \n",
    "                        model_Q_prev if param_agent[\"double_model\"] else None,\n",
    "                        memory_latent, param_agent[\"filter_done\"])\n",
    "                        avg_loss += loss\n",
    "                    else :                 \n",
    "                        memory.add_sample((state,action_no_mask, action, reward, next_state, done))\n",
    "\n",
    "                        loss = agent_Q.train_Q(\n",
    "                        model_Q, \n",
    "                        model_Q_prev if param_agent[\"double_model\"] else None,\n",
    "                        memory, param_agent[\"filter_done\"])\n",
    "                        avg_loss += loss\n",
    "                \n",
    "            state = next_state\n",
    "        \n",
    "            steps += 1\n",
    "            if steps % 1000 == 0 : print(\"steps : {}, episode : {}, eps : {}\".format(steps, i, eps))\n",
    "#             print(\"steps : {}, episode : {}\".format(steps, i))\n",
    "            if done:\n",
    "                \n",
    "                if cnt != 0:\n",
    "                    avg_loss /= cnt\n",
    "                    avg_loss_r /= cnt\n",
    "                    avg_loss_N /= cnt\n",
    "                    avg_loss_psi /= cnt\n",
    "                    \n",
    "                else:\n",
    "                    avg_loss = 0\n",
    "                result = [i, cnt, steps, reward_ep_cumul,\n",
    "                          reward_cumul, eps, avg_loss, avg_loss_r, avg_loss_N, avg_loss_psi]\n",
    "                if i % 1  == 0 : print(\"Episode: {:03d}, step: {:03d}, cumul_step: {:04d}, Reward: {:3.1f}, Reward_cumul: {:3.1f}, eps: {:0.4f}, avg loss: {:0.4f}\".format(*result))\n",
    "\n",
    "                result_compile.append(result)\n",
    "    #             with train_writer.as_default():\n",
    "    #                 tf.summary.scalar('reward', cnt, step=i)\n",
    "    #                 tf.summary.scalar('avg loss', avg_loss, step=i)\n",
    "                break\n",
    "\n",
    "            cnt += 1\n",
    "    return result_compile\n",
    "    \n",
    "    \n"
   ]
  },
  {
   "cell_type": "code",
   "execution_count": 29,
   "metadata": {
    "ExecuteTime": {
     "end_time": "2021-09-24T11:16:58.532846Z",
     "start_time": "2021-09-24T11:16:58.529248Z"
    }
   },
   "outputs": [],
   "source": [
    "def experience_new(env, param_agent_simu) : \n",
    "    \n",
    "    for k in range(param_agent_simu[\"run\"]) : \n",
    "        param_agent_simu[\"reset_LSFM\"] = True\n",
    "        \n",
    "        \n",
    "        \n",
    "        agent = Agent(env, param_agent_simu)\n",
    "        result_compile = simu(env,param_agent_simu,agent) \n",
    "        \n",
    "        data_train_df = pd.DataFrame(result_compile, columns=[ \n",
    "        \"Episode\", \n",
    "        \"Step\", \n",
    "        \"cum_step\",\n",
    "        \"Reward\", \n",
    "        \"Reward_cum\",\n",
    "        \"Eps\",  \n",
    "        \"Avg_loss\" ,  \n",
    "        \"Avg_loss_r\",  \n",
    "        \"Avg_loss_N\",  \n",
    "        \"Avg_loss_psi\"])\n",
    "\n",
    "\n",
    "\n",
    "        data_train_df[\"carac\"] = carac_model(param_agent_simu) \n",
    "        data_train_df[\"run\"] = k\n",
    "#         data_LSFM_best = pd.concat([data_LSFM_best, data_train_df])\n",
    "\n",
    "    agent.model_LSFM.save( \"test_in_exp\"+\"/agent_LSFM_model\")\n",
    "\n",
    "    return data_train_df, agent\n",
    "#         eval_step = int(param_agent_simu[\"num_episodes\"] - param_agent_simu[\"num_episodes\"] /10)\n",
    "\n",
    "        \n",
    "        "
   ]
  },
  {
   "cell_type": "code",
   "execution_count": 30,
   "metadata": {
    "ExecuteTime": {
     "end_time": "2021-09-24T11:16:58.537853Z",
     "start_time": "2021-09-24T11:16:58.534130Z"
    }
   },
   "outputs": [],
   "source": [
    "def experience(environment, param, agent= None, save_model = None) : \n",
    "    \n",
    "    agent_LSFM = agent\n",
    "    data = pd.DataFrame()\n",
    "    \n",
    "    for k in range(param[\"run\"]) : \n",
    "                \n",
    "        agent_Q_simu = Agent_Q(environment, param = param, save_model = save_model)      \n",
    "        # Restore the weights\n",
    "#         if save_model != None : \n",
    "#             for t in zip(agent_Q_simu.model.trainable_variables):\n",
    "#                 print(\"agent_Q_simu\", t)\n",
    "\n",
    "        \n",
    "        result_compile = simu(environment,param, agent_LSFM, agent_Q_simu)\n",
    "    \n",
    "\n",
    "        data_train_df = pd.DataFrame(result_compile, columns=[ \n",
    "        \"Episode\", \n",
    "        \"Step\", \n",
    "        \"cum_step\",\n",
    "        \"Reward\", \n",
    "        \"Reward_cum\",\n",
    "        \"Eps\",  \n",
    "        \"Avg_loss\" ,  \n",
    "        \"Avg_loss_r\",  \n",
    "        \"Avg_loss_N\",  \n",
    "        \"Avg_loss_psi\"])\n",
    "\n",
    "        data_train_df[\"carac\"] = carac_model(param) \n",
    "        data_train_df[\"run\"] = k\n",
    "        data = pd.concat([data, data_train_df])\n",
    "        \n",
    "        \n",
    "\n",
    "    return data, agent_Q_simu, agent_LSFM"
   ]
  },
  {
   "cell_type": "markdown",
   "metadata": {},
   "source": [
    "## function plot"
   ]
  },
  {
   "cell_type": "code",
   "execution_count": 31,
   "metadata": {
    "ExecuteTime": {
     "end_time": "2021-09-24T11:16:58.684404Z",
     "start_time": "2021-09-24T11:16:58.539302Z"
    }
   },
   "outputs": [
    {
     "data": {
      "image/png": "[encoded data removed]",
      "text/plain": [
       "<Figure size 432x288 with 1 Axes>"
      ]
     },
     "metadata": {},
     "output_type": "display_data"
    }
   ],
   "source": [
    "import numpy as geek\n",
    "def render_state(state) : \n",
    "\n",
    "\n",
    "    dim2D = int(state.shape[0]**0.5)\n",
    "    state = state.reshape(dim2D, dim2D).astype(int)\n",
    "    out_tpl = geek.nonzero(state)\n",
    "    pos = [out_tpl[0][0], out_tpl[1][0]]\n",
    "\n",
    "    env.render_state(pos)\n",
    "\n",
    "state = np.zeros((env._state_dim))\n",
    "state[9]  = 1\n",
    "render_state(state)"
   ]
  },
  {
   "cell_type": "code",
   "execution_count": 32,
   "metadata": {
    "ExecuteTime": {
     "end_time": "2021-09-24T11:16:58.690186Z",
     "start_time": "2021-09-24T11:16:58.685786Z"
    }
   },
   "outputs": [],
   "source": [
    "def plot_stat(data, param , col) : \n",
    "    stat = []\n",
    "    stat_all = []\n",
    "    for episode in range(param[\"num_episodes\"]) : \n",
    "\n",
    "        mean = data.loc[lambda df: df['Episode'] == episode][col].mean()\n",
    "        quantile10 = data.loc[lambda df: df['Episode'] == episode][col].quantile(0.1)\n",
    "        quantile90 = data.loc[lambda df: df['Episode'] == episode][col].quantile(0.9)\n",
    "        \n",
    "        stat_all.append(data.loc[lambda df: df['Episode'] == episode][col].values   )\n",
    "\n",
    "        stat.append([mean, quantile10, quantile90])\n",
    "        \n",
    "    data_stat = pd.DataFrame(stat, columns=[ \"mean\", \"quantile10\",\"quantile90\"]     )\n",
    "    \n",
    "\n",
    "\n",
    "    # set seaborn style\n",
    "    sns.set_theme()\n",
    "\n",
    "    # Data\n",
    "    x=range(param_agent_simu[\"num_episodes\"])\n",
    "    y=[ data_stat[\"quantile10\"], data_stat[\"mean\"], data_stat[\"quantile90\"]]\n",
    "\n",
    "    # Plot\n",
    "    plt.stackplot(x,y, labels=['quantile10','mean','quantile90'])\n",
    "    plt.legend(loc='upper left')\n",
    "    plt.show()\n",
    "    \n",
    "    \n",
    "    return data_stat, np.array(stat_all)"
   ]
  },
  {
   "cell_type": "code",
   "execution_count": 33,
   "metadata": {
    "ExecuteTime": {
     "end_time": "2021-09-24T11:16:58.694437Z",
     "start_time": "2021-09-24T11:16:58.691466Z"
    }
   },
   "outputs": [],
   "source": [
    "def box_plot(data,param, col) : \n",
    "\n",
    "\n",
    "    data_Q_episode_par_10 = pd.DataFrame()\n",
    "\n",
    "\n",
    "    for k in range(0,param[\"num_episodes\"], 10) : \n",
    "        data_Q_episode_par_10 = pd.concat([data_Q_episode_par_10,\n",
    "                                          data.loc[lambda df: df['Episode'] == k]])\n",
    "\n",
    "\n",
    "    fig, axs = plt.subplots(1, 1,figsize=(15, 5))\n",
    "    sns.boxplot( x=data_Q_episode_par_10[\"Episode\"], y=data_Q_episode_par_10[col] )\n",
    "    \n",
    "    return data_Q_episode_par_10"
   ]
  },
  {
   "cell_type": "code",
   "execution_count": 34,
   "metadata": {
    "ExecuteTime": {
     "end_time": "2021-09-24T11:16:58.697820Z",
     "start_time": "2021-09-24T11:16:58.695377Z"
    }
   },
   "outputs": [],
   "source": [
    "def carac_model(param) : \n",
    "    if param[\"train_LSFM\"] : calcul = \"LSFM\"\n",
    "    else : \n",
    "        if param[\"train_on_Q_latent\"]  : calcul = \"Q_latent\"\n",
    "        else : calcul = \"Q\"\n",
    "        if param[\"model_Q_Lin\"]  : calcul+=\"_Lin\"\n",
    "        else : calcul+=\"_Deep\"\n",
    "    \n",
    "    return calcul"
   ]
  },
  {
   "cell_type": "markdown",
   "metadata": {},
   "source": [
    "# Exploration - Eigen value"
   ]
  },
  {
   "cell_type": "code",
   "execution_count": 35,
   "metadata": {
    "ExecuteTime": {
     "end_time": "2021-09-24T11:16:58.702130Z",
     "start_time": "2021-09-24T11:16:58.698991Z"
    }
   },
   "outputs": [
    {
     "ename": "SyntaxError",
     "evalue": "invalid syntax (<ipython-input-35-b4106700868c>, line 1)",
     "output_type": "error",
     "traceback": [
      "\u001b[0;36m  File \u001b[0;32m\"<ipython-input-35-b4106700868c>\"\u001b[0;36m, line \u001b[0;32m1\u001b[0m\n\u001b[0;31m    sqdfv sdfv xsdfv xdfv dxfv xdfv\u001b[0m\n\u001b[0m          ^\u001b[0m\n\u001b[0;31mSyntaxError\u001b[0m\u001b[0;31m:\u001b[0m invalid syntax\n"
     ]
    }
   ],
   "source": [
    "sqdfv sdfv xsdfv xdfv dxfv xdfv "
   ]
  },
  {
   "cell_type": "markdown",
   "metadata": {},
   "source": [
    "# Train offline"
   ]
  },
  {
   "cell_type": "markdown",
   "metadata": {},
   "source": [
    "### train exp Offline"
   ]
  },
  {
   "cell_type": "code",
   "execution_count": null,
   "metadata": {
    "ExecuteTime": {
     "end_time": "2021-09-24T11:16:58.833057Z",
     "start_time": "2021-09-24T11:16:38.684Z"
    },
    "scrolled": true
   },
   "outputs": [],
   "source": [
    "# df = pd.read_csv(\"memory_simple.csv\")\n",
    "# df[\"observation\"] = df[\"observation\"].apply(eval)\n",
    "# df[\"action_mask\"] = df[\"action_mask\"].apply(eval)\n",
    "# df[\"new_observation\"] = df[\"new_observation\"].apply(eval)\n",
    "\n",
    "# buff_df =df\n",
    "\n",
    "\n",
    "# Ends = buff_df.loc[buff_df[\"finished\"]==True]\n",
    "# nb_ep = len(Ends)\n",
    "# nb_Ep_train = int(nb_ep*0.8)\n",
    "# nb_Ep_test = nb_ep - int(nb_ep*0.8)\n",
    "\n",
    "# id_train = buff_df.loc[buff_df[\"finished\"]==True].iloc[nb_Ep_train].name\n",
    "\n",
    "# buffer_train = list(buff_df.loc[0:id_train].values)\n",
    "# buffer_test = list(buff_df.loc[id_train+1:].values)\n",
    "\n",
    "# fig, axs = plt.subplots(1,2, figsize=(13, 5))\n",
    "\n",
    "# sns.distplot(buff_df['reward'], ax = axs[0]).set(title='Reward distribution')\n",
    "# sns.distplot(Ends['reward'], ax = axs[1]).set(title='Reward distribution on at the end of episode')\n",
    "\n",
    "\n",
    "\n",
    "\n",
    "# choice of environment  : \n",
    "\n",
    "\n",
    "\n",
    "\n",
    "buffer = buffer_train\n",
    "\n",
    "\n",
    "param_agent_simu = {}\n",
    "param_agent_simu = param_agent.copy()\n",
    "param_agent_simu[\"latent_space\"] = 36\n",
    "param_agent_simu[\"run\"] = 1\n",
    "# param_agent_simu[\"num_episodes\"] = int(nb_episodes*0.8)\n",
    "param_agent_simu[\"double_model\"] = False\n",
    "param_agent_simu[\"avg_loss_phisp1\"] = 1000\n",
    "\n",
    "\n",
    "agent_LSFM = Agent(environment, param_agent_simu)\n",
    "model_LSFM = agent_LSFM.model_LSFM\n",
    "model_LSFM.summary()"
   ]
  },
  {
   "cell_type": "code",
   "execution_count": null,
   "metadata": {
    "ExecuteTime": {
     "end_time": "2021-09-24T11:16:58.833893Z",
     "start_time": "2021-09-24T11:16:38.691Z"
    },
    "scrolled": true
   },
   "outputs": [],
   "source": [
    "\n",
    "id_train = len(buffer)\n",
    "param_agent_simu[\"num_steps\"]    = 7000\n",
    "# param_agent_simu[\"num_steps\"]    = 1000\n",
    "\n",
    "\n",
    "data_xp = pd.DataFrame()\n",
    "# for eigen in [0,4,8,16,32, 64] : \n",
    "for alpha_N in [0.01,0.1,1.] : \n",
    "    param_agent_simu[\"alpha_N\"] = alpha_N\n",
    "    for alpha_psi in [0.01,0.1,1.] : \n",
    "        param_agent_simu[\"alpha_psi\"] = alpha_psi\n",
    "        \n",
    "        data, agent_LSFM = experience_offline_LSFM(environment,param_agent_simu,buffer)\n",
    "\n",
    "        data[\"alpha_N\"] = alpha_N\n",
    "        data[\"alpha_psi\"] = alpha_psi\n",
    "\n",
    "        data_xp = pd.concat([data_xp, data])\n",
    "\n",
    "data_offline = data_xp\n",
    "        \n",
    "data_offline.to_csv('data_offline.csv')"
   ]
  },
  {
   "cell_type": "code",
   "execution_count": null,
   "metadata": {},
   "outputs": [],
   "source": []
  },
  {
   "cell_type": "code",
   "execution_count": null,
   "metadata": {},
   "outputs": [],
   "source": []
  },
  {
   "cell_type": "code",
   "execution_count": null,
   "metadata": {},
   "outputs": [],
   "source": []
  },
  {
   "cell_type": "code",
   "execution_count": null,
   "metadata": {
    "ExecuteTime": {
     "end_time": "2021-09-24T11:16:58.834925Z",
     "start_time": "2021-09-24T11:16:38.709Z"
    }
   },
   "outputs": [],
   "source": [
    "\n",
    "\n",
    "fig, axs = plt.subplots(2, 3,figsize=(15, 10))\n",
    "plt.figure(figsize=(5, 5))\n",
    "\n",
    "# for option in options : \n",
    "sns.lineplot(x=\"cum_step\", y=\"Avg_loss\",  hue='alpha_N', data=data_offline, ax = axs[0,0] )\n",
    "sns.lineplot(x=\"cum_step\", y=\"Avg_loss_r\",  hue='alpha_psi', data=data_offline, ax = axs[0,1] )\n",
    "# sns.lineplot(x=\"cum_step\", y=\"Avg_loss_psi\",  hue='eigen', data=data_offline, ax = axs[0,2] )\n",
    "# sns.lineplot(x=\"cum_step\", y=\"Avg_loss_phip1\",  hue='eigen', data=data_offline, ax = axs[1,0] )\n",
    "# sns.lineplot(x=\"cum_step\", y=\"overlappping\",  hue='eigen', data=data_offline, ax = axs[1,1] )\n",
    "# sns.lineplot(x=\"cum_step\", y=\"exploration_ratio\",  hue='eigen', data=data_offline, ax = axs[1,2] )"
   ]
  },
  {
   "cell_type": "code",
   "execution_count": null,
   "metadata": {},
   "outputs": [],
   "source": []
  },
  {
   "cell_type": "code",
   "execution_count": null,
   "metadata": {
    "ExecuteTime": {
     "end_time": "2021-09-24T11:16:58.835994Z",
     "start_time": "2021-09-24T11:16:38.720Z"
    }
   },
   "outputs": [],
   "source": [
    "data_offline"
   ]
  },
  {
   "cell_type": "code",
   "execution_count": null,
   "metadata": {},
   "outputs": [],
   "source": []
  },
  {
   "cell_type": "code",
   "execution_count": null,
   "metadata": {},
   "outputs": [],
   "source": []
  },
  {
   "cell_type": "code",
   "execution_count": null,
   "metadata": {},
   "outputs": [],
   "source": []
  },
  {
   "cell_type": "code",
   "execution_count": null,
   "metadata": {
    "ExecuteTime": {
     "end_time": "2021-09-17T06:42:20.328399Z",
     "start_time": "2021-09-17T06:42:20.319061Z"
    }
   },
   "outputs": [],
   "source": []
  },
  {
   "cell_type": "code",
   "execution_count": null,
   "metadata": {
    "ExecuteTime": {
     "end_time": "2021-09-24T11:16:58.836819Z",
     "start_time": "2021-09-24T11:16:38.743Z"
    }
   },
   "outputs": [],
   "source": [
    "agent.model_LSFM.summary()\n",
    "keras.utils.plot_model(agent.model_LSFM, \"my_first_model.png\", show_shapes=True)"
   ]
  },
  {
   "cell_type": "code",
   "execution_count": null,
   "metadata": {
    "ExecuteTime": {
     "end_time": "2021-09-24T11:16:58.837592Z",
     "start_time": "2021-09-24T11:16:38.750Z"
    },
    "scrolled": false
   },
   "outputs": [],
   "source": [
    "data_train_df\n",
    "\n",
    "fig, axs = plt.subplots(2, 3,figsize=(15, 10))\n",
    "plt.figure(figsize=(5, 5))\n",
    "sns.lineplot(x=\"cum_step\", y=\"Avg_loss\", data=data_train_df, ax = axs[0,0] )\n",
    "sns.lineplot(x=\"cum_step\", y=\"Avg_loss_r\", data=data_train_df, ax = axs[0,1] )\n",
    "sns.lineplot(x=\"cum_step\", y=\"Avg_loss_N\", data=data_train_df, ax = axs[0,2] )\n",
    "sns.lineplot(x=\"cum_step\", y=\"Avg_loss_psi\", data=data_train_df, ax = axs[1,0] )\n",
    "\n",
    "\n",
    "plt.show()"
   ]
  },
  {
   "cell_type": "code",
   "execution_count": null,
   "metadata": {
    "ExecuteTime": {
     "end_time": "2021-09-24T11:16:58.838399Z",
     "start_time": "2021-09-24T11:16:38.758Z"
    }
   },
   "outputs": [],
   "source": [
    "\n",
    "agent_LSFM.model_LSFM.save_weights(folder_WORK+\"/agent_LSFM_model\")"
   ]
  },
  {
   "cell_type": "markdown",
   "metadata": {},
   "source": [
    "### test error"
   ]
  },
  {
   "cell_type": "code",
   "execution_count": null,
   "metadata": {
    "ExecuteTime": {
     "end_time": "2021-09-24T11:16:58.839141Z",
     "start_time": "2021-09-24T11:16:38.765Z"
    }
   },
   "outputs": [],
   "source": [
    "buffer_test"
   ]
  },
  {
   "cell_type": "code",
   "execution_count": null,
   "metadata": {
    "ExecuteTime": {
     "end_time": "2021-09-24T11:16:58.839979Z",
     "start_time": "2021-09-24T11:16:38.772Z"
    },
    "scrolled": false
   },
   "outputs": [],
   "source": [
    "%%time\n",
    "# choice of environement  : \n",
    "environment = env\n",
    "param_agent_simu = {}\n",
    "param_agent_simu = param_agent.copy()\n",
    "param_agent_simu[\"num_episodes\"] = nb_Ep_test-1\n",
    "\n",
    "\n",
    "# folder = \"LSFM_V2.5_dim1.2-hidden_ratio_22021-06-22_14h-31m-15s\"\n",
    "# folder = \"LSFM_NO_SMOTE_GOOD\"\n",
    "folder = \"LSFM_classif_Ma\"\n",
    "\n",
    "\n",
    "save_model_path = folder+\"/agent_LSFM_model\"\n",
    "\n",
    "y_pred_df, y_true_df= test_error_Ma_rewClassif_offline_LSFM(\n",
    "    env,param_agent_simu, buffer_test, save_model_path, param_agent[\"reward_parser\" ])"
   ]
  },
  {
   "cell_type": "code",
   "execution_count": null,
   "metadata": {
    "ExecuteTime": {
     "end_time": "2021-09-24T11:16:58.840838Z",
     "start_time": "2021-09-24T11:16:38.780Z"
    }
   },
   "outputs": [],
   "source": [
    "\n",
    "from sklearn.metrics import roc_auc_score\n",
    "\n",
    "from sklearn.metrics import roc_curve, auc\n",
    "from sklearn.metrics import accuracy_score\n",
    "\n",
    "\n",
    "\n",
    "#  roc_curve(y_test.ravel(), y_score.ravel())\n"
   ]
  },
  {
   "cell_type": "code",
   "execution_count": null,
   "metadata": {
    "ExecuteTime": {
     "end_time": "2021-09-24T11:16:58.841637Z",
     "start_time": "2021-09-24T11:16:38.788Z"
    }
   },
   "outputs": [],
   "source": [
    "from sklearn.metrics import accuracy_score, recall_score, f1_score\n",
    "\n",
    "\n",
    "\n",
    "y_pred = y_pred_df[\"reward_one-step\"].apply(np.argmax)\n",
    "y_true = y_true_df[\"reward_one-step\"]\n",
    "y_pred, y_true\n",
    "accuracy_score(y_true, y_pred),"
   ]
  },
  {
   "cell_type": "code",
   "execution_count": null,
   "metadata": {
    "ExecuteTime": {
     "end_time": "2021-09-24T11:16:58.842609Z",
     "start_time": "2021-09-24T11:16:38.795Z"
    }
   },
   "outputs": [],
   "source": [
    "y_true.unique()"
   ]
  },
  {
   "cell_type": "code",
   "execution_count": null,
   "metadata": {
    "ExecuteTime": {
     "end_time": "2021-09-24T11:16:58.845491Z",
     "start_time": "2021-09-24T11:16:38.802Z"
    },
    "scrolled": false
   },
   "outputs": [],
   "source": [
    "\n",
    "from sklearn.metrics import multilabel_confusion_matrix, plot_confusion_matrix\n",
    "\n",
    "\n",
    "parser =  param_agent[\"reward_parser\" ]\n",
    "reward_classes = [[-np.inf,parser[0]]] + [[parser[k],parser[k+1]]  for k in range(len(parser)-1)] + [[parser[-1], np.inf]]\n",
    "\n",
    "\n",
    "\n",
    "def classif(y_true, y_pred, dt_string, label = None) : \n",
    "\n",
    "#     reward_classes = [[-np.inf,parser[0]]] + [[parser[k],parser[k+1]]  for k in range(len(parser)-1)] + [[parser[-1], np.inf]]\n",
    "    classes = y_true.unique()\n",
    "    reward_classes = classes\n",
    "    \n",
    "    if label != None : reward_classes = label\n",
    "        \n",
    "    conf = multilabel_confusion_matrix(y_true, y_pred, labels=classes)\n",
    "    conf\n",
    "\n",
    "    error_classif = []\n",
    "\n",
    "    for i,conf_bin in enumerate(conf) : \n",
    "        TN = conf_bin[0][0]\n",
    "        FP = conf_bin[0][1]\n",
    "        FN = conf_bin[1][0]\n",
    "        TP = conf_bin[1][1]\n",
    "        labels = np.array([[\"True Neg : {} \\n or {:2.1f} % \".format(TN,100*TN / np.sum(TN + FP + FN + TP)),\n",
    "                            \"False Pos : {} \\n or {:2.1f} % \".format(FP,100*FP / (TN + FP + FN + TP))],\n",
    "                           [\"False Neg : {} \\n or {:2.1f} % \".format(FN,100*FN / (TN + FP + FN + TP)),\n",
    "                            \"True Pos : {} \\n or {:2.1f} % \".format(TP,100*TP / (TN + FP + FN + TP))     ]])\n",
    "        recall = TP / (FN + TP)\n",
    "        precision = TP / (FP + TP)\n",
    "        f1 = 2* recall * precision / (recall + precision)\n",
    "\n",
    "        error_classif.append([recall, reward_classes[classes[i]] , \"recall\"])\n",
    "        error_classif.append([precision, reward_classes[classes[i]] , \"precision\"])\n",
    "        error_classif.append([f1, reward_classes[classes[i]] , \"f1\"])\n",
    "\n",
    "\n",
    "        fig, ax = plt.subplots()\n",
    "        sns.heatmap(conf_bin ,annot=labels, fmt=\"\" , cmap='Blues').set(\n",
    "            title='confusion matrix for rewards in {}'.format(reward_classes[classes[i]]))\n",
    "    #         plt.setp(ax.get_xticklabels(), rotation=30, horizontalalignment='right')\n",
    "\n",
    "\n",
    "    # sns.heatmap(cf_matrix, annot=labels, fmt=‘’, cmap='Blues')\n",
    "     \n",
    "        plt.savefig(folder+\"/\"+dt_string+\"confusion_\"+str(i)+\".jpg\")\n",
    "        plt.show()\n",
    "    error_classif_df = pd.DataFrame(error_classif, columns = [\"error\", \"reward_classes\", \"type\"])\n",
    "    return error_classif_df\n",
    "# sns.heatmap(conf)classif(y_true, y_pred, dt_string, label = reward_classes)\n",
    "error_classif_df = classif(y_true, y_pred, dt_string, label = reward_classes)"
   ]
  },
  {
   "cell_type": "code",
   "execution_count": null,
   "metadata": {
    "ExecuteTime": {
     "end_time": "2021-09-24T11:16:58.846480Z",
     "start_time": "2021-09-24T11:16:38.809Z"
    }
   },
   "outputs": [],
   "source": [
    "error_classif_df"
   ]
  },
  {
   "cell_type": "code",
   "execution_count": null,
   "metadata": {
    "ExecuteTime": {
     "end_time": "2021-09-24T11:16:58.847299Z",
     "start_time": "2021-09-24T11:16:38.817Z"
    }
   },
   "outputs": [],
   "source": [
    "\n",
    "y_pred = y_pred_df[\"reward_n-step\"].apply(np.argmax)\n",
    "y_true = y_true_df[\"reward_n-step\"]\n",
    "# classif(y_true, y_pred, reward_classes)"
   ]
  },
  {
   "cell_type": "code",
   "execution_count": null,
   "metadata": {
    "ExecuteTime": {
     "end_time": "2021-09-24T11:16:58.848112Z",
     "start_time": "2021-09-24T11:16:38.824Z"
    }
   },
   "outputs": [],
   "source": [
    "error_classif_df[\"reward_classes\"] = error_classif_df[\"reward_classes\"].astype(str)"
   ]
  },
  {
   "cell_type": "code",
   "execution_count": null,
   "metadata": {
    "ExecuteTime": {
     "end_time": "2021-09-24T11:16:58.849327Z",
     "start_time": "2021-09-24T11:16:38.832Z"
    },
    "scrolled": false
   },
   "outputs": [],
   "source": [
    "\n",
    "fig , ax = plt.subplots()\n",
    "sns.barplot(x=\"reward_classes\", y=\"error\", hue = \"type\", data=error_classif_df)\n",
    "plt.show()\n",
    "plt.savefig(folder+\"/\"+dt_string+\"_classif_error\"+\".jpg\")"
   ]
  },
  {
   "cell_type": "markdown",
   "metadata": {},
   "source": [
    "### post error"
   ]
  },
  {
   "cell_type": "code",
   "execution_count": null,
   "metadata": {
    "ExecuteTime": {
     "end_time": "2021-09-24T11:16:58.850160Z",
     "start_time": "2021-09-24T11:16:38.840Z"
    }
   },
   "outputs": [],
   "source": [
    "\n",
    "y_pred_df.columns"
   ]
  },
  {
   "cell_type": "code",
   "execution_count": null,
   "metadata": {
    "ExecuteTime": {
     "end_time": "2021-09-24T11:16:58.851175Z",
     "start_time": "2021-09-24T11:16:38.848Z"
    }
   },
   "outputs": [],
   "source": [
    "from sklearn.metrics import r2_score\n",
    "\n",
    "def norm(vect) : \n",
    "    return tf.keras.backend.get_value(tf.norm(vect, ord='euclidean'))\n",
    "\n",
    "\n",
    "\n",
    "def losses_reg(col, y_pred_df, y_true_df) : \n",
    "\n",
    "    ypred = y_pred_df[col]\n",
    "    ytrue = y_true_df[col]    \n",
    "    \n",
    "    MSE, MAE = [None, None]\n",
    "    \n",
    "    if (ytrue.empty or ypred.empty) : return [MSE, MAE, col]\n",
    "    \n",
    "    if (ytrue.dtypes == \"float64\" or ytrue.dtypes == \"float32\" or ytrue.dtypes == float): \n",
    "        \n",
    "        MSE = tf.keras.backend.get_value(keras.losses.mean_squared_error(ypred, ytrue))\n",
    "        MAE = tf.keras.backend.get_value(keras.losses.mean_absolute_error(ypred, ytrue))\n",
    "#         r2 = r2_score(ypred, ytrue)\n",
    "    elif (ytrue.dtypes == \"object\"): \n",
    "        \n",
    "        df = ytrue - ypred\n",
    "        df = ytrue - ypred\n",
    "        MSE =  df.apply(norm).sum()/len(df)\n",
    "        MAE = None\n",
    "        \n",
    "    return [MSE, MAE, col]\n",
    "losses_reg(\"Norm_phi\", y_pred_df, y_true_df)"
   ]
  },
  {
   "cell_type": "code",
   "execution_count": null,
   "metadata": {
    "ExecuteTime": {
     "end_time": "2021-09-24T11:16:58.852047Z",
     "start_time": "2021-09-24T11:16:38.856Z"
    }
   },
   "outputs": [],
   "source": [
    "def global_loss_reg(y_pred_df, y_true_df) : \n",
    "    errors = []\n",
    "    for col in y_pred_df.columns : \n",
    "        errors.append(losses_reg(col, y_pred_df, y_true_df))\n",
    "\n",
    "    errors_df = pd.DataFrame(errors, columns=[\"MSE\", \"MAE\", \"error\"])\n",
    "        \n",
    "    return errors_df\n",
    "\n",
    "global_loss_reg(y_pred_df.loc[:, ['Norm_phi', 'target_psi', 'phi_sp1']], y_true_df.loc[:, ['Norm_phi', 'target_psi', 'phi_sp1']])\n",
    "\n",
    "# global_loss(y_pred_df, y_true_df)\n",
    "\n",
    "\n",
    "    # errors_df = pd.DataFrame(errors, columns=[\"MSE\", \"MAE\", \"r2\", \"error\"])\n",
    "#     errors_df = pd.DataFrame(errors, columns=[\"MSE\", \"MAE\", \"error\"])\n",
    "#     errors_df"
   ]
  },
  {
   "cell_type": "code",
   "execution_count": null,
   "metadata": {
    "ExecuteTime": {
     "end_time": "2021-09-24T11:16:58.853370Z",
     "start_time": "2021-09-24T11:16:38.863Z"
    },
    "scrolled": true
   },
   "outputs": [],
   "source": [
    "reward_class = 3\n",
    "y_true_df.loc[y_true_df[\"reward_one-step\"]==reward_class]"
   ]
  },
  {
   "cell_type": "code",
   "execution_count": null,
   "metadata": {
    "ExecuteTime": {
     "end_time": "2021-09-24T11:16:58.854228Z",
     "start_time": "2021-09-24T11:16:38.872Z"
    }
   },
   "outputs": [],
   "source": [
    "def losses_on_reward_class(col, y_pred_df, y_true_df, reward_class = 2, nb_actions = 4) : \n",
    "    \n",
    "    losses_action = []\n",
    "    df = y_true_df\n",
    "    \n",
    "    for action in range(nb_actions):\n",
    "        id_action = list(df.loc[df[\"reward_one-step\"]==reward_class].loc[\n",
    "                df[\"action\"]==action].index)            \n",
    "        \n",
    "        loss = losses_reg(col, y_pred_df.loc[id_action], y_true_df.loc[id_action])\n",
    "\n",
    "        loss.insert(0, action)\n",
    "\n",
    "        losses_action.append(loss)\n",
    "\n",
    "    loss_action_df = pd.DataFrame(losses_action, columns=[\"action\", \"MSE\", \"MAE\", \"error\"])\n",
    "        \n",
    "    return loss_action_df\n",
    "\n",
    "y_pred_df\n",
    "\n",
    "\n",
    "\n",
    "    \n",
    "\n",
    "cols = ['Norm_phi', 'target_psi', 'phi_sp1']\n",
    "\n",
    "    \n",
    "\n",
    "losses_on_reward_class(cols[0], y_pred_df, y_true_df, reward_class = 3, nb_actions = 4) \n",
    "    "
   ]
  },
  {
   "cell_type": "code",
   "execution_count": null,
   "metadata": {
    "ExecuteTime": {
     "end_time": "2021-09-24T11:16:58.855323Z",
     "start_time": "2021-09-24T11:16:38.880Z"
    }
   },
   "outputs": [],
   "source": [
    "y_pred_df.loc[:, cols]"
   ]
  },
  {
   "cell_type": "code",
   "execution_count": null,
   "metadata": {
    "ExecuteTime": {
     "end_time": "2021-09-24T11:16:58.856074Z",
     "start_time": "2021-09-24T11:16:38.888Z"
    }
   },
   "outputs": [],
   "source": [
    "def losses_on_rewards_global(cols, y_pred_df, y_true_df, reward_class = 2, nb_actions = 4) : \n",
    "    data = pd.DataFrame()\n",
    "    for col in list(cols) : \n",
    "        loss = losses_on_reward_class(\n",
    "            col, y_pred_df, y_true_df, reward_class = reward_class, nb_actions = nb_actions) \n",
    "        data = pd.concat([data, loss])\n",
    "    return data\n",
    "\n",
    "\n",
    "cols = ['Norm_phi', 'target_psi', 'phi_sp1']\n",
    "\n",
    "losses_on_rewards_global(cols, \n",
    "    y_pred_df.loc[:, \"action\":], y_true_df.loc[:, \"action\":],reward_class = 3,nb_actions= 4 )\n",
    "# reward_positive = losses_on_positive_rewards_global(y_pred_df.loc[:, \"action\":], y_true_df.loc[:, \"action\":], thresold = 0.5, nb_actions = 4) "
   ]
  },
  {
   "cell_type": "markdown",
   "metadata": {},
   "source": [
    "#### plot"
   ]
  },
  {
   "cell_type": "code",
   "execution_count": null,
   "metadata": {
    "ExecuteTime": {
     "end_time": "2021-09-24T11:16:58.856954Z",
     "start_time": "2021-09-24T11:16:38.895Z"
    }
   },
   "outputs": [],
   "source": [
    "y_pred_df.loc[:, [\"reward_one-step\", \"Norm_phi\" ]]"
   ]
  },
  {
   "cell_type": "code",
   "execution_count": null,
   "metadata": {
    "ExecuteTime": {
     "end_time": "2021-09-24T11:16:58.858150Z",
     "start_time": "2021-09-24T11:16:38.903Z"
    }
   },
   "outputs": [],
   "source": [
    "\n",
    "cols = ['Norm_phi', 'target_psi', 'phi_sp1']\n",
    "\n",
    "\n",
    "\n",
    "df = losses_on_rewards_global(cols, \n",
    "    y_pred_df, y_true_df,reward_class = 2,nb_actions= 4 )\n",
    "\n",
    "\n",
    "# global_loss(y_pred_df.loc[:, cols], y_true_df.loc[:,cols])"
   ]
  },
  {
   "cell_type": "code",
   "execution_count": null,
   "metadata": {
    "ExecuteTime": {
     "end_time": "2021-09-24T11:16:58.859392Z",
     "start_time": "2021-09-24T11:16:38.910Z"
    }
   },
   "outputs": [],
   "source": [
    "\n",
    "cols = [\"Norm_phi\"   , \"target_psi\"    , \"phi_sp1\"  ] \n",
    "metric = \"MSE\"\n",
    "\n",
    "global_losses = global_loss_reg(y_pred_df.loc[:, cols], y_true_df.loc[:,cols])\n",
    "global_losses\n"
   ]
  },
  {
   "cell_type": "code",
   "execution_count": null,
   "metadata": {
    "ExecuteTime": {
     "end_time": "2021-09-24T11:16:58.860128Z",
     "start_time": "2021-09-24T11:16:38.917Z"
    }
   },
   "outputs": [],
   "source": [
    "\n",
    "fig , ax = plt.subplots()\n",
    "\n",
    "sns.barplot(x=\"error\", y=\"MSE\", data=global_losses).set(\n",
    "    title='Test global errors', xlabel=\"\")\n",
    "plt.setp(ax.get_xticklabels(), rotation=30, horizontalalignment='right')\n",
    "plt.savefig(folder+\"/\"+dt_string+\"_reg_error\"+\".jpg\")\n",
    "plt.show()"
   ]
  },
  {
   "cell_type": "code",
   "execution_count": null,
   "metadata": {
    "ExecuteTime": {
     "end_time": "2021-09-24T11:16:58.861296Z",
     "start_time": "2021-09-24T11:16:38.924Z"
    }
   },
   "outputs": [],
   "source": [
    "reward_classes = [[-np.inf,parser[0]]] + [[parser[k],parser[k+1]]  for k in range(len(parser)-1)] + [[parser[-1], np.inf]]\n",
    "len(reward_classes)"
   ]
  },
  {
   "cell_type": "code",
   "execution_count": null,
   "metadata": {
    "ExecuteTime": {
     "end_time": "2021-09-24T11:16:58.862362Z",
     "start_time": "2021-09-24T11:16:38.932Z"
    }
   },
   "outputs": [],
   "source": [
    "\n",
    "\n",
    "nb_actions = env._action_dim\n",
    "\n",
    "\n",
    "rewards_window = []\n",
    "\n",
    "for i in range(len(reward_classes)) : \n",
    "    print(\"reward_class\", i)\n",
    "    rewards_window.append(losses_on_rewards_global(cols,\n",
    "        y_pred_df.loc[:, \"action\":], y_true_df.loc[:, \"action\":], \n",
    "        reward_class =i, nb_actions=nb_actions))\n",
    "\n",
    "rewards_window"
   ]
  },
  {
   "cell_type": "code",
   "execution_count": null,
   "metadata": {
    "ExecuteTime": {
     "end_time": "2021-09-24T11:16:58.863284Z",
     "start_time": "2021-09-24T11:16:38.939Z"
    }
   },
   "outputs": [],
   "source": [
    "rewards_window[0].loc[:,\"MSE\":\"MAE\"].applymap(lambda x: x is None).all().all()"
   ]
  },
  {
   "cell_type": "code",
   "execution_count": null,
   "metadata": {
    "ExecuteTime": {
     "end_time": "2021-09-24T11:16:58.864072Z",
     "start_time": "2021-09-24T11:16:38.947Z"
    }
   },
   "outputs": [],
   "source": [
    "metric = \"MSE\"\n",
    "    \n",
    "for i in range(len(reward_classes)) : \n",
    "    \n",
    "    \n",
    "    \n",
    "    if rewards_window[i].loc[:,\"MSE\":\"MAE\"].applymap(lambda x: x is None).all().all() : \n",
    "    \n",
    "        print(\"No value for class\", i)\n",
    "    else :       \n",
    "        fig , ax = plt.subplots()\n",
    "        dataplot_i = rewards_window[i].fillna(value=np.nan)\n",
    "        \n",
    "        sns.boxplot(x=\"error\", y=metric,  data=dataplot_i).set(\n",
    "            xlabel=\"\", title='Test errors on reward class {} by actions'.format(reward_classes[i]))\n",
    "        plt.setp(ax.get_xticklabels(), rotation=30, horizontalalignment='right')\n",
    "        plt.savefig(folder+\"/\"+dt_string+\"_reg_class_\"+str(i)+\".jpg\")\n",
    "        "
   ]
  },
  {
   "cell_type": "code",
   "execution_count": null,
   "metadata": {
    "ExecuteTime": {
     "end_time": "2021-09-24T11:16:58.865150Z",
     "start_time": "2021-09-24T11:16:38.954Z"
    }
   },
   "outputs": [],
   "source": [
    "# global_losses[\"set part\"] = \"all\"\n",
    "# reward_positive[\"set part\"] = \"positive_reward\"\n",
    "# data = pd.concat([global_losses, reward_positive])\n",
    "\n",
    "# data_plot   = data.loc[data[\"error\"]  !=\"action\"  ]\n",
    "# data_plot\n",
    "# fig, axs = plt.subplots(figsize=(7, 5))\n",
    "# axs.set_title('Errors on data set part')\n",
    "# sns.barplot(x=\"error\", y=\"MSE\", hue=\"set part\", data=data_plot)\n",
    "# plt.xticks(rotation=45, fontsize=10, horizontalalignment='right')\n"
   ]
  },
  {
   "cell_type": "code",
   "execution_count": null,
   "metadata": {
    "ExecuteTime": {
     "end_time": "2021-09-24T11:16:58.866191Z",
     "start_time": "2021-09-24T11:16:38.962Z"
    },
    "scrolled": false
   },
   "outputs": [],
   "source": [
    "# def line_plot(Ep, col, y_pred_df, y_true_df) : \n",
    "    \n",
    "#     line_pred = y_pred_df.loc[y_pred_df[\"Ep\"] == Ep, col]\n",
    "#     line_true = y_true_df.loc[y_true_df[\"Ep\"] == Ep, col]\n",
    "\n",
    "#     line_pred, line_true\n",
    "#     plt.figure(figsize=(10, 5))\n",
    "#     sns.lineplot(data=line_pred)\n",
    "#     sns.lineplot(data=line_true)\n",
    "    \n",
    "#     return line_pred, line_true\n",
    "# for k in range(30) : \n",
    "#     line_pred, line_true = line_plot( k, \"reward_n-step\", y_pred_df, y_true_df)\n",
    "# print(\"reward_pred : \\n\", line_pred)\n",
    "# print(\"last action :\",  buffer_test[line_pred.index[-1]][2] )\n"
   ]
  },
  {
   "cell_type": "markdown",
   "metadata": {},
   "source": [
    "## __SAVE__ LSFM in './agent_LSFM_model'"
   ]
  },
  {
   "cell_type": "code",
   "execution_count": null,
   "metadata": {
    "ExecuteTime": {
     "end_time": "2021-09-24T11:16:58.867184Z",
     "start_time": "2021-09-24T11:16:38.971Z"
    }
   },
   "outputs": [],
   "source": [
    "# agent_LSFM.model_LSFM.save( folder_WORK+\"/agent_LSFM_model\")\n"
   ]
  },
  {
   "cell_type": "code",
   "execution_count": null,
   "metadata": {
    "ExecuteTime": {
     "end_time": "2021-09-24T11:16:58.868255Z",
     "start_time": "2021-09-24T11:16:38.979Z"
    }
   },
   "outputs": [],
   "source": [
    "\n",
    "# plt.figure(figsize=(5, 5))\n",
    "# sns.lineplot(x=\"cum_step\", y=\"Avg_loss\", data=data_train_df, label=\"Avg_loss\" )\n",
    "# sns.lineplot(x=\"cum_step\", y=\"Avg_loss_r\", data=data_train_df, label=\"Avg_loss_r\" )\n",
    "# sns.lineplot(x=\"cum_step\", y=\"Avg_loss_N\", data=data_train_df , label=\"Avg_loss_N\")\n",
    "# sns.lineplot(x=\"cum_step\", y=\"Avg_loss_psi\", data=data_train_df , label=\"Avg_loss_psi\")\n",
    "# plt.legend()\n",
    "\n",
    "# plt.savefig(folder_WORK+\"/\"+dt_string+\"loss_LSFM.jpg\")\n",
    "# plt.show()"
   ]
  },
  {
   "cell_type": "markdown",
   "metadata": {},
   "source": [
    "# Train online"
   ]
  },
  {
   "cell_type": "markdown",
   "metadata": {
    "ExecuteTime": {
     "end_time": "2021-09-22T09:25:13.214060Z",
     "start_time": "2021-09-22T09:25:13.204890Z"
    }
   },
   "source": [
    "## experiment"
   ]
  },
  {
   "cell_type": "code",
   "execution_count": 36,
   "metadata": {
    "ExecuteTime": {
     "end_time": "2021-09-24T11:17:09.539077Z",
     "start_time": "2021-09-24T11:17:09.525906Z"
    },
    "code_folding": []
   },
   "outputs": [],
   "source": [
    "import time   \n",
    "\n",
    "def loss_func(ypred, ytrue) : \n",
    "#     MSE\n",
    "    return keras.losses.mean_squared_error(ypred, ytrue)\n",
    "\n",
    "def init_count(environment) : \n",
    "\n",
    "        \n",
    "    states_free_tab = []\n",
    "    n = environment._state_dim\n",
    "    grid_size = n**0.5\n",
    "\n",
    "    \n",
    "    \n",
    "    states_block = [point[0] * grid_size + point[1] for point in environment.env.blocks]\n",
    "    \n",
    "    for i in range(n) :\n",
    "         if i not in states_block : \n",
    "            states_free_tab.append(i)\n",
    "    \n",
    "    states_free_tab = np.array(states_free_tab) \n",
    "    \n",
    "    count_explore = np.zeros(len(states_free_tab))\n",
    "    \n",
    "    return count_explore, states_free_tab\n",
    "\n",
    "\n",
    "\n",
    "def exploration_count(state, count_explore,states_free_tab ) : \n",
    "    \n",
    "    count = count_explore\n",
    "    i = np.where(state>0)[0][0]\n",
    "    i_free_state = np.where(np.array(states_free_tab) == i)[0][0]\n",
    "    count[i_free_state]+=1\n",
    "    return count\n",
    "\n",
    "\n",
    "def simu_online_eigen(environment, param_agent, eigenoption = True) : \n",
    "\n",
    "\n",
    "#  --------------------------------------------------------------------------------\n",
    "#   init count expore for environment overlapping and exploration ratio\n",
    "    count_explore, states_free_tab = init_count(environment)\n",
    "#  --------------------------------------------------------------------------------\n",
    "\n",
    "    \n",
    "    \n",
    "    param_agent = param_agent_simu\n",
    "\n",
    "    result_compile = []\n",
    "    steps = 0\n",
    "\n",
    "    \n",
    "    render = param_agent[\"render\"]\n",
    "    reward_cumul = 0\n",
    "\n",
    "    #     No mask for simple environment\n",
    "    if environment.env_name == \"SimpleGrid\" : \n",
    "        action_space = np.arange(environment.action_space.n)\n",
    "        action_no_mask = np.full((environment.action_space.n), 1)   \n",
    "        possible_action = action_space\n",
    "\n",
    "\n",
    "    memory = Memory(param_agent[\"memory\"])\n",
    "\n",
    "    avg_loss = 0\n",
    "    avg_loss_r  = 0\n",
    "    avg_loss_N  = 0\n",
    "    avg_loss_psi  = 0\n",
    "\n",
    "    agent_LSFM = Agent(environment, param_agent)\n",
    "    model_LSFM = agent_LSFM.model_LSFM\n",
    "\n",
    "\n",
    "    value, vect = agent_LSFM.eigen_decomp(model_LSFM)\n",
    "\n",
    "    ### TRANSITION MATRIX : get the period for the calculation, and init M\n",
    "    step_loss_phisp1 = param_agent[\"avg_loss_phisp1\" ]\n",
    "\n",
    "\n",
    "    # if step_loss_phisp1 > 0 : \n",
    "    #     agent_LSFM.M_transi(model_LSFM)\n",
    "\n",
    "    for i in range(param_agent[\"num_episodes\"]):\n",
    "\n",
    "        reward_ep_cumul = 0\n",
    "        cnt = 0\n",
    "        avg_loss = 0\n",
    "\n",
    "    ### TRANSITION MATRIX :  initialize the loss\n",
    "        loss_phisp1  = 0\n",
    "\n",
    "        state = environment.reset() \n",
    "        if step_loss_phisp1 > 0 :  \n",
    "            phis_pred = model_LSFM(state.reshape(1,-1))[\"phi\"]\n",
    "\n",
    "        agent.plot_eigenvect(model_LSFM, \"eigenvect_\" + str(i) + \"_ep.png\")\n",
    "        \n",
    "\n",
    "        while True:\n",
    "            \n",
    "            \n",
    "            \n",
    "            \n",
    "            if render:\n",
    "                environment.render()\n",
    "                \n",
    "                  ### Update Fa eigen_decomp every 50 steps\n",
    "            if steps % 50 == 0 : agent.eigen_decomp(agent.model_LSFM)\n",
    "\n",
    "            #  --------------------------------------------------------------------------------\n",
    "            #   compute count expore for environment overlapping and exploration ratio\n",
    "            count_explore = exploration_count(state, count_explore, states_free_tab)\n",
    "            overlapping = sum([ elem -1 for elem in count_explore if elem>1])\n",
    "            exploration_ratio = 1 - len([ elem for elem in count_explore if elem <= 0]) / len(count_explore)\n",
    "            #  --------------------------------------------------------------------------------\n",
    "                \n",
    "                \n",
    "                \n",
    "                \n",
    "                \n",
    "    #             -----------------------------\n",
    "    #             random Policy\n",
    "\n",
    "            phis = agent_LSFM.model_LSFM(state.reshape(1,-1))[\"phi\"]\n",
    "            mask_action = [1,1,1,1]         \n",
    "            \n",
    "            \n",
    "            if eigenoption : \n",
    "                actions = agent_LSFM.exploration_online(model_LSFM, \n",
    "                                                        phis, \n",
    "                                                        mask_action, \n",
    "                                                        steps, \n",
    "                                                        start_eigenoption = param_agent[\"start_eigenoption\"])\n",
    "            else : \n",
    "                actions = agent_LSFM.choose_action_random()\n",
    "            \n",
    "            \n",
    "            action = actions[0]\n",
    "\n",
    "\n",
    "            next_state, reward, done, info = environment.step(action)\n",
    "\n",
    "            phi_prime = agent_LSFM.model_LSFM(next_state.reshape(1,-1))[\"phi\"]\n",
    "            next_state_latent = np.array(tf.reshape(phi_prime, phi_prime.shape[-1]))\n",
    "\n",
    "\n",
    "    ### TRANSITION MATRIX :update every step_loss_phisp1 the transition matrix\n",
    "    #         if step_loss_phisp1 > 0 and (steps + 1) % step_loss_phisp1 == 0 :    \n",
    "    #             start_time = time.time()\n",
    "    #             agent_LSFM.M_transi(model_LSFM)\n",
    "    #             print(\"--- steps {} : M_transi take {} seconds ---\".format(\n",
    "    #                 steps, time.time() - start_time) )\n",
    "\n",
    "    ### TRANSITION MATRIX : Get the prediction error of the next latent space\n",
    "            if step_loss_phisp1 > 0 :             \n",
    "    #             print(\"phis_pred, action\", phis_pred, action)\n",
    "                phisp1_pred = agent_LSFM.next_phi_pred(model_LSFM, phis_pred,[action])\n",
    "                loss_phisp1   += loss_func(phi_prime, phisp1_pred).numpy()[0]\n",
    "\n",
    "    #                 print('loss_phisp1', loss_func(phi_prime, phisp1_pred).numpy()[0], loss_phisp1)\n",
    "\n",
    "            if param_agent[\"RANDOM_REWARD_STD\"] > 0:\n",
    "                reward = np.random.normal(1.0, RANDOM_REWARD_STD)\n",
    "\n",
    "            reward_ep_cumul += reward\n",
    "            reward_cumul += reward\n",
    "\n",
    "            if done:\n",
    "                next_state = np.zeros(environment._state_dim)\n",
    "                next_state_latent = np.zeros(param_agent[\"latent_space\"])\n",
    "\n",
    "\n",
    "    #             -----------------------------\n",
    "    #             add Sample in memory\n",
    "    #             -----------------------------   \n",
    "            memory.add_sample((state, action_no_mask, action, reward, next_state, done))\n",
    "            if steps%200 == 0 : \n",
    "                    memory = clean_duplicate(memory)\n",
    "                    print(\"memory clean\", steps)\n",
    "    #             -----------------------------\n",
    "    #             TRAIN LSFM\n",
    "    #             -----------------------------\n",
    "\n",
    "            loss_all = agent_LSFM.train_LSFM(\n",
    "                model_LSFM, \n",
    "                memory, \n",
    "                param_agent[\"filter_done\"])\n",
    "\n",
    "            avg_loss += loss_all[0]\n",
    "            avg_loss_r += loss_all[1]\n",
    "            avg_loss_N += loss_all[2]\n",
    "            avg_loss_psi += loss_all[3]\n",
    "\n",
    "\n",
    "            state = next_state\n",
    "\n",
    "            if step_loss_phisp1 > 0 :                     \n",
    "                phis_pred = phisp1_pred\n",
    "\n",
    "            steps += 1\n",
    "            if steps % 1000 == 0 : print(\"steps : {}, episode : {}\".format(steps, i))\n",
    "\n",
    "            \n",
    "\n",
    "            \n",
    "            if cnt == param_agent[\"steps_max_episode\"] : done = True\n",
    "            \n",
    "            if done:\n",
    "\n",
    "                if cnt != 0:\n",
    "                    avg_loss /= cnt\n",
    "                    avg_loss_r /= cnt\n",
    "                    avg_loss_N /= cnt\n",
    "                    avg_loss_psi /= cnt\n",
    "                    loss_phisp1 /= cnt\n",
    "\n",
    "                else:\n",
    "                    avg_loss = 0\n",
    "                    loss_phisp1 = 0\n",
    "                \n",
    "                result = [i, cnt, steps, reward_ep_cumul,\n",
    "                          reward_cumul, avg_loss, avg_loss_r, avg_loss_N, avg_loss_psi,\n",
    "                          loss_phisp1,overlapping, exploration_ratio]\n",
    "\n",
    "                result_compile.append(result)\n",
    "                \n",
    "                if i % 1  == 0 : \n",
    "\n",
    "                    result_print = [y for x in [result[0:3], result[5:]] for y in x]\n",
    "                    print(\n",
    "                    \"Ep: {:03d}, stEp: {:03d}, stAll: {:04d}, L: {:0.4f}, Lr: {:0.4f},Ln: {:0.4f}, Lpsi: {:0.4f}, Lphi: {:0.4f}\".format(*result_print[:]))\n",
    "\n",
    "                \n",
    "    #             with train_writer.as_default():\n",
    "    #                 tf.summary.scalar('reward', cnt, step=i)\n",
    "    #                 tf.summary.scalar('avg loss', avg_loss, step=i)\n",
    "                break\n",
    "\n",
    "            cnt += 1\n",
    "    return result_compile, agent_LSFM, memory\n",
    "\n",
    "\n",
    "\n",
    "def experience_oneline_eigenoption(environment, param_agent,  eigenoption = True) : \n",
    "    \n",
    "    data = pd.DataFrame()\n",
    "    \n",
    "    for k in range(param_agent[\"run\"]) : \n",
    "    \n",
    "        result_compile, agent_LSFM, memory = simu_online_eigen(environment, param_agent, eigenoption)     \n",
    "        \n",
    "        data_train_df = pd.DataFrame(result_compile, columns=[ \n",
    "            \"Episode\", \n",
    "            \"Step\", \n",
    "            \"cum_step\",\n",
    "            \"Reward\", \n",
    "            \"Reward_cum\",  \n",
    "            \"Avg_loss\" ,  \n",
    "            \"Avg_loss_r\",  \n",
    "            \"Avg_loss_N\",  \n",
    "            \"Avg_loss_psi\",\n",
    "            \"Avg_loss_phip1\", \n",
    "            \"overlappping\", \n",
    "            \"exploration_ratio\"])\n",
    "        \n",
    "        \n",
    "        data_train_df[\"carac\"] = carac_model(param_agent) \n",
    "        data_train_df[\"run\"] = k\n",
    "        data = pd.concat([data, data_train_df])\n",
    "        \n",
    "        \n",
    "    return data, agent_LSFM, memory"
   ]
  },
  {
   "cell_type": "markdown",
   "metadata": {},
   "source": [
    "## run"
   ]
  },
  {
   "cell_type": "code",
   "execution_count": null,
   "metadata": {
    "ExecuteTime": {
     "start_time": "2021-09-24T11:17:50.901Z"
    },
    "scrolled": true
   },
   "outputs": [
    {
     "name": "stdout",
     "output_type": "stream",
     "text": [
      "memory clean 0\n",
      "Ep: 000, stEp: 150, stAll: 0151, L: 0.2054, Lr: 0.1521,Ln: 0.5326, Lpsi: 0.0028, Lphi: 0.0114\n",
      "memory clean 200\n",
      "Ep: 001, stEp: 150, stAll: 0302, L: 0.0662, Lr: 0.0355,Ln: 0.3203, Lpsi: 0.0021, Lphi: 0.0052\n",
      "memory clean 400\n",
      "Ep: 002, stEp: 150, stAll: 0453, L: 0.0306, Lr: 0.0166,Ln: 0.1439, Lpsi: 0.0010, Lphi: 0.0057\n",
      "memory clean 600\n",
      "Ep: 003, stEp: 150, stAll: 0604, L: 0.0208, Lr: 0.0123,Ln: 0.0860, Lpsi: 0.0021, Lphi: 0.0133\n",
      "Ep: 004, stEp: 150, stAll: 0755, L: 0.0112, Lr: 0.0073,Ln: 0.0408, Lpsi: 0.0007, Lphi: 0.0005\n",
      "memory clean 800\n",
      "Ep: 005, stEp: 150, stAll: 0906, L: 0.0065, Lr: 0.0046,Ln: 0.0201, Lpsi: 0.0003, Lphi: 0.0002\n",
      "steps : 1000, episode : 6\n",
      "memory clean 1000\n",
      "Ep: 006, stEp: 150, stAll: 1057, L: 0.0040, Lr: 0.0030,Ln: 0.0102, Lpsi: 0.0002, Lphi: 0.0006\n",
      "memory clean 1200\n",
      "Ep: 007, stEp: 150, stAll: 1208, L: 0.0027, Lr: 0.0021,Ln: 0.0062, Lpsi: 0.0004, Lphi: 0.0006\n",
      "Ep: 008, stEp: 150, stAll: 1359, L: 0.0020, Lr: 0.0016,Ln: 0.0042, Lpsi: 0.0005, Lphi: 0.0005\n",
      "memory clean 1400\n"
     ]
    }
   ],
   "source": [
    "\n",
    "environment = env_change_reward\n",
    "\n",
    "\n",
    "\n",
    "param_agent_simu = {}\n",
    "param_agent_simu = param_agent.copy()\n",
    "param_agent_simu[\"latent_space\"] = 121\n",
    "\n",
    "\n",
    "param_agent_simu[\"policy\"][\"type\"] = [\"eps-greedy\", \"exponantial\"]\n",
    "param_agent_simu[\"policy\"][\"eps-greedy\"][\"exponantial\"][\"lambda\"] = 0.002\n",
    "\n",
    "\n",
    "param_agent_simu[\"run\"] = 5\n",
    "param_agent_simu[\"double_model\"] = False\n",
    "param_agent_simu[\"avg_loss_phisp1\"] = 1000\n",
    "# id_train = len(buffer)\n",
    "# param_agent_simu[\"num_steps\"]    = id_train+2\n",
    "param_agent_simu[\"num_steps\"]    = 10000\n",
    "\n",
    "\n",
    "param_agent_simu[\"start_eigenoption\"] = 10\n",
    "param_agent_simu[\"steps_max_episode\"] = 150\n",
    "param_agent_simu[\"eigenoption_number\"] = 16\n",
    "param_agent_simu[\"num_episodes\"] = 10\n",
    "param_agent_simu[\"discoverNegation\"] = True\n",
    "\n",
    "\n",
    "data_eigen = pd.DataFrame()\n",
    "for eigen in [16] : \n",
    "    param_agent_simu[\"eigenoption_number\"] = eigen\n",
    "    for _lambda in [0., 0.001] : \n",
    "        param_agent_simu[\"policy\"][\"eps-greedy\"][\"exponantial\"][\"lambda\"] = _lambda           \n",
    "\n",
    "        data, agent_LSFM , memory = experience_oneline_eigenoption(\n",
    "            environment, param_agent_simu,  eigenoption = True) \n",
    "\n",
    "#         data[\"eigen\"] = eigen\n",
    "        data[\"lambda_exp\"] = _lambda\n",
    "\n",
    "        data_eigen = pd.concat([data_eigen, data])\n",
    "    \n",
    "data_eigen\n",
    "\n",
    "\n",
    "# \\******************************\n",
    "\n",
    "# data, agent_LSFM , memory = experience_oneline_eigenoption(environment, param_agent_simu,  eigenoption = False) \n",
    "\n",
    "\n",
    "\n"
   ]
  },
  {
   "cell_type": "code",
   "execution_count": null,
   "metadata": {
    "ExecuteTime": {
     "end_time": "2021-09-24T11:16:58.871097Z",
     "start_time": "2021-09-24T11:16:39.009Z"
    }
   },
   "outputs": [],
   "source": [
    "data_plot = data_eigen"
   ]
  },
  {
   "cell_type": "code",
   "execution_count": null,
   "metadata": {
    "ExecuteTime": {
     "end_time": "2021-09-24T09:25:47.852199Z",
     "start_time": "2021-09-24T09:25:47.836726Z"
    }
   },
   "outputs": [],
   "source": []
  },
  {
   "cell_type": "code",
   "execution_count": null,
   "metadata": {
    "ExecuteTime": {
     "end_time": "2021-09-24T11:16:58.871822Z",
     "start_time": "2021-09-24T11:16:39.021Z"
    }
   },
   "outputs": [],
   "source": [
    "data_plot[\"eigen\"] = True\n",
    "data_plot.loc[data_plot[\"lambda_exp\"] == 0, \"eigen\"] = False\n",
    "data_plot"
   ]
  },
  {
   "cell_type": "code",
   "execution_count": null,
   "metadata": {
    "ExecuteTime": {
     "end_time": "2021-09-24T11:16:58.872728Z",
     "start_time": "2021-09-24T11:16:39.029Z"
    }
   },
   "outputs": [],
   "source": [
    "\n",
    "fig, axs = plt.subplots(2, 3,figsize=(25, 15))\n",
    "plt.figure(figsize=(5, 5))\n",
    "\n",
    "# for option in options : \n",
    "sns.lineplot(x=\"cum_step\", y=\"Avg_loss\",  hue='lambda_exp', style = \"eigen\", data=data_plot, ax = axs[0,0] )\n",
    "sns.lineplot(x=\"cum_step\", y=\"Avg_loss_r\",  hue='lambda_exp', style = \"eigen\", data=data_plot, ax = axs[0,1] )\n",
    "sns.lineplot(x=\"cum_step\", y=\"Avg_loss_psi\",  hue='lambda_exp', style = \"eigen\", data=data_plot, ax = axs[0,2] )\n",
    "sns.lineplot(x=\"cum_step\", y=\"Avg_loss_phip1\",  hue='lambda_exp', style = \"eigen\", data=data_plot, ax = axs[1,0] )\n",
    "sns.lineplot(x=\"cum_step\", y=\"overlappping\",  hue='lambda_exp', style = \"eigen\", data=data_plot, ax = axs[1,1] )\n",
    "sns.lineplot(x=\"cum_step\", y=\"exploration_ratio\",  hue='lambda_exp', style = \"eigen\", data=data_plot, ax = axs[1,2] )"
   ]
  },
  {
   "cell_type": "code",
   "execution_count": null,
   "metadata": {
    "ExecuteTime": {
     "end_time": "2021-09-24T09:30:27.530219Z",
     "start_time": "2021-09-24T09:30:27.519349Z"
    }
   },
   "outputs": [],
   "source": []
  },
  {
   "cell_type": "code",
   "execution_count": null,
   "metadata": {
    "ExecuteTime": {
     "end_time": "2021-09-24T11:16:58.874124Z",
     "start_time": "2021-09-24T11:16:39.040Z"
    }
   },
   "outputs": [],
   "source": [
    "data_16_option = data_plot.loc[data_plot[\"eigenoption_number\"] == 16 ]\n",
    "data_0_option = data_plot.loc[data_plot[\"eigenoption_number\"] ==  0 ]\n",
    "data_0_16_option = pd.concat([data_0_option, data_16_option])"
   ]
  },
  {
   "cell_type": "code",
   "execution_count": null,
   "metadata": {
    "ExecuteTime": {
     "end_time": "2021-09-24T11:16:58.875085Z",
     "start_time": "2021-09-24T11:16:39.047Z"
    }
   },
   "outputs": [],
   "source": [
    "\n",
    "fig, axs = plt.subplots(2, 3,figsize=(25, 15))\n",
    "plt.figure(figsize=(5, 5))\n",
    "\n",
    "# for option in options : \n",
    "sns.lineplot(x=\"cum_step\", y=\"Avg_loss\",  hue='eigenoption_number', style = \"eigen\", data=data_0_16_option, ax = axs[0,0] )\n",
    "sns.lineplot(x=\"cum_step\", y=\"Avg_loss_r\",  hue='eigenoption_number', style = \"eigen\", data=data_0_16_option, ax = axs[0,1] )\n",
    "sns.lineplot(x=\"cum_step\", y=\"Avg_loss_psi\",  hue='eigenoption_number', style = \"eigen\", data=data_0_16_option, ax = axs[0,2] )\n",
    "sns.lineplot(x=\"cum_step\", y=\"Avg_loss_phip1\",  hue='eigenoption_number', style = \"eigen\", data=data_0_16_option, ax = axs[1,0] )\n",
    "sns.lineplot(x=\"cum_step\", y=\"overlappping\",  hue='eigenoption_number', style = \"eigen\", data=data_0_16_option, ax = axs[1,1] )\n",
    "sns.lineplot(x=\"cum_step\", y=\"exploration_ratio\",  hue='eigenoption_number', style = \"eigen\", data=data_0_16_option, ax = axs[1,2] )"
   ]
  },
  {
   "cell_type": "code",
   "execution_count": null,
   "metadata": {},
   "outputs": [],
   "source": []
  },
  {
   "cell_type": "code",
   "execution_count": null,
   "metadata": {
    "ExecuteTime": {
     "end_time": "2021-09-24T11:16:58.876633Z",
     "start_time": "2021-09-24T11:16:39.058Z"
    }
   },
   "outputs": [],
   "source": [
    "\n",
    "\n",
    "fig, axs = plt.subplots(2, 3,figsize=(25, 15))\n",
    "plt.figure(figsize=(5, 5))\n",
    "\n",
    "# for option in options : \n",
    "sns.lineplot(x=\"cum_step\", y=\"Avg_loss\",  hue='eigenoption_number', style = \"eigen\", data=data_plot, ax = axs[0,0] )\n",
    "sns.lineplot(x=\"cum_step\", y=\"Avg_loss_r\",  hue='eigenoption_number', style = \"eigen\", data=data_plot, ax = axs[0,1] )\n",
    "sns.lineplot(x=\"cum_step\", y=\"Avg_loss_psi\",  hue='eigenoption_number', style = \"eigen\", data=data_plot, ax = axs[0,2] )\n",
    "sns.lineplot(x=\"cum_step\", y=\"Avg_loss_phip1\",  hue='eigenoption_number', style = \"eigen\", data=data_plot, ax = axs[1,0] )\n",
    "sns.lineplot(x=\"cum_step\", y=\"overlappping\",  hue='eigenoption_number', style = \"eigen\", data=data_plot, ax = axs[1,1] )\n",
    "sns.lineplot(x=\"cum_step\", y=\"exploration_ratio\",  hue='eigenoption_number', style = \"eigen\", data=data_plot, ax = axs[1,2] )"
   ]
  },
  {
   "cell_type": "code",
   "execution_count": null,
   "metadata": {},
   "outputs": [],
   "source": []
  },
  {
   "cell_type": "code",
   "execution_count": null,
   "metadata": {
    "ExecuteTime": {
     "end_time": "2021-09-24T11:16:58.877561Z",
     "start_time": "2021-09-24T11:16:39.069Z"
    }
   },
   "outputs": [],
   "source": [
    "data_plot.to_csv('data_plot_exploration_run5.csv')"
   ]
  },
  {
   "cell_type": "code",
   "execution_count": null,
   "metadata": {
    "ExecuteTime": {
     "end_time": "2021-09-23T12:31:43.482032Z",
     "start_time": "2021-09-23T12:31:43.466088Z"
    },
    "scrolled": false
   },
   "outputs": [],
   "source": []
  },
  {
   "cell_type": "code",
   "execution_count": null,
   "metadata": {
    "ExecuteTime": {
     "end_time": "2021-09-24T11:16:58.878451Z",
     "start_time": "2021-09-24T11:16:39.079Z"
    }
   },
   "outputs": [],
   "source": [
    "# df_0 = data_eigen.loc[data_eigen[\"eigenoption_number\" ]== 0]\n",
    "# df_4 = data_eigen.loc[data_eigen[\"eigenoption_number\" ]== 4]\n",
    "# df_16 = data_eigen.loc[data_eigen[\"eigenoption_number\" ]== 16]\n",
    "# df_64 = data_eigen.loc[data_eigen[\"eigenoption_number\" ]== 64]\n",
    "\n",
    "\n",
    "\n",
    "# steps_missing =  [step for step in data_eigen[\"cum_step\"].unique() if step not in df_0[\"cum_step\"].unique() ]\n",
    "# print(len(steps_missing))\n",
    "# row = df_0.iloc[0:2]\n",
    "\n",
    "# row.iloc[:,:] = np.nan\n",
    "# row_add = row\n",
    "\n",
    "\n",
    "# for k,step in enumerate(steps_missing) : \n",
    "    \n",
    "#     row.append(row_add)\n",
    "# row\n",
    "# # row.loc[:,:] = np.nan\n",
    "# # # row.iloc[0,2]\n",
    "# # # row.reindex(list( range(len(steps_missing))))\n",
    "# # len(row)\n",
    "# # # row.iloc[:,2]\n",
    "# # # pd.concat([df_0, df_4, df_16, df_64],  join=\"inner\")\n",
    "# # # "
   ]
  },
  {
   "cell_type": "code",
   "execution_count": null,
   "metadata": {
    "ExecuteTime": {
     "end_time": "2021-09-24T11:16:58.879498Z",
     "start_time": "2021-09-24T11:16:39.087Z"
    }
   },
   "outputs": [],
   "source": [
    "# data_eigen.iloc[0,:] = [0,300,301,0.0,0.0,1.177262,1.176331,2.439530e-15,0.004247,0.008292,276.0,0.240385,\"LSFM\",0,0,0.5, 0.]"
   ]
  },
  {
   "cell_type": "code",
   "execution_count": null,
   "metadata": {
    "ExecuteTime": {
     "end_time": "2021-09-23T13:50:25.668571Z",
     "start_time": "2021-09-23T13:50:25.653923Z"
    }
   },
   "outputs": [],
   "source": []
  },
  {
   "cell_type": "code",
   "execution_count": null,
   "metadata": {
    "ExecuteTime": {
     "end_time": "2021-09-24T11:16:58.880520Z",
     "start_time": "2021-09-24T11:16:39.098Z"
    }
   },
   "outputs": [],
   "source": [
    "# data_eigen[\"cum_step\"].unique()"
   ]
  },
  {
   "cell_type": "code",
   "execution_count": null,
   "metadata": {
    "ExecuteTime": {
     "end_time": "2021-09-24T11:16:58.881495Z",
     "start_time": "2021-09-24T11:16:39.107Z"
    }
   },
   "outputs": [],
   "source": [
    "# data_eigen[\"style\"] = 0\n",
    "# data_eigen.loc[data_eigen[\"eigenoption_number\"] == 0, \"style\"] = 1\n",
    "# data_eigen"
   ]
  },
  {
   "cell_type": "code",
   "execution_count": null,
   "metadata": {},
   "outputs": [],
   "source": []
  },
  {
   "cell_type": "code",
   "execution_count": null,
   "metadata": {
    "ExecuteTime": {
     "end_time": "2021-09-24T11:16:58.883084Z",
     "start_time": "2021-09-24T11:16:39.117Z"
    }
   },
   "outputs": [],
   "source": [
    "# df_0 = data_eigen.loc[data_eigen[\"eigenoption_number\" ]== 0]\n",
    "# df_4 = data_eigen.loc[data_eigen[\"eigenoption_number\" ]== 4]\n",
    "# df_16 = data_eigen.loc[data_eigen[\"eigenoption_number\" ]== 16]\n",
    "# df_64 = data_eigen.loc[data_eigen[\"eigenoption_number\" ]== 64]\n",
    "\n",
    "# df = pd.DataFrame(columns=data_eigen.columns)\n",
    "# df\n",
    "\n",
    "# all_step = data_eigen[\"cum_step\"].unique()\n",
    "\n",
    "# for i in range(len(all_step)):\n",
    "#     df = df.append({'cum_step': all_step[i]}, ignore_index=True)\n",
    "# # df.loc[:,\"eigen_exploitation\"] = 0.\n",
    "# df\n",
    "# df_0_augmented = pd.concat([df_0 , df])\n",
    "\n",
    "# df_0_augmented\n",
    "\n",
    "# fig, axs = plt.subplots(2, 3,figsize=(15, 10))\n",
    "# plt.figure(figsize=(5, 5))\n",
    "\n",
    "# # for option in options : \n",
    "# sns.lineplot(x=\"Episode\", y=\"exploration_ratio\",hue = \"eigenoption_number\", data=df_0, ax = axs[0,0] )\n",
    "# df_0_augmented.interpolate()\n",
    "\n",
    "# # .interpolate()\n",
    "# # df_4 = pd.concat([df_4 , df]).interpolate()\n",
    "# # df_16 = pd.concat([df_16 , df]).interpolate()\n",
    "# # df_64 = pd.concat([df_64 , df]).interpolate()\n",
    "# # data_augmented = pd.concat([df_0,df_4,df_16,df_64 ])"
   ]
  },
  {
   "cell_type": "code",
   "execution_count": null,
   "metadata": {
    "ExecuteTime": {
     "end_time": "2021-09-23T13:46:58.687204Z",
     "start_time": "2021-09-23T13:46:58.163091Z"
    }
   },
   "outputs": [],
   "source": []
  },
  {
   "cell_type": "code",
   "execution_count": null,
   "metadata": {},
   "outputs": [],
   "source": []
  },
  {
   "cell_type": "code",
   "execution_count": null,
   "metadata": {},
   "outputs": [],
   "source": []
  },
  {
   "cell_type": "code",
   "execution_count": null,
   "metadata": {},
   "outputs": [],
   "source": []
  },
  {
   "cell_type": "code",
   "execution_count": null,
   "metadata": {},
   "outputs": [],
   "source": []
  },
  {
   "cell_type": "code",
   "execution_count": null,
   "metadata": {
    "ExecuteTime": {
     "end_time": "2021-09-24T11:16:58.884394Z",
     "start_time": "2021-09-24T11:16:39.142Z"
    }
   },
   "outputs": [],
   "source": [
    "\n",
    "\n",
    "# fig, axs = plt.subplots(2, 3,figsize=(15, 10))\n",
    "# plt.figure(figsize=(5, 5))\n",
    "\n",
    "# # for option in options : \n",
    "# sns.scatterplot(x=\"cum_step\", y=\"Avg_loss\",hue = \"eigenoption_number\", data=data_eigen, ax = axs[0,0] )\n",
    "# sns.scatterplot(x=\"cum_step\", y=\"Avg_loss_r\",hue = \"eigenoption_number\", data=data_eigen, ax = axs[0,1] )\n",
    "# sns.scatterplot(x=\"cum_step\", y=\"Avg_loss_psi\",hue = \"eigenoption_number\", data=data_eigen, ax = axs[0,2] )\n",
    "# sns.scatterplot(x=\"cum_step\", y=\"Avg_loss_phip1\",hue = \"eigenoption_number\", data=data_eigen, ax = axs[1,0] )\n",
    "# sns.scatterplot(x=\"cum_step\", y=\"overlappping\",hue = \"eigenoption_number\", data=data_eigen, ax = axs[1,1] )\n",
    "# sns.scatterplot(x=\"cum_step\", y=\"exploration_ratio\",hue = \"eigenoption_number\", data=data_eigen, ax = axs[1,2] )"
   ]
  },
  {
   "cell_type": "code",
   "execution_count": null,
   "metadata": {
    "ExecuteTime": {
     "end_time": "2021-09-24T11:16:58.885433Z",
     "start_time": "2021-09-24T11:16:39.149Z"
    }
   },
   "outputs": [],
   "source": [
    "\n",
    "\n",
    "# fig, axs = plt.subplots(2, 3,figsize=(15, 10))\n",
    "# plt.figure(figsize=(5, 5))\n",
    "\n",
    "# # for option in options : \n",
    "# sns.lineplot(x=\"cum_step\", y=\"Avg_loss\",  hue='eigen_exploitation', data=data_eigen, ax = axs[0,0] )\n",
    "# sns.lineplot(x=\"cum_step\", y=\"Avg_loss_r\",  hue='eigen_exploitation', data=data_eigen, ax = axs[0,1] )\n",
    "# sns.lineplot(x=\"cum_step\", y=\"Avg_loss_psi\",  hue='eigen_exploitation', data=data_eigen, ax = axs[0,2] )\n",
    "# sns.lineplot(x=\"cum_step\", y=\"Avg_loss_phip1\",  hue='eigen_exploitation', data=data_eigen, ax = axs[1,0] )\n",
    "# sns.lineplot(x=\"cum_step\", y=\"overlappping\",  hue='eigen_exploitation', data=data_eigen, ax = axs[1,1] )\n",
    "# sns.lineplot(x=\"cum_step\", y=\"exploration_ratio\",  hue='eigen_exploitation', data=data_eigen, ax = axs[1,2] )"
   ]
  },
  {
   "cell_type": "code",
   "execution_count": null,
   "metadata": {},
   "outputs": [],
   "source": []
  },
  {
   "cell_type": "code",
   "execution_count": null,
   "metadata": {},
   "outputs": [],
   "source": []
  },
  {
   "cell_type": "code",
   "execution_count": null,
   "metadata": {},
   "outputs": [],
   "source": []
  },
  {
   "cell_type": "code",
   "execution_count": null,
   "metadata": {
    "ExecuteTime": {
     "end_time": "2021-09-23T14:55:44.508117Z",
     "start_time": "2021-09-23T14:55:23.981Z"
    }
   },
   "outputs": [],
   "source": []
  },
  {
   "cell_type": "code",
   "execution_count": null,
   "metadata": {
    "ExecuteTime": {
     "end_time": "2021-09-22T18:36:22.135341Z",
     "start_time": "2021-09-22T16:31:45.593Z"
    }
   },
   "outputs": [],
   "source": []
  },
  {
   "cell_type": "code",
   "execution_count": null,
   "metadata": {
    "ExecuteTime": {
     "end_time": "2021-09-23T09:52:29.611065Z",
     "start_time": "2021-09-23T09:52:07.236Z"
    },
    "scrolled": false
   },
   "outputs": [],
   "source": [
    "\n",
    "    \n"
   ]
  },
  {
   "cell_type": "code",
   "execution_count": null,
   "metadata": {
    "ExecuteTime": {
     "end_time": "2021-09-24T11:16:58.886375Z",
     "start_time": "2021-09-24T11:16:39.177Z"
    },
    "scrolled": false
   },
   "outputs": [],
   "source": [
    "\n",
    "# def visu(visu_state, grid_size, axs) : \n",
    "    \n",
    "#     axs.imshow(visu_state, aspect=\"auto\")\n",
    "\n",
    "#     axs.set_xticks(np.arange(-.5, grid_size - 1, 1), minor=True)\n",
    "#     axs.set_yticks(np.arange(-.5, grid_size - 1, 1), minor=True)\n",
    "#     axs.grid(which='both', color='w', linestyle='-', linewidth=1.5)\n",
    "    \n",
    "    \n",
    "#     axs.tick_params(left=False,\n",
    "#                 bottom=False,\n",
    "#                 labelleft=False,\n",
    "#                 labelbottom=False)\n",
    "\n",
    "    \n",
    "    \n",
    "# agent = agent_LSFM\n",
    "\n",
    "# n_eigen_value = 16\n",
    "\n",
    "# ncol = 5\n",
    "# nrow = int(n_eigen_value / ncol) + 1\n",
    "\n",
    "# value, vect = agent.eigen_decomp(agent.model_LSFM)\n",
    "\n",
    "# n = environment._state_dim  \n",
    "# ngrid = int(n**0.5)\n",
    "\n",
    "\n",
    "# fig, axs = plt.subplots(nrow, ncol , figsize=(5*ncol, 5*ncol * nrow/ncol))\n",
    "# for idx in range(n_eigen_value) : \n",
    "#     visu(tf.reshape(vect[ idx ], (ngrid, ngrid)) ,ngrid, axs[idx//ncol,idx%ncol]) \n",
    "# value"
   ]
  },
  {
   "cell_type": "markdown",
   "metadata": {
    "ExecuteTime": {
     "end_time": "2021-09-22T13:46:40.927281Z",
     "start_time": "2021-09-22T13:44:25.464576Z"
    }
   },
   "source": [
    "## exploitation\n"
   ]
  },
  {
   "cell_type": "code",
   "execution_count": null,
   "metadata": {
    "ExecuteTime": {
     "end_time": "2021-09-24T11:16:58.887047Z",
     "start_time": "2021-09-24T11:16:39.186Z"
    },
    "scrolled": true
   },
   "outputs": [],
   "source": [
    "data_result = pd.read_csv('Results_dataeigenoption/data_eigen.csv')\n",
    "data_result[\"no_eigen\"] = False\n",
    "data_result.loc[data_result[\"eigen\"] == 0,\"no_eigen\"] = True\n",
    "data_result\n"
   ]
  },
  {
   "cell_type": "code",
   "execution_count": null,
   "metadata": {
    "ExecuteTime": {
     "end_time": "2021-09-24T11:16:58.887523Z",
     "start_time": "2021-09-24T11:16:39.194Z"
    }
   },
   "outputs": [],
   "source": [
    "data_result.loc[data_result[\"eigen\"] == ]"
   ]
  },
  {
   "cell_type": "code",
   "execution_count": null,
   "metadata": {
    "ExecuteTime": {
     "end_time": "2021-09-24T11:16:58.888345Z",
     "start_time": "2021-09-24T11:16:39.201Z"
    }
   },
   "outputs": [],
   "source": [
    "from matplotlib import cm\n",
    "\n",
    "\n",
    "\n",
    "\n",
    "\n",
    "\n",
    "fig, axs = plt.subplots(2, 3,figsize=(15, 10))\n",
    "plt.figure(figsize=(5, 5))\n",
    "\n",
    "# for option in options : \n",
    "sns.lineplot(x=\"cum_step\", y=\"Avg_loss\",  hue='eigen', style = \"no_eigen\", data=data_result, ax = axs[0,0] )\n",
    "sns.lineplot(x=\"cum_step\", y=\"Avg_loss_r\",  hue='eigen', style = \"no_eigen\", data=data_result, ax = axs[0,1] )\n",
    "sns.lineplot(x=\"cum_step\", y=\"Avg_loss_psi\",  hue='eigen', style = \"no_eigen\", data=data_result, ax = axs[0,2] )\n",
    "sns.lineplot(x=\"cum_step\", y=\"Avg_loss_phip1\",  hue='eigen', style = \"no_eigen\", data=data_result, ax = axs[1,0] )\n",
    "sns.lineplot(x=\"cum_step\", y=\"overlappping\",  hue='eigen', style = \"no_eigen\", data=data_result, ax = axs[1,1] )\n",
    "sns.lineplot(x=\"cum_step\", y=\"exploration_ratio\",  hue='eigen', style = \"no_eigen\", data=data_result, ax = axs[1,2] )\n"
   ]
  },
  {
   "cell_type": "code",
   "execution_count": null,
   "metadata": {},
   "outputs": [],
   "source": []
  },
  {
   "cell_type": "markdown",
   "metadata": {},
   "source": [
    "# Load models"
   ]
  },
  {
   "cell_type": "markdown",
   "metadata": {},
   "source": [
    "## Load model 4 room"
   ]
  },
  {
   "cell_type": "code",
   "execution_count": null,
   "metadata": {
    "ExecuteTime": {
     "end_time": "2021-09-24T11:16:58.889296Z",
     "start_time": "2021-09-24T11:16:39.213Z"
    }
   },
   "outputs": [],
   "source": [
    "\n",
    "param_agent_simu = {}\n",
    "param_agent_simu = param_agent.copy()\n",
    "param_agent_simu[\"latent_space\"] = 121\n",
    "param_agent_simu[\"eigenoption_number\"] = 15\n",
    "\n",
    "# load LSFM model : \n",
    "environment = env_change_reward\n",
    "agent = Agent(environment, param_agent_simu)\n",
    "print(\"agent.eigenoption_number\", agent.eigenoption_number)\n",
    "\n",
    "# load old model\n",
    "old_folder = \"SR_4_room\"\n",
    "agent.model_LSFM.load_weights(old_folder+\"/agent_LSFM_model\")\n",
    "# agent.model_LSFM = keras.models.load_model(old_folder+'/agent_LSFM_model')\n",
    "\n",
    "\n",
    "# agent.model_LSFM = keras.models.load_model(folder_WORK+'/agent_LSFM_model')\n",
    "\n",
    "\n",
    "\n",
    "\n",
    "model = agent.model_LSFM\n",
    "for i in range(len(model.layers)):\n",
    "    print(\"layers name\",i,  model.layers[i].name)\n",
    "    \n",
    "aux_model_LSFM = tf.keras.Model(inputs=model.inputs,\n",
    "           outputs=[model.layers[2].output])\n",
    "\n",
    "\n",
    "state = environment.reset()\n",
    "\n",
    "n = environment._state_dim  \n",
    "ngrid = int(n**0.5)\n",
    "\n",
    "states = []\n",
    "for i in range(n) :\n",
    "    state = np.array(keras.utils.to_categorical(i,num_classes=n)).reshape(n)\n",
    "    states.append(state)\n",
    "\n",
    "\n",
    "\n",
    "data = pd.DataFrame()\n",
    "state = environment.reset()\n",
    "\n",
    "nb_transi = 5000\n",
    "\n",
    "action_no_mask = [1,1,1,1]\n",
    "memory = Memory(param_agent[\"memory\"])\n",
    "\n",
    "for k in range(nb_transi) : \n",
    "\n",
    "    action, eps = agent.choose_action_random()\n",
    "    next_state, reward, done, info = environment.step(action)\n",
    "\n",
    "    \n",
    "    \n",
    "    memory.add_sample((state, action_no_mask, action, reward, next_state, done))\n",
    "    \n",
    "    state = next_state\n",
    "    \n",
    "    if done : \n",
    "        state = environment.reset()\n",
    "     \n",
    "\n",
    "\n",
    "# memory.write(\"memory_simple.csv\")\n",
    "\n",
    "# env1 = environment\n",
    "    \n",
    "    \n",
    "    \n",
    "    \n",
    "    \n",
    "    \n",
    "    \n",
    "    \n",
    "    \n",
    "    \n",
    "    \n",
    "    \n",
    "    \n",
    "    "
   ]
  },
  {
   "cell_type": "code",
   "execution_count": null,
   "metadata": {
    "ExecuteTime": {
     "end_time": "2021-09-22T09:29:21.320343Z",
     "start_time": "2021-09-22T09:29:21.317911Z"
    }
   },
   "outputs": [],
   "source": []
  },
  {
   "cell_type": "markdown",
   "metadata": {},
   "source": [
    "## Load model simple"
   ]
  },
  {
   "cell_type": "code",
   "execution_count": null,
   "metadata": {
    "ExecuteTime": {
     "end_time": "2021-09-24T11:16:58.890199Z",
     "start_time": "2021-09-24T11:16:39.233Z"
    }
   },
   "outputs": [],
   "source": [
    "\n",
    "param_agent_simu = {}\n",
    "param_agent_simu = param_agent.copy()\n",
    "param_agent_simu[\"latent_space\"] = 36\n",
    "param_agent_simu[\"eigenoption_number\"] = 30\n",
    "\n",
    "# load LSFM model : \n",
    "environment = env\n",
    "agent = Agent(environment, param_agent_simu)\n",
    "print(\"agent.eigenoption_number\", agent.eigenoption_number)\n",
    "\n",
    "# load old model\n",
    "old_folder = \"SR_simple_env\"\n",
    "agent.model_LSFM.load_weights(old_folder+\"/agent_LSFM_model\")\n",
    "# agent.model_LSFM = keras.models.load_model(old_folder+'/agent_LSFM_model')\n",
    "\n",
    "\n",
    "# agent.model_LSFM = keras.models.load_model(folder_WORK+'/agent_LSFM_model')\n",
    "\n",
    "\n",
    "\n",
    "\n",
    "model = agent.model_LSFM\n",
    "for i in range(len(model.layers)):\n",
    "    print(\"layers name\",i,  model.layers[i].name)\n",
    "    \n",
    "aux_model_LSFM = tf.keras.Model(inputs=model.inputs,\n",
    "           outputs=[model.layers[2].output])\n",
    "\n",
    "\n",
    "state = environment.reset()\n",
    "\n",
    "n = environment._state_dim  \n",
    "ngrid = n**0.5\n",
    "\n",
    "states = []\n",
    "for i in range(n) :\n",
    "    state = np.array(keras.utils.to_categorical(i,num_classes=n)).reshape(n)\n",
    "    states.append(state)\n",
    "\n",
    "    "
   ]
  },
  {
   "cell_type": "code",
   "execution_count": null,
   "metadata": {
    "ExecuteTime": {
     "end_time": "2021-09-24T11:16:58.891470Z",
     "start_time": "2021-09-24T11:16:39.245Z"
    }
   },
   "outputs": [],
   "source": [
    "agent.eigenoption_number"
   ]
  },
  {
   "cell_type": "code",
   "execution_count": null,
   "metadata": {
    "ExecuteTime": {
     "end_time": "2021-09-24T11:16:58.892546Z",
     "start_time": "2021-09-24T11:16:39.255Z"
    }
   },
   "outputs": [],
   "source": [
    "\n",
    "states = np.array(states)\n",
    "\n",
    "phi = agent.model_LSFM(states)[\"phi\"]\n",
    "\n",
    "aux_model_LSFM(states) == phi\n",
    "phi"
   ]
  },
  {
   "cell_type": "code",
   "execution_count": null,
   "metadata": {
    "ExecuteTime": {
     "end_time": "2021-09-24T11:16:58.893148Z",
     "start_time": "2021-09-24T11:16:39.265Z"
    }
   },
   "outputs": [],
   "source": [
    "# # choice of environement  : \n",
    "# environment = env\n",
    "\n",
    "# # parameters of simulation : \n",
    "\n",
    "# param_agent_simu = {}\n",
    "# param_agent_simu = param_agent.copy()\n",
    "\n",
    "# param_agent_simu[\"train_LSFM\"] = False\n",
    "# param_agent_simu[\"double_model\"] = True\n",
    "# param_agent_simu[\"train_on_Q_latent\"] = False\n",
    "# param_agent_simu[\"model_Q_Lin\"] = False\n",
    "# param_agent_simu[\"run\"] =  5\n",
    "# param_agent_simu[\"policy\"][\"eps-greedy\"][\"exponantial\"][\"lambda\"] =  0.0002\n",
    "\n",
    "\n",
    "# # init learned Q model : \n",
    "# agent_Q_simu = Agent_Q(environment, param = param_agent_simu, save_model = './agent_Q_model') \n",
    "\n",
    "# model = agent_Q_simu.model\n",
    "# for i in range(len(model.layers)):\n",
    "#     print(\"layers name\",i,  model.layers[i].name)\n",
    "    \n",
    "# aux_model_Q = tf.keras.Model(inputs=model.inputs,\n",
    "#            outputs=[model.layers[0].output])\n",
    "\n",
    "# states = []\n",
    "# for i in range(n) :\n",
    "#     state = np.array(keras.utils.to_categorical(i,num_classes=n)).reshape(n)\n",
    "#     states.append(state)\n",
    "\n",
    "    \n",
    "# states = np.array(states)\n",
    "# phi_Q = aux_model_Q(states)\n",
    "\n",
    "\n"
   ]
  },
  {
   "cell_type": "code",
   "execution_count": null,
   "metadata": {},
   "outputs": [],
   "source": []
  },
  {
   "cell_type": "code",
   "execution_count": null,
   "metadata": {},
   "outputs": [],
   "source": []
  },
  {
   "cell_type": "markdown",
   "metadata": {},
   "source": [
    "## visualisation pure state"
   ]
  },
  {
   "cell_type": "code",
   "execution_count": null,
   "metadata": {
    "ExecuteTime": {
     "end_time": "2021-09-24T11:16:58.894028Z",
     "start_time": "2021-09-24T11:16:39.284Z"
    }
   },
   "outputs": [],
   "source": [
    "\n",
    "n = environment._state_dim  \n",
    "ngrid = n**0.5\n",
    "\n",
    "\n",
    "def visu_state(state, annot = False) : \n",
    "    visu_state = tf.reshape(state, (ngrid,ngrid))\n",
    "    sns.heatmap(visu_state, annot=annot)\n",
    "\n",
    "    return visu_state"
   ]
  },
  {
   "cell_type": "code",
   "execution_count": null,
   "metadata": {
    "ExecuteTime": {
     "end_time": "2021-09-24T11:16:58.895274Z",
     "start_time": "2021-09-24T11:16:39.293Z"
    }
   },
   "outputs": [],
   "source": [
    "visu_state(phi[30])"
   ]
  },
  {
   "cell_type": "code",
   "execution_count": null,
   "metadata": {
    "ExecuteTime": {
     "end_time": "2021-09-24T11:16:58.896106Z",
     "start_time": "2021-09-24T11:16:39.302Z"
    }
   },
   "outputs": [],
   "source": [
    "environment.reset()\n",
    "environment.render()"
   ]
  }
 ],
 "metadata": {
  "kernelspec": {
   "display_name": "Python 3",
   "language": "python",
   "name": "python3"
  },
  "language_info": {
   "codemirror_mode": {
    "name": "ipython",
    "version": 3
   },
   "file_extension": ".py",
   "mimetype": "text/x-python",
   "name": "python",
   "nbconvert_exporter": "python",
   "pygments_lexer": "ipython3",
   "version": "3.8.6"
  },
  "toc": {
   "base_numbering": 1,
   "nav_menu": {},
   "number_sections": true,
   "sideBar": true,
   "skip_h1_title": false,
   "title_cell": "Table of Contents",
   "title_sidebar": "Contents",
   "toc_cell": false,
   "toc_position": {
    "height": "864.414px",
    "left": "22px",
    "top": "110.048px",
    "width": "253.993px"
   },
   "toc_section_display": true,
   "toc_window_display": true
  },
  "varInspector": {
   "cols": {
    "lenName": 16,
    "lenType": 16,
    "lenVar": 40
   },
   "kernels_config": {
    "python": {
     "delete_cmd_postfix": "",
     "delete_cmd_prefix": "del ",
     "library": "var_list.py",
     "varRefreshCmd": "print(var_dic_list())"
    },
    "r": {
     "delete_cmd_postfix": ") ",
     "delete_cmd_prefix": "rm(",
     "library": "var_list.r",
     "varRefreshCmd": "cat(var_dic_list()) "
    }
   },
   "types_to_exclude": [
    "module",
    "function",
    "builtin_function_or_method",
    "instance",
    "_Feature"
   ],
   "window_display": false
  }
 },
 "nbformat": 4,
 "nbformat_minor": 4
}
